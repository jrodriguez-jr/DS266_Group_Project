{
  "cells": [
    {
      "cell_type": "markdown",
      "id": "b710e77a",
      "metadata": {
        "id": "b710e77a"
      },
      "source": [
        "# Natural Language Processing- Applied Machine Learning Final Project\n",
        "#### Javier Rodriguez, Edgar Leon\n",
        "#### Section ??\n",
        "\n",
        "## Introduction\n",
        "\n",
        "Social media used to be an avenue to share photos of your self, family, and friends with others. It was a way to keep in touch with friends and family far away and it was the perfect platform to share life updates. However, in recent years social media has taken up a larger role in our daily lives. For many the perfect morning routine consists of logging into their social media accounts where they catch up on the latest updates from their friends lives, latest celebrity gossip, and the latest news. More and more people are incorporating social media as their platform to share updates regarding flash news. Instead of turning on the TV to get the latest update from the news channels, people are turning towards social media users to post updates in real time. With social media's growing presence in the world of flash news, it only makes sense to harness the power of that tool to address emergency situations faster. Twitter is used by almost everyone all over the world, that means this social medial platform is a great source of information, especially for those who are interested in monitoring tweets about emergencies, for example like the police.\n",
        "\n",
        "The kaggle project chosen is called \"Natural Language Processing with Disaster Tweets\" https://www.kaggle.com/competitions/nlp-getting-started. However, even though the language used in twitter might indicate danger, disaster, or emergency, it may not refer to an emergency or a disaster. Human beings love to use metaphors to communicate information. Metaphors are used to highlight the characteristics of one thing by comparing it to another thing, and is not meant to be taken literally. Expressions such as \"Our football team was on fire tonight!\" do not refer to a real fire. The goal of building this algorithm is to be able to classify twitter tweets into whether they indicate a real emergency or not.\n",
        "\n",
        "For this final project the team created a natural language processing model that analyzes tweets to determine whether they indicate a real emergency. To aide the model, the team utilized GloVe: Global Vecttors for Word Representations. Homework, Async lectures, and the recommended text for the class \"Deep Learning with Python\" written by Francois Chollet were referenced to help build the model.\n",
        "\n",
        "## Import Libraries\n",
        "\n",
        "Before we begin building the models a few libraraies that we will be used in the project are loaded below."
      ]
    },
    {
      "cell_type": "code",
      "source": [
        "!pip install altair==5.2.0 #collab default is 4.2.2<-not working"
      ],
      "metadata": {
        "id": "7_shAz6O79xG",
        "colab": {
          "base_uri": "https://localhost:8080/"
        },
        "outputId": "77648aa2-77f8-4fc6-a139-d3fbf08fbd93"
      },
      "id": "7_shAz6O79xG",
      "execution_count": null,
      "outputs": [
        {
          "output_type": "stream",
          "name": "stdout",
          "text": [
            "Collecting altair==5.2.0\n",
            "  Downloading altair-5.2.0-py3-none-any.whl (996 kB)\n",
            "\u001b[?25l     \u001b[90m━━━━━━━━━━━━━━━━━━━━━━━━━━━━━━━━━━━━━━━━\u001b[0m \u001b[32m0.0/996.9 kB\u001b[0m \u001b[31m?\u001b[0m eta \u001b[36m-:--:--\u001b[0m\r\u001b[2K     \u001b[91m━━━━━━━\u001b[0m\u001b[91m╸\u001b[0m\u001b[90m━━━━━━━━━━━━━━━━━━━━━━━━━━━━━━━━\u001b[0m \u001b[32m194.6/996.9 kB\u001b[0m \u001b[31m5.7 MB/s\u001b[0m eta \u001b[36m0:00:01\u001b[0m\r\u001b[2K     \u001b[91m━━━━━━━━━━━━━━━━━━━━━━\u001b[0m\u001b[91m╸\u001b[0m\u001b[90m━━━━━━━━━━━━━━━━━\u001b[0m \u001b[32m563.2/996.9 kB\u001b[0m \u001b[31m8.0 MB/s\u001b[0m eta \u001b[36m0:00:01\u001b[0m\r\u001b[2K     \u001b[91m━━━━━━━━━━━━━━━━━━━━━━━━━━━━━━━━━━━━━━━\u001b[0m\u001b[91m╸\u001b[0m \u001b[32m993.3/996.9 kB\u001b[0m \u001b[31m9.7 MB/s\u001b[0m eta \u001b[36m0:00:01\u001b[0m\r\u001b[2K     \u001b[90m━━━━━━━━━━━━━━━━━━━━━━━━━━━━━━━━━━━━━━━━\u001b[0m \u001b[32m996.9/996.9 kB\u001b[0m \u001b[31m7.9 MB/s\u001b[0m eta \u001b[36m0:00:00\u001b[0m\n",
            "\u001b[?25hRequirement already satisfied: jinja2 in /usr/local/lib/python3.10/dist-packages (from altair==5.2.0) (3.1.3)\n",
            "Requirement already satisfied: jsonschema>=3.0 in /usr/local/lib/python3.10/dist-packages (from altair==5.2.0) (4.19.2)\n",
            "Requirement already satisfied: numpy in /usr/local/lib/python3.10/dist-packages (from altair==5.2.0) (1.25.2)\n",
            "Requirement already satisfied: packaging in /usr/local/lib/python3.10/dist-packages (from altair==5.2.0) (24.0)\n",
            "Requirement already satisfied: pandas>=0.25 in /usr/local/lib/python3.10/dist-packages (from altair==5.2.0) (1.5.3)\n",
            "Requirement already satisfied: toolz in /usr/local/lib/python3.10/dist-packages (from altair==5.2.0) (0.12.1)\n",
            "Requirement already satisfied: typing-extensions>=4.0.1 in /usr/local/lib/python3.10/dist-packages (from altair==5.2.0) (4.10.0)\n",
            "Requirement already satisfied: attrs>=22.2.0 in /usr/local/lib/python3.10/dist-packages (from jsonschema>=3.0->altair==5.2.0) (23.2.0)\n",
            "Requirement already satisfied: jsonschema-specifications>=2023.03.6 in /usr/local/lib/python3.10/dist-packages (from jsonschema>=3.0->altair==5.2.0) (2023.12.1)\n",
            "Requirement already satisfied: referencing>=0.28.4 in /usr/local/lib/python3.10/dist-packages (from jsonschema>=3.0->altair==5.2.0) (0.33.0)\n",
            "Requirement already satisfied: rpds-py>=0.7.1 in /usr/local/lib/python3.10/dist-packages (from jsonschema>=3.0->altair==5.2.0) (0.18.0)\n",
            "Requirement already satisfied: python-dateutil>=2.8.1 in /usr/local/lib/python3.10/dist-packages (from pandas>=0.25->altair==5.2.0) (2.8.2)\n",
            "Requirement already satisfied: pytz>=2020.1 in /usr/local/lib/python3.10/dist-packages (from pandas>=0.25->altair==5.2.0) (2023.4)\n",
            "Requirement already satisfied: MarkupSafe>=2.0 in /usr/local/lib/python3.10/dist-packages (from jinja2->altair==5.2.0) (2.1.5)\n",
            "Requirement already satisfied: six>=1.5 in /usr/local/lib/python3.10/dist-packages (from python-dateutil>=2.8.1->pandas>=0.25->altair==5.2.0) (1.16.0)\n",
            "Installing collected packages: altair\n",
            "  Attempting uninstall: altair\n",
            "    Found existing installation: altair 4.2.2\n",
            "    Uninstalling altair-4.2.2:\n",
            "      Successfully uninstalled altair-4.2.2\n",
            "Successfully installed altair-5.2.0\n"
          ]
        }
      ]
    },
    {
      "cell_type": "code",
      "source": [
        "import altair as alt\n",
        "print(alt.__version__)"
      ],
      "metadata": {
        "colab": {
          "base_uri": "https://localhost:8080/"
        },
        "id": "AyCek3KI7FaR",
        "outputId": "4e29183a-2538-44a5-c705-be7e9afeede2"
      },
      "id": "AyCek3KI7FaR",
      "execution_count": null,
      "outputs": [
        {
          "output_type": "stream",
          "name": "stdout",
          "text": [
            "5.2.0\n"
          ]
        }
      ]
    },
    {
      "cell_type": "code",
      "source": [
        "!pip install gensim #needed to import fast text twitter embeddings\n"
      ],
      "metadata": {
        "colab": {
          "base_uri": "https://localhost:8080/"
        },
        "id": "hbnENMRio_rA",
        "outputId": "f0059aed-dee7-4ef5-f212-c61a8bb2a7c8"
      },
      "id": "hbnENMRio_rA",
      "execution_count": null,
      "outputs": [
        {
          "output_type": "stream",
          "name": "stdout",
          "text": [
            "Requirement already satisfied: gensim in /usr/local/lib/python3.10/dist-packages (4.3.2)\n",
            "Requirement already satisfied: numpy>=1.18.5 in /usr/local/lib/python3.10/dist-packages (from gensim) (1.25.2)\n",
            "Requirement already satisfied: scipy>=1.7.0 in /usr/local/lib/python3.10/dist-packages (from gensim) (1.11.4)\n",
            "Requirement already satisfied: smart-open>=1.8.1 in /usr/local/lib/python3.10/dist-packages (from gensim) (6.4.0)\n"
          ]
        }
      ]
    },
    {
      "cell_type": "code",
      "execution_count": null,
      "id": "9357a09f",
      "metadata": {
        "id": "9357a09f"
      },
      "outputs": [],
      "source": [
        "# Import the libraries we'll use below.\n",
        "import numpy as np\n",
        "from matplotlib import pyplot as plt\n",
        "import pandas as pd\n",
        "import seaborn as sns  # for nicer plots\n",
        "sns.set(style=\"darkgrid\")  # default style\n",
        "import time\n",
        "import tensorflow as tf\n",
        "from tensorflow import keras\n",
        "from keras import metrics\n",
        "tf.get_logger().setLevel('INFO')\n",
        "from sklearn.metrics import confusion_matrix,  ConfusionMatrixDisplay, accuracy_score\n",
        "\n",
        "\n",
        "import os\n",
        "import pathlib\n",
        "\n",
        "import math\n",
        "import plotly.graph_objs as plotly  # for interactive plots\n",
        "\n",
        "## For GridSearch\n",
        "from sklearn.model_selection import GridSearchCV, train_test_split\n",
        "from sklearn.model_selection import cross_val_score\n",
        "from sklearn.svm import SVC  # Replace with the model you want to use for grid search\n",
        "#import altair as alt #to make nice plots\n",
        "import re"
      ]
    },
    {
      "cell_type": "markdown",
      "id": "df440dd3",
      "metadata": {
        "id": "df440dd3"
      },
      "source": [
        "## Import Twitter Based Embeddings\n",
        "#### Source:\n",
        "\n",
        "For this project, we chose to start the project off with a pre-trained word embeddings in twitter. The pre-trained word embeddings we used was GloVe, which was trained on global word-word co-occurance statistics from a large text data set. It contains 400,000 words of 50 dimensional vectors."
      ]
    },
    {
      "cell_type": "code",
      "source": [
        "\n",
        "# Mount Google Drive\n",
        "from google.colab import drive\n",
        "drive.mount('/content/drive')"
      ],
      "metadata": {
        "colab": {
          "base_uri": "https://localhost:8080/"
        },
        "id": "AgWrXXRapOdy",
        "outputId": "fb7245bc-0a60-4f5c-c1ee-1f185ff356c6"
      },
      "id": "AgWrXXRapOdy",
      "execution_count": null,
      "outputs": [
        {
          "output_type": "stream",
          "name": "stdout",
          "text": [
            "Mounted at /content/drive\n"
          ]
        }
      ]
    },
    {
      "cell_type": "code",
      "source": [
        "# Navigate to the Directory Containing the CSV File\n",
        "import os\n",
        "os.chdir('/content/drive/My Drive/DS266 Project')\n"
      ],
      "metadata": {
        "id": "U1CZPSyGsPQU"
      },
      "id": "U1CZPSyGsPQU",
      "execution_count": null,
      "outputs": []
    },
    {
      "cell_type": "markdown",
      "source": [
        "Get Data"
      ],
      "metadata": {
        "id": "pJ9ZEXxuuBqQ"
      },
      "id": "pJ9ZEXxuuBqQ"
    },
    {
      "cell_type": "code",
      "source": [
        "# Read the CSV File\n",
        "import pandas as pd\n",
        "tweets_df = pd.read_csv('train.csv')"
      ],
      "metadata": {
        "id": "XANw3AtruA5z"
      },
      "id": "XANw3AtruA5z",
      "execution_count": null,
      "outputs": []
    },
    {
      "cell_type": "code",
      "source": [
        "tweets_df.head(3)"
      ],
      "metadata": {
        "colab": {
          "base_uri": "https://localhost:8080/",
          "height": 143
        },
        "id": "PtjTdI_mhsP0",
        "outputId": "d3df15b6-b8ce-42ee-eef5-b2956c8f0026"
      },
      "id": "PtjTdI_mhsP0",
      "execution_count": null,
      "outputs": [
        {
          "output_type": "execute_result",
          "data": {
            "text/plain": [
              "   id keyword location                                               text  \\\n",
              "0   1     NaN      NaN  Our Deeds are the Reason of this #earthquake M...   \n",
              "1   4     NaN      NaN             Forest fire near La Ronge Sask. Canada   \n",
              "2   5     NaN      NaN  All residents asked to 'shelter in place' are ...   \n",
              "\n",
              "   target  \n",
              "0       1  \n",
              "1       1  \n",
              "2       1  "
            ],
            "text/html": [
              "\n",
              "  <div id=\"df-477e23e9-ec53-4fa5-99ba-62de4d377a28\" class=\"colab-df-container\">\n",
              "    <div>\n",
              "<style scoped>\n",
              "    .dataframe tbody tr th:only-of-type {\n",
              "        vertical-align: middle;\n",
              "    }\n",
              "\n",
              "    .dataframe tbody tr th {\n",
              "        vertical-align: top;\n",
              "    }\n",
              "\n",
              "    .dataframe thead th {\n",
              "        text-align: right;\n",
              "    }\n",
              "</style>\n",
              "<table border=\"1\" class=\"dataframe\">\n",
              "  <thead>\n",
              "    <tr style=\"text-align: right;\">\n",
              "      <th></th>\n",
              "      <th>id</th>\n",
              "      <th>keyword</th>\n",
              "      <th>location</th>\n",
              "      <th>text</th>\n",
              "      <th>target</th>\n",
              "    </tr>\n",
              "  </thead>\n",
              "  <tbody>\n",
              "    <tr>\n",
              "      <th>0</th>\n",
              "      <td>1</td>\n",
              "      <td>NaN</td>\n",
              "      <td>NaN</td>\n",
              "      <td>Our Deeds are the Reason of this #earthquake M...</td>\n",
              "      <td>1</td>\n",
              "    </tr>\n",
              "    <tr>\n",
              "      <th>1</th>\n",
              "      <td>4</td>\n",
              "      <td>NaN</td>\n",
              "      <td>NaN</td>\n",
              "      <td>Forest fire near La Ronge Sask. Canada</td>\n",
              "      <td>1</td>\n",
              "    </tr>\n",
              "    <tr>\n",
              "      <th>2</th>\n",
              "      <td>5</td>\n",
              "      <td>NaN</td>\n",
              "      <td>NaN</td>\n",
              "      <td>All residents asked to 'shelter in place' are ...</td>\n",
              "      <td>1</td>\n",
              "    </tr>\n",
              "  </tbody>\n",
              "</table>\n",
              "</div>\n",
              "    <div class=\"colab-df-buttons\">\n",
              "\n",
              "  <div class=\"colab-df-container\">\n",
              "    <button class=\"colab-df-convert\" onclick=\"convertToInteractive('df-477e23e9-ec53-4fa5-99ba-62de4d377a28')\"\n",
              "            title=\"Convert this dataframe to an interactive table.\"\n",
              "            style=\"display:none;\">\n",
              "\n",
              "  <svg xmlns=\"http://www.w3.org/2000/svg\" height=\"24px\" viewBox=\"0 -960 960 960\">\n",
              "    <path d=\"M120-120v-720h720v720H120Zm60-500h600v-160H180v160Zm220 220h160v-160H400v160Zm0 220h160v-160H400v160ZM180-400h160v-160H180v160Zm440 0h160v-160H620v160ZM180-180h160v-160H180v160Zm440 0h160v-160H620v160Z\"/>\n",
              "  </svg>\n",
              "    </button>\n",
              "\n",
              "  <style>\n",
              "    .colab-df-container {\n",
              "      display:flex;\n",
              "      gap: 12px;\n",
              "    }\n",
              "\n",
              "    .colab-df-convert {\n",
              "      background-color: #E8F0FE;\n",
              "      border: none;\n",
              "      border-radius: 50%;\n",
              "      cursor: pointer;\n",
              "      display: none;\n",
              "      fill: #1967D2;\n",
              "      height: 32px;\n",
              "      padding: 0 0 0 0;\n",
              "      width: 32px;\n",
              "    }\n",
              "\n",
              "    .colab-df-convert:hover {\n",
              "      background-color: #E2EBFA;\n",
              "      box-shadow: 0px 1px 2px rgba(60, 64, 67, 0.3), 0px 1px 3px 1px rgba(60, 64, 67, 0.15);\n",
              "      fill: #174EA6;\n",
              "    }\n",
              "\n",
              "    .colab-df-buttons div {\n",
              "      margin-bottom: 4px;\n",
              "    }\n",
              "\n",
              "    [theme=dark] .colab-df-convert {\n",
              "      background-color: #3B4455;\n",
              "      fill: #D2E3FC;\n",
              "    }\n",
              "\n",
              "    [theme=dark] .colab-df-convert:hover {\n",
              "      background-color: #434B5C;\n",
              "      box-shadow: 0px 1px 3px 1px rgba(0, 0, 0, 0.15);\n",
              "      filter: drop-shadow(0px 1px 2px rgba(0, 0, 0, 0.3));\n",
              "      fill: #FFFFFF;\n",
              "    }\n",
              "  </style>\n",
              "\n",
              "    <script>\n",
              "      const buttonEl =\n",
              "        document.querySelector('#df-477e23e9-ec53-4fa5-99ba-62de4d377a28 button.colab-df-convert');\n",
              "      buttonEl.style.display =\n",
              "        google.colab.kernel.accessAllowed ? 'block' : 'none';\n",
              "\n",
              "      async function convertToInteractive(key) {\n",
              "        const element = document.querySelector('#df-477e23e9-ec53-4fa5-99ba-62de4d377a28');\n",
              "        const dataTable =\n",
              "          await google.colab.kernel.invokeFunction('convertToInteractive',\n",
              "                                                    [key], {});\n",
              "        if (!dataTable) return;\n",
              "\n",
              "        const docLinkHtml = 'Like what you see? Visit the ' +\n",
              "          '<a target=\"_blank\" href=https://colab.research.google.com/notebooks/data_table.ipynb>data table notebook</a>'\n",
              "          + ' to learn more about interactive tables.';\n",
              "        element.innerHTML = '';\n",
              "        dataTable['output_type'] = 'display_data';\n",
              "        await google.colab.output.renderOutput(dataTable, element);\n",
              "        const docLink = document.createElement('div');\n",
              "        docLink.innerHTML = docLinkHtml;\n",
              "        element.appendChild(docLink);\n",
              "      }\n",
              "    </script>\n",
              "  </div>\n",
              "\n",
              "\n",
              "<div id=\"df-f7e3f36e-3539-4b34-aa7c-503a1c1f9bec\">\n",
              "  <button class=\"colab-df-quickchart\" onclick=\"quickchart('df-f7e3f36e-3539-4b34-aa7c-503a1c1f9bec')\"\n",
              "            title=\"Suggest charts\"\n",
              "            style=\"display:none;\">\n",
              "\n",
              "<svg xmlns=\"http://www.w3.org/2000/svg\" height=\"24px\"viewBox=\"0 0 24 24\"\n",
              "     width=\"24px\">\n",
              "    <g>\n",
              "        <path d=\"M19 3H5c-1.1 0-2 .9-2 2v14c0 1.1.9 2 2 2h14c1.1 0 2-.9 2-2V5c0-1.1-.9-2-2-2zM9 17H7v-7h2v7zm4 0h-2V7h2v10zm4 0h-2v-4h2v4z\"/>\n",
              "    </g>\n",
              "</svg>\n",
              "  </button>\n",
              "\n",
              "<style>\n",
              "  .colab-df-quickchart {\n",
              "      --bg-color: #E8F0FE;\n",
              "      --fill-color: #1967D2;\n",
              "      --hover-bg-color: #E2EBFA;\n",
              "      --hover-fill-color: #174EA6;\n",
              "      --disabled-fill-color: #AAA;\n",
              "      --disabled-bg-color: #DDD;\n",
              "  }\n",
              "\n",
              "  [theme=dark] .colab-df-quickchart {\n",
              "      --bg-color: #3B4455;\n",
              "      --fill-color: #D2E3FC;\n",
              "      --hover-bg-color: #434B5C;\n",
              "      --hover-fill-color: #FFFFFF;\n",
              "      --disabled-bg-color: #3B4455;\n",
              "      --disabled-fill-color: #666;\n",
              "  }\n",
              "\n",
              "  .colab-df-quickchart {\n",
              "    background-color: var(--bg-color);\n",
              "    border: none;\n",
              "    border-radius: 50%;\n",
              "    cursor: pointer;\n",
              "    display: none;\n",
              "    fill: var(--fill-color);\n",
              "    height: 32px;\n",
              "    padding: 0;\n",
              "    width: 32px;\n",
              "  }\n",
              "\n",
              "  .colab-df-quickchart:hover {\n",
              "    background-color: var(--hover-bg-color);\n",
              "    box-shadow: 0 1px 2px rgba(60, 64, 67, 0.3), 0 1px 3px 1px rgba(60, 64, 67, 0.15);\n",
              "    fill: var(--button-hover-fill-color);\n",
              "  }\n",
              "\n",
              "  .colab-df-quickchart-complete:disabled,\n",
              "  .colab-df-quickchart-complete:disabled:hover {\n",
              "    background-color: var(--disabled-bg-color);\n",
              "    fill: var(--disabled-fill-color);\n",
              "    box-shadow: none;\n",
              "  }\n",
              "\n",
              "  .colab-df-spinner {\n",
              "    border: 2px solid var(--fill-color);\n",
              "    border-color: transparent;\n",
              "    border-bottom-color: var(--fill-color);\n",
              "    animation:\n",
              "      spin 1s steps(1) infinite;\n",
              "  }\n",
              "\n",
              "  @keyframes spin {\n",
              "    0% {\n",
              "      border-color: transparent;\n",
              "      border-bottom-color: var(--fill-color);\n",
              "      border-left-color: var(--fill-color);\n",
              "    }\n",
              "    20% {\n",
              "      border-color: transparent;\n",
              "      border-left-color: var(--fill-color);\n",
              "      border-top-color: var(--fill-color);\n",
              "    }\n",
              "    30% {\n",
              "      border-color: transparent;\n",
              "      border-left-color: var(--fill-color);\n",
              "      border-top-color: var(--fill-color);\n",
              "      border-right-color: var(--fill-color);\n",
              "    }\n",
              "    40% {\n",
              "      border-color: transparent;\n",
              "      border-right-color: var(--fill-color);\n",
              "      border-top-color: var(--fill-color);\n",
              "    }\n",
              "    60% {\n",
              "      border-color: transparent;\n",
              "      border-right-color: var(--fill-color);\n",
              "    }\n",
              "    80% {\n",
              "      border-color: transparent;\n",
              "      border-right-color: var(--fill-color);\n",
              "      border-bottom-color: var(--fill-color);\n",
              "    }\n",
              "    90% {\n",
              "      border-color: transparent;\n",
              "      border-bottom-color: var(--fill-color);\n",
              "    }\n",
              "  }\n",
              "</style>\n",
              "\n",
              "  <script>\n",
              "    async function quickchart(key) {\n",
              "      const quickchartButtonEl =\n",
              "        document.querySelector('#' + key + ' button');\n",
              "      quickchartButtonEl.disabled = true;  // To prevent multiple clicks.\n",
              "      quickchartButtonEl.classList.add('colab-df-spinner');\n",
              "      try {\n",
              "        const charts = await google.colab.kernel.invokeFunction(\n",
              "            'suggestCharts', [key], {});\n",
              "      } catch (error) {\n",
              "        console.error('Error during call to suggestCharts:', error);\n",
              "      }\n",
              "      quickchartButtonEl.classList.remove('colab-df-spinner');\n",
              "      quickchartButtonEl.classList.add('colab-df-quickchart-complete');\n",
              "    }\n",
              "    (() => {\n",
              "      let quickchartButtonEl =\n",
              "        document.querySelector('#df-f7e3f36e-3539-4b34-aa7c-503a1c1f9bec button');\n",
              "      quickchartButtonEl.style.display =\n",
              "        google.colab.kernel.accessAllowed ? 'block' : 'none';\n",
              "    })();\n",
              "  </script>\n",
              "</div>\n",
              "\n",
              "    </div>\n",
              "  </div>\n"
            ],
            "application/vnd.google.colaboratory.intrinsic+json": {
              "type": "dataframe",
              "variable_name": "tweets_df",
              "summary": "{\n  \"name\": \"tweets_df\",\n  \"rows\": 7613,\n  \"fields\": [\n    {\n      \"column\": \"id\",\n      \"properties\": {\n        \"dtype\": \"number\",\n        \"std\": 3137,\n        \"min\": 1,\n        \"max\": 10873,\n        \"num_unique_values\": 7613,\n        \"samples\": [\n          3796,\n          3185,\n          7769\n        ],\n        \"semantic_type\": \"\",\n        \"description\": \"\"\n      }\n    },\n    {\n      \"column\": \"keyword\",\n      \"properties\": {\n        \"dtype\": \"category\",\n        \"num_unique_values\": 221,\n        \"samples\": [\n          \"injury\",\n          \"nuclear%20reactor\",\n          \"engulfed\"\n        ],\n        \"semantic_type\": \"\",\n        \"description\": \"\"\n      }\n    },\n    {\n      \"column\": \"location\",\n      \"properties\": {\n        \"dtype\": \"category\",\n        \"num_unique_values\": 3341,\n        \"samples\": [\n          \"Oklahoma\",\n          \"Starling City\",\n          \"Trinidad and Tobago\"\n        ],\n        \"semantic_type\": \"\",\n        \"description\": \"\"\n      }\n    },\n    {\n      \"column\": \"text\",\n      \"properties\": {\n        \"dtype\": \"string\",\n        \"num_unique_values\": 7503,\n        \"samples\": [\n          \"Three Homes Demolished in Unrecognized Arab Village - International Middle East Media Center http://t.co/ik8m4Yi9T4\",\n          \"Reid Lake fire prompts campground evacuation order http://t.co/jBODKM6rBU\",\n          \"FAAN orders evacuation of abandoned aircraft at MMA http://t.co/dEvYbnVXGQ via @todayng\"\n        ],\n        \"semantic_type\": \"\",\n        \"description\": \"\"\n      }\n    },\n    {\n      \"column\": \"target\",\n      \"properties\": {\n        \"dtype\": \"number\",\n        \"std\": 0,\n        \"min\": 0,\n        \"max\": 1,\n        \"num_unique_values\": 2,\n        \"samples\": [\n          0,\n          1\n        ],\n        \"semantic_type\": \"\",\n        \"description\": \"\"\n      }\n    }\n  ]\n}"
            }
          },
          "metadata": {},
          "execution_count": 9
        }
      ]
    },
    {
      "cell_type": "code",
      "source": [
        "from gensim.models import KeyedVectors\n",
        "\n",
        "# Load vectors directly from the file\n",
        "vector_model = KeyedVectors.load_word2vec_format('fasttext_english_twitter_100d.vec')\n",
        "\n",
        "\n"
      ],
      "metadata": {
        "id": "WJiKMHYipLwJ"
      },
      "id": "WJiKMHYipLwJ",
      "execution_count": null,
      "outputs": []
    },
    {
      "cell_type": "markdown",
      "id": "95005fe7",
      "metadata": {
        "id": "95005fe7"
      },
      "source": [
        "### Some Sanity Check Tests\n",
        "\n",
        "After downloading Fast Text Tweet Embeddings we did a quick sanity check to see if some of the words we anticipate to commonly show up in our tweets text are captured."
      ]
    },
    {
      "cell_type": "code",
      "execution_count": null,
      "id": "8c707448",
      "metadata": {
        "id": "8c707448"
      },
      "outputs": [],
      "source": [
        "#key error handling\n",
        "def check_word(item_value, model):\n",
        "  word = None\n",
        "  #print(model[item_value])\n",
        "  #print(item_value)\n",
        "  try:\n",
        "    if model[item_value].any():\n",
        "      word = \"\\\"\"+item_value +\"\\\" exists in embeddings dictionary\"\n",
        "      vector = model[item_value]\n",
        "  except:\n",
        "    word = \"\\\"\"+item_value +\"\\\" does not exist\"\n",
        "    vector = np.zeros((100,))\n",
        "  return word, vector\n",
        "\n"
      ]
    },
    {
      "cell_type": "code",
      "execution_count": null,
      "id": "d893abe4",
      "metadata": {
        "id": "d893abe4",
        "outputId": "5efa9613-63b7-4dc6-bcb2-40dcff392ee7",
        "colab": {
          "base_uri": "https://localhost:8080/"
        }
      },
      "outputs": [
        {
          "output_type": "stream",
          "name": "stdout",
          "text": [
            "\"fire\" exists in embeddings dictionary\n",
            "(100,)\n",
            "\"hurricane\" exists in embeddings dictionary\n",
            "(100,)\n",
            "\"earthquake\" exists in embeddings dictionary\n",
            "(100,)\n",
            "\"sunami\" does not exist\n",
            "(100,)\n",
            "\"disaster\" exists in embeddings dictionary\n",
            "(100,)\n"
          ]
        }
      ],
      "source": [
        "check = ['fire', 'hurricane', 'earthquake', 'sunami', 'disaster']\n",
        "for i in range(len(check)-0):\n",
        "  word, vector = check_word(check[i], vector_model)\n",
        "  print(word)\n",
        "  print(vector.shape)"
      ]
    },
    {
      "cell_type": "markdown",
      "source": [
        "Since 'sunami' does not exist, then we have to train our embeddings on our data."
      ],
      "metadata": {
        "id": "dOwQiPbUykPa"
      },
      "id": "dOwQiPbUykPa"
    },
    {
      "cell_type": "markdown",
      "id": "306a9fb5",
      "metadata": {
        "id": "306a9fb5"
      },
      "source": [
        "## Inputing in Tweets Data Source\n",
        "\n",
        "The kaggle competition provided us with training and testing data sets in the form of a csv file. The training csv files comes with five columns of data. The first colum is id. The keyword column contains a keyword associated with the tweet text. The location field is populated if the user tagged to it. One caveat to the data is that the keywords and location fields might not always be populated. the text field containst the original tweet. The final column is a 0 or 1 label value. If a tweet is classified as indicating a true emergency then the label is 1 otherwise its 0.\n",
        "\n",
        "### Initial Data Exploratory Analysis\n",
        "\n",
        "Our firs step was to conduct initial exploratory analysis. We checked the head or tails of the dataset to make sure the data formatting stays consistent."
      ]
    },
    {
      "cell_type": "code",
      "execution_count": null,
      "id": "19256cee",
      "metadata": {
        "id": "19256cee",
        "outputId": "1735999d-c765-4517-c59e-1cbd073c3b64",
        "colab": {
          "base_uri": "https://localhost:8080/",
          "height": 206
        }
      },
      "outputs": [
        {
          "output_type": "execute_result",
          "data": {
            "text/plain": [
              "      id     keyword                  location  \\\n",
              "100  144    accident                        UK   \n",
              "101  145    accident            Nairobi, Kenya   \n",
              "102  146  aftershock  Instagram - @heyimginog    \n",
              "103  149  aftershock                       304   \n",
              "104  151  aftershock               Switzerland   \n",
              "\n",
              "                                                  text  target  \n",
              "100  .@NorwayMFA #Bahrain police had previously die...       1  \n",
              "101  I still have not heard Church Leaders of Kenya...       0  \n",
              "102  @afterShock_DeLo scuf ps live and the game... cya       0  \n",
              "103  'The man who can drive himself further once th...       0  \n",
              "104  320 [IR] ICEMOON [AFTERSHOCK] | http://t.co/yN...       0  "
            ],
            "text/html": [
              "\n",
              "  <div id=\"df-6f0da7cf-a212-4b07-9730-5358a0ac2719\" class=\"colab-df-container\">\n",
              "    <div>\n",
              "<style scoped>\n",
              "    .dataframe tbody tr th:only-of-type {\n",
              "        vertical-align: middle;\n",
              "    }\n",
              "\n",
              "    .dataframe tbody tr th {\n",
              "        vertical-align: top;\n",
              "    }\n",
              "\n",
              "    .dataframe thead th {\n",
              "        text-align: right;\n",
              "    }\n",
              "</style>\n",
              "<table border=\"1\" class=\"dataframe\">\n",
              "  <thead>\n",
              "    <tr style=\"text-align: right;\">\n",
              "      <th></th>\n",
              "      <th>id</th>\n",
              "      <th>keyword</th>\n",
              "      <th>location</th>\n",
              "      <th>text</th>\n",
              "      <th>target</th>\n",
              "    </tr>\n",
              "  </thead>\n",
              "  <tbody>\n",
              "    <tr>\n",
              "      <th>100</th>\n",
              "      <td>144</td>\n",
              "      <td>accident</td>\n",
              "      <td>UK</td>\n",
              "      <td>.@NorwayMFA #Bahrain police had previously die...</td>\n",
              "      <td>1</td>\n",
              "    </tr>\n",
              "    <tr>\n",
              "      <th>101</th>\n",
              "      <td>145</td>\n",
              "      <td>accident</td>\n",
              "      <td>Nairobi, Kenya</td>\n",
              "      <td>I still have not heard Church Leaders of Kenya...</td>\n",
              "      <td>0</td>\n",
              "    </tr>\n",
              "    <tr>\n",
              "      <th>102</th>\n",
              "      <td>146</td>\n",
              "      <td>aftershock</td>\n",
              "      <td>Instagram - @heyimginog</td>\n",
              "      <td>@afterShock_DeLo scuf ps live and the game... cya</td>\n",
              "      <td>0</td>\n",
              "    </tr>\n",
              "    <tr>\n",
              "      <th>103</th>\n",
              "      <td>149</td>\n",
              "      <td>aftershock</td>\n",
              "      <td>304</td>\n",
              "      <td>'The man who can drive himself further once th...</td>\n",
              "      <td>0</td>\n",
              "    </tr>\n",
              "    <tr>\n",
              "      <th>104</th>\n",
              "      <td>151</td>\n",
              "      <td>aftershock</td>\n",
              "      <td>Switzerland</td>\n",
              "      <td>320 [IR] ICEMOON [AFTERSHOCK] | http://t.co/yN...</td>\n",
              "      <td>0</td>\n",
              "    </tr>\n",
              "  </tbody>\n",
              "</table>\n",
              "</div>\n",
              "    <div class=\"colab-df-buttons\">\n",
              "\n",
              "  <div class=\"colab-df-container\">\n",
              "    <button class=\"colab-df-convert\" onclick=\"convertToInteractive('df-6f0da7cf-a212-4b07-9730-5358a0ac2719')\"\n",
              "            title=\"Convert this dataframe to an interactive table.\"\n",
              "            style=\"display:none;\">\n",
              "\n",
              "  <svg xmlns=\"http://www.w3.org/2000/svg\" height=\"24px\" viewBox=\"0 -960 960 960\">\n",
              "    <path d=\"M120-120v-720h720v720H120Zm60-500h600v-160H180v160Zm220 220h160v-160H400v160Zm0 220h160v-160H400v160ZM180-400h160v-160H180v160Zm440 0h160v-160H620v160ZM180-180h160v-160H180v160Zm440 0h160v-160H620v160Z\"/>\n",
              "  </svg>\n",
              "    </button>\n",
              "\n",
              "  <style>\n",
              "    .colab-df-container {\n",
              "      display:flex;\n",
              "      gap: 12px;\n",
              "    }\n",
              "\n",
              "    .colab-df-convert {\n",
              "      background-color: #E8F0FE;\n",
              "      border: none;\n",
              "      border-radius: 50%;\n",
              "      cursor: pointer;\n",
              "      display: none;\n",
              "      fill: #1967D2;\n",
              "      height: 32px;\n",
              "      padding: 0 0 0 0;\n",
              "      width: 32px;\n",
              "    }\n",
              "\n",
              "    .colab-df-convert:hover {\n",
              "      background-color: #E2EBFA;\n",
              "      box-shadow: 0px 1px 2px rgba(60, 64, 67, 0.3), 0px 1px 3px 1px rgba(60, 64, 67, 0.15);\n",
              "      fill: #174EA6;\n",
              "    }\n",
              "\n",
              "    .colab-df-buttons div {\n",
              "      margin-bottom: 4px;\n",
              "    }\n",
              "\n",
              "    [theme=dark] .colab-df-convert {\n",
              "      background-color: #3B4455;\n",
              "      fill: #D2E3FC;\n",
              "    }\n",
              "\n",
              "    [theme=dark] .colab-df-convert:hover {\n",
              "      background-color: #434B5C;\n",
              "      box-shadow: 0px 1px 3px 1px rgba(0, 0, 0, 0.15);\n",
              "      filter: drop-shadow(0px 1px 2px rgba(0, 0, 0, 0.3));\n",
              "      fill: #FFFFFF;\n",
              "    }\n",
              "  </style>\n",
              "\n",
              "    <script>\n",
              "      const buttonEl =\n",
              "        document.querySelector('#df-6f0da7cf-a212-4b07-9730-5358a0ac2719 button.colab-df-convert');\n",
              "      buttonEl.style.display =\n",
              "        google.colab.kernel.accessAllowed ? 'block' : 'none';\n",
              "\n",
              "      async function convertToInteractive(key) {\n",
              "        const element = document.querySelector('#df-6f0da7cf-a212-4b07-9730-5358a0ac2719');\n",
              "        const dataTable =\n",
              "          await google.colab.kernel.invokeFunction('convertToInteractive',\n",
              "                                                    [key], {});\n",
              "        if (!dataTable) return;\n",
              "\n",
              "        const docLinkHtml = 'Like what you see? Visit the ' +\n",
              "          '<a target=\"_blank\" href=https://colab.research.google.com/notebooks/data_table.ipynb>data table notebook</a>'\n",
              "          + ' to learn more about interactive tables.';\n",
              "        element.innerHTML = '';\n",
              "        dataTable['output_type'] = 'display_data';\n",
              "        await google.colab.output.renderOutput(dataTable, element);\n",
              "        const docLink = document.createElement('div');\n",
              "        docLink.innerHTML = docLinkHtml;\n",
              "        element.appendChild(docLink);\n",
              "      }\n",
              "    </script>\n",
              "  </div>\n",
              "\n",
              "\n",
              "<div id=\"df-c5d07456-3494-43a1-a4fd-c1f53e0be658\">\n",
              "  <button class=\"colab-df-quickchart\" onclick=\"quickchart('df-c5d07456-3494-43a1-a4fd-c1f53e0be658')\"\n",
              "            title=\"Suggest charts\"\n",
              "            style=\"display:none;\">\n",
              "\n",
              "<svg xmlns=\"http://www.w3.org/2000/svg\" height=\"24px\"viewBox=\"0 0 24 24\"\n",
              "     width=\"24px\">\n",
              "    <g>\n",
              "        <path d=\"M19 3H5c-1.1 0-2 .9-2 2v14c0 1.1.9 2 2 2h14c1.1 0 2-.9 2-2V5c0-1.1-.9-2-2-2zM9 17H7v-7h2v7zm4 0h-2V7h2v10zm4 0h-2v-4h2v4z\"/>\n",
              "    </g>\n",
              "</svg>\n",
              "  </button>\n",
              "\n",
              "<style>\n",
              "  .colab-df-quickchart {\n",
              "      --bg-color: #E8F0FE;\n",
              "      --fill-color: #1967D2;\n",
              "      --hover-bg-color: #E2EBFA;\n",
              "      --hover-fill-color: #174EA6;\n",
              "      --disabled-fill-color: #AAA;\n",
              "      --disabled-bg-color: #DDD;\n",
              "  }\n",
              "\n",
              "  [theme=dark] .colab-df-quickchart {\n",
              "      --bg-color: #3B4455;\n",
              "      --fill-color: #D2E3FC;\n",
              "      --hover-bg-color: #434B5C;\n",
              "      --hover-fill-color: #FFFFFF;\n",
              "      --disabled-bg-color: #3B4455;\n",
              "      --disabled-fill-color: #666;\n",
              "  }\n",
              "\n",
              "  .colab-df-quickchart {\n",
              "    background-color: var(--bg-color);\n",
              "    border: none;\n",
              "    border-radius: 50%;\n",
              "    cursor: pointer;\n",
              "    display: none;\n",
              "    fill: var(--fill-color);\n",
              "    height: 32px;\n",
              "    padding: 0;\n",
              "    width: 32px;\n",
              "  }\n",
              "\n",
              "  .colab-df-quickchart:hover {\n",
              "    background-color: var(--hover-bg-color);\n",
              "    box-shadow: 0 1px 2px rgba(60, 64, 67, 0.3), 0 1px 3px 1px rgba(60, 64, 67, 0.15);\n",
              "    fill: var(--button-hover-fill-color);\n",
              "  }\n",
              "\n",
              "  .colab-df-quickchart-complete:disabled,\n",
              "  .colab-df-quickchart-complete:disabled:hover {\n",
              "    background-color: var(--disabled-bg-color);\n",
              "    fill: var(--disabled-fill-color);\n",
              "    box-shadow: none;\n",
              "  }\n",
              "\n",
              "  .colab-df-spinner {\n",
              "    border: 2px solid var(--fill-color);\n",
              "    border-color: transparent;\n",
              "    border-bottom-color: var(--fill-color);\n",
              "    animation:\n",
              "      spin 1s steps(1) infinite;\n",
              "  }\n",
              "\n",
              "  @keyframes spin {\n",
              "    0% {\n",
              "      border-color: transparent;\n",
              "      border-bottom-color: var(--fill-color);\n",
              "      border-left-color: var(--fill-color);\n",
              "    }\n",
              "    20% {\n",
              "      border-color: transparent;\n",
              "      border-left-color: var(--fill-color);\n",
              "      border-top-color: var(--fill-color);\n",
              "    }\n",
              "    30% {\n",
              "      border-color: transparent;\n",
              "      border-left-color: var(--fill-color);\n",
              "      border-top-color: var(--fill-color);\n",
              "      border-right-color: var(--fill-color);\n",
              "    }\n",
              "    40% {\n",
              "      border-color: transparent;\n",
              "      border-right-color: var(--fill-color);\n",
              "      border-top-color: var(--fill-color);\n",
              "    }\n",
              "    60% {\n",
              "      border-color: transparent;\n",
              "      border-right-color: var(--fill-color);\n",
              "    }\n",
              "    80% {\n",
              "      border-color: transparent;\n",
              "      border-right-color: var(--fill-color);\n",
              "      border-bottom-color: var(--fill-color);\n",
              "    }\n",
              "    90% {\n",
              "      border-color: transparent;\n",
              "      border-bottom-color: var(--fill-color);\n",
              "    }\n",
              "  }\n",
              "</style>\n",
              "\n",
              "  <script>\n",
              "    async function quickchart(key) {\n",
              "      const quickchartButtonEl =\n",
              "        document.querySelector('#' + key + ' button');\n",
              "      quickchartButtonEl.disabled = true;  // To prevent multiple clicks.\n",
              "      quickchartButtonEl.classList.add('colab-df-spinner');\n",
              "      try {\n",
              "        const charts = await google.colab.kernel.invokeFunction(\n",
              "            'suggestCharts', [key], {});\n",
              "      } catch (error) {\n",
              "        console.error('Error during call to suggestCharts:', error);\n",
              "      }\n",
              "      quickchartButtonEl.classList.remove('colab-df-spinner');\n",
              "      quickchartButtonEl.classList.add('colab-df-quickchart-complete');\n",
              "    }\n",
              "    (() => {\n",
              "      let quickchartButtonEl =\n",
              "        document.querySelector('#df-c5d07456-3494-43a1-a4fd-c1f53e0be658 button');\n",
              "      quickchartButtonEl.style.display =\n",
              "        google.colab.kernel.accessAllowed ? 'block' : 'none';\n",
              "    })();\n",
              "  </script>\n",
              "</div>\n",
              "\n",
              "    </div>\n",
              "  </div>\n"
            ],
            "application/vnd.google.colaboratory.intrinsic+json": {
              "type": "dataframe",
              "summary": "{\n  \"name\": \"tweets_df[100:105]\",\n  \"rows\": 5,\n  \"fields\": [\n    {\n      \"column\": \"id\",\n      \"properties\": {\n        \"dtype\": \"number\",\n        \"std\": 2,\n        \"min\": 144,\n        \"max\": 151,\n        \"num_unique_values\": 5,\n        \"samples\": [\n          145,\n          151,\n          146\n        ],\n        \"semantic_type\": \"\",\n        \"description\": \"\"\n      }\n    },\n    {\n      \"column\": \"keyword\",\n      \"properties\": {\n        \"dtype\": \"category\",\n        \"num_unique_values\": 2,\n        \"samples\": [\n          \"aftershock\",\n          \"accident\"\n        ],\n        \"semantic_type\": \"\",\n        \"description\": \"\"\n      }\n    },\n    {\n      \"column\": \"location\",\n      \"properties\": {\n        \"dtype\": \"string\",\n        \"num_unique_values\": 5,\n        \"samples\": [\n          \"Nairobi, Kenya\",\n          \"Switzerland\"\n        ],\n        \"semantic_type\": \"\",\n        \"description\": \"\"\n      }\n    },\n    {\n      \"column\": \"text\",\n      \"properties\": {\n        \"dtype\": \"string\",\n        \"num_unique_values\": 5,\n        \"samples\": [\n          \"I still have not heard Church Leaders of Kenya coming forward to comment on the accident issue and disciplinary measures#ArrestPastorNganga\",\n          \"320 [IR] ICEMOON [AFTERSHOCK] | http://t.co/yNXnvVKCDA | @djicemoon | #Dubstep #TrapMusic #DnB #EDM #Dance #Ices\\u0089\\u00db_ http://t.co/weQPesENku\"\n        ],\n        \"semantic_type\": \"\",\n        \"description\": \"\"\n      }\n    },\n    {\n      \"column\": \"target\",\n      \"properties\": {\n        \"dtype\": \"number\",\n        \"std\": 0,\n        \"min\": 0,\n        \"max\": 1,\n        \"num_unique_values\": 2,\n        \"samples\": [\n          0,\n          1\n        ],\n        \"semantic_type\": \"\",\n        \"description\": \"\"\n      }\n    }\n  ]\n}"
            }
          },
          "metadata": {},
          "execution_count": 12
        }
      ],
      "source": [
        "# import csv\n",
        "#user_results_df.loc[user_results_df[\"category\"] == \"I\", \"pad_radius\"] = user_results_df.iloc[1]['score']\n",
        "tweets_df = pd.read_csv('train.csv')\n",
        "tweets_df.loc[tweets_df[\"keyword\"].isnull(), \"keyword\" ] = ''\n",
        "tweets_df.loc[tweets_df[\"location\"].isnull(), \"location\" ] = ''\n",
        "size = tweets_df.shape\n",
        "tweets_df[100:105].head(5)"
      ]
    },
    {
      "cell_type": "markdown",
      "id": "f61b3f6a",
      "metadata": {
        "id": "f61b3f6a"
      },
      "source": [
        "Keyword is an interesting field in the training data set. The keyword field identifies the word in the twitter text that could potential indicate whether or not it is a tweet regarding an emergency. To get a better understanding of the keywords we created a bar graph to show the 10 most commonly identified keywords. From the bar graph below we can see that most of these words relate to some sort of danger or natural disaster, but there are some words on this list that are suprising: for example fear. Fear is a feeling and not really a disaster, it is surprising to see this word as a keyword. Another interesting keyword is body%20bags:"
      ]
    },
    {
      "cell_type": "code",
      "execution_count": null,
      "id": "43c4fd4c",
      "metadata": {
        "id": "43c4fd4c",
        "outputId": "60310f02-473b-4a00-da17-1dd807409114",
        "colab": {
          "base_uri": "https://localhost:8080/",
          "height": 545
        }
      },
      "outputs": [
        {
          "output_type": "execute_result",
          "data": {
            "text/plain": [
              "<Axes: >"
            ]
          },
          "metadata": {},
          "execution_count": 13
        },
        {
          "output_type": "display_data",
          "data": {
            "text/plain": [
              "<Figure size 640x480 with 1 Axes>"
            ],
            "image/png": "[encoded data removed]"
          },
          "metadata": {}
        }
      ],
      "source": [
        "tweets_df.keyword.value_counts().nlargest(10).plot(kind='bar', color = ['steelblue'])"
      ]
    },
    {
      "cell_type": "markdown",
      "id": "d851075b",
      "metadata": {
        "id": "d851075b"
      },
      "source": [
        "Taking a further look into \"body%20bags\" we can see that majority of the tweets look like they are a handbag advertisements aimed at women."
      ]
    },
    {
      "cell_type": "code",
      "execution_count": null,
      "id": "6917a9ba",
      "metadata": {
        "id": "6917a9ba",
        "outputId": "378af8c7-e821-4bfa-8a43-d72c4fe39013",
        "colab": {
          "base_uri": "https://localhost:8080/"
        }
      },
      "outputs": [
        {
          "output_type": "stream",
          "name": "stdout",
          "text": [
            "1019    Micom 2015 Summer Contrast Candy Color Bowknot...\n",
            "1020    HOBO Hobo Vintage Shira Convertible BÛ_ $238....\n",
            "1021    Child Shoulder Bags PVC Shoulder Book Bag Cart...\n",
            "1022    Womens Buckle Casual Stylish Shoulder Handbags...\n",
            "Name: text, dtype: object\n"
          ]
        }
      ],
      "source": [
        "body20bags = tweets_df[tweets_df['keyword']=='body%20bags']\n",
        "print(body20bags['text'][1:5])"
      ]
    },
    {
      "cell_type": "markdown",
      "id": "626895b7",
      "metadata": {
        "id": "626895b7"
      },
      "source": [
        "The next data field that was of interest is the target field. The target field identifies tweets as emergency tweets and non emergency tweets. To get a better idea of the distribution of emergency and non emergency tweets a simple histogram is created. Based off of the histogram below it looks like the training data set has more non emergency related tweets."
      ]
    },
    {
      "cell_type": "code",
      "execution_count": null,
      "id": "3caace78",
      "metadata": {
        "id": "3caace78",
        "outputId": "091c8938-4fe6-4ecc-fc34-3703e66c8f91",
        "colab": {
          "base_uri": "https://localhost:8080/",
          "height": 407
        }
      },
      "outputs": [
        {
          "output_type": "execute_result",
          "data": {
            "text/plain": [
              "Text(0.5, 1.0, 'Distribution of Tweets and its Labels')"
            ]
          },
          "metadata": {},
          "execution_count": 15
        },
        {
          "output_type": "display_data",
          "data": {
            "text/plain": [
              "<Figure size 500x400 with 1 Axes>"
            ],
            "image/png": "[encoded data removed]"
          },
          "metadata": {}
        }
      ],
      "source": [
        "\n",
        "barplot = tweets_df['target'].value_counts()\n",
        "barplot.plot(kind = 'bar', figsize=(5,4), color = ['red', 'steelblue'])\n",
        "plt.title(\"Distribution of Tweets and its Labels\")"
      ]
    },
    {
      "cell_type": "markdown",
      "id": "4a235e3b",
      "metadata": {
        "id": "4a235e3b"
      },
      "source": [
        "To get a better idea if the keyword field has an impact correlates to one of the labels on whether or not a tweet a bar plot was created.\n",
        "\n",
        "Based off of this graph we can see that majority of the tweets with a keywords were identified as not an emergency tweet. By looking at this graph and analyzing some of the tweets with keywords identified we can say that just because a tweet has a keyword, it does not mean that it is a tweet indicates an emergency."
      ]
    },
    {
      "cell_type": "code",
      "execution_count": null,
      "id": "dc12dbd5",
      "metadata": {
        "id": "dc12dbd5",
        "outputId": "ceb2a46e-7cef-48e6-b151-d4f7f49a6db8",
        "colab": {
          "base_uri": "https://localhost:8080/",
          "height": 407
        }
      },
      "outputs": [
        {
          "output_type": "execute_result",
          "data": {
            "text/plain": [
              "Text(0.5, 1.0, 'Tweets that have a keyword Identified, Count of Actual Disaster Tweets(1) vs Not Actual Disaster Tweets (0)')"
            ]
          },
          "metadata": {},
          "execution_count": 16
        },
        {
          "output_type": "display_data",
          "data": {
            "text/plain": [
              "<Figure size 500x400 with 1 Axes>"
            ],
            "image/png": "[encoded data removed]"
          },
          "metadata": {}
        }
      ],
      "source": [
        "tweets_df['HasKeyword'] = np.where(tweets_df['keyword'].isnull(), 'No', 'Yes')\n",
        "tweets_df['HasLocation'] = np.where(tweets_df['location'].isnull(), 'No', 'Yes')\n",
        "\n",
        "\n",
        "barplot = tweets_df[tweets_df['HasKeyword']=='Yes']['target'].value_counts()\n",
        "barplot.plot(kind = 'bar', figsize=(5,4), color = ['red', 'steelblue'])\n",
        "plt.title(\"Tweets that have a keyword Identified, Count of Actual Disaster Tweets(1) vs Not Actual Disaster Tweets (0)\")"
      ]
    },
    {
      "cell_type": "markdown",
      "id": "5353318f",
      "metadata": {
        "id": "5353318f"
      },
      "source": [
        "Lets analyze the correlation of specific keywords with the labels"
      ]
    },
    {
      "cell_type": "code",
      "execution_count": null,
      "id": "c829fcac",
      "metadata": {
        "id": "c829fcac"
      },
      "outputs": [],
      "source": [
        "kwords = tweets_df[tweets_df.HasKeyword == 'Yes'].copy(deep=True)\n",
        "#user_results_df.iloc[1]['score']\n",
        "#count true labels of  for each keyword and plot\n",
        "kw = kwords.keyword.unique()\n",
        "keyw_dict = { }\n",
        "for i in range(kw.shape[0]):\n",
        "    keyw_dict[kw[i]] = 0\n",
        "\n",
        "for i in range(kwords.shape[0]):\n",
        "    if kwords.iloc[i]['target'] == 1:\n",
        "        keyw_dict[kwords.iloc[i]['keyword']] += 1\n",
        "#convert to dataframe and sort\n",
        "key_df = pd.DataFrame(keyw_dict.items(), columns = ['keyword', 'true disaster'])\n",
        "key_df = key_df.sort_values(by='true disaster')\n",
        "\n",
        "\n",
        "#count false labels for each keyword\n",
        "keyw_false = { } #tweets that are false disasters\n",
        "for i in range(kw.shape[0]):\n",
        "    keyw_false[kw[i]] = 0\n",
        "\n",
        "for i in range(kwords.shape[0]):\n",
        "    if kwords.iloc[i]['target'] == 0:\n",
        "        keyw_false[kwords.iloc[i]['keyword']] += 1\n",
        "#convert to dataframe and sort\n",
        "key_df2 = pd.DataFrame(keyw_false.items(), columns = ['keyword', 'false disaster'])\n",
        "#key_df2 = key_df2.sort_values(by='false disaster')\n",
        "key_df2\n",
        "\n",
        "\n",
        "key_df['false disaster'] =key_df2['false disaster']\n",
        "key_df['total count'] = key_df['true disaster'] + key_df['false disaster']\n",
        "key_df['percent false'] =(key_df['false disaster']/key_df['total count'] )*100\n"
      ]
    },
    {
      "cell_type": "code",
      "execution_count": null,
      "id": "c8edb7ae",
      "metadata": {
        "id": "c8edb7ae",
        "outputId": "f5fa1bfe-6d8e-4659-c2fc-e8e97a3fb464",
        "colab": {
          "base_uri": "https://localhost:8080/",
          "height": 563
        }
      },
      "outputs": [
        {
          "output_type": "execute_result",
          "data": {
            "text/html": [
              "\n",
              "<style>\n",
              "  #altair-viz-7715d220001a4b55ac2a6e5d7fbdc898.vega-embed {\n",
              "    width: 100%;\n",
              "    display: flex;\n",
              "  }\n",
              "\n",
              "  #altair-viz-7715d220001a4b55ac2a6e5d7fbdc898.vega-embed details,\n",
              "  #altair-viz-7715d220001a4b55ac2a6e5d7fbdc898.vega-embed details summary {\n",
              "    position: relative;\n",
              "  }\n",
              "</style>\n",
              "<div id=\"altair-viz-7715d220001a4b55ac2a6e5d7fbdc898\"></div>\n",
              "<script type=\"text/javascript\">\n",
              "  var VEGA_DEBUG = (typeof VEGA_DEBUG == \"undefined\") ? {} : VEGA_DEBUG;\n",
              "  (function(spec, embedOpt){\n",
              "    let outputDiv = document.currentScript.previousElementSibling;\n",
              "    if (outputDiv.id !== \"altair-viz-7715d220001a4b55ac2a6e5d7fbdc898\") {\n",
              "      outputDiv = document.getElementById(\"altair-viz-7715d220001a4b55ac2a6e5d7fbdc898\");\n",
              "    }\n",
              "    const paths = {\n",
              "      \"vega\": \"https://cdn.jsdelivr.net/npm/vega@5?noext\",\n",
              "      \"vega-lib\": \"https://cdn.jsdelivr.net/npm/vega-lib?noext\",\n",
              "      \"vega-lite\": \"https://cdn.jsdelivr.net/npm/vega-lite@5.16.3?noext\",\n",
              "      \"vega-embed\": \"https://cdn.jsdelivr.net/npm/vega-embed@6?noext\",\n",
              "    };\n",
              "\n",
              "    function maybeLoadScript(lib, version) {\n",
              "      var key = `${lib.replace(\"-\", \"\")}_version`;\n",
              "      return (VEGA_DEBUG[key] == version) ?\n",
              "        Promise.resolve(paths[lib]) :\n",
              "        new Promise(function(resolve, reject) {\n",
              "          var s = document.createElement('script');\n",
              "          document.getElementsByTagName(\"head\")[0].appendChild(s);\n",
              "          s.async = true;\n",
              "          s.onload = () => {\n",
              "            VEGA_DEBUG[key] = version;\n",
              "            return resolve(paths[lib]);\n",
              "          };\n",
              "          s.onerror = () => reject(`Error loading script: ${paths[lib]}`);\n",
              "          s.src = paths[lib];\n",
              "        });\n",
              "    }\n",
              "\n",
              "    function showError(err) {\n",
              "      outputDiv.innerHTML = `<div class=\"error\" style=\"color:red;\">${err}</div>`;\n",
              "      throw err;\n",
              "    }\n",
              "\n",
              "    function displayChart(vegaEmbed) {\n",
              "      vegaEmbed(outputDiv, spec, embedOpt)\n",
              "        .catch(err => showError(`Javascript Error: ${err.message}<br>This usually means there's a typo in your chart specification. See the javascript console for the full traceback.`));\n",
              "    }\n",
              "\n",
              "    if(typeof define === \"function\" && define.amd) {\n",
              "      requirejs.config({paths});\n",
              "      require([\"vega-embed\"], displayChart, err => showError(`Error loading script: ${err.message}`));\n",
              "    } else {\n",
              "      maybeLoadScript(\"vega\", \"5\")\n",
              "        .then(() => maybeLoadScript(\"vega-lite\", \"5.16.3\"))\n",
              "        .then(() => maybeLoadScript(\"vega-embed\", \"6\"))\n",
              "        .catch(showError)\n",
              "        .then(() => displayChart(vegaEmbed));\n",
              "    }\n",
              "  })({\"config\": {\"view\": {\"continuousWidth\": 300, \"continuousHeight\": 300}}, \"layer\": [{\"mark\": {\"type\": \"bar\", \"color\": \"red\", \"width\": 10}, \"encoding\": {\"tooltip\": [{\"field\": \"percent false\", \"title\": \"percent false\", \"type\": \"quantitative\"}], \"x\": {\"field\": \"keyword\", \"sort\": {\"field\": \"true disaster\"}, \"type\": \"nominal\"}, \"y\": {\"field\": \"percent false\", \"type\": \"quantitative\"}}}, {\"mark\": {\"type\": \"text\", \"angle\": 270, \"yOffset\": -50}, \"encoding\": {\"text\": {\"field\": \"percent false\", \"type\": \"quantitative\"}, \"tooltip\": [{\"field\": \"percent false\", \"title\": \"percent false\", \"type\": \"quantitative\"}], \"x\": {\"field\": \"keyword\", \"sort\": {\"field\": \"true disaster\"}, \"type\": \"nominal\"}, \"y\": {\"field\": \"percent false\", \"type\": \"quantitative\"}}}, {\"mark\": {\"type\": \"line\", \"color\": \"black\"}, \"encoding\": {\"x\": {\"field\": \"keyword\", \"sort\": {\"field\": \"true disaster\"}, \"type\": \"nominal\"}, \"y\": {\"field\": \"total count\", \"type\": \"quantitative\"}}}, {\"mark\": {\"type\": \"point\", \"color\": \"black\"}, \"encoding\": {\"tooltip\": [{\"field\": \"total count\", \"title\": \"total keyword count\", \"type\": \"quantitative\"}], \"x\": {\"field\": \"keyword\", \"sort\": {\"field\": \"true disaster\"}, \"type\": \"nominal\"}, \"y\": {\"field\": \"total count\", \"type\": \"quantitative\"}}}, {\"mark\": {\"type\": \"point\", \"color\": \"black\", \"filled\": true, \"shape\": \"triangle-up\", \"size\": 120}, \"encoding\": {\"tooltip\": [{\"field\": \"true disaster\", \"title\": \"total count labeled true\", \"type\": \"quantitative\"}], \"x\": {\"field\": \"keyword\", \"sort\": \"y\", \"type\": \"nominal\"}, \"y\": {\"field\": \"true disaster\", \"type\": \"quantitative\"}}}], \"data\": {\"name\": \"data-5a030e499234a39990d33ca4c4456ef2\"}, \"$schema\": \"https://vega.github.io/schema/vega-lite/v5.16.3.json\", \"datasets\": {\"data-5a030e499234a39990d33ca4c4456ef2\": [{\"keyword\": \"aftershock\", \"true disaster\": 0, \"false disaster\": 34, \"total count\": 34, \"percent false\": 100.0}, {\"keyword\": \"ruin\", \"true disaster\": 1, \"false disaster\": 36, \"total count\": 37, \"percent false\": 97.2972972972973}, {\"keyword\": \"blazing\", \"true disaster\": 1, \"false disaster\": 33, \"total count\": 34, \"percent false\": 97.05882352941177}, {\"keyword\": \"body%20bag\", \"true disaster\": 1, \"false disaster\": 32, \"total count\": 33, \"percent false\": 96.96969696969697}, {\"keyword\": \"electrocute\", \"true disaster\": 1, \"false disaster\": 31, \"total count\": 32, \"percent false\": 96.875}, {\"keyword\": \"body%20bags\", \"true disaster\": 1, \"false disaster\": 40, \"total count\": 41, \"percent false\": 97.5609756097561}, {\"keyword\": \"epicentre\", \"true disaster\": 1, \"false disaster\": 11, \"total count\": 12, \"percent false\": 91.66666666666666}, {\"keyword\": \"traumatised\", \"true disaster\": 2, \"false disaster\": 33, \"total count\": 35, \"percent false\": 94.28571428571428}, {\"keyword\": \"threat\", \"true disaster\": 2, \"false disaster\": 9, \"total count\": 11, \"percent false\": 81.81818181818183}, {\"keyword\": \"blight\", \"true disaster\": 2, \"false disaster\": 30, \"total count\": 32, \"percent false\": 93.75}, {\"keyword\": \"panicking\", \"true disaster\": 2, \"false disaster\": 31, \"total count\": 33, \"percent false\": 93.93939393939394}, {\"keyword\": \"blew%20up\", \"true disaster\": 2, \"false disaster\": 31, \"total count\": 33, \"percent false\": 93.93939393939394}, {\"keyword\": \"screaming\", \"true disaster\": 2, \"false disaster\": 34, \"total count\": 36, \"percent false\": 94.44444444444444}, {\"keyword\": \"inundation\", \"true disaster\": 2, \"false disaster\": 8, \"total count\": 10, \"percent false\": 80.0}, {\"keyword\": \"bloody\", \"true disaster\": 3, \"false disaster\": 32, \"total count\": 35, \"percent false\": 91.42857142857143}, {\"keyword\": \"stretcher\", \"true disaster\": 3, \"false disaster\": 30, \"total count\": 33, \"percent false\": 90.9090909090909}, {\"keyword\": \"smoke\", \"true disaster\": 3, \"false disaster\": 31, \"total count\": 34, \"percent false\": 91.17647058823529}, {\"keyword\": \"collide\", \"true disaster\": 3, \"false disaster\": 31, \"total count\": 34, \"percent false\": 91.17647058823529}, {\"keyword\": \"mayhem\", \"true disaster\": 3, \"false disaster\": 27, \"total count\": 30, \"percent false\": 90.0}, {\"keyword\": \"explode\", \"true disaster\": 3, \"false disaster\": 35, \"total count\": 38, \"percent false\": 92.10526315789474}, {\"keyword\": \"panic\", \"true disaster\": 3, \"false disaster\": 34, \"total count\": 37, \"percent false\": 91.8918918918919}, {\"keyword\": \"drown\", \"true disaster\": 3, \"false disaster\": 29, \"total count\": 32, \"percent false\": 90.625}, {\"keyword\": \"wrecked\", \"true disaster\": 3, \"false disaster\": 36, \"total count\": 39, \"percent false\": 92.3076923076923}, {\"keyword\": \"harm\", \"true disaster\": 4, \"false disaster\": 37, \"total count\": 41, \"percent false\": 90.2439024390244}, {\"keyword\": \"crush\", \"true disaster\": 4, \"false disaster\": 33, \"total count\": 37, \"percent false\": 89.1891891891892}, {\"keyword\": \"obliteration\", \"true disaster\": 4, \"false disaster\": 25, \"total count\": 29, \"percent false\": 86.20689655172413}, {\"keyword\": \"obliterated\", \"true disaster\": 4, \"false disaster\": 27, \"total count\": 31, \"percent false\": 87.09677419354838}, {\"keyword\": \"obliterate\", \"true disaster\": 4, \"false disaster\": 27, \"total count\": 31, \"percent false\": 87.09677419354838}, {\"keyword\": \"screamed\", \"true disaster\": 4, \"false disaster\": 30, \"total count\": 34, \"percent false\": 88.23529411764706}, {\"keyword\": \"crushed\", \"true disaster\": 4, \"false disaster\": 27, \"total count\": 31, \"percent false\": 87.09677419354838}, {\"keyword\": \"blizzard\", \"true disaster\": 4, \"false disaster\": 33, \"total count\": 37, \"percent false\": 89.1891891891892}, {\"keyword\": \"avalanche\", \"true disaster\": 4, \"false disaster\": 26, \"total count\": 30, \"percent false\": 86.66666666666667}, {\"keyword\": \"quarantine\", \"true disaster\": 5, \"false disaster\": 29, \"total count\": 34, \"percent false\": 85.29411764705883}, {\"keyword\": \"blaze\", \"true disaster\": 5, \"false disaster\": 33, \"total count\": 38, \"percent false\": 86.8421052631579}, {\"keyword\": \"trouble\", \"true disaster\": 5, \"false disaster\": 28, \"total count\": 33, \"percent false\": 84.84848484848484}, {\"keyword\": \"battle\", \"true disaster\": 5, \"false disaster\": 21, \"total count\": 26, \"percent false\": 80.76923076923077}, {\"keyword\": \"curfew\", \"true disaster\": 5, \"false disaster\": 32, \"total count\": 37, \"percent false\": 86.48648648648648}, {\"keyword\": \"screams\", \"true disaster\": 5, \"false disaster\": 30, \"total count\": 35, \"percent false\": 85.71428571428571}, {\"keyword\": \"demolish\", \"true disaster\": 5, \"false disaster\": 29, \"total count\": 34, \"percent false\": 85.29411764705883}, {\"keyword\": \"body%20bagging\", \"true disaster\": 5, \"false disaster\": 28, \"total count\": 33, \"percent false\": 84.84848484848484}, {\"keyword\": \"twister\", \"true disaster\": 5, \"false disaster\": 35, \"total count\": 40, \"percent false\": 87.5}, {\"keyword\": \"army\", \"true disaster\": 5, \"false disaster\": 29, \"total count\": 34, \"percent false\": 85.29411764705883}, {\"keyword\": \"armageddon\", \"true disaster\": 5, \"false disaster\": 37, \"total count\": 42, \"percent false\": 88.09523809523809}, {\"keyword\": \"meltdown\", \"true disaster\": 5, \"false disaster\": 28, \"total count\": 33, \"percent false\": 84.84848484848484}, {\"keyword\": \"lava\", \"true disaster\": 5, \"false disaster\": 29, \"total count\": 34, \"percent false\": 85.29411764705883}, {\"keyword\": \"radiation%20emergency\", \"true disaster\": 5, \"false disaster\": 4, \"total count\": 9, \"percent false\": 44.44444444444444}, {\"keyword\": \"bleeding\", \"true disaster\": 5, \"false disaster\": 30, \"total count\": 35, \"percent false\": 85.71428571428571}, {\"keyword\": \"rescue\", \"true disaster\": 5, \"false disaster\": 17, \"total count\": 22, \"percent false\": 77.27272727272727}, {\"keyword\": \"siren\", \"true disaster\": 5, \"false disaster\": 35, \"total count\": 40, \"percent false\": 87.5}, {\"keyword\": \"fear\", \"true disaster\": 5, \"false disaster\": 35, \"total count\": 40, \"percent false\": 87.5}, {\"keyword\": \"blown%20up\", \"true disaster\": 5, \"false disaster\": 28, \"total count\": 33, \"percent false\": 84.84848484848484}, {\"keyword\": \"survive\", \"true disaster\": 5, \"false disaster\": 27, \"total count\": 32, \"percent false\": 84.375}, {\"keyword\": \"blood\", \"true disaster\": 5, \"false disaster\": 30, \"total count\": 35, \"percent false\": 85.71428571428571}, {\"keyword\": \"flattened\", \"true disaster\": 5, \"false disaster\": 29, \"total count\": 34, \"percent false\": 85.29411764705883}, {\"keyword\": \"inundated\", \"true disaster\": 6, \"false disaster\": 29, \"total count\": 35, \"percent false\": 82.85714285714286}, {\"keyword\": \"upheaval\", \"true disaster\": 6, \"false disaster\": 32, \"total count\": 38, \"percent false\": 84.21052631578947}, {\"keyword\": \"destruction\", \"true disaster\": 6, \"false disaster\": 28, \"total count\": 34, \"percent false\": 82.35294117647058}, {\"keyword\": \"riot\", \"true disaster\": 6, \"false disaster\": 28, \"total count\": 34, \"percent false\": 82.35294117647058}, {\"keyword\": \"deluge\", \"true disaster\": 6, \"false disaster\": 36, \"total count\": 42, \"percent false\": 85.71428571428571}, {\"keyword\": \"loud%20bang\", \"true disaster\": 7, \"false disaster\": 27, \"total count\": 34, \"percent false\": 79.41176470588235}, {\"keyword\": \"desolation\", \"true disaster\": 7, \"false disaster\": 29, \"total count\": 36, \"percent false\": 80.55555555555556}, {\"keyword\": \"hellfire\", \"true disaster\": 7, \"false disaster\": 32, \"total count\": 39, \"percent false\": 82.05128205128204}, {\"keyword\": \"burned\", \"true disaster\": 7, \"false disaster\": 26, \"total count\": 33, \"percent false\": 78.78787878787878}, {\"keyword\": \"demolished\", \"true disaster\": 7, \"false disaster\": 21, \"total count\": 28, \"percent false\": 75.0}, {\"keyword\": \"desolate\", \"true disaster\": 7, \"false disaster\": 22, \"total count\": 29, \"percent false\": 75.86206896551724}, {\"keyword\": \"war%20zone\", \"true disaster\": 7, \"false disaster\": 17, \"total count\": 24, \"percent false\": 70.83333333333334}, {\"keyword\": \"wreck\", \"true disaster\": 7, \"false disaster\": 30, \"total count\": 37, \"percent false\": 81.08108108108108}, {\"keyword\": \"dead\", \"true disaster\": 7, \"false disaster\": 23, \"total count\": 30, \"percent false\": 76.66666666666667}, {\"keyword\": \"sirens\", \"true disaster\": 7, \"false disaster\": 22, \"total count\": 29, \"percent false\": 75.86206896551724}, {\"keyword\": \"catastrophe\", \"true disaster\": 7, \"false disaster\": 29, \"total count\": 36, \"percent false\": 80.55555555555556}, {\"keyword\": \"deluged\", \"true disaster\": 7, \"false disaster\": 20, \"total count\": 27, \"percent false\": 74.07407407407408}, {\"keyword\": \"hazard\", \"true disaster\": 7, \"false disaster\": 27, \"total count\": 34, \"percent false\": 79.41176470588235}, {\"keyword\": \"arsonist\", \"true disaster\": 8, \"false disaster\": 26, \"total count\": 34, \"percent false\": 76.47058823529412}, {\"keyword\": \"cliff%20fall\", \"true disaster\": 8, \"false disaster\": 28, \"total count\": 36, \"percent false\": 77.77777777777779}, {\"keyword\": \"military\", \"true disaster\": 8, \"false disaster\": 26, \"total count\": 34, \"percent false\": 76.47058823529412}, {\"keyword\": \"pandemonium\", \"true disaster\": 8, \"false disaster\": 29, \"total count\": 37, \"percent false\": 78.37837837837837}, {\"keyword\": \"sinking\", \"true disaster\": 8, \"false disaster\": 33, \"total count\": 41, \"percent false\": 80.48780487804879}, {\"keyword\": \"destroyed\", \"true disaster\": 8, \"false disaster\": 24, \"total count\": 32, \"percent false\": 75.0}, {\"keyword\": \"danger\", \"true disaster\": 8, \"false disaster\": 28, \"total count\": 36, \"percent false\": 77.77777777777779}, {\"keyword\": \"detonation\", \"true disaster\": 9, \"false disaster\": 23, \"total count\": 32, \"percent false\": 71.875}, {\"keyword\": \"injuries\", \"true disaster\": 9, \"false disaster\": 24, \"total count\": 33, \"percent false\": 72.72727272727273}, {\"keyword\": \"trapped\", \"true disaster\": 9, \"false disaster\": 23, \"total count\": 32, \"percent false\": 71.875}, {\"keyword\": \"demolition\", \"true disaster\": 9, \"false disaster\": 26, \"total count\": 35, \"percent false\": 74.28571428571429}, {\"keyword\": \"apocalypse\", \"true disaster\": 9, \"false disaster\": 23, \"total count\": 32, \"percent false\": 71.875}, {\"keyword\": \"drowning\", \"true disaster\": 9, \"false disaster\": 25, \"total count\": 34, \"percent false\": 73.52941176470588}, {\"keyword\": \"death\", \"true disaster\": 9, \"false disaster\": 27, \"total count\": 36, \"percent false\": 75.0}, {\"keyword\": \"destroy\", \"true disaster\": 9, \"false disaster\": 28, \"total count\": 37, \"percent false\": 75.67567567567568}, {\"keyword\": \"exploded\", \"true disaster\": 9, \"false disaster\": 24, \"total count\": 33, \"percent false\": 72.72727272727273}, {\"keyword\": \"sunk\", \"true disaster\": 9, \"false disaster\": 30, \"total count\": 39, \"percent false\": 76.92307692307693}, {\"keyword\": \"detonate\", \"true disaster\": 10, \"false disaster\": 26, \"total count\": 36, \"percent false\": 72.22222222222221}, {\"keyword\": \"burning\", \"true disaster\": 10, \"false disaster\": 24, \"total count\": 34, \"percent false\": 70.58823529411765}, {\"keyword\": \"survived\", \"true disaster\": 10, \"false disaster\": 23, \"total count\": 33, \"percent false\": 69.6969696969697}, {\"keyword\": \"annihilation\", \"true disaster\": 10, \"false disaster\": 19, \"total count\": 29, \"percent false\": 65.51724137931035}, {\"keyword\": \"rubble\", \"true disaster\": 10, \"false disaster\": 18, \"total count\": 28, \"percent false\": 64.28571428571429}, {\"keyword\": \"wounds\", \"true disaster\": 10, \"false disaster\": 23, \"total count\": 33, \"percent false\": 69.6969696969697}, {\"keyword\": \"fatality\", \"true disaster\": 10, \"false disaster\": 27, \"total count\": 37, \"percent false\": 72.97297297297297}, {\"keyword\": \"trauma\", \"true disaster\": 11, \"false disaster\": 20, \"total count\": 31, \"percent false\": 64.51612903225806}, {\"keyword\": \"annihilated\", \"true disaster\": 11, \"false disaster\": 23, \"total count\": 34, \"percent false\": 67.64705882352942}, {\"keyword\": \"emergency%20services\", \"true disaster\": 11, \"false disaster\": 22, \"total count\": 33, \"percent false\": 66.66666666666666}, {\"keyword\": \"tsunami\", \"true disaster\": 11, \"false disaster\": 23, \"total count\": 34, \"percent false\": 67.64705882352942}, {\"keyword\": \"fire\", \"true disaster\": 11, \"false disaster\": 27, \"total count\": 38, \"percent false\": 71.05263157894737}, {\"keyword\": \"injury\", \"true disaster\": 11, \"false disaster\": 27, \"total count\": 38, \"percent false\": 71.05263157894737}, {\"keyword\": \"mudslide\", \"true disaster\": 12, \"false disaster\": 25, \"total count\": 37, \"percent false\": 67.56756756756756}, {\"keyword\": \"eyewitness\", \"true disaster\": 12, \"false disaster\": 20, \"total count\": 32, \"percent false\": 62.5}, {\"keyword\": \"crash\", \"true disaster\": 12, \"false disaster\": 21, \"total count\": 33, \"percent false\": 63.63636363636363}, {\"keyword\": \"thunder\", \"true disaster\": 12, \"false disaster\": 26, \"total count\": 38, \"percent false\": 68.42105263157895}, {\"keyword\": \"first%20responders\", \"true disaster\": 12, \"false disaster\": 17, \"total count\": 29, \"percent false\": 58.620689655172406}, {\"keyword\": \"seismic\", \"true disaster\": 13, \"false disaster\": 16, \"total count\": 29, \"percent false\": 55.172413793103445}, {\"keyword\": \"snowstorm\", \"true disaster\": 13, \"false disaster\": 16, \"total count\": 29, \"percent false\": 55.172413793103445}, {\"keyword\": \"ablaze\", \"true disaster\": 13, \"false disaster\": 23, \"total count\": 36, \"percent false\": 63.888888888888886}, {\"keyword\": \"flames\", \"true disaster\": 13, \"false disaster\": 26, \"total count\": 39, \"percent false\": 66.66666666666666}, {\"keyword\": \"electrocuted\", \"true disaster\": 13, \"false disaster\": 21, \"total count\": 34, \"percent false\": 61.76470588235294}, {\"keyword\": \"collapsed\", \"true disaster\": 13, \"false disaster\": 22, \"total count\": 35, \"percent false\": 62.857142857142854}, {\"keyword\": \"whirlwind\", \"true disaster\": 14, \"false disaster\": 25, \"total count\": 39, \"percent false\": 64.1025641025641}, {\"keyword\": \"emergency\", \"true disaster\": 14, \"false disaster\": 23, \"total count\": 37, \"percent false\": 62.16216216216216}, {\"keyword\": \"nuclear%20reactor\", \"true disaster\": 14, \"false disaster\": 22, \"total count\": 36, \"percent false\": 61.111111111111114}, {\"keyword\": \"quarantined\", \"true disaster\": 14, \"false disaster\": 23, \"total count\": 37, \"percent false\": 62.16216216216216}, {\"keyword\": \"landslide\", \"true disaster\": 14, \"false disaster\": 19, \"total count\": 33, \"percent false\": 57.57575757575758}, {\"keyword\": \"weapon\", \"true disaster\": 14, \"false disaster\": 25, \"total count\": 39, \"percent false\": 64.1025641025641}, {\"keyword\": \"hijacking\", \"true disaster\": 15, \"false disaster\": 17, \"total count\": 32, \"percent false\": 53.125}, {\"keyword\": \"casualty\", \"true disaster\": 15, \"false disaster\": 19, \"total count\": 34, \"percent false\": 55.88235294117647}, {\"keyword\": \"chemical%20emergency\", \"true disaster\": 15, \"false disaster\": 18, \"total count\": 33, \"percent false\": 54.54545454545454}, {\"keyword\": \"collapse\", \"true disaster\": 15, \"false disaster\": 19, \"total count\": 34, \"percent false\": 55.88235294117647}, {\"keyword\": \"flood\", \"true disaster\": 15, \"false disaster\": 20, \"total count\": 35, \"percent false\": 57.14285714285714}, {\"keyword\": \"drowned\", \"true disaster\": 15, \"false disaster\": 23, \"total count\": 38, \"percent false\": 60.526315789473685}, {\"keyword\": \"bomb\", \"true disaster\": 15, \"false disaster\": 19, \"total count\": 34, \"percent false\": 55.88235294117647}, {\"keyword\": \"hostage\", \"true disaster\": 15, \"false disaster\": 16, \"total count\": 31, \"percent false\": 51.61290322580645}, {\"keyword\": \"disaster\", \"true disaster\": 15, \"false disaster\": 20, \"total count\": 35, \"percent false\": 57.14285714285714}, {\"keyword\": \"forest%20fire\", \"true disaster\": 15, \"false disaster\": 4, \"total count\": 19, \"percent false\": 21.052631578947366}, {\"keyword\": \"windstorm\", \"true disaster\": 16, \"false disaster\": 24, \"total count\": 40, \"percent false\": 60.0}, {\"keyword\": \"tornado\", \"true disaster\": 16, \"false disaster\": 19, \"total count\": 35, \"percent false\": 54.285714285714285}, {\"keyword\": \"hijack\", \"true disaster\": 16, \"false disaster\": 17, \"total count\": 33, \"percent false\": 51.515151515151516}, {\"keyword\": \"lightning\", \"true disaster\": 17, \"false disaster\": 16, \"total count\": 33, \"percent false\": 48.484848484848484}, {\"keyword\": \"weapons\", \"true disaster\": 17, \"false disaster\": 22, \"total count\": 39, \"percent false\": 56.41025641025641}, {\"keyword\": \"derail\", \"true disaster\": 17, \"false disaster\": 18, \"total count\": 35, \"percent false\": 51.42857142857142}, {\"keyword\": \"rescued\", \"true disaster\": 17, \"false disaster\": 18, \"total count\": 35, \"percent false\": 51.42857142857142}, {\"keyword\": \"natural%20disaster\", \"true disaster\": 18, \"false disaster\": 16, \"total count\": 34, \"percent false\": 47.05882352941176}, {\"keyword\": \"bush%20fires\", \"true disaster\": 18, \"false disaster\": 7, \"total count\": 25, \"percent false\": 28.000000000000004}, {\"keyword\": \"storm\", \"true disaster\": 18, \"false disaster\": 17, \"total count\": 35, \"percent false\": 48.57142857142857}, {\"keyword\": \"rainstorm\", \"true disaster\": 18, \"false disaster\": 16, \"total count\": 34, \"percent false\": 47.05882352941176}, {\"keyword\": \"hail\", \"true disaster\": 18, \"false disaster\": 17, \"total count\": 35, \"percent false\": 48.57142857142857}, {\"keyword\": \"devastated\", \"true disaster\": 18, \"false disaster\": 13, \"total count\": 31, \"percent false\": 41.935483870967744}, {\"keyword\": \"volcano\", \"true disaster\": 18, \"false disaster\": 9, \"total count\": 27, \"percent false\": 33.33333333333333}, {\"keyword\": \"hijacker\", \"true disaster\": 19, \"false disaster\": 16, \"total count\": 35, \"percent false\": 45.714285714285715}, {\"keyword\": \"mass%20murderer\", \"true disaster\": 19, \"false disaster\": 13, \"total count\": 32, \"percent false\": 40.625}, {\"keyword\": \"engulfed\", \"true disaster\": 19, \"false disaster\": 17, \"total count\": 36, \"percent false\": 47.22222222222222}, {\"keyword\": \"cyclone\", \"true disaster\": 19, \"false disaster\": 13, \"total count\": 32, \"percent false\": 40.625}, {\"keyword\": \"damage\", \"true disaster\": 19, \"false disaster\": 22, \"total count\": 41, \"percent false\": 53.65853658536586}, {\"keyword\": \"bombed\", \"true disaster\": 19, \"false disaster\": 19, \"total count\": 38, \"percent false\": 50.0}, {\"keyword\": \"explosion\", \"true disaster\": 20, \"false disaster\": 19, \"total count\": 39, \"percent false\": 48.717948717948715}, {\"keyword\": \"hurricane\", \"true disaster\": 20, \"false disaster\": 18, \"total count\": 38, \"percent false\": 47.368421052631575}, {\"keyword\": \"catastrophic\", \"true disaster\": 20, \"false disaster\": 10, \"total count\": 30, \"percent false\": 33.33333333333333}, {\"keyword\": \"ambulance\", \"true disaster\": 20, \"false disaster\": 18, \"total count\": 38, \"percent false\": 47.368421052631575}, {\"keyword\": \"crashed\", \"true disaster\": 21, \"false disaster\": 13, \"total count\": 34, \"percent false\": 38.23529411764706}, {\"keyword\": \"survivors\", \"true disaster\": 21, \"false disaster\": 9, \"total count\": 30, \"percent false\": 30.0}, {\"keyword\": \"bioterrorism\", \"true disaster\": 21, \"false disaster\": 9, \"total count\": 30, \"percent false\": 30.0}, {\"keyword\": \"police\", \"true disaster\": 21, \"false disaster\": 16, \"total count\": 37, \"percent false\": 43.24324324324324}, {\"keyword\": \"emergency%20plan\", \"true disaster\": 21, \"false disaster\": 14, \"total count\": 35, \"percent false\": 40.0}, {\"keyword\": \"attacked\", \"true disaster\": 21, \"false disaster\": 14, \"total count\": 35, \"percent false\": 40.0}, {\"keyword\": \"burning%20buildings\", \"true disaster\": 21, \"false disaster\": 16, \"total count\": 37, \"percent false\": 43.24324324324324}, {\"keyword\": \"hazardous\", \"true disaster\": 22, \"false disaster\": 13, \"total count\": 35, \"percent false\": 37.142857142857146}, {\"keyword\": \"arson\", \"true disaster\": 22, \"false disaster\": 10, \"total count\": 32, \"percent false\": 31.25}, {\"keyword\": \"refugees\", \"true disaster\": 22, \"false disaster\": 14, \"total count\": 36, \"percent false\": 38.88888888888889}, {\"keyword\": \"fire%20truck\", \"true disaster\": 22, \"false disaster\": 11, \"total count\": 33, \"percent false\": 33.33333333333333}, {\"keyword\": \"tragedy\", \"true disaster\": 22, \"false disaster\": 14, \"total count\": 36, \"percent false\": 38.88888888888889}, {\"keyword\": \"bioterror\", \"true disaster\": 22, \"false disaster\": 15, \"total count\": 37, \"percent false\": 40.54054054054054}, {\"keyword\": \"collided\", \"true disaster\": 23, \"false disaster\": 17, \"total count\": 40, \"percent false\": 42.5}, {\"keyword\": \"terrorist\", \"true disaster\": 23, \"false disaster\": 8, \"total count\": 31, \"percent false\": 25.806451612903224}, {\"keyword\": \"structural%20failure\", \"true disaster\": 23, \"false disaster\": 12, \"total count\": 35, \"percent false\": 34.285714285714285}, {\"keyword\": \"rioting\", \"true disaster\": 23, \"false disaster\": 12, \"total count\": 35, \"percent false\": 34.285714285714285}, {\"keyword\": \"injured\", \"true disaster\": 24, \"false disaster\": 11, \"total count\": 35, \"percent false\": 31.428571428571427}, {\"keyword\": \"dust%20storm\", \"true disaster\": 24, \"false disaster\": 12, \"total count\": 36, \"percent false\": 33.33333333333333}, {\"keyword\": \"hailstorm\", \"true disaster\": 24, \"false disaster\": 8, \"total count\": 32, \"percent false\": 25.0}, {\"keyword\": \"buildings%20burning\", \"true disaster\": 24, \"false disaster\": 11, \"total count\": 35, \"percent false\": 31.428571428571427}, {\"keyword\": \"accident\", \"true disaster\": 24, \"false disaster\": 11, \"total count\": 35, \"percent false\": 31.428571428571427}, {\"keyword\": \"terrorism\", \"true disaster\": 24, \"false disaster\": 10, \"total count\": 34, \"percent false\": 29.411764705882355}, {\"keyword\": \"evacuate\", \"true disaster\": 25, \"false disaster\": 15, \"total count\": 40, \"percent false\": 37.5}, {\"keyword\": \"massacre\", \"true disaster\": 25, \"false disaster\": 11, \"total count\": 36, \"percent false\": 30.555555555555557}, {\"keyword\": \"flooding\", \"true disaster\": 25, \"false disaster\": 13, \"total count\": 38, \"percent false\": 34.21052631578947}, {\"keyword\": \"heat%20wave\", \"true disaster\": 25, \"false disaster\": 9, \"total count\": 34, \"percent false\": 26.47058823529412}, {\"keyword\": \"attack\", \"true disaster\": 25, \"false disaster\": 11, \"total count\": 36, \"percent false\": 30.555555555555557}, {\"keyword\": \"wounded\", \"true disaster\": 26, \"false disaster\": 11, \"total count\": 37, \"percent false\": 29.72972972972973}, {\"keyword\": \"floods\", \"true disaster\": 26, \"false disaster\": 10, \"total count\": 36, \"percent false\": 27.77777777777778}, {\"keyword\": \"violent%20storm\", \"true disaster\": 26, \"false disaster\": 7, \"total count\": 33, \"percent false\": 21.21212121212121}, {\"keyword\": \"fatalities\", \"true disaster\": 26, \"false disaster\": 19, \"total count\": 45, \"percent false\": 42.22222222222222}, {\"keyword\": \"thunderstorm\", \"true disaster\": 26, \"false disaster\": 7, \"total count\": 33, \"percent false\": 21.21212121212121}, {\"keyword\": \"famine\", \"true disaster\": 26, \"false disaster\": 13, \"total count\": 39, \"percent false\": 33.33333333333333}, {\"keyword\": \"displaced\", \"true disaster\": 26, \"false disaster\": 10, \"total count\": 36, \"percent false\": 27.77777777777778}, {\"keyword\": \"fatal\", \"true disaster\": 26, \"false disaster\": 12, \"total count\": 38, \"percent false\": 31.57894736842105}, {\"keyword\": \"derailed\", \"true disaster\": 26, \"false disaster\": 12, \"total count\": 38, \"percent false\": 31.57894736842105}, {\"keyword\": \"deaths\", \"true disaster\": 26, \"false disaster\": 12, \"total count\": 38, \"percent false\": 31.57894736842105}, {\"keyword\": \"devastation\", \"true disaster\": 27, \"false disaster\": 9, \"total count\": 36, \"percent false\": 25.0}, {\"keyword\": \"hostages\", \"true disaster\": 27, \"false disaster\": 10, \"total count\": 37, \"percent false\": 27.027027027027028}, {\"keyword\": \"sinkhole\", \"true disaster\": 27, \"false disaster\": 12, \"total count\": 39, \"percent false\": 30.76923076923077}, {\"keyword\": \"wild%20fires\", \"true disaster\": 27, \"false disaster\": 4, \"total count\": 31, \"percent false\": 12.903225806451612}, {\"keyword\": \"bombing\", \"true disaster\": 27, \"false disaster\": 2, \"total count\": 29, \"percent false\": 6.896551724137931}, {\"keyword\": \"forest%20fires\", \"true disaster\": 27, \"false disaster\": 5, \"total count\": 32, \"percent false\": 15.625}, {\"keyword\": \"drought\", \"true disaster\": 28, \"false disaster\": 7, \"total count\": 35, \"percent false\": 20.0}, {\"keyword\": \"evacuation\", \"true disaster\": 28, \"false disaster\": 8, \"total count\": 36, \"percent false\": 22.22222222222222}, {\"keyword\": \"mass%20murder\", \"true disaster\": 28, \"false disaster\": 5, \"total count\": 33, \"percent false\": 15.151515151515152}, {\"keyword\": \"sandstorm\", \"true disaster\": 28, \"false disaster\": 9, \"total count\": 37, \"percent false\": 24.324324324324326}, {\"keyword\": \"casualties\", \"true disaster\": 28, \"false disaster\": 7, \"total count\": 35, \"percent false\": 20.0}, {\"keyword\": \"buildings%20on%20fire\", \"true disaster\": 28, \"false disaster\": 5, \"total count\": 33, \"percent false\": 15.151515151515152}, {\"keyword\": \"bridge%20collapse\", \"true disaster\": 29, \"false disaster\": 6, \"total count\": 35, \"percent false\": 17.142857142857142}, {\"keyword\": \"wildfire\", \"true disaster\": 29, \"false disaster\": 4, \"total count\": 33, \"percent false\": 12.121212121212121}, {\"keyword\": \"collision\", \"true disaster\": 29, \"false disaster\": 10, \"total count\": 39, \"percent false\": 25.64102564102564}, {\"keyword\": \"suicide%20bomber\", \"true disaster\": 30, \"false disaster\": 1, \"total count\": 31, \"percent false\": 3.225806451612903}, {\"keyword\": \"earthquake\", \"true disaster\": 30, \"false disaster\": 9, \"total count\": 39, \"percent false\": 23.076923076923077}, {\"keyword\": \"airplane%20accident\", \"true disaster\": 30, \"false disaster\": 5, \"total count\": 35, \"percent false\": 14.285714285714285}, {\"keyword\": \"razed\", \"true disaster\": 31, \"false disaster\": 4, \"total count\": 35, \"percent false\": 11.428571428571429}, {\"keyword\": \"nuclear%20disaster\", \"true disaster\": 31, \"false disaster\": 3, \"total count\": 34, \"percent false\": 8.823529411764707}, {\"keyword\": \"evacuated\", \"true disaster\": 32, \"false disaster\": 4, \"total count\": 36, \"percent false\": 11.11111111111111}, {\"keyword\": \"suicide%20bombing\", \"true disaster\": 32, \"false disaster\": 1, \"total count\": 33, \"percent false\": 3.0303030303030303}, {\"keyword\": \"rescuers\", \"true disaster\": 32, \"false disaster\": 3, \"total count\": 35, \"percent false\": 8.571428571428571}, {\"keyword\": \"suicide%20bomb\", \"true disaster\": 32, \"false disaster\": 3, \"total count\": 35, \"percent false\": 8.571428571428571}, {\"keyword\": \"typhoon\", \"true disaster\": 37, \"false disaster\": 1, \"total count\": 38, \"percent false\": 2.631578947368421}, {\"keyword\": \"debris\", \"true disaster\": 37, \"false disaster\": 0, \"total count\": 37, \"percent false\": 0.0}, {\"keyword\": \"oil%20spill\", \"true disaster\": 37, \"false disaster\": 1, \"total count\": 38, \"percent false\": 2.631578947368421}, {\"keyword\": \"outbreak\", \"true disaster\": 39, \"false disaster\": 1, \"total count\": 40, \"percent false\": 2.5}, {\"keyword\": \"derailment\", \"true disaster\": 39, \"false disaster\": 0, \"total count\": 39, \"percent false\": 0.0}, {\"keyword\": \"wreckage\", \"true disaster\": 39, \"false disaster\": 0, \"total count\": 39, \"percent false\": 0.0}]}}, {\"mode\": \"vega-lite\"});\n",
              "</script>"
            ],
            "text/plain": [
              "alt.LayerChart(...)"
            ]
          },
          "metadata": {},
          "execution_count": 18
        }
      ],
      "source": [
        "source = key_df\n",
        "count_true = alt.Chart(source).mark_point(filled=True, shape='triangle-up', size=120, color='black').encode(\n",
        "    x= alt.X(\"keyword:N\", sort='y'),\n",
        "    y=alt.Y(\"true disaster:Q\"),\n",
        "    tooltip=[alt.Tooltip('true disaster:Q', title='total count labeled true')]\n",
        ")\n",
        "\n",
        "base = alt.Chart(source).encode(\n",
        "    x= alt.X(\"keyword:N\", sort=alt.EncodingSortField(field=\"true disaster\")),\n",
        "    y=alt.Y(\"percent false:Q\"),\n",
        "    tooltip=[alt.Tooltip('percent false:Q', title=\"percent false\")]\n",
        ")\n",
        "\n",
        "bar = base.mark_bar(width = 10, color='red').encode(\n",
        "\n",
        "\n",
        ")\n",
        "\n",
        "text = base.mark_text(angle=270, yOffset=-50).encode(\n",
        "        text = 'percent false:Q'\n",
        "\n",
        ")\n",
        "\n",
        "keyw_label3 = alt.Chart(source).mark_line(color='black').encode(\n",
        "    x= alt.X(\"keyword:N\", sort=alt.EncodingSortField(field=\"true disaster\")),\n",
        "    y=alt.Y(\"total count:Q\"),\n",
        "\n",
        ")\n",
        "\n",
        "keyw_label4 = alt.Chart(source).mark_point(color='black').encode(\n",
        "    x= alt.X(\"keyword:N\", sort=alt.EncodingSortField(field=\"true disaster\")),\n",
        "    y=alt.Y(\"total count:Q\"),\n",
        "    tooltip=[alt.Tooltip('total count:Q', title=\"total keyword count\")],\n",
        ")\n",
        "\n",
        "\n",
        "bar +text+ keyw_label3 +keyw_label4 + count_true"
      ]
    },
    {
      "cell_type": "markdown",
      "id": "9d636b6e",
      "metadata": {
        "id": "9d636b6e"
      },
      "source": [
        "As you can see above keywords such as 'electrocute' are completely associated with a false disaster label, where as 'wreckage' on the other end are 100% labeled as true disaster."
      ]
    },
    {
      "cell_type": "markdown",
      "source": [
        "##Is the keyword already part of the text field?"
      ],
      "metadata": {
        "id": "amQJSkeM8M5g"
      },
      "id": "amQJSkeM8M5g"
    },
    {
      "cell_type": "code",
      "execution_count": null,
      "id": "c82bc743",
      "metadata": {
        "id": "c82bc743"
      },
      "outputs": [],
      "source": [
        "#iterate over rows and identify missing keywords\n",
        "missing_dict = { }\n",
        "for i in range(kw.shape[0]):\n",
        "    missing_dict[kw[i]] = 0\n",
        "\n",
        "count = 0\n",
        "for i in range(tweets_df.shape[0]):\n",
        "    if tweets_df['HasKeyword'][i] == 'Yes':\n",
        "        # initializing string\n",
        "        word = tweets_df['keyword'][i]\n",
        "        # printing original string\n",
        "        mystring=tweets_df['text'][i]\n",
        "        mystring = mystring.lower() #lower case\n",
        "        # Expression evaluation in String\n",
        "        # Using eval()\n",
        "        if word not in mystring:\n",
        "            missing_dict[word] += 1\n",
        "            #print(word+\" not found at index \", i)\n",
        "            count+=1\n",
        "#print(count/tweets_df.shape[0])\n",
        "\n",
        "\n"
      ]
    },
    {
      "cell_type": "code",
      "execution_count": null,
      "id": "d8ce3d3f",
      "metadata": {
        "id": "d8ce3d3f",
        "outputId": "dcaee9ae-9e55-4c22-f0ee-951d73b6198e",
        "colab": {
          "base_uri": "https://localhost:8080/",
          "height": 331
        }
      },
      "outputs": [
        {
          "output_type": "execute_result",
          "data": {
            "text/html": [
              "\n",
              "<style>\n",
              "  #altair-viz-96a4bfb55c1d4c01b621c8cef08bce1f.vega-embed {\n",
              "    width: 100%;\n",
              "    display: flex;\n",
              "  }\n",
              "\n",
              "  #altair-viz-96a4bfb55c1d4c01b621c8cef08bce1f.vega-embed details,\n",
              "  #altair-viz-96a4bfb55c1d4c01b621c8cef08bce1f.vega-embed details summary {\n",
              "    position: relative;\n",
              "  }\n",
              "</style>\n",
              "<div id=\"altair-viz-96a4bfb55c1d4c01b621c8cef08bce1f\"></div>\n",
              "<script type=\"text/javascript\">\n",
              "  var VEGA_DEBUG = (typeof VEGA_DEBUG == \"undefined\") ? {} : VEGA_DEBUG;\n",
              "  (function(spec, embedOpt){\n",
              "    let outputDiv = document.currentScript.previousElementSibling;\n",
              "    if (outputDiv.id !== \"altair-viz-96a4bfb55c1d4c01b621c8cef08bce1f\") {\n",
              "      outputDiv = document.getElementById(\"altair-viz-96a4bfb55c1d4c01b621c8cef08bce1f\");\n",
              "    }\n",
              "    const paths = {\n",
              "      \"vega\": \"https://cdn.jsdelivr.net/npm/vega@5?noext\",\n",
              "      \"vega-lib\": \"https://cdn.jsdelivr.net/npm/vega-lib?noext\",\n",
              "      \"vega-lite\": \"https://cdn.jsdelivr.net/npm/vega-lite@5.16.3?noext\",\n",
              "      \"vega-embed\": \"https://cdn.jsdelivr.net/npm/vega-embed@6?noext\",\n",
              "    };\n",
              "\n",
              "    function maybeLoadScript(lib, version) {\n",
              "      var key = `${lib.replace(\"-\", \"\")}_version`;\n",
              "      return (VEGA_DEBUG[key] == version) ?\n",
              "        Promise.resolve(paths[lib]) :\n",
              "        new Promise(function(resolve, reject) {\n",
              "          var s = document.createElement('script');\n",
              "          document.getElementsByTagName(\"head\")[0].appendChild(s);\n",
              "          s.async = true;\n",
              "          s.onload = () => {\n",
              "            VEGA_DEBUG[key] = version;\n",
              "            return resolve(paths[lib]);\n",
              "          };\n",
              "          s.onerror = () => reject(`Error loading script: ${paths[lib]}`);\n",
              "          s.src = paths[lib];\n",
              "        });\n",
              "    }\n",
              "\n",
              "    function showError(err) {\n",
              "      outputDiv.innerHTML = `<div class=\"error\" style=\"color:red;\">${err}</div>`;\n",
              "      throw err;\n",
              "    }\n",
              "\n",
              "    function displayChart(vegaEmbed) {\n",
              "      vegaEmbed(outputDiv, spec, embedOpt)\n",
              "        .catch(err => showError(`Javascript Error: ${err.message}<br>This usually means there's a typo in your chart specification. See the javascript console for the full traceback.`));\n",
              "    }\n",
              "\n",
              "    if(typeof define === \"function\" && define.amd) {\n",
              "      requirejs.config({paths});\n",
              "      require([\"vega-embed\"], displayChart, err => showError(`Error loading script: ${err.message}`));\n",
              "    } else {\n",
              "      maybeLoadScript(\"vega\", \"5\")\n",
              "        .then(() => maybeLoadScript(\"vega-lite\", \"5.16.3\"))\n",
              "        .then(() => maybeLoadScript(\"vega-embed\", \"6\"))\n",
              "        .catch(showError)\n",
              "        .then(() => displayChart(vegaEmbed));\n",
              "    }\n",
              "  })({\"config\": {\"view\": {\"continuousWidth\": 300, \"continuousHeight\": 300}}, \"layer\": [{\"mark\": {\"type\": \"arc\"}, \"encoding\": {\"color\": {\"field\": \"status\", \"type\": \"nominal\"}, \"theta\": {\"field\": \"percentage\", \"stack\": true, \"type\": \"quantitative\"}}}, {\"mark\": {\"type\": \"text\", \"color\": \"black\", \"radius\": 60, \"size\": 20}, \"encoding\": {\"text\": {\"field\": \"percentage\", \"type\": \"quantitative\"}, \"theta\": {\"field\": \"percentage\", \"stack\": true, \"type\": \"quantitative\"}}}], \"data\": {\"name\": \"data-23e5b376bf045d4f23a375e27ac29df7\"}, \"$schema\": \"https://vega.github.io/schema/vega-lite/v5.16.3.json\", \"datasets\": {\"data-23e5b376bf045d4f23a375e27ac29df7\": [{\"status\": \"Missing\", \"percentage\": 0.20740838040194404}, {\"status\": \"Found\", \"percentage\": 0.7925916195980559}]}}, {\"mode\": \"vega-lite\"});\n",
              "</script>"
            ],
            "text/plain": [
              "alt.LayerChart(...)"
            ]
          },
          "metadata": {},
          "execution_count": 20
        }
      ],
      "source": [
        "# initialize list of lists\n",
        "per_missing = count/tweets_df.shape[0]\n",
        "per_found = (tweets_df.shape[0] - count)/tweets_df.shape[0]\n",
        "data = [[per_missing , per_found]]\n",
        "\n",
        "# Create the pandas DataFrame\n",
        "pie_df = pd.DataFrame(data, columns=['Missing', 'Found'])\n",
        "missing_df = pd.DataFrame(missing_dict.items(), columns=['Missing word', 'count'])\n",
        "missing_df = missing_df.sort_values(by='count')\n",
        "\n",
        "# print dataframe.\n",
        "pie_df = pie_df.melt([], var_name='status', value_name='percentage')\n",
        "base = alt.Chart(pie_df).encode(\n",
        "    theta=alt.Theta(\"percentage:Q\").stack(True),\n",
        "    )\n",
        "\n",
        "pie_chart = base.mark_arc().encode(\n",
        "    color=alt.Color(\"status:N\"),\n",
        "    )\n",
        "\n",
        "pie_text = base.mark_text(radius=60, size=20, color='black').encode(\n",
        "    text=\"percentage:Q\"\n",
        "    )\n",
        "\n",
        "\n",
        "\n",
        "pie_chart + pie_text"
      ]
    },
    {
      "cell_type": "markdown",
      "id": "64b0da80",
      "metadata": {
        "id": "64b0da80"
      },
      "source": [
        "Is the keyword already part of the text field? The data analyis above shows that 20% of the entries are not. Some of those missing keywords, such as airplane20%accident have close 100% correrlation with a label of 1. Therefore we should insert those keywords into the text taking care not to insert if its already in the text."
      ]
    },
    {
      "cell_type": "markdown",
      "id": "313211a2",
      "metadata": {
        "id": "313211a2"
      },
      "source": [
        "A similar analysis was conducted with the location field. The bar graph below shows all the rows of data with a location field populated and the distribution of emergency tweets to non emergency tweets. Just because location is identified for that tweet it does not always mean that the tweet is indicating some sort of emergency or disaster. One example of this is, some tweets have #blacklivesmatter as their location, which is not an actual location but an emphasis to the point of the tweet. Therefore, locations are used for uncontrolled reasons and not always for tagging a physical location."
      ]
    },
    {
      "cell_type": "markdown",
      "source": [
        "##Tweets that have a Location Identified:"
      ],
      "metadata": {
        "id": "_iKF0IJO9fAd"
      },
      "id": "_iKF0IJO9fAd"
    },
    {
      "cell_type": "code",
      "execution_count": null,
      "id": "e64a8adb",
      "metadata": {
        "id": "e64a8adb",
        "outputId": "4a6a60ed-dbd9-42e1-a54c-51d25f436b69",
        "colab": {
          "base_uri": "https://localhost:8080/",
          "height": 407
        }
      },
      "outputs": [
        {
          "output_type": "execute_result",
          "data": {
            "text/plain": [
              "Text(0.5, 1.0, 'Count of False Disaster (0) vs True Disaster(1) ')"
            ]
          },
          "metadata": {},
          "execution_count": 21
        },
        {
          "output_type": "display_data",
          "data": {
            "text/plain": [
              "<Figure size 500x400 with 1 Axes>"
            ],
            "image/png": "[encoded data removed]"
          },
          "metadata": {}
        }
      ],
      "source": [
        "barplot2 = tweets_df[tweets_df['HasLocation']=='Yes']['target'].value_counts()\n",
        "barplot2.plot(kind = 'bar', figsize=(5,4), color = [ 'red', 'steelblue'])\n",
        "plt.title(\"Count of False Disaster (0) vs True Disaster(1) \")"
      ]
    },
    {
      "cell_type": "markdown",
      "id": "1ffc12c1",
      "metadata": {
        "id": "1ffc12c1"
      },
      "source": [
        "## Location and News"
      ]
    },
    {
      "cell_type": "markdown",
      "id": "c490c881",
      "metadata": {
        "id": "c490c881"
      },
      "source": [
        "We suspect that if tweet references the news and the user also tags the tweet with a location then its more likely to be a true disaster. The following bar plot explores it."
      ]
    },
    {
      "cell_type": "code",
      "execution_count": null,
      "id": "74569373",
      "metadata": {
        "id": "74569373",
        "outputId": "9234d16e-f1b1-47df-cc00-12dc9fbb0f96",
        "colab": {
          "base_uri": "https://localhost:8080/"
        }
      },
      "outputs": [
        {
          "output_type": "stream",
          "name": "stderr",
          "text": [
            "<ipython-input-22-1a516ec2345e>:17: SettingWithCopyWarning: \n",
            "A value is trying to be set on a copy of a slice from a DataFrame\n",
            "\n",
            "See the caveats in the documentation: https://pandas.pydata.org/pandas-docs/stable/user_guide/indexing.html#returning-a-view-versus-a-copy\n",
            "  source['comma'][i] = 1\n"
          ]
        },
        {
          "output_type": "stream",
          "name": "stdout",
          "text": [
            "\n",
            "--- 0.49833202362060547 seconds ---\n"
          ]
        }
      ],
      "source": [
        "#building the dataframe to identify if tweet has location and news\n",
        "lkwords = tweets_df[tweets_df['HasLocation']=='Yes'].copy(deep=True)\n",
        "lkwords.reset_index(inplace = True)\n",
        "source = lkwords\n",
        "word1 = \"news\"\n",
        "\n",
        "\n",
        "start_time = time.time()\n",
        "source['comma']=0\n",
        "count = 0\n",
        "for i in range(source.shape[0]):\n",
        "    mystring = source.iloc[i]['text']\n",
        "    #word=\"like a\" #metaphorical word\n",
        "    #print(word)\n",
        "    if isinstance(mystring, str):\n",
        "        if word1 in mystring:\n",
        "            source['comma'][i] = 1\n",
        "            count+=1\n",
        "            #print(i)\n",
        "    #print('percent complete: %1.4f'%(i/(source.shape[0] )), end =\"\\r\", flush=True)\n",
        "\n",
        "\n",
        "\n",
        "print(\"\\n--- %s seconds ---\" % (time.time() - start_time))\n"
      ]
    },
    {
      "cell_type": "code",
      "execution_count": null,
      "id": "fe609701",
      "metadata": {
        "id": "fe609701",
        "outputId": "7a457060-8a5b-4206-99dd-743bd61a2d76",
        "colab": {
          "base_uri": "https://localhost:8080/",
          "height": 407
        }
      },
      "outputs": [
        {
          "output_type": "execute_result",
          "data": {
            "text/plain": [
              "Text(0.5, 1.0, 'Tweets with News and Location')"
            ]
          },
          "metadata": {},
          "execution_count": 23
        },
        {
          "output_type": "display_data",
          "data": {
            "text/plain": [
              "<Figure size 500x400 with 1 Axes>"
            ],
            "image/png": "[encoded data removed]"
          },
          "metadata": {}
        }
      ],
      "source": [
        "\n",
        "\n",
        "title= \"Tweets with News and Location\"\n",
        "barplot2 = source[source['comma']==1]['target'].value_counts()\n",
        "barplot2.plot(kind = 'bar', figsize=(5,4), color = ['steelblue', 'red'])\n",
        "plt.title(title)"
      ]
    },
    {
      "cell_type": "code",
      "source": [
        "#use the following to further clean text\n",
        "puncts = [',', '.', '\"', ':', ')', '(', '-', '!', '?', '|', ';', \"'\", '$', '&', '/', '[', ']', '>', '%', '=', '#', '*',\n",
        "          '+', '\\\\', '•', '~', '@', '£',\n",
        "          '·', '_', '{', '}', '©', '^', '®', '`', '<', '→', '°', '€', '™', '›', '♥', '←', '×', '§', '″', '′', 'Â', '█',\n",
        "          '½', 'à', '…',\n",
        "          '“', '★', '”', '–', '●', 'â', '►', '−', '¢', '²', '¬', '░', '¶', '↑', '±', '¿', '▾', '═', '¦', '║', '―', '¥',\n",
        "          '▓', '—', '‹', '─',\n",
        "          '▒', '：', '¼', '⊕', '▼', '▪', '†', '■', '’', '▀', '¨', '▄', '♫', '☆', 'é', '¯', '♦', '¤', '▲', 'è', '¸', '¾',\n",
        "          'Ã', '⋅', '‘', '∞',\n",
        "          '∙', '）', '↓', '、', '│', '（', '»', '，', '♪', '╩', '╚', '³', '・', '╦', '╣', '╔', '╗', '▬', '❤', 'ï', 'Ø', '¹',\n",
        "          '≤', '‡', '√', '..', '...', '…']"
      ],
      "metadata": {
        "id": "5CPDxfXOofSs"
      },
      "id": "5CPDxfXOofSs",
      "execution_count": null,
      "outputs": []
    },
    {
      "cell_type": "markdown",
      "id": "eb8d75d5",
      "metadata": {
        "id": "eb8d75d5"
      },
      "source": [
        "Clearly, the above the distribution is not even when considering this subset. For our model we should not discard the tag location of a tweet, even though it may not be a real location."
      ]
    },
    {
      "cell_type": "markdown",
      "id": "42e494c3",
      "metadata": {
        "id": "42e494c3"
      },
      "source": [
        "### Check for metaphorical and entertainment words"
      ]
    },
    {
      "cell_type": "code",
      "source": [],
      "metadata": {
        "id": "zxIdWzuVo4vk"
      },
      "id": "zxIdWzuVo4vk",
      "execution_count": null,
      "outputs": []
    },
    {
      "cell_type": "markdown",
      "source": [
        "##More Words\n",
        "words from:\n",
        "https://thecontentauthority.com/blog/words-related-to-sports-with-meaning#:~:text=Definitions%20For%20Our%20List%20Of%20Words%20Related%20To,7%20Swimming%20...%208%20Golf%20...%20More%20items\n",
        "\n",
        "https://www.britannica.com/dictionary/eb/3000-words/topic/american-sports-vocabulary-english/3\n",
        "\n",
        "https://relatedwords.io/entertainment\n",
        "\n",
        "https://relatedwords.io/sports\n",
        "\n",
        "https://relatedwords.io/accident\n",
        "\n",
        "https://relatedwords.io/disaster\n",
        "\n",
        "\n",
        "\n",
        "\n"
      ],
      "metadata": {
        "id": "X_Mo6Razo-n0"
      },
      "id": "X_Mo6Razo-n0"
    },
    {
      "cell_type": "code",
      "source": [
        "# Modify this path to where you saved the Shakespear data in your Drive\n",
        "text_file1 = './word_salads/ent_list1.txt'\n",
        "text_file2 = './word_salads/disaster_list1.txt'\n",
        "text_file3 = './word_salads/accident_list1.txt'\n",
        "text_file4 = './word_salads/sports_list1.txt'\n",
        "text_file5 = './word_salads/sports_list2.txt'\n",
        "\n",
        "word_list =[]\n",
        "lines =[]\n",
        "\n",
        "with open(text_file1, encoding='ISO-8859-1') as f:\n",
        "    word_list = f.read().split('\\n')\n",
        "\n",
        "\n",
        "\n",
        "with open(text_file4, encoding='ISO-8859-1') as f:\n",
        "    lines = f.read().split('\\n')\n",
        "\n",
        "word_list.extend(lines)\n",
        "lines =[]\n",
        "\n",
        "with open(text_file5, encoding='ISO-8859-1') as f:\n",
        "    lines = f.read().split('\\n')\n",
        "\n",
        "word_list.extend(lines)\n",
        "lines =[]\n",
        "\n",
        "# Convert all words in word_list to lowercase\n",
        "word_list = [word.lower() for word in word_list]\n"
      ],
      "metadata": {
        "id": "vaXHxUcepFJ8"
      },
      "id": "vaXHxUcepFJ8",
      "execution_count": null,
      "outputs": []
    },
    {
      "cell_type": "code",
      "source": [
        "word_list[100:120], len(word_list)"
      ],
      "metadata": {
        "colab": {
          "base_uri": "https://localhost:8080/"
        },
        "id": "knxaUdSxvzHS",
        "outputId": "b8487e5f-443e-4a39-a03c-2f722002c8ce"
      },
      "id": "knxaUdSxvzHS",
      "execution_count": null,
      "outputs": [
        {
          "output_type": "execute_result",
          "data": {
            "text/plain": [
              "(['merchandising',\n",
              "  'scheherazade',\n",
              "  'curiosity',\n",
              "  'happiness',\n",
              "  'epic',\n",
              "  'audience',\n",
              "  'commentary',\n",
              "  'meme',\n",
              "  'multiplatform',\n",
              "  'poker',\n",
              "  'showbiz',\n",
              "  'escape',\n",
              "  'bars',\n",
              "  'opera',\n",
              "  'performance poetry',\n",
              "  'audiobook',\n",
              "  'camping',\n",
              "  'running',\n",
              "  'fraxinus',\n",
              "  'carnival'],\n",
              " 1273)"
            ]
          },
          "metadata": {},
          "execution_count": 122
        }
      ]
    },
    {
      "cell_type": "markdown",
      "id": "b70046a7",
      "metadata": {
        "id": "b70046a7"
      },
      "source": [
        "The results below show that metaphorical and entertainment words do have a strong tendency towards the false label. These are words that would normally be used in conjunction with the description of a disaster: for example: \"Today he played football like a hurricane\". Tweets that contain such words have a higher percentage of being labeld false. Therefore we should deploy a model that will detect a combination of words (where order matters like in a permutation) in subsets of the text; group of words that convert a phrase into a metaphore."
      ]
    },
    {
      "cell_type": "code",
      "source": [
        "import string\n",
        "mwords = tweets_df.copy(deep=True)\n",
        "mwords.reset_index(inplace = True)\n",
        "start_time = time.time()\n",
        "mwords['non-disaster-marker'] = 0\n",
        "count = 0\n",
        "found_words = []\n",
        "found_indices = []\n",
        "#word_list =['may', 'disaster', 'music', 'shelter']\n",
        "\n",
        "for i in range(mwords.shape[0]):\n",
        "#for i in range(4):\n",
        "  check_txt = mwords.iloc[i]['text']\n",
        "  check_txt = check_txt.lower()\n",
        "  check_txt = check_txt.translate(str.maketrans('', '', string.punctuation))\n",
        "\n",
        "  if isinstance(check_txt, str):\n",
        "      # Split the check_txt into words\n",
        "      words_in_txt = check_txt.split()\n",
        "      #print(\"check_txt: \", check_txt)\n",
        "      #print('words_in_text: ', words_in_txt)\n",
        "      for word in word_list:\n",
        "          # Skip if word is an empty string\n",
        "          if word.strip() == '':\n",
        "            #print('we continue ', i)\n",
        "            continue\n",
        "\n",
        "          # Split the word into subwords\n",
        "          subwords = word.split()\n",
        "          #print('subwords: ',subwords)\n",
        "          # Check if all subwords are in the list of words in check_txt\n",
        "          if all(subword in words_in_txt for subword in subwords):\n",
        "              #print('word found: ', word)\n",
        "              #print('subwords: ', subwords)\n",
        "              found_words.append(word)\n",
        "              found_indices.append(word_list.index(word))\n",
        "              mwords['non-disaster-marker'][i] = 1\n",
        "              count += 1\n",
        "print(\"words found: \", count)\n",
        "#print(\"found words: \", found_words)\n",
        "#print(\"found indices: \", found_indices)"
      ],
      "metadata": {
        "colab": {
          "base_uri": "https://localhost:8080/"
        },
        "id": "6hzJwHLPA8hz",
        "outputId": "c9d639b9-d1a4-41e5-89c6-f7159882198c"
      },
      "id": "6hzJwHLPA8hz",
      "execution_count": null,
      "outputs": [
        {
          "output_type": "stream",
          "name": "stderr",
          "text": [
            "<ipython-input-158-e424724e633e>:37: SettingWithCopyWarning: \n",
            "A value is trying to be set on a copy of a slice from a DataFrame\n",
            "\n",
            "See the caveats in the documentation: https://pandas.pydata.org/pandas-docs/stable/user_guide/indexing.html#returning-a-view-versus-a-copy\n",
            "  mwords['non-disaster-marker'][i] = 1\n"
          ]
        },
        {
          "output_type": "stream",
          "name": "stdout",
          "text": [
            "words found:  6832\n"
          ]
        }
      ]
    },
    {
      "cell_type": "code",
      "execution_count": null,
      "id": "73ff1c5d",
      "metadata": {
        "id": "73ff1c5d",
        "outputId": "b501dabf-2972-4298-e0c9-e7f468f681ed",
        "colab": {
          "base_uri": "https://localhost:8080/",
          "height": 407
        }
      },
      "outputs": [
        {
          "output_type": "execute_result",
          "data": {
            "text/plain": [
              "Text(0.5, 1.0, 'Tweets with Words Associated with Entertainment')"
            ]
          },
          "metadata": {},
          "execution_count": 159
        },
        {
          "output_type": "display_data",
          "data": {
            "text/plain": [
              "<Figure size 500x400 with 1 Axes>"
            ],
            "image/png": "[encoded data removed]"
          },
          "metadata": {}
        }
      ],
      "source": [
        "title=\"Tweets with Words Associated with Entertainment\"\n",
        "barplot2 = mwords[mwords['non-disaster-marker']==1]['target'].value_counts()\n",
        "barplot2.plot(kind = 'bar', figsize=(5,4), color = ['red', 'steelblue'])\n",
        "plt.title(title)"
      ]
    },
    {
      "cell_type": "markdown",
      "source": [
        "Checking if the presence of the word Disaster is indicative of a True Label:"
      ],
      "metadata": {
        "id": "O_qblILhHFhK"
      },
      "id": "O_qblILhHFhK"
    },
    {
      "cell_type": "code",
      "source": [
        "# Modify this path\n",
        "\n",
        "text_file2 = './word_salads/disaster_list1.txt'\n",
        "text_file3 = './word_salads/accident_list1.txt'\n",
        "\n",
        "\n",
        "disaster_list =[]\n",
        "lines =[]\n",
        "\n",
        "with open(text_file2, encoding='ISO-8859-1') as f:\n",
        "    disaster_list = f.read().split('\\n')\n",
        "\n",
        "\n",
        "\n",
        "#with open(text_file3, encoding='ISO-8859-1') as f:\n",
        "#    lines = f.read().split('\\n')\n",
        "\n",
        "disaster_list.extend(lines)\n",
        "\n",
        "\n",
        "# Convert all words in disaster_list to lowercase\n",
        "disaster_list = [word.lower() for word in disaster_list]\n"
      ],
      "metadata": {
        "id": "XzNhmuF_HK_o"
      },
      "id": "XzNhmuF_HK_o",
      "execution_count": null,
      "outputs": []
    },
    {
      "cell_type": "code",
      "source": [
        "disaster_list[0:20]"
      ],
      "metadata": {
        "colab": {
          "base_uri": "https://localhost:8080/"
        },
        "id": "tNh9V3YxHdMf",
        "outputId": "3442766b-399e-45fa-fe9f-72db1b549417"
      },
      "id": "tNh9V3YxHdMf",
      "execution_count": null,
      "outputs": [
        {
          "output_type": "execute_result",
          "data": {
            "text/plain": [
              "['emergency',\n",
              " 'tragedy',\n",
              " 'catastrophe',\n",
              " 'tsunami',\n",
              " 'earthquake',\n",
              " 'crisis',\n",
              " 'devastation',\n",
              " 'accident',\n",
              " 'famine',\n",
              " 'hurricane',\n",
              " 'calamity',\n",
              " 'destruction',\n",
              " 'catastrophic',\n",
              " 'flood',\n",
              " 'quake',\n",
              " 'visitation',\n",
              " 'hardship',\n",
              " 'meltdown',\n",
              " 'damage',\n",
              " 'cataclysm']"
            ]
          },
          "metadata": {},
          "execution_count": 169
        }
      ]
    },
    {
      "cell_type": "code",
      "source": [
        "import string\n",
        "mwords = tweets_df.copy(deep=True)\n",
        "mwords.reset_index(inplace = True)\n",
        "start_time = time.time()\n",
        "mwords['disaster-marker'] = 0\n",
        "count = 0\n",
        "found_words = []\n",
        "found_indices = []\n",
        "\n",
        "\n",
        "for i in range(mwords.shape[0]):\n",
        "#for i in range(4):\n",
        "  check_txt = mwords.iloc[i]['text']\n",
        "  check_txt = check_txt.lower()\n",
        "  check_txt = check_txt.translate(str.maketrans('', '', string.punctuation))\n",
        "\n",
        "  if isinstance(check_txt, str):\n",
        "      # Split the check_txt into words\n",
        "      words_in_txt = check_txt.split()\n",
        "      #print(\"check_txt: \", check_txt)\n",
        "      #print('words_in_text: ', words_in_txt)\n",
        "      for word in disaster_list:\n",
        "          # Skip if word is an empty string\n",
        "          if word.strip() == '':\n",
        "            #print('we continue ', i)\n",
        "            continue\n",
        "\n",
        "          # Split the word into subwords\n",
        "          subwords = word.split()\n",
        "          #print('subwords: ',subwords)\n",
        "          # Check if all subwords are in the list of words in check_txt\n",
        "          if all(subword in words_in_txt for subword in subwords):\n",
        "              #print('word found: ', word)\n",
        "              #print('subwords: ', subwords)\n",
        "              found_words.append(word)\n",
        "              found_indices.append(disaster_list.index(word))\n",
        "              mwords['disaster-marker'][i] = 1\n",
        "              count += 1\n",
        "print(\"words found: \", count)\n",
        "#print(\"found words: \", found_words)\n",
        "#print(\"found indices: \", found_indices)"
      ],
      "metadata": {
        "colab": {
          "base_uri": "https://localhost:8080/"
        },
        "id": "JyA6BK70HkuN",
        "outputId": "bd416a8a-5fe7-4ed3-e5db-f28a675dacf1"
      },
      "id": "JyA6BK70HkuN",
      "execution_count": null,
      "outputs": [
        {
          "output_type": "stream",
          "name": "stderr",
          "text": [
            "<ipython-input-170-9c34854dbac7>:37: SettingWithCopyWarning: \n",
            "A value is trying to be set on a copy of a slice from a DataFrame\n",
            "\n",
            "See the caveats in the documentation: https://pandas.pydata.org/pandas-docs/stable/user_guide/indexing.html#returning-a-view-versus-a-copy\n",
            "  mwords['disaster-marker'][i] = 1\n"
          ]
        },
        {
          "output_type": "stream",
          "name": "stdout",
          "text": [
            "words found:  8059\n"
          ]
        }
      ]
    },
    {
      "cell_type": "code",
      "source": [
        "title=\"Tweets with Words Associated with Disaster\"\n",
        "barplot2 = mwords[mwords['disaster-marker']==1]['target'].value_counts()\n",
        "barplot2.plot(kind = 'bar', figsize=(5,4), color = ['red', 'steelblue'])\n",
        "plt.title(title)"
      ],
      "metadata": {
        "colab": {
          "base_uri": "https://localhost:8080/",
          "height": 407
        },
        "id": "_XQr0YTFISoO",
        "outputId": "b472e5fe-aa77-434e-b959-9449d1682687"
      },
      "id": "_XQr0YTFISoO",
      "execution_count": null,
      "outputs": [
        {
          "output_type": "execute_result",
          "data": {
            "text/plain": [
              "Text(0.5, 1.0, 'Tweets with Words Associated with Disaster')"
            ]
          },
          "metadata": {},
          "execution_count": 172
        },
        {
          "output_type": "display_data",
          "data": {
            "text/plain": [
              "<Figure size 500x400 with 1 Axes>"
            ],
            "image/png": "[encoded data removed]"
          },
          "metadata": {}
        }
      ]
    },
    {
      "cell_type": "markdown",
      "id": "4137024d",
      "metadata": {
        "id": "4137024d"
      },
      "source": [
        "### Checking if the presence of a Hyperlink URL is indicative of a real disaster"
      ]
    },
    {
      "cell_type": "markdown",
      "id": "ad833d29",
      "metadata": {
        "id": "ad833d29"
      },
      "source": [
        "The results show that the presence of a URL in the tweet is equally distributed between True and False"
      ]
    },
    {
      "cell_type": "code",
      "execution_count": null,
      "id": "397345ed",
      "metadata": {
        "id": "397345ed",
        "colab": {
          "base_uri": "https://localhost:8080/"
        },
        "outputId": "6ea4d95f-f268-4e5e-f18d-566aeb7602d8"
      },
      "outputs": [
        {
          "output_type": "stream",
          "name": "stderr",
          "text": [
            "<ipython-input-173-f9f48d750851>:15: SettingWithCopyWarning: \n",
            "A value is trying to be set on a copy of a slice from a DataFrame\n",
            "\n",
            "See the caveats in the documentation: https://pandas.pydata.org/pandas-docs/stable/user_guide/indexing.html#returning-a-view-versus-a-copy\n",
            "  uwords['comma'][i] = 1\n"
          ]
        },
        {
          "output_type": "stream",
          "name": "stdout",
          "text": [
            "\n",
            "--- 2.1638877391815186 seconds ---\n"
          ]
        }
      ],
      "source": [
        "uwords = tweets_df.copy(deep=True)\n",
        "uwords.reset_index(inplace = True)\n",
        "source = uwords\n",
        "word1 = \"http\"\n",
        "\n",
        "start_time = time.time()\n",
        "source['comma']=0\n",
        "count = 0\n",
        "for i in range(source.shape[0]):\n",
        "    mystring = source.iloc[i]['text']\n",
        "    #word=\"like a\" #metaphorical word\n",
        "    #print(word)\n",
        "    if isinstance(mystring, str):\n",
        "        if word1 in mystring:\n",
        "            uwords['comma'][i] = 1\n",
        "            count+=1\n",
        "            #print(i)\n",
        "    #print('percent complete: %1.4f'%(i/(uwords.shape[0] )), end =\"\\r\", flush=True)\n",
        "\n",
        "\n",
        "print(\"\\n--- %s seconds ---\" % (time.time() - start_time))\n"
      ]
    },
    {
      "cell_type": "code",
      "execution_count": null,
      "id": "3bfe6bed",
      "metadata": {
        "id": "3bfe6bed",
        "colab": {
          "base_uri": "https://localhost:8080/",
          "height": 407
        },
        "outputId": "7f327b93-eaf1-4a97-b585-b1fa4812bfdf"
      },
      "outputs": [
        {
          "output_type": "execute_result",
          "data": {
            "text/plain": [
              "Text(0.5, 1.0, 'Tweets that Contain a URL')"
            ]
          },
          "metadata": {},
          "execution_count": 174
        },
        {
          "output_type": "display_data",
          "data": {
            "text/plain": [
              "<Figure size 500x400 with 1 Axes>"
            ],
            "image/png": "[encoded data removed]"
          },
          "metadata": {}
        }
      ],
      "source": [
        "title = \"Tweets that Contain a URL\"\n",
        "barplot2 = source[source['comma']==1]['target'].value_counts()\n",
        "barplot2.plot(kind = 'bar', figsize=(5,4), color = ['steelblue', 'red'])\n",
        "plt.title(title)"
      ]
    },
    {
      "cell_type": "markdown",
      "id": "2cb56622",
      "metadata": {
        "id": "2cb56622"
      },
      "source": [
        "### News"
      ]
    },
    {
      "cell_type": "markdown",
      "id": "cb8784db",
      "metadata": {
        "id": "cb8784db"
      },
      "source": [
        "If a user referenes the news in the tweet, this may be indicative that a real disaster is happening."
      ]
    },
    {
      "cell_type": "code",
      "execution_count": null,
      "id": "1f41d7e2",
      "metadata": {
        "id": "1f41d7e2"
      },
      "outputs": [],
      "source": [
        "nwords = tweets_df.copy(deep=True)\n",
        "nwords.reset_index(inplace = True)"
      ]
    },
    {
      "cell_type": "code",
      "execution_count": null,
      "id": "2fbc031b",
      "metadata": {
        "id": "2fbc031b",
        "outputId": "6841b222-c465-4090-b9af-bb0ebdbb059e",
        "colab": {
          "base_uri": "https://localhost:8080/"
        }
      },
      "outputs": [
        {
          "output_type": "execute_result",
          "data": {
            "text/plain": [
              "(7613, 8)"
            ]
          },
          "metadata": {},
          "execution_count": 152
        }
      ],
      "source": [
        "source = nwords\n",
        "source.shape"
      ]
    },
    {
      "cell_type": "code",
      "execution_count": null,
      "id": "3a7961a0",
      "metadata": {
        "id": "3a7961a0",
        "outputId": "36d7d9f4-208e-49df-f824-004f07d50397",
        "colab": {
          "base_uri": "https://localhost:8080/"
        }
      },
      "outputs": [
        {
          "output_type": "stream",
          "name": "stdout",
          "text": []
        },
        {
          "output_type": "stream",
          "name": "stderr",
          "text": [
            "<ipython-input-175-021dcc77c24a>:20: SettingWithCopyWarning: \n",
            "A value is trying to be set on a copy of a slice from a DataFrame\n",
            "\n",
            "See the caveats in the documentation: https://pandas.pydata.org/pandas-docs/stable/user_guide/indexing.html#returning-a-view-versus-a-copy\n",
            "  source['comma'][i] = 1\n"
          ]
        },
        {
          "output_type": "stream",
          "name": "stdout",
          "text": [
            "\n",
            "--- 14.128360986709595 seconds ---\n"
          ]
        }
      ],
      "source": [
        "source = nwords\n",
        "word1 = \"news\"\n",
        "\n",
        "start_time = time.time()\n",
        "source['comma']=0\n",
        "count = 0\n",
        "for i in range(source.shape[0]):\n",
        "    mystring = source.iloc[i]['text']\n",
        "    #word=\"like a\" #metaphorical word\n",
        "    #print(word)\n",
        "    if isinstance(mystring, str):\n",
        "        if word1 in mystring:\n",
        "            source['comma'][i] = 1\n",
        "            count+=1\n",
        "            #print(i)\n",
        "    print('percent complete: %1.4f'%(i/(source.shape[0] )), end =\"\\r\", flush=True)\n",
        "\n",
        "\n",
        "\n",
        "print(\"\\n--- %s seconds ---\" % (time.time() - start_time))\n"
      ]
    },
    {
      "cell_type": "code",
      "execution_count": null,
      "id": "098cf3fc",
      "metadata": {
        "id": "098cf3fc",
        "outputId": "00024024-11c0-409b-8d96-9947e682a12b"
      },
      "outputs": [
        {
          "name": "stdout",
          "output_type": "stream",
          "text": [
            "1.7207408380401945\n"
          ]
        }
      ],
      "source": [
        "print(100*count/source.shape[0])\n"
      ]
    },
    {
      "cell_type": "code",
      "execution_count": null,
      "id": "19929b2e",
      "metadata": {
        "id": "19929b2e",
        "outputId": "b427771b-e0c1-4237-a468-8e33db3f0dd4",
        "colab": {
          "base_uri": "https://localhost:8080/",
          "height": 715
        }
      },
      "outputs": [
        {
          "output_type": "execute_result",
          "data": {
            "text/plain": [
              "Text(0.5, 1.0, \"Tweets with the word News', Count of Actual emergency Tweets(1) vs Not Actual emergency Tweets (0)\")"
            ]
          },
          "metadata": {},
          "execution_count": 177
        },
        {
          "output_type": "display_data",
          "data": {
            "text/plain": [
              "<Figure size 1000x800 with 1 Axes>"
            ],
            "image/png": "[encoded data removed]"
          },
          "metadata": {}
        }
      ],
      "source": [
        "\n",
        "barplot2 = source[source['comma']==1]['target'].value_counts()\n",
        "barplot2.plot(kind = 'bar', figsize=(10,8), color = ['steelblue', 'red'])\n",
        "plt.title(\"Tweets with the word News', Count of Actual emergency Tweets(1) vs Not Actual emergency Tweets (0)\")"
      ]
    },
    {
      "cell_type": "markdown",
      "id": "71841ace",
      "metadata": {
        "id": "71841ace"
      },
      "source": [
        "### News and URL together"
      ]
    },
    {
      "cell_type": "markdown",
      "id": "b0d6daba",
      "metadata": {
        "id": "b0d6daba"
      },
      "source": [
        "The presence of the word News and a URL in the text is a stronng indication that the label is True"
      ]
    },
    {
      "cell_type": "code",
      "execution_count": null,
      "id": "9ac09975",
      "metadata": {
        "id": "9ac09975"
      },
      "outputs": [],
      "source": [
        "nwords = tweets_df.copy(deep=True)\n",
        "nwords.reset_index(inplace = True)"
      ]
    },
    {
      "cell_type": "code",
      "execution_count": null,
      "id": "24fc0cd4",
      "metadata": {
        "id": "24fc0cd4",
        "outputId": "1344b1c1-7f88-4b8c-da51-3e94d32663f8",
        "colab": {
          "base_uri": "https://localhost:8080/"
        }
      },
      "outputs": [
        {
          "output_type": "stream",
          "name": "stdout",
          "text": []
        },
        {
          "output_type": "stream",
          "name": "stderr",
          "text": [
            "<ipython-input-179-bc097d047135>:14: SettingWithCopyWarning: \n",
            "A value is trying to be set on a copy of a slice from a DataFrame\n",
            "\n",
            "See the caveats in the documentation: https://pandas.pydata.org/pandas-docs/stable/user_guide/indexing.html#returning-a-view-versus-a-copy\n",
            "  source['comma'][i] = 1\n"
          ]
        },
        {
          "output_type": "stream",
          "name": "stdout",
          "text": [
            "\n",
            "--- 14.596794605255127 seconds ---\n"
          ]
        }
      ],
      "source": [
        "\n",
        "source = nwords\n",
        "word1 = \"news\"\n",
        "word2 = \"http\"\n",
        "\n",
        "start_time = time.time()\n",
        "source['comma']=0\n",
        "count = 0\n",
        "for i in range(source.shape[0]):\n",
        "    mystring = source.iloc[i]['text']\n",
        "    #word=\"like a\" #metaphorical word\n",
        "    #print(word)\n",
        "    if isinstance(mystring, str):\n",
        "        if word1 in mystring and word2 in mystring:\n",
        "            source['comma'][i] = 1\n",
        "            count+=1\n",
        "            #print(i)\n",
        "    print('percent complete: %1.4f'%(i/(source.shape[0] )), end =\"\\r\", flush=True)\n",
        "\n",
        "\n",
        "\n",
        "print(\"\\n--- %s seconds ---\" % (time.time() - start_time))\n"
      ]
    },
    {
      "cell_type": "code",
      "execution_count": null,
      "id": "7ef4f6c6",
      "metadata": {
        "id": "7ef4f6c6"
      },
      "outputs": [],
      "source": [
        "print(100*count/source.shape[0])"
      ]
    },
    {
      "cell_type": "code",
      "execution_count": null,
      "id": "72ffedc0",
      "metadata": {
        "id": "72ffedc0",
        "outputId": "dc06c017-3fa4-4ce5-a655-b0c40aa84701",
        "colab": {
          "base_uri": "https://localhost:8080/",
          "height": 715
        }
      },
      "outputs": [
        {
          "output_type": "execute_result",
          "data": {
            "text/plain": [
              "Text(0.5, 1.0, 'Tweets with News and URL, Count of Actual emergency Tweets(1) vs Not Actual emergency Tweets (0)')"
            ]
          },
          "metadata": {},
          "execution_count": 181
        },
        {
          "output_type": "display_data",
          "data": {
            "text/plain": [
              "<Figure size 1000x800 with 1 Axes>"
            ],
            "image/png": "[encoded data removed]"
          },
          "metadata": {}
        }
      ],
      "source": [
        "\n",
        "barplot2 = source[source['comma']==1]['target'].value_counts()\n",
        "barplot2.plot(kind = 'bar', figsize=(10,8), color = ['steelblue','red'])\n",
        "plt.title(\"Tweets with News and URL, Count of Actual emergency Tweets(1) vs Not Actual emergency Tweets (0)\")"
      ]
    },
    {
      "cell_type": "markdown",
      "id": "940ae86a",
      "metadata": {
        "id": "940ae86a"
      },
      "source": [
        "### Hashtag"
      ]
    },
    {
      "cell_type": "markdown",
      "id": "4ea19ceb",
      "metadata": {
        "id": "4ea19ceb"
      },
      "source": [
        "A hashtag is not an indicator that the label is True"
      ]
    },
    {
      "cell_type": "code",
      "execution_count": null,
      "id": "6e0d9657",
      "metadata": {
        "id": "6e0d9657"
      },
      "outputs": [],
      "source": [
        "hwords = tweets_df.copy(deep=True)\n",
        "hwords.reset_index(inplace = True)"
      ]
    },
    {
      "cell_type": "code",
      "execution_count": null,
      "id": "6d900431",
      "metadata": {
        "id": "6d900431",
        "colab": {
          "base_uri": "https://localhost:8080/"
        },
        "outputId": "32933a80-9a32-40c5-bfac-e74f4231dd39"
      },
      "outputs": [
        {
          "output_type": "stream",
          "name": "stdout",
          "text": []
        },
        {
          "output_type": "stream",
          "name": "stderr",
          "text": [
            "<ipython-input-183-604cf8d93bff>:14: SettingWithCopyWarning: \n",
            "A value is trying to be set on a copy of a slice from a DataFrame\n",
            "\n",
            "See the caveats in the documentation: https://pandas.pydata.org/pandas-docs/stable/user_guide/indexing.html#returning-a-view-versus-a-copy\n",
            "  source['comma'][i] = 1\n"
          ]
        },
        {
          "output_type": "stream",
          "name": "stdout",
          "text": [
            "\n",
            "--- 14.814090251922607 seconds ---\n"
          ]
        }
      ],
      "source": [
        "\n",
        "source = hwords\n",
        "word1 = \"#\"\n",
        "#word2 = \"http\"\n",
        "\n",
        "start_time = time.time()\n",
        "source['comma']=0\n",
        "count = 0\n",
        "for i in range(source.shape[0]):\n",
        "    mystring = source.iloc[i]['text']\n",
        "    #word=\"like a\" #metaphorical word\n",
        "    #print(word)\n",
        "    if isinstance(mystring, str):\n",
        "        if word1 in mystring:\n",
        "            source['comma'][i] = 1\n",
        "            count+=1\n",
        "            #print(i)\n",
        "    print('percent complete: %1.4f'%(i/(source.shape[0] )), end =\"\\r\", flush=True)\n",
        "\n",
        "\n",
        "\n",
        "print(\"\\n--- %s seconds ---\" % (time.time() - start_time))\n"
      ]
    },
    {
      "cell_type": "code",
      "execution_count": null,
      "id": "a13b2441",
      "metadata": {
        "id": "a13b2441",
        "colab": {
          "base_uri": "https://localhost:8080/"
        },
        "outputId": "0a45d6e1-cd62-49f4-c6e4-108939e9cffc"
      },
      "outputs": [
        {
          "output_type": "stream",
          "name": "stdout",
          "text": [
            "23.13148561670826\n"
          ]
        }
      ],
      "source": [
        "print(100*count/source.shape[0])"
      ]
    },
    {
      "cell_type": "code",
      "execution_count": null,
      "id": "e6703161",
      "metadata": {
        "id": "e6703161",
        "colab": {
          "base_uri": "https://localhost:8080/",
          "height": 715
        },
        "outputId": "d77237a3-2c74-4914-8bfb-7ad9da79205f"
      },
      "outputs": [
        {
          "output_type": "execute_result",
          "data": {
            "text/plain": [
              "Text(0.5, 1.0, \"Tweets with a '#', False Disasters (0) vs True Disasters (1)\")"
            ]
          },
          "metadata": {},
          "execution_count": 188
        },
        {
          "output_type": "display_data",
          "data": {
            "text/plain": [
              "<Figure size 1000x800 with 1 Axes>"
            ],
            "image/png": "[encoded data removed]"
          },
          "metadata": {}
        }
      ],
      "source": [
        "\n",
        "barplot2 = source[source['comma']==1]['target'].value_counts()\n",
        "barplot2.plot(kind = 'bar', figsize=(10,8), color = ['red', 'steelblue'])\n",
        "plt.title(\"Tweets with a '#', False Disasters (0) vs True Disasters (1)\")"
      ]
    },
    {
      "cell_type": "markdown",
      "source": [
        "A hashtag is not an indicator that a label is true"
      ],
      "metadata": {
        "id": "1yQHAuQ6L5IL"
      },
      "id": "1yQHAuQ6L5IL"
    },
    {
      "cell_type": "markdown",
      "id": "f5fa5f8a",
      "metadata": {
        "id": "f5fa5f8a"
      },
      "source": [
        "### Average Sentence Size Per Tweet"
      ]
    },
    {
      "cell_type": "markdown",
      "id": "136a4010",
      "metadata": {
        "id": "136a4010"
      },
      "source": [
        "#### A quick check reveals that the average sentence size is of 15 words for both True and False labels."
      ]
    },
    {
      "cell_type": "markdown",
      "source": [
        "Is there a correlation with sentence size and the label? Lets explore:"
      ],
      "metadata": {
        "id": "tZ3sRCj5MS3q"
      },
      "id": "tZ3sRCj5MS3q"
    },
    {
      "cell_type": "code",
      "source": [
        "import matplotlib.pyplot as plt\n",
        "\n",
        "fig, axs = plt.subplots(1, 2, figsize=(10, 5))\n",
        "\n",
        "for i, target in enumerate([0, 1]):\n",
        "    text_list = tweets_df[tweets_df['target'] == target]['text']\n",
        "    word_list = [len(text.split()) for text in text_list]\n",
        "    word_count = sum(word_list)\n",
        "    average_word_count = word_count / len(text_list)\n",
        "    print(f\"Average word count for target {target}: \", average_word_count)\n",
        "    if i==0:\n",
        "      axs[i].hist(word_list, bins=20, color='red', edgecolor='black')\n",
        "    else:\n",
        "      axs[i].hist(word_list, bins=20, color='steelblue', edgecolor='black')\n",
        "\n",
        "    axs[i].set_title('True Disaster' if target == 1 else 'False Disaster')\n",
        "    axs[i].set_xlabel('Word Count')\n",
        "    axs[i].set_ylabel('Frequency')\n",
        "\n",
        "plt.tight_layout()\n",
        "plt.show()\n"
      ],
      "metadata": {
        "colab": {
          "base_uri": "https://localhost:8080/",
          "height": 536
        },
        "id": "VWWeCeRGMYHk",
        "outputId": "78369666-1a1e-4602-a5ae-494103ce07c0"
      },
      "id": "VWWeCeRGMYHk",
      "execution_count": null,
      "outputs": [
        {
          "output_type": "stream",
          "name": "stdout",
          "text": [
            "Average word count for target 0:  14.704744357438969\n",
            "Average word count for target 1:  15.167532864567411\n"
          ]
        },
        {
          "output_type": "display_data",
          "data": {
            "text/plain": [
              "<Figure size 1000x500 with 2 Axes>"
            ],
            "image/png": "[encoded data removed]"
          },
          "metadata": {}
        }
      ]
    },
    {
      "cell_type": "markdown",
      "source": [
        "###The average sentence size is the same for false vs true labels"
      ],
      "metadata": {
        "id": "Lwgg_mkpOt57"
      },
      "id": "Lwgg_mkpOt57"
    },
    {
      "cell_type": "markdown",
      "source": [
        "#End of Initial Exploratory analysis, next Sentiment Analysis"
      ],
      "metadata": {
        "id": "0xxwvBXx2Dba"
      },
      "id": "0xxwvBXx2Dba"
    }
  ],
  "metadata": {
    "kernelspec": {
      "display_name": "Python 3",
      "name": "python3"
    },
    "language_info": {
      "codemirror_mode": {
        "name": "ipython",
        "version": 3
      },
      "file_extension": ".py",
      "mimetype": "text/x-python",
      "name": "python",
      "nbconvert_exporter": "python",
      "pygments_lexer": "ipython3",
      "version": "3.9.12"
    },
    "colab": {
      "provenance": [],
      "machine_shape": "hm"
    }
  },
  "nbformat": 4,
  "nbformat_minor": 5
}