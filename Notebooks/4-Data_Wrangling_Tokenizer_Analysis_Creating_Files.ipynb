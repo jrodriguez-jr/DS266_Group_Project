{
  "cells": [
    {
      "cell_type": "markdown",
      "metadata": {
        "id": "a934948f7030"
      },
      "source": [
        "# Data Wrangling and Analyzing the Tokenizer\n",
        "This file cleans the data by pre-processing texts and removing noise. Finally it checks the results of Tokenization (with excellent results) and saves the clean text data to a csv."
      ]
    },
    {
      "cell_type": "markdown",
      "metadata": {
        "id": "swymtxpl7W7w"
      },
      "source": [
        "## Setup"
      ]
    },
    {
      "cell_type": "code",
      "source": [
        "\n",
        "# Mount Google Drive\n",
        "from google.colab import drive\n",
        "drive.mount('/content/drive')"
      ],
      "metadata": {
        "colab": {
          "base_uri": "https://localhost:8080/"
        },
        "id": "acgF9rXfaiRP",
        "outputId": "8dc37abc-2f0d-4a06-8516-5aa8f5338625"
      },
      "execution_count": null,
      "outputs": [
        {
          "output_type": "stream",
          "name": "stdout",
          "text": [
            "Drive already mounted at /content/drive; to attempt to forcibly remount, call drive.mount(\"/content/drive\", force_remount=True).\n"
          ]
        }
      ]
    },
    {
      "cell_type": "code",
      "source": [
        "# Navigate to the Directory Containing the CSV File\n",
        "import os\n",
        "os.chdir('/content/drive/My Drive/DS266 Project')"
      ],
      "metadata": {
        "id": "FNO7MPwxarDt"
      },
      "execution_count": null,
      "outputs": []
    },
    {
      "cell_type": "markdown",
      "metadata": {
        "id": "OfV1batAwq9j"
      },
      "source": [
        "Begin by installing [TensorFlow Datasets](https://tensorflow.org/datasets) for loading the dataset and [TensorFlow Text](https://www.tensorflow.org/text) for text preprocessing:"
      ]
    },
    {
      "cell_type": "code",
      "execution_count": null,
      "metadata": {
        "id": "XFG0NDRu5mYQ",
        "colab": {
          "base_uri": "https://localhost:8080/"
        },
        "outputId": "d1017d76-21a8-4616-dfa8-73baf96b56e8"
      },
      "outputs": [
        {
          "output_type": "stream",
          "name": "stdout",
          "text": [
            "Reading package lists... Done\n",
            "Building dependency tree... Done\n",
            "Reading state information... Done\n",
            "Package libcudnn8 is not available, but is referred to by another package.\n",
            "This may mean that the package is missing, has been obsoleted, or\n",
            "is only available from another source\n",
            "\n",
            "\u001b[1;31mE: \u001b[0mVersion '8.1.0.77-1+cuda11.2' for 'libcudnn8' was not found\u001b[0m\n",
            "Requirement already satisfied: protobuf~=3.20.3 in /usr/local/lib/python3.10/dist-packages (3.20.3)\n"
          ]
        }
      ],
      "source": [
        "# Install the most re version of TensorFlow to use the improved\n",
        "# masking support for `tf.keras.layers.MultiHeadAttention`.\n",
        "!apt install --allow-change-held-packages libcudnn8=8.1.0.77-1+cuda11.2\n",
        "!pip uninstall -y -q tensorflow keras tensorflow-estimator tensorflow-text\n",
        "!pip install protobuf~=3.20.3\n",
        "!pip install -q tensorflow_datasets\n",
        "!pip install -q -U tensorflow-text tensorflow"
      ]
    },
    {
      "cell_type": "code",
      "source": [
        "# Install compatible TensorFlow version\n",
        "!pip uninstall tensorflow -y\n",
        "!pip install tensorflow==2.15\n",
        "\n",
        "# Reinstall tf-keras to resolve any potential dependency conflicts\n",
        "!pip uninstall tf-keras -y\n",
        "!pip install tf-keras"
      ],
      "metadata": {
        "id": "sfB0JATpjTEz"
      },
      "execution_count": null,
      "outputs": []
    },
    {
      "cell_type": "markdown",
      "metadata": {
        "id": "0GYpLBSjxJmG"
      },
      "source": [
        "Import the necessary modules:"
      ]
    },
    {
      "cell_type": "code",
      "source": [
        "!pip install tensorflow==2.15"
      ],
      "metadata": {
        "id": "Q-VgaWpbm21T"
      },
      "execution_count": null,
      "outputs": []
    },
    {
      "cell_type": "code",
      "source": [
        "!pip uninstall tensorflow-text -y\n",
        "!pip install tensorflow-text==2.15"
      ],
      "metadata": {
        "id": "KHCOdSJLuYLn"
      },
      "execution_count": null,
      "outputs": []
    },
    {
      "cell_type": "code",
      "execution_count": null,
      "metadata": {
        "id": "JjJJyJTZYebt"
      },
      "outputs": [],
      "source": [
        "import logging\n",
        "import time\n",
        "\n",
        "import numpy as np\n",
        "import matplotlib.pyplot as plt\n",
        "\n",
        "import tensorflow_datasets as tfds\n",
        "import tensorflow as tf\n",
        "\n",
        "import tensorflow_text as text\n",
        "from tensorflow import keras"
      ]
    },
    {
      "cell_type": "markdown",
      "metadata": {
        "id": "Xf_WUi2HLhzf"
      },
      "source": [
        "## Data handling\n",
        "\n"
      ]
    },
    {
      "cell_type": "markdown",
      "metadata": {
        "id": "-cCvXbPkccV1"
      },
      "source": [
        "### Download the dataset"
      ]
    },
    {
      "cell_type": "markdown",
      "metadata": {
        "id": "LTEVgBxklzdq"
      },
      "source": [
        "read the data"
      ]
    },
    {
      "cell_type": "code",
      "source": [
        "# Read the CSV File\n",
        "import pandas as pd\n",
        "\n",
        "#tweets_df1 = pd.read_csv('train.csv')\n",
        "tweets_df = pd.read_csv('train_enhanced.csv').drop_duplicates()\n",
        "\n",
        "tweets_df.shape"
      ],
      "metadata": {
        "colab": {
          "base_uri": "https://localhost:8080/"
        },
        "id": "lw7axoYfayav",
        "outputId": "019aabb8-1d0d-49d9-f33a-781cf90d8011"
      },
      "execution_count": null,
      "outputs": [
        {
          "output_type": "execute_result",
          "data": {
            "text/plain": [
              "(7613, 11)"
            ]
          },
          "metadata": {},
          "execution_count": 139
        }
      ]
    },
    {
      "cell_type": "code",
      "source": [
        "tweets_df.tail(3)"
      ],
      "metadata": {
        "colab": {
          "base_uri": "https://localhost:8080/",
          "height": 195
        },
        "id": "_PaSnnpuvSC5",
        "outputId": "10fed1bb-0bc4-4328-c715-869e18626818"
      },
      "execution_count": null,
      "outputs": [
        {
          "output_type": "execute_result",
          "data": {
            "text/plain": [
              "       index     id keyword location  \\\n",
              "24564   7610  10871     NaN      NaN   \n",
              "24572   7611  10872     NaN      NaN   \n",
              "24580   7612  10873     NaN      NaN   \n",
              "\n",
              "                                                    text  target  \\\n",
              "24564  M1.94 [01:04 UTC]?5km S of Volcano Hawaii. htt...       1   \n",
              "24572  Police investigating after an e-bike collided ...       1   \n",
              "24580  The Latest: More Homes Razed by Northern Calif...       1   \n",
              "\n",
              "                   sentiment                  topic                   irony  \\\n",
              "24564   {'label': 'neutral'}  news_&_social_concern  {'label': 'non_irony'}   \n",
              "24572  {'label': 'negative'}  news_&_social_concern  {'label': 'non_irony'}   \n",
              "24580   {'label': 'neutral'}  news_&_social_concern      {'label': 'irony'}   \n",
              "\n",
              "                 emotion                                       cleaned_text  \n",
              "24564   {'label': 'joy'}  M1.94 [01:04 UTC]?5km S of Volcano Hawaii. htt...  \n",
              "24572  {'label': 'fear'}  Police investigating after an e-bike collided ...  \n",
              "24580  {'label': 'fear'}  The Latest: More Homes Razed by Northern Calif...  "
            ],
            "text/html": [
              "\n",
              "  <div id=\"df-83677b07-847d-415b-893d-9a033787b9bb\" class=\"colab-df-container\">\n",
              "    <div>\n",
              "<style scoped>\n",
              "    .dataframe tbody tr th:only-of-type {\n",
              "        vertical-align: middle;\n",
              "    }\n",
              "\n",
              "    .dataframe tbody tr th {\n",
              "        vertical-align: top;\n",
              "    }\n",
              "\n",
              "    .dataframe thead th {\n",
              "        text-align: right;\n",
              "    }\n",
              "</style>\n",
              "<table border=\"1\" class=\"dataframe\">\n",
              "  <thead>\n",
              "    <tr style=\"text-align: right;\">\n",
              "      <th></th>\n",
              "      <th>index</th>\n",
              "      <th>id</th>\n",
              "      <th>keyword</th>\n",
              "      <th>location</th>\n",
              "      <th>text</th>\n",
              "      <th>target</th>\n",
              "      <th>sentiment</th>\n",
              "      <th>topic</th>\n",
              "      <th>irony</th>\n",
              "      <th>emotion</th>\n",
              "      <th>cleaned_text</th>\n",
              "    </tr>\n",
              "  </thead>\n",
              "  <tbody>\n",
              "    <tr>\n",
              "      <th>24564</th>\n",
              "      <td>7610</td>\n",
              "      <td>10871</td>\n",
              "      <td>NaN</td>\n",
              "      <td>NaN</td>\n",
              "      <td>M1.94 [01:04 UTC]?5km S of Volcano Hawaii. htt...</td>\n",
              "      <td>1</td>\n",
              "      <td>{'label': 'neutral'}</td>\n",
              "      <td>news_&amp;_social_concern</td>\n",
              "      <td>{'label': 'non_irony'}</td>\n",
              "      <td>{'label': 'joy'}</td>\n",
              "      <td>M1.94 [01:04 UTC]?5km S of Volcano Hawaii. htt...</td>\n",
              "    </tr>\n",
              "    <tr>\n",
              "      <th>24572</th>\n",
              "      <td>7611</td>\n",
              "      <td>10872</td>\n",
              "      <td>NaN</td>\n",
              "      <td>NaN</td>\n",
              "      <td>Police investigating after an e-bike collided ...</td>\n",
              "      <td>1</td>\n",
              "      <td>{'label': 'negative'}</td>\n",
              "      <td>news_&amp;_social_concern</td>\n",
              "      <td>{'label': 'non_irony'}</td>\n",
              "      <td>{'label': 'fear'}</td>\n",
              "      <td>Police investigating after an e-bike collided ...</td>\n",
              "    </tr>\n",
              "    <tr>\n",
              "      <th>24580</th>\n",
              "      <td>7612</td>\n",
              "      <td>10873</td>\n",
              "      <td>NaN</td>\n",
              "      <td>NaN</td>\n",
              "      <td>The Latest: More Homes Razed by Northern Calif...</td>\n",
              "      <td>1</td>\n",
              "      <td>{'label': 'neutral'}</td>\n",
              "      <td>news_&amp;_social_concern</td>\n",
              "      <td>{'label': 'irony'}</td>\n",
              "      <td>{'label': 'fear'}</td>\n",
              "      <td>The Latest: More Homes Razed by Northern Calif...</td>\n",
              "    </tr>\n",
              "  </tbody>\n",
              "</table>\n",
              "</div>\n",
              "    <div class=\"colab-df-buttons\">\n",
              "\n",
              "  <div class=\"colab-df-container\">\n",
              "    <button class=\"colab-df-convert\" onclick=\"convertToInteractive('df-83677b07-847d-415b-893d-9a033787b9bb')\"\n",
              "            title=\"Convert this dataframe to an interactive table.\"\n",
              "            style=\"display:none;\">\n",
              "\n",
              "  <svg xmlns=\"http://www.w3.org/2000/svg\" height=\"24px\" viewBox=\"0 -960 960 960\">\n",
              "    <path d=\"M120-120v-720h720v720H120Zm60-500h600v-160H180v160Zm220 220h160v-160H400v160Zm0 220h160v-160H400v160ZM180-400h160v-160H180v160Zm440 0h160v-160H620v160ZM180-180h160v-160H180v160Zm440 0h160v-160H620v160Z\"/>\n",
              "  </svg>\n",
              "    </button>\n",
              "\n",
              "  <style>\n",
              "    .colab-df-container {\n",
              "      display:flex;\n",
              "      gap: 12px;\n",
              "    }\n",
              "\n",
              "    .colab-df-convert {\n",
              "      background-color: #E8F0FE;\n",
              "      border: none;\n",
              "      border-radius: 50%;\n",
              "      cursor: pointer;\n",
              "      display: none;\n",
              "      fill: #1967D2;\n",
              "      height: 32px;\n",
              "      padding: 0 0 0 0;\n",
              "      width: 32px;\n",
              "    }\n",
              "\n",
              "    .colab-df-convert:hover {\n",
              "      background-color: #E2EBFA;\n",
              "      box-shadow: 0px 1px 2px rgba(60, 64, 67, 0.3), 0px 1px 3px 1px rgba(60, 64, 67, 0.15);\n",
              "      fill: #174EA6;\n",
              "    }\n",
              "\n",
              "    .colab-df-buttons div {\n",
              "      margin-bottom: 4px;\n",
              "    }\n",
              "\n",
              "    [theme=dark] .colab-df-convert {\n",
              "      background-color: #3B4455;\n",
              "      fill: #D2E3FC;\n",
              "    }\n",
              "\n",
              "    [theme=dark] .colab-df-convert:hover {\n",
              "      background-color: #434B5C;\n",
              "      box-shadow: 0px 1px 3px 1px rgba(0, 0, 0, 0.15);\n",
              "      filter: drop-shadow(0px 1px 2px rgba(0, 0, 0, 0.3));\n",
              "      fill: #FFFFFF;\n",
              "    }\n",
              "  </style>\n",
              "\n",
              "    <script>\n",
              "      const buttonEl =\n",
              "        document.querySelector('#df-83677b07-847d-415b-893d-9a033787b9bb button.colab-df-convert');\n",
              "      buttonEl.style.display =\n",
              "        google.colab.kernel.accessAllowed ? 'block' : 'none';\n",
              "\n",
              "      async function convertToInteractive(key) {\n",
              "        const element = document.querySelector('#df-83677b07-847d-415b-893d-9a033787b9bb');\n",
              "        const dataTable =\n",
              "          await google.colab.kernel.invokeFunction('convertToInteractive',\n",
              "                                                    [key], {});\n",
              "        if (!dataTable) return;\n",
              "\n",
              "        const docLinkHtml = 'Like what you see? Visit the ' +\n",
              "          '<a target=\"_blank\" href=https://colab.research.google.com/notebooks/data_table.ipynb>data table notebook</a>'\n",
              "          + ' to learn more about interactive tables.';\n",
              "        element.innerHTML = '';\n",
              "        dataTable['output_type'] = 'display_data';\n",
              "        await google.colab.output.renderOutput(dataTable, element);\n",
              "        const docLink = document.createElement('div');\n",
              "        docLink.innerHTML = docLinkHtml;\n",
              "        element.appendChild(docLink);\n",
              "      }\n",
              "    </script>\n",
              "  </div>\n",
              "\n",
              "\n",
              "<div id=\"df-9740796a-ebf5-409b-b22f-87d09650a070\">\n",
              "  <button class=\"colab-df-quickchart\" onclick=\"quickchart('df-9740796a-ebf5-409b-b22f-87d09650a070')\"\n",
              "            title=\"Suggest charts\"\n",
              "            style=\"display:none;\">\n",
              "\n",
              "<svg xmlns=\"http://www.w3.org/2000/svg\" height=\"24px\"viewBox=\"0 0 24 24\"\n",
              "     width=\"24px\">\n",
              "    <g>\n",
              "        <path d=\"M19 3H5c-1.1 0-2 .9-2 2v14c0 1.1.9 2 2 2h14c1.1 0 2-.9 2-2V5c0-1.1-.9-2-2-2zM9 17H7v-7h2v7zm4 0h-2V7h2v10zm4 0h-2v-4h2v4z\"/>\n",
              "    </g>\n",
              "</svg>\n",
              "  </button>\n",
              "\n",
              "<style>\n",
              "  .colab-df-quickchart {\n",
              "      --bg-color: #E8F0FE;\n",
              "      --fill-color: #1967D2;\n",
              "      --hover-bg-color: #E2EBFA;\n",
              "      --hover-fill-color: #174EA6;\n",
              "      --disabled-fill-color: #AAA;\n",
              "      --disabled-bg-color: #DDD;\n",
              "  }\n",
              "\n",
              "  [theme=dark] .colab-df-quickchart {\n",
              "      --bg-color: #3B4455;\n",
              "      --fill-color: #D2E3FC;\n",
              "      --hover-bg-color: #434B5C;\n",
              "      --hover-fill-color: #FFFFFF;\n",
              "      --disabled-bg-color: #3B4455;\n",
              "      --disabled-fill-color: #666;\n",
              "  }\n",
              "\n",
              "  .colab-df-quickchart {\n",
              "    background-color: var(--bg-color);\n",
              "    border: none;\n",
              "    border-radius: 50%;\n",
              "    cursor: pointer;\n",
              "    display: none;\n",
              "    fill: var(--fill-color);\n",
              "    height: 32px;\n",
              "    padding: 0;\n",
              "    width: 32px;\n",
              "  }\n",
              "\n",
              "  .colab-df-quickchart:hover {\n",
              "    background-color: var(--hover-bg-color);\n",
              "    box-shadow: 0 1px 2px rgba(60, 64, 67, 0.3), 0 1px 3px 1px rgba(60, 64, 67, 0.15);\n",
              "    fill: var(--button-hover-fill-color);\n",
              "  }\n",
              "\n",
              "  .colab-df-quickchart-complete:disabled,\n",
              "  .colab-df-quickchart-complete:disabled:hover {\n",
              "    background-color: var(--disabled-bg-color);\n",
              "    fill: var(--disabled-fill-color);\n",
              "    box-shadow: none;\n",
              "  }\n",
              "\n",
              "  .colab-df-spinner {\n",
              "    border: 2px solid var(--fill-color);\n",
              "    border-color: transparent;\n",
              "    border-bottom-color: var(--fill-color);\n",
              "    animation:\n",
              "      spin 1s steps(1) infinite;\n",
              "  }\n",
              "\n",
              "  @keyframes spin {\n",
              "    0% {\n",
              "      border-color: transparent;\n",
              "      border-bottom-color: var(--fill-color);\n",
              "      border-left-color: var(--fill-color);\n",
              "    }\n",
              "    20% {\n",
              "      border-color: transparent;\n",
              "      border-left-color: var(--fill-color);\n",
              "      border-top-color: var(--fill-color);\n",
              "    }\n",
              "    30% {\n",
              "      border-color: transparent;\n",
              "      border-left-color: var(--fill-color);\n",
              "      border-top-color: var(--fill-color);\n",
              "      border-right-color: var(--fill-color);\n",
              "    }\n",
              "    40% {\n",
              "      border-color: transparent;\n",
              "      border-right-color: var(--fill-color);\n",
              "      border-top-color: var(--fill-color);\n",
              "    }\n",
              "    60% {\n",
              "      border-color: transparent;\n",
              "      border-right-color: var(--fill-color);\n",
              "    }\n",
              "    80% {\n",
              "      border-color: transparent;\n",
              "      border-right-color: var(--fill-color);\n",
              "      border-bottom-color: var(--fill-color);\n",
              "    }\n",
              "    90% {\n",
              "      border-color: transparent;\n",
              "      border-bottom-color: var(--fill-color);\n",
              "    }\n",
              "  }\n",
              "</style>\n",
              "\n",
              "  <script>\n",
              "    async function quickchart(key) {\n",
              "      const quickchartButtonEl =\n",
              "        document.querySelector('#' + key + ' button');\n",
              "      quickchartButtonEl.disabled = true;  // To prevent multiple clicks.\n",
              "      quickchartButtonEl.classList.add('colab-df-spinner');\n",
              "      try {\n",
              "        const charts = await google.colab.kernel.invokeFunction(\n",
              "            'suggestCharts', [key], {});\n",
              "      } catch (error) {\n",
              "        console.error('Error during call to suggestCharts:', error);\n",
              "      }\n",
              "      quickchartButtonEl.classList.remove('colab-df-spinner');\n",
              "      quickchartButtonEl.classList.add('colab-df-quickchart-complete');\n",
              "    }\n",
              "    (() => {\n",
              "      let quickchartButtonEl =\n",
              "        document.querySelector('#df-9740796a-ebf5-409b-b22f-87d09650a070 button');\n",
              "      quickchartButtonEl.style.display =\n",
              "        google.colab.kernel.accessAllowed ? 'block' : 'none';\n",
              "    })();\n",
              "  </script>\n",
              "</div>\n",
              "\n",
              "    </div>\n",
              "  </div>\n"
            ],
            "application/vnd.google.colaboratory.intrinsic+json": {
              "type": "dataframe",
              "repr_error": "0"
            }
          },
          "metadata": {},
          "execution_count": 140
        }
      ]
    },
    {
      "cell_type": "markdown",
      "source": [
        "###Data Wrangling"
      ],
      "metadata": {
        "id": "kBN5TDjluQqS"
      }
    },
    {
      "cell_type": "code",
      "source": [
        "#creating training data from trainging data set\n",
        "x_tweets = tweets_df['cleaned_text']\n",
        "x_tweets = x_tweets.to_numpy() #need numpy for training\n",
        "\n",
        "y_tweets = tweets_df['target']\n",
        "y_tweets = y_tweets.to_numpy() #need numpy for training\n",
        "\n",
        "#adding location\n",
        "x_loc = tweets_df['location']\n",
        "\n",
        "#adding keyword\n",
        "x_kword =tweets_df['keyword']\n",
        "\n",
        "#dont forget to shuffle\n"
      ],
      "metadata": {
        "id": "PFTpRZo4ywQR"
      },
      "execution_count": null,
      "outputs": []
    },
    {
      "cell_type": "markdown",
      "source": [
        "sanity checks"
      ],
      "metadata": {
        "id": "5WvE_h8_0Pjx"
      }
    },
    {
      "cell_type": "code",
      "source": [
        "# Sanity Checks:\n",
        "\n",
        "print(x_tweets)\n",
        "print(x_tweets.shape)\n",
        "print(y_tweets)\n",
        "print(y_tweets.shape)\n",
        "print(x_loc)\n",
        "print(x_loc.shape)\n",
        "print(x_kword)\n",
        "print(x_kword.shape)"
      ],
      "metadata": {
        "colab": {
          "base_uri": "https://localhost:8080/"
        },
        "id": "Sl2LoZxo0O_D",
        "outputId": "4c28eb7b-15cf-4734-c7e0-74b9c36e9c9e"
      },
      "execution_count": null,
      "outputs": [
        {
          "output_type": "stream",
          "name": "stdout",
          "text": [
            "['Our Deeds are the Reason of this earthquake May ALLAH Forgive us all negative  news_&_social_concern non_irony optimism'\n",
            " 'Forest fire near La Ronge Sask. Canada neutral  news_&_social_concern non_irony fear'\n",
            " \"All residents asked to 'shelter in place' are being notified by officers. No other evacuation or shelter in place orders are expected neutral  news_&_social_concern non_irony disgust\"\n",
            " ...\n",
            " 'M1.94 [01:04 UTC]?5km S of Volcano Hawaii. http://t.co/zDtoyd8EbJ neutral  news_&_social_concern non_irony joy'\n",
            " 'Police investigating after an e-bike collided with a car in Little Portugal. E-bike rider suffered serious non-life threatening injuries. negative  news_&_social_concern non_irony fear'\n",
            " 'The Latest: More Homes Razed by Northern California Wildfire - ABC News http://t.co/YmY4rSkQ3d neutral  news_&_social_concern irony fear']\n",
            "(7613,)\n",
            "[1 1 1 ... 1 1 1]\n",
            "(7613,)\n",
            "0        NaN\n",
            "1        NaN\n",
            "2        NaN\n",
            "3        NaN\n",
            "4        NaN\n",
            "        ... \n",
            "24555    NaN\n",
            "24556    NaN\n",
            "24564    NaN\n",
            "24572    NaN\n",
            "24580    NaN\n",
            "Name: location, Length: 7613, dtype: object\n",
            "(7613,)\n",
            "0        NaN\n",
            "1        NaN\n",
            "2        NaN\n",
            "3        NaN\n",
            "4        NaN\n",
            "        ... \n",
            "24555    NaN\n",
            "24556    NaN\n",
            "24564    NaN\n",
            "24572    NaN\n",
            "24580    NaN\n",
            "Name: keyword, Length: 7613, dtype: object\n",
            "(7613,)\n"
          ]
        }
      ]
    },
    {
      "cell_type": "markdown",
      "source": [
        " Just using the raw tweets without any data cleansing will not give us the results we want to see. For example obscure symbols, parenthesis, and other marks will negatively impact the NLP model since they add noise to the input data and make it hard for the algorithm to understand the text and can also potentially cause the model to overfit to the training data. For this project, five functions were created for data cleaning."
      ],
      "metadata": {
        "id": "a9zbA-PWu1B0"
      }
    },
    {
      "cell_type": "markdown",
      "source": [
        "### add padding at the end:\n",
        "This function was created to add a space between the end of the end of the sentence and the end of the string,\n",
        "it will help us with data wrangling"
      ],
      "metadata": {
        "id": "BHSmtbWTvbu6"
      }
    },
    {
      "cell_type": "code",
      "source": [
        "def insert_end_padding(ds_array1):\n",
        "    # Vectorize the operation of adding a space at the end of each string\n",
        "    vectorized_add_space = np.vectorize(lambda s: s + ' ')\n",
        "    # Apply the operation to the entire array\n",
        "    ds_array1 = vectorized_add_space(ds_array1)\n",
        "    return ds_array1"
      ],
      "metadata": {
        "id": "tLMhcp6M2LgL"
      },
      "execution_count": null,
      "outputs": []
    },
    {
      "cell_type": "code",
      "source": [
        "print(len(x_tweets[1]))\n",
        "x_tweets = insert_end_padding(x_tweets)\n",
        "print(len(x_tweets[1]))\n"
      ],
      "metadata": {
        "colab": {
          "base_uri": "https://localhost:8080/"
        },
        "id": "lzHrKo9a0fKt",
        "outputId": "e6b730fa-c5fe-4ac7-d63f-d44a8876863a"
      },
      "execution_count": null,
      "outputs": [
        {
          "output_type": "stream",
          "name": "stdout",
          "text": [
            "84\n",
            "85\n"
          ]
        }
      ]
    },
    {
      "cell_type": "markdown",
      "source": [
        "### Insert Keyword Function:\n",
        "\n",
        "This function was created so that the keyword in the keyword field of the training data can be added into the text field."
      ],
      "metadata": {
        "id": "VeJl9kWVv0g3"
      }
    },
    {
      "cell_type": "code",
      "source": [
        "def insert_keyword(ds_array1, ds_array2):\n",
        "    # Ensure the input is a numpy array with the correct shape\n",
        "    ds_array1 = np.array(ds_array1, dtype=str)\n",
        "    ds_array2 = np.array(ds_array2, dtype=str)\n",
        "\n",
        "    # Iterate over the array and insert the keyword\n",
        "\n",
        "    for i in range(ds_array1.shape[0]):\n",
        "      text = ds_array1[i]\n",
        "      flag = len(ds_array2[i])\n",
        "      if flag > 1:\n",
        "\n",
        "        ds_array1[i] = ds_array2[i] + ' ' + ds_array1[i]\n",
        "\n",
        "\n",
        "    return ds_array1\n"
      ],
      "metadata": {
        "id": "dqZsjWFdv45V"
      },
      "execution_count": null,
      "outputs": []
    },
    {
      "cell_type": "code",
      "source": [
        "print(x_kword[100])\n",
        "print(x_tweets[100])\n",
        "x_tweets = insert_keyword(x_tweets, x_kword)\n",
        "print(x_tweets[100])\n"
      ],
      "metadata": {
        "colab": {
          "base_uri": "https://localhost:8080/"
        },
        "id": "7jtdw8UB6zE6",
        "outputId": "a648952e-422c-4ccf-a0ab-df0f79fcd5c8"
      },
      "execution_count": null,
      "outputs": [
        {
          "output_type": "stream",
          "name": "stdout",
          "text": [
            "accident\n",
            ".@NorwayMFA Bahrain police had previously died in a road accident they were not killed by explosion https://t.co/gFJfgTodad neutral  news_&_social_concern non_irony fear \n",
            "accident .@NorwayMFA Bahrain police had previously died in a road accident they were not killed by explosion https://t.co/gFJfgTodad neutral  news_&_social_concern non_irony fear \n"
          ]
        }
      ]
    },
    {
      "cell_type": "markdown",
      "source": [
        "### Insert Marker Function:\n",
        "\n",
        "Some tweets have locations identified, the goal of this function is to add the location from the location field into the tweet so that the algorithm can take note of the location."
      ],
      "metadata": {
        "id": "cuTW4OxYv-Qn"
      }
    },
    {
      "cell_type": "code",
      "source": [
        "def insert_marker(ds_array1, ds_array2, insertion):\n",
        "    # Ensure the input is a numpy array with the correct shape\n",
        "    ds_array1 = np.array(ds_array1, dtype=str)\n",
        "    ds_array2 = np.array(ds_array2, dtype=str)\n",
        "\n",
        "    # Iterate over the array and insert the marker\n",
        "    for i in range(ds_array1.shape[0]):\n",
        "\n",
        "        text = ds_array1[i]\n",
        "        flag = len(ds_array2[i])\n",
        "        if flag > 1:\n",
        "          ds_array1[i] = insertion + ' ' + text\n",
        "    return ds_array1"
      ],
      "metadata": {
        "id": "D6Dlqo6txDju"
      },
      "execution_count": null,
      "outputs": []
    },
    {
      "cell_type": "code",
      "source": [
        "## Adding Location Into the tweet texts:\n",
        "print(x_loc[31])\n",
        "print(x_tweets[31])\n",
        "x_tweets = insert_marker(x_tweets, x_loc, 'location')\n",
        "print(x_tweets[31])"
      ],
      "metadata": {
        "colab": {
          "base_uri": "https://localhost:8080/"
        },
        "id": "V5v-go2sAcWK",
        "outputId": "5880f9c5-d187-45bf-976a-e0a50738172d"
      },
      "execution_count": null,
      "outputs": [
        {
          "output_type": "stream",
          "name": "stdout",
          "text": [
            "Birmingham\n",
            "ablaze @bbcmtd Wholesale Markets ablaze http://t.co/lHYXEOHY6C neutral  news_&_social_concern irony anger \n",
            "location ablaze @bbcmtd Wholesale Markets ablaze http://t.co/lHYXEOHY6C neutral  news_&_social_concern irony anger \n"
          ]
        }
      ]
    },
    {
      "cell_type": "markdown",
      "source": [
        "### lowercase_ch Function:\n",
        "Convert everything into lowercase so that the model knows \"Disaster\" and \"disaster\" are one word and not two words."
      ],
      "metadata": {
        "id": "wVhbupKuvjb3"
      }
    },
    {
      "cell_type": "code",
      "source": [
        "def lowercase_ch(ds_array):\n",
        "    # Ensure the input is a numpy array\n",
        "    ds_array = np.array(ds_array, dtype=str)\n",
        "    # Vectorize the lowercase operation\n",
        "    vectorized_lower = np.vectorize(lambda s: s.lower())\n",
        "    # Apply the operation to the entire array\n",
        "    return vectorized_lower(ds_array)"
      ],
      "metadata": {
        "id": "96qP-vlBvvy_"
      },
      "execution_count": null,
      "outputs": []
    },
    {
      "cell_type": "code",
      "source": [
        "print(x_tweets [0])\n",
        "x_tweets = lowercase_ch(x_tweets)\n",
        "x_kword = lowercase_ch(x_kword)\n",
        "x_loc = lowercase_ch(x_loc)\n",
        "print(x_tweets [0])"
      ],
      "metadata": {
        "colab": {
          "base_uri": "https://localhost:8080/"
        },
        "id": "ggHmQWg28jUV",
        "outputId": "728afc3b-4903-4e63-eca9-bf55bc53acdf"
      },
      "execution_count": null,
      "outputs": [
        {
          "output_type": "stream",
          "name": "stdout",
          "text": [
            "location nan Our Deeds are the Reason of this earthquake May ALLAH Forgive us all negative  news_&_social_concern non_irony optimism \n",
            "location nan our deeds are the reason of this earthquake may allah forgive us all negative  news_&_social_concern non_irony optimism \n"
          ]
        }
      ]
    },
    {
      "cell_type": "markdown",
      "source": [
        "### remove_ch Function:\n",
        "\n",
        "This function was created to remove any special characters from the text that are not needed for the algorithm such as  \"(\" or \"+\" etc.."
      ],
      "metadata": {
        "id": "FVs73WO7xLFJ"
      }
    },
    {
      "cell_type": "code",
      "source": [
        "def remove_ch(ds_array, target, replacement):\n",
        "    \"\"\"\n",
        "    This function replaces all occurrences of the target character with the replacement character in a 2D numpy array.\n",
        "\n",
        "    Parameters:\n",
        "    ds_array (numpy.ndarray): The 2D numpy array containing strings.\n",
        "    target (str): The character to be replaced.\n",
        "    replacement (str): The character to replace with.\n",
        "\n",
        "    Returns:\n",
        "    numpy.ndarray: The updated 2D numpy array with the target character replaced.\n",
        "    \"\"\"\n",
        "    for i in range(ds_array.shape[0]):\n",
        "        anytext = ds_array[i]\n",
        "        ds_array[i] = anytext.replace(target, replacement)\n",
        "    return ds_array"
      ],
      "metadata": {
        "id": "qw8xFesVxVnd"
      },
      "execution_count": null,
      "outputs": []
    },
    {
      "cell_type": "code",
      "source": [
        "print(x_tweets[31])\n",
        "x_tweets = remove_ch(x_tweets, '@', '')\n",
        "print(x_tweets[31])"
      ],
      "metadata": {
        "colab": {
          "base_uri": "https://localhost:8080/"
        },
        "id": "puCOaiSs8fEq",
        "outputId": "33591cff-11c4-4fe5-daf2-fa46c130adac"
      },
      "execution_count": null,
      "outputs": [
        {
          "output_type": "stream",
          "name": "stdout",
          "text": [
            "location ablaze @bbcmtd wholesale markets ablaze http://t.co/lhyxeohy6c neutral  news_&_social_concern irony anger \n",
            "location ablaze bbcmtd wholesale markets ablaze http://t.co/lhyxeohy6c neutral  news_&_social_concern irony anger \n"
          ]
        }
      ]
    },
    {
      "cell_type": "markdown",
      "source": [
        "Removing Special Characters"
      ],
      "metadata": {
        "id": "lv-CORqtuOB2"
      }
    },
    {
      "cell_type": "code",
      "source": [
        "x_tweets = remove_ch(x_tweets, 'http:', 'weblink ')\n",
        "x_tweets = remove_ch(x_tweets, ';', '')\n",
        "x_tweets = remove_ch(x_tweets, '%20', ' ') #it doesnt like it but should make it more generalizzable\n",
        "x_tweets = remove_ch(x_tweets, '%', '') #one of the top keywords is body%20bags, but tokenization make it oov\n",
        "x_tweets = remove_ch(x_tweets, '+', '')#adding a space hurts it?\n",
        "x_tweets = remove_ch(x_tweets, '....', '')\n",
        "x_tweets = remove_ch(x_tweets, '...', '')\n",
        "x_tweets = remove_ch(x_tweets, '..', '')\n",
        "x_tweets = remove_ch(x_tweets, '.', ' ')#insert a space, seemed to improve results\n",
        "x_tweets = remove_ch(x_tweets, '_', ' ')\n",
        "x_tweets = remove_ch(x_tweets, ':', '')\n",
        "x_tweets = remove_ch(x_tweets, ';', '')\n",
        "x_tweets = remove_ch(x_tweets, '&', ' ') #space brings it up by 0.5 accuracy\n",
        "x_tweets = remove_ch(x_tweets, '*', '')\n",
        "x_tweets = remove_ch(x_tweets, '(', '')\n",
        "x_tweets = remove_ch(x_tweets, ')', '')\n",
        "x_tweets = remove_ch(x_tweets, ',', '')\n",
        "x_tweets = remove_ch(x_tweets, '-', '') #inserting a space hurts it\n",
        "x_tweets = remove_ch(x_tweets, '\\'', '')\n",
        "x_tweets = remove_ch(x_tweets, '\\\"', '')\n",
        "\n",
        "x_tweets = remove_ch(x_tweets, ']', '')\n",
        "x_tweets = remove_ch(x_tweets, '[', '')\n",
        "x_tweets = remove_ch(x_tweets, '{', '')\n",
        "x_tweets = remove_ch(x_tweets, '}', '')\n",
        "x_tweets = remove_ch(x_tweets, '<', '')\n",
        "x_tweets = remove_ch(x_tweets, '>', '')\n",
        "x_tweets = remove_ch(x_tweets, '~', '')\n",
        "\n",
        "\n",
        "x_tweets = remove_ch(x_tweets, '#', '')\n",
        "x_tweets = remove_ch(x_tweets, '\\x89Û', ' ')#These are emojis that were converted into text. Should be a space? small potat\n",
        "x_tweets = remove_ch(x_tweets, '÷', ' ')#tis should be a space, small potato?\n",
        "x_tweets = remove_ch(x_tweets, '!!!', '')\n",
        "x_tweets = remove_ch(x_tweets, '!!', '')\n",
        "x_tweets = remove_ch(x_tweets, '!', '')\n",
        "x_tweets = remove_ch(x_tweets, '???', '')\n",
        "x_tweets = remove_ch(x_tweets, '??', '')\n",
        "x_tweets = remove_ch(x_tweets, '?', '')\n",
        "x_tweets = remove_ch(x_tweets, '$$$$', '')\n",
        "x_tweets = remove_ch(x_tweets, '$$$', '')\n",
        "x_tweets = remove_ch(x_tweets, '$$', '')\n",
        "x_tweets = remove_ch(x_tweets, '$', '')\n",
        "\n",
        "# Removing this charector from x_tweets causes accuracy to drop\n",
        "x_tweets = remove_ch(x_tweets, 'åÈ', '')\n",
        "x_tweets = remove_ch(x_tweets, '//t', '')\n",
        "x_tweets = remove_ch(x_tweets, '|', ' ')\n",
        "x_tweets = remove_ch(x_tweets, '==', ' ')\n",
        "x_tweets = remove_ch(x_tweets, '=', ' ')\n",
        "x_tweets = remove_ch(x_tweets, 'nan', ' ')\n",
        "\n",
        "\n"
      ],
      "metadata": {
        "id": "DxkGQ0w1xguJ"
      },
      "execution_count": null,
      "outputs": []
    },
    {
      "cell_type": "markdown",
      "source": [
        "Removing Doubles Spaces\n",
        "<p>After the data wrangling many double spaces are created,that must be removed as much as possible</p>"
      ],
      "metadata": {
        "id": "sy_SN-GHxxpT"
      }
    },
    {
      "cell_type": "code",
      "source": [
        "def remove_double_space(string_array, word_a, word_b):\n",
        "    \"\"\"\n",
        "    This function replaces all occurrences of two consecutive spaces with a single space in a 2D numpy array.\n",
        "\n",
        "    Parameters:\n",
        "    string_array (numpy.ndarray): The 2D numpy array containing strings.\n",
        "    word_a (str): The substring to be replaced (typically two spaces).\n",
        "    word_b (str): The substring to replace with (typically one space).\n",
        "\n",
        "    Returns:\n",
        "    numpy.ndarray: The updated 2D numpy array with double spaces replaced by single spaces.\n",
        "    \"\"\"\n",
        "    for i in range(string_array.shape[0]):\n",
        "        flag = True\n",
        "        while flag:\n",
        "            substring = string_array[i]\n",
        "            if word_a in substring:\n",
        "                string_array[i] = substring.replace(word_a, word_b)\n",
        "            else:\n",
        "                flag = False\n",
        "    return string_array\n",
        "\n",
        "# Example usage:\n",
        "# Assuming string_array is a 2D numpy array with strings, word_a is the substring to be replaced,\n",
        "# and word_b is the new substring.\n",
        "# updated_string_array = remove_double_space(string_array, word_a, word_b)\n",
        "\n"
      ],
      "metadata": {
        "id": "6ZriuuxvxzoB"
      },
      "execution_count": null,
      "outputs": []
    },
    {
      "cell_type": "markdown",
      "source": [
        "###Remove words with special patterns"
      ],
      "metadata": {
        "id": "-OM-JIHRAa7F"
      }
    },
    {
      "cell_type": "code",
      "source": [
        "import re\n",
        "def remove_text_sequences_from_array(array):\n",
        "    # Define the pattern to match text sequences starting with 'co/' and ending with the next space\n",
        "    pattern = r\"co/\\S+\"\n",
        "\n",
        "    # Use numpy vectorize function to apply the cleaning to each element in the array\n",
        "    vectorized_remove = np.vectorize(lambda sentence: re.sub(pattern, \"\", sentence))\n",
        "\n",
        "    # Apply the function to the array\n",
        "    cleaned_array = vectorized_remove(array)\n",
        "\n",
        "    return cleaned_array\n"
      ],
      "metadata": {
        "id": "vOOXidJ5AfgG"
      },
      "execution_count": null,
      "outputs": []
    },
    {
      "cell_type": "markdown",
      "source": [
        "Removed left overs after http was replaced with 'weblink' marker"
      ],
      "metadata": {
        "id": "boFB6w2vui6s"
      }
    },
    {
      "cell_type": "code",
      "source": [
        "print(x_tweets[40])\n",
        "x_tweets = remove_text_sequences_from_array(x_tweets)\n",
        "print(x_tweets[40])"
      ],
      "metadata": {
        "colab": {
          "base_uri": "https://localhost:8080/"
        },
        "id": "Kf0bcjtVAlRU",
        "outputId": "05eb8433-da37-420d-e379-804bf92cac4c"
      },
      "execution_count": null,
      "outputs": [
        {
          "output_type": "stream",
          "name": "stdout",
          "text": [
            "location ablaze check these out weblink  co/roi2nsmejj weblink  co/3tj8zjin21 weblink  co/yduixefipe weblink  co/lxtjc87kls nsfw neutral  news   social concern non irony anticipation \n",
            "location ablaze check these out weblink   weblink   weblink   weblink   nsfw neutral  news   social concern non irony anticipation \n"
          ]
        }
      ]
    },
    {
      "cell_type": "code",
      "source": [
        "x_tweets = remove_ch(x_tweets, '/', ' ')"
      ],
      "metadata": {
        "id": "e08xgofPCSv_"
      },
      "execution_count": null,
      "outputs": []
    },
    {
      "cell_type": "markdown",
      "metadata": {
        "id": "eJxTd6aVnZyh"
      },
      "source": [
        "## Set up the tokenizer"
      ]
    },
    {
      "cell_type": "markdown",
      "metadata": {
        "id": "Mopr6oKUlzds"
      },
      "source": [
        "Inputting our data into the tokenizer as a way to measure the success of the data wrangling."
      ]
    },
    {
      "cell_type": "code",
      "source": [
        "#sentences = tweets_df['text']\n",
        "sentences = x_tweets\n",
        "labels = tweets_df['target']"
      ],
      "metadata": {
        "id": "WiZB9l9ubV0e"
      },
      "execution_count": null,
      "outputs": []
    },
    {
      "cell_type": "code",
      "source": [
        "from tensorflow.keras.preprocessing.text import Tokenizer\n",
        "from tensorflow.keras.preprocessing.sequence import pad_sequences\n",
        "\n",
        "# Instantiate the tokenizer\n",
        "tokenizer = Tokenizer()\n",
        "\n",
        "# Fit the tokenizer on your text data\n",
        "tokenizer.fit_on_texts(sentences)\n",
        "\n",
        "# Create a set of all words that the tokenizer has seen during fit\n",
        "word_index = set(tokenizer.word_index.keys())"
      ],
      "metadata": {
        "id": "FlLcttf77sHP"
      },
      "execution_count": null,
      "outputs": []
    },
    {
      "cell_type": "code",
      "source": [
        "MAX_TOKENS =30\n",
        "# Convert sentences to sequences\n",
        "sequences = tokenizer.texts_to_sequences(sentences)\n",
        "\n",
        "# Pad sequences\n",
        "sequences = pad_sequences(sequences, maxlen=MAX_TOKENS, padding='post')\n",
        "\n",
        "# Convert labels to NumPy array, why?\n",
        "#labels = labels.to_numpy()\n",
        "\n",
        "labels = y_tweets"
      ],
      "metadata": {
        "id": "g2IH6BJs7hGZ"
      },
      "execution_count": null,
      "outputs": []
    },
    {
      "cell_type": "code",
      "source": [
        "print(\"total shape: \",sequences.shape)\n",
        "print(\"type: \",type(sequences))\n",
        "for i in range(9,10):\n",
        "  print('shape :', sequences[0].shape)\n",
        "  print('type: ', type(sequences[0]))\n",
        "\n",
        "  print(f\"-----------------batch'{[i]}'-----------------\")\n",
        "\n",
        "  print(sentences[i])\n",
        "  print(sequences[i])\n",
        "  print(sequences[i].dtype)\n",
        "\n",
        "  print(tokenizer.sequences_to_texts([sequences[i]]))\n",
        "  print(f\"\\n\")\n",
        "\n"
      ],
      "metadata": {
        "colab": {
          "base_uri": "https://localhost:8080/"
        },
        "id": "ChNXoiZWgkFl",
        "outputId": "7c1a5985-c03f-4306-fab4-e3e5a2911154"
      },
      "execution_count": null,
      "outputs": [
        {
          "output_type": "stream",
          "name": "stdout",
          "text": [
            "total shape:  (7613, 30)\n",
            "type:  <class 'numpy.ndarray'>\n",
            "shape : (30,)\n",
            "type:  <class 'numpy.ndarray'>\n",
            "-----------------batch'[9]'-----------------\n",
            "location   im afraid that the tornado is coming to our area negative  news   social concern non irony fear \n",
            "[   4   51 2441   31    9  315   20  437   13  142  516   10    1    2\n",
            "    3    6    5   15    0    0    0    0    0    0    0    0    0    0\n",
            "    0    0]\n",
            "int32\n",
            "['location im afraid that the tornado is coming to our area negative news social concern non irony fear']\n",
            "\n",
            "\n"
          ]
        }
      ]
    },
    {
      "cell_type": "markdown",
      "source": [
        "####Identify Unknown Words by Tokenizer"
      ],
      "metadata": {
        "id": "Vic8lCeBvXQj"
      }
    },
    {
      "cell_type": "code",
      "source": [
        "# Function to identify words not found by the tokenizer\n",
        "def find_unknown_words(sentences, word_index):\n",
        "    unknown_words = set()\n",
        "    known_words = set()\n",
        "    # Iterate over each sentence\n",
        "    for sentence in sentences:\n",
        "        # Tokenize the sentence into words\n",
        "        words = sentence.lower().split()  # Convert to lowercase and split\n",
        "        # Check if each word is in the tokenizer's word index\n",
        "        for word in words:\n",
        "            word = word.strip()  # Strip whitespace\n",
        "            if word not in word_index:\n",
        "                unknown_words.add(word)\n",
        "            else:\n",
        "                known_words.add(word)\n",
        "    return unknown_words, known_words\n"
      ],
      "metadata": {
        "id": "v9W8YhJos1Y2"
      },
      "execution_count": null,
      "outputs": []
    },
    {
      "cell_type": "code",
      "source": [
        "unknown_words, known_words = find_unknown_words(sentences, word_index)"
      ],
      "metadata": {
        "id": "yt08JsNSchtN"
      },
      "execution_count": null,
      "outputs": []
    },
    {
      "cell_type": "code",
      "source": [
        "# Call the function and print the unknown words\n",
        "print(f\"Words found by the tokenizer: {len(known_words)}\")\n",
        "print(f\"Words not found by the tokenizer: {len(unknown_words)}\")"
      ],
      "metadata": {
        "colab": {
          "base_uri": "https://localhost:8080/"
        },
        "id": "BmVyrunzkQMi",
        "outputId": "5e624bac-b40d-4005-e2ce-43f66f454164"
      },
      "execution_count": null,
      "outputs": [
        {
          "output_type": "stream",
          "name": "stdout",
          "text": [
            "Words found by the tokenizer: 17980\n",
            "Words not found by the tokenizer: 9\n"
          ]
        }
      ]
    },
    {
      "cell_type": "code",
      "source": [
        "for i in range(len(unknown_words)):\n",
        "  print(list(unknown_words)[i])"
      ],
      "metadata": {
        "colab": {
          "base_uri": "https://localhost:8080/"
        },
        "id": "RFwOQOpvk4Cv",
        "outputId": "782e54dc-6471-483a-ace2-1a297ee63e29"
      },
      "execution_count": null,
      "outputs": [
        {
          "output_type": "stream",
          "name": "stdout",
          "text": [
            "`bbcnews\n",
            "^oo^\n",
            "^ag\n",
            "^mp\n",
            "\\\\\\\n",
            "3\\30a\n",
            "destruction\\s\n",
            "didn`t\n",
            "^sj\n"
          ]
        }
      ]
    },
    {
      "cell_type": "markdown",
      "source": [
        "Our Datawrangling is very good, and the Tokenization is very good, it leaves out very few words."
      ],
      "metadata": {
        "id": "lvmehVWKmrCu"
      }
    },
    {
      "cell_type": "markdown",
      "source": [
        "####Histogram of Tokens in our Dataset"
      ],
      "metadata": {
        "id": "OnRn6SqLvlPA"
      }
    },
    {
      "cell_type": "markdown",
      "metadata": {
        "id": "g_4vdnhSaATh"
      },
      "source": [
        "The distribution of tokens per example in the dataset is as follows:"
      ]
    },
    {
      "cell_type": "code",
      "source": [
        "# Tokenize the sentences\n",
        "tokenized_sentences = tokenizer.texts_to_sequences(x_tweets)\n"
      ],
      "metadata": {
        "id": "fu_RFlGQfaTA"
      },
      "execution_count": null,
      "outputs": []
    },
    {
      "cell_type": "code",
      "source": [
        "\n",
        "\n",
        "\n",
        "\n",
        "# Calculate the lengths of the tokenized sentences\n",
        "lengths = [len(sentence) for sentence in tokenized_sentences]\n",
        "\n",
        "# Plot the histogram of lengths\n",
        "plt.hist(lengths, np.linspace(0, 45, 46))\n",
        "plt.ylim(plt.ylim())\n",
        "max_length = max(lengths)\n",
        "plt.plot([max_length, max_length], plt.ylim())\n",
        "plt.title(f'Maximum tokens per example: {max_length}');\n"
      ],
      "metadata": {
        "colab": {
          "base_uri": "https://localhost:8080/",
          "height": 452
        },
        "id": "2QckwMHyfZ0B",
        "outputId": "f746e44f-16f0-4983-b085-185eda398e0b"
      },
      "execution_count": null,
      "outputs": [
        {
          "output_type": "display_data",
          "data": {
            "text/plain": [
              "<Figure size 640x480 with 1 Axes>"
            ],
            "image/png": "[encoded data removed]"
          },
          "metadata": {}
        }
      ]
    },
    {
      "cell_type": "markdown",
      "source": [
        "###Saved Cleaned Data"
      ],
      "metadata": {
        "id": "_avvKvC12oZD"
      }
    },
    {
      "cell_type": "code",
      "source": [
        "# Create a DataFrame from the numpy arrays\n",
        "df = pd.DataFrame({'text': x_tweets, 'target': y_tweets})\n",
        "\n",
        "# Save the DataFrame to a CSV file\n",
        "df.to_csv('./train_enhanced_cleaned.csv', index=False)"
      ],
      "metadata": {
        "id": "JeviKN492rpV"
      },
      "execution_count": null,
      "outputs": []
    },
    {
      "cell_type": "markdown",
      "source": [
        "#End"
      ],
      "metadata": {
        "id": "EqlShLT909Pt"
      }
    }
  ],
  "metadata": {
    "colab": {
      "provenance": [],
      "machine_shape": "hm",
      "toc_visible": true
    },
    "kernelspec": {
      "display_name": "Python 3",
      "name": "python3"
    }
  },
  "nbformat": 4,
  "nbformat_minor": 0
}