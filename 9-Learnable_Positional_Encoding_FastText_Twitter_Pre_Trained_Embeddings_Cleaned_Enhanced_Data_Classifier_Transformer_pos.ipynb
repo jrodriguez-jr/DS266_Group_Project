{
  "cells": [
    {
      "cell_type": "markdown",
      "metadata": {
        "id": "e7f697fec28a"
      },
      "source": [
        "</p>\n",
        "<p>-adding custom schedule [improved learning]</p>\n",
        "<p>-adjusting hyperparameters, d_model =100, droprate =  0.2</p>\n",
        "\n",
        "<p>-extracted pre-training word embeddings/post embedding weights to output for viz </p>\n",
        "<p>-updated Transformer, Encoding and Positional Encoding classes to be able to load pre-trained Embeddings</p>\n",
        "\n",
        "<p>-Adding Learnable Positional encoding</p>\n",
        "<p>-Adding FastText Embeddings</p>\n",
        "<p>-adding attention weights to output for viz </p>"
      ]
    },
    {
      "cell_type": "markdown",
      "metadata": {
        "id": "EFwSaNB8jF7s"
      },
      "source": [
        "<style>\n",
        "td {\n",
        "  text-align: center;\n",
        "}\n",
        "\n",
        "th {\n",
        "  text-align: center;\n",
        "}\n",
        "</style>"
      ]
    },
    {
      "cell_type": "markdown",
      "metadata": {
        "id": "swymtxpl7W7w"
      },
      "source": [
        "## Setup"
      ]
    },
    {
      "cell_type": "markdown",
      "source": [
        "The following codes ensures the words embeddings have the same result after being randomly initialized"
      ],
      "metadata": {
        "id": "fUVUPmpZwfcL"
      }
    },
    {
      "cell_type": "code",
      "source": [
        "import tensorflow as tf\n",
        "import numpy as np\n",
        "\n",
        "# Set the seed for random number generation\n",
        "seed_value = 42\n",
        "tf.random.set_seed(seed_value)\n",
        "np.random.seed(seed_value)\n",
        "\n"
      ],
      "metadata": {
        "id": "uj-XUHm-wWdL"
      },
      "execution_count": null,
      "outputs": []
    },
    {
      "cell_type": "code",
      "source": [
        "\n",
        "# Mount Google Drive\n",
        "from google.colab import drive\n",
        "drive.mount('/content/drive')"
      ],
      "metadata": {
        "colab": {
          "base_uri": "https://localhost:8080/"
        },
        "id": "acgF9rXfaiRP",
        "outputId": "c353398d-ccc9-47bb-eabe-0dde7ca6046d"
      },
      "execution_count": null,
      "outputs": [
        {
          "output_type": "stream",
          "name": "stdout",
          "text": [
            "Mounted at /content/drive\n"
          ]
        }
      ]
    },
    {
      "cell_type": "code",
      "source": [
        "# Navigate to the Directory Containing the CSV File\n",
        "import os\n",
        "os.chdir('/content/drive/My Drive/DS266 Project')"
      ],
      "metadata": {
        "id": "FNO7MPwxarDt"
      },
      "execution_count": null,
      "outputs": []
    },
    {
      "cell_type": "markdown",
      "metadata": {
        "id": "OfV1batAwq9j"
      },
      "source": [
        "Begin by installing [TensorFlow Datasets](https://tensorflow.org/datasets) for loading the dataset and [TensorFlow Text](https://www.tensorflow.org/text) for text preprocessing:"
      ]
    },
    {
      "cell_type": "code",
      "execution_count": null,
      "metadata": {
        "id": "XFG0NDRu5mYQ",
        "colab": {
          "base_uri": "https://localhost:8080/"
        },
        "outputId": "4690428f-dda8-4fd3-8b23-49a067255e82"
      },
      "outputs": [
        {
          "output_type": "stream",
          "name": "stdout",
          "text": [
            "Reading package lists...\n",
            "Building dependency tree...\n",
            "Reading state information...\n",
            "Package libcudnn8 is not available, but is referred to by another package.\n",
            "This may mean that the package is missing, has been obsoleted, or\n",
            "is only available from another source\n",
            "\n",
            "\u001b[1;31mE: \u001b[0mVersion '8.1.0.77-1+cuda11.2' for 'libcudnn8' was not found\u001b[0m\n",
            "\u001b[33mWARNING: Skipping tensorflow-text as it is not installed.\u001b[0m\u001b[33m\n",
            "\u001b[2K     \u001b[90m━━━━━━━━━━━━━━━━━━━━━━━━━━━━━━━━━━━━━━━━\u001b[0m \u001b[32m5.2/5.2 MB\u001b[0m \u001b[31m46.1 MB/s\u001b[0m eta \u001b[36m0:00:00\u001b[0m\n",
            "\u001b[2K     \u001b[90m━━━━━━━━━━━━━━━━━━━━━━━━━━━━━━━━━━━━━━━━\u001b[0m \u001b[32m589.8/589.8 MB\u001b[0m \u001b[31m2.4 MB/s\u001b[0m eta \u001b[36m0:00:00\u001b[0m\n",
            "\u001b[2K     \u001b[90m━━━━━━━━━━━━━━━━━━━━━━━━━━━━━━━━━━━━━━━━\u001b[0m \u001b[32m5.3/5.3 MB\u001b[0m \u001b[31m103.6 MB/s\u001b[0m eta \u001b[36m0:00:00\u001b[0m\n",
            "\u001b[2K     \u001b[90m━━━━━━━━━━━━━━━━━━━━━━━━━━━━━━━━━━━━━━━━\u001b[0m \u001b[32m2.2/2.2 MB\u001b[0m \u001b[31m96.4 MB/s\u001b[0m eta \u001b[36m0:00:00\u001b[0m\n",
            "\u001b[2K     \u001b[90m━━━━━━━━━━━━━━━━━━━━━━━━━━━━━━━━━━━━━━━━\u001b[0m \u001b[32m5.5/5.5 MB\u001b[0m \u001b[31m108.4 MB/s\u001b[0m eta \u001b[36m0:00:00\u001b[0m\n",
            "\u001b[2K     \u001b[90m━━━━━━━━━━━━━━━━━━━━━━━━━━━━━━━━━━━━━━━━\u001b[0m \u001b[32m1.1/1.1 MB\u001b[0m \u001b[31m76.4 MB/s\u001b[0m eta \u001b[36m0:00:00\u001b[0m\n",
            "\u001b[2K     \u001b[90m━━━━━━━━━━━━━━━━━━━━━━━━━━━━━━━━━━━━━━━━\u001b[0m \u001b[32m311.2/311.2 kB\u001b[0m \u001b[31m34.6 MB/s\u001b[0m eta \u001b[36m0:00:00\u001b[0m\n",
            "\u001b[?25h\u001b[31mERROR: pip's dependency resolver does not currently take into account all the packages that are installed. This behaviour is the source of the following dependency conflicts.\n",
            "tf-keras 2.15.1 requires tensorflow<2.16,>=2.15, but you have tensorflow 2.16.1 which is incompatible.\u001b[0m\u001b[31m\n",
            "\u001b[0m"
          ]
        }
      ],
      "source": [
        "# Install the most re version of TensorFlow to use the improved\n",
        "# masking support for `tf.keras.layers.MultiHeadAttention`.\n",
        "!apt install --allow-change-held-packages libcudnn8=8.1.0.77-1+cuda11.2 -q\n",
        "!pip uninstall -y -q tensorflow keras tensorflow-estimator tensorflow-text -q\n",
        "!pip install -q protobuf~=3.20.3\n",
        "!pip install -q tensorflow_datasets\n",
        "!pip install -q -U tensorflow-text tensorflow"
      ]
    },
    {
      "cell_type": "code",
      "source": [
        "# Install compatible TensorFlow version\n",
        "!pip uninstall tensorflow -y -q\n",
        "!pip install tensorflow==2.15 -q\n",
        "\n",
        "# Reinstall tf-keras to resolve any potential dependency conflicts\n",
        "!pip uninstall tf-keras -y -q\n",
        "!pip install tf-keras -q"
      ],
      "metadata": {
        "id": "sfB0JATpjTEz",
        "colab": {
          "base_uri": "https://localhost:8080/"
        },
        "outputId": "41f479ba-2ccc-44ba-b84a-5775f2c3836d"
      },
      "execution_count": null,
      "outputs": [
        {
          "output_type": "stream",
          "name": "stdout",
          "text": [
            "\u001b[2K     \u001b[90m━━━━━━━━━━━━━━━━━━━━━━━━━━━━━━━━━━━━━━━━\u001b[0m \u001b[32m475.2/475.2 MB\u001b[0m \u001b[31m2.5 MB/s\u001b[0m eta \u001b[36m0:00:00\u001b[0m\n",
            "\u001b[2K     \u001b[90m━━━━━━━━━━━━━━━━━━━━━━━━━━━━━━━━━━━━━━━━\u001b[0m \u001b[32m1.0/1.0 MB\u001b[0m \u001b[31m55.6 MB/s\u001b[0m eta \u001b[36m0:00:00\u001b[0m\n",
            "\u001b[2K     \u001b[90m━━━━━━━━━━━━━━━━━━━━━━━━━━━━━━━━━━━━━━━━\u001b[0m \u001b[32m5.5/5.5 MB\u001b[0m \u001b[31m28.4 MB/s\u001b[0m eta \u001b[36m0:00:00\u001b[0m\n",
            "\u001b[2K     \u001b[90m━━━━━━━━━━━━━━━━━━━━━━━━━━━━━━━━━━━━━━━━\u001b[0m \u001b[32m442.0/442.0 kB\u001b[0m \u001b[31m44.9 MB/s\u001b[0m eta \u001b[36m0:00:00\u001b[0m\n",
            "\u001b[2K     \u001b[90m━━━━━━━━━━━━━━━━━━━━━━━━━━━━━━━━━━━━━━━━\u001b[0m \u001b[32m1.7/1.7 MB\u001b[0m \u001b[31m78.6 MB/s\u001b[0m eta \u001b[36m0:00:00\u001b[0m\n",
            "\u001b[?25h\u001b[31mERROR: pip's dependency resolver does not currently take into account all the packages that are installed. This behaviour is the source of the following dependency conflicts.\n",
            "tensorflow-text 2.16.1 requires tensorflow<2.17,>=2.16.1; platform_machine != \"arm64\" or platform_system != \"Darwin\", but you have tensorflow 2.15.0 which is incompatible.\u001b[0m\u001b[31m\n",
            "\u001b[2K     \u001b[90m━━━━━━━━━━━━━━━━━━━━━━━━━━━━━━━━━━━━━━━━\u001b[0m \u001b[32m1.7/1.7 MB\u001b[0m \u001b[31m20.1 MB/s\u001b[0m eta \u001b[36m0:00:00\u001b[0m\n",
            "\u001b[?25h"
          ]
        }
      ]
    },
    {
      "cell_type": "code",
      "source": [
        "!pip install tensorflow==2.15 -q #it needs it again for some reason"
      ],
      "metadata": {
        "id": "Q-VgaWpbm21T",
        "colab": {
          "base_uri": "https://localhost:8080/"
        },
        "outputId": "c26c8cbd-12ee-4fbc-ef70-e7a3d51fc872"
      },
      "execution_count": null,
      "outputs": [
        {
          "output_type": "stream",
          "name": "stdout",
          "text": [
            "\u001b[31mERROR: pip's dependency resolver does not currently take into account all the packages that are installed. This behaviour is the source of the following dependency conflicts.\n",
            "tensorflow-text 2.16.1 requires tensorflow<2.17,>=2.16.1; platform_machine != \"arm64\" or platform_system != \"Darwin\", but you have tensorflow 2.15.0 which is incompatible.\n",
            "tf-keras 2.16.0 requires tensorflow<2.17,>=2.16, but you have tensorflow 2.15.0 which is incompatible.\u001b[0m\u001b[31m\n",
            "\u001b[0m"
          ]
        }
      ]
    },
    {
      "cell_type": "code",
      "source": [
        "!pip uninstall tensorflow-text -y -q\n",
        "!pip install tensorflow-text==2.15 -q"
      ],
      "metadata": {
        "id": "KHCOdSJLuYLn",
        "colab": {
          "base_uri": "https://localhost:8080/"
        },
        "outputId": "33451e8e-6fcc-4c6f-f549-685fa1d4294a"
      },
      "execution_count": null,
      "outputs": [
        {
          "output_type": "stream",
          "name": "stdout",
          "text": [
            "\u001b[2K     \u001b[90m━━━━━━━━━━━━━━━━━━━━━━━━━━━━━━━━━━━━━━━━\u001b[0m \u001b[32m5.2/5.2 MB\u001b[0m \u001b[31m40.5 MB/s\u001b[0m eta \u001b[36m0:00:00\u001b[0m\n",
            "\u001b[2K     \u001b[90m━━━━━━━━━━━━━━━━━━━━━━━━━━━━━━━━━━━━━━━━\u001b[0m \u001b[32m1.7/1.7 MB\u001b[0m \u001b[31m80.4 MB/s\u001b[0m eta \u001b[36m0:00:00\u001b[0m\n",
            "\u001b[?25h"
          ]
        }
      ]
    },
    {
      "cell_type": "markdown",
      "metadata": {
        "id": "0GYpLBSjxJmG"
      },
      "source": [
        "Import the necessary modules:"
      ]
    },
    {
      "cell_type": "code",
      "execution_count": null,
      "metadata": {
        "id": "JjJJyJTZYebt"
      },
      "outputs": [],
      "source": [
        "import logging\n",
        "import time\n",
        "\n",
        "import numpy as np\n",
        "import matplotlib.pyplot as plt\n",
        "\n",
        "import tensorflow_datasets as tfds\n",
        "import tensorflow as tf\n",
        "\n",
        "import tensorflow_text as text\n",
        "from tensorflow import keras"
      ]
    },
    {
      "cell_type": "markdown",
      "metadata": {
        "id": "Xf_WUi2HLhzf"
      },
      "source": [
        "## Data handling\n",
        "\n"
      ]
    },
    {
      "cell_type": "markdown",
      "metadata": {
        "id": "-cCvXbPkccV1"
      },
      "source": [
        "### Download the dataset"
      ]
    },
    {
      "cell_type": "markdown",
      "metadata": {
        "id": "LTEVgBxklzdq"
      },
      "source": [
        "read the data"
      ]
    },
    {
      "cell_type": "code",
      "source": [
        "# Read the CSV File\n",
        "import pandas as pd\n",
        "load_data = 'train_enhanced_cleaned.csv'\n",
        "tweets_df = pd.read_csv(load_data)\n",
        "tweets_df.head(3)"
      ],
      "metadata": {
        "id": "lw7axoYfayav",
        "colab": {
          "base_uri": "https://localhost:8080/",
          "height": 143
        },
        "outputId": "699bc66b-4609-459d-d297-aec53a91f7ee"
      },
      "execution_count": null,
      "outputs": [
        {
          "output_type": "execute_result",
          "data": {
            "text/plain": [
              "                                                text  target\n",
              "0  location   our deeds are the reason of this ea...       1\n",
              "1  location   forest fire near la ronge sask  can...       1\n",
              "2  location   all residents asked to shelter in p...       1"
            ],
            "text/html": [
              "\n",
              "  <div id=\"df-5df91d76-53cb-4bf1-b95d-bdddb37ae482\" class=\"colab-df-container\">\n",
              "    <div>\n",
              "<style scoped>\n",
              "    .dataframe tbody tr th:only-of-type {\n",
              "        vertical-align: middle;\n",
              "    }\n",
              "\n",
              "    .dataframe tbody tr th {\n",
              "        vertical-align: top;\n",
              "    }\n",
              "\n",
              "    .dataframe thead th {\n",
              "        text-align: right;\n",
              "    }\n",
              "</style>\n",
              "<table border=\"1\" class=\"dataframe\">\n",
              "  <thead>\n",
              "    <tr style=\"text-align: right;\">\n",
              "      <th></th>\n",
              "      <th>text</th>\n",
              "      <th>target</th>\n",
              "    </tr>\n",
              "  </thead>\n",
              "  <tbody>\n",
              "    <tr>\n",
              "      <th>0</th>\n",
              "      <td>location   our deeds are the reason of this ea...</td>\n",
              "      <td>1</td>\n",
              "    </tr>\n",
              "    <tr>\n",
              "      <th>1</th>\n",
              "      <td>location   forest fire near la ronge sask  can...</td>\n",
              "      <td>1</td>\n",
              "    </tr>\n",
              "    <tr>\n",
              "      <th>2</th>\n",
              "      <td>location   all residents asked to shelter in p...</td>\n",
              "      <td>1</td>\n",
              "    </tr>\n",
              "  </tbody>\n",
              "</table>\n",
              "</div>\n",
              "    <div class=\"colab-df-buttons\">\n",
              "\n",
              "  <div class=\"colab-df-container\">\n",
              "    <button class=\"colab-df-convert\" onclick=\"convertToInteractive('df-5df91d76-53cb-4bf1-b95d-bdddb37ae482')\"\n",
              "            title=\"Convert this dataframe to an interactive table.\"\n",
              "            style=\"display:none;\">\n",
              "\n",
              "  <svg xmlns=\"http://www.w3.org/2000/svg\" height=\"24px\" viewBox=\"0 -960 960 960\">\n",
              "    <path d=\"M120-120v-720h720v720H120Zm60-500h600v-160H180v160Zm220 220h160v-160H400v160Zm0 220h160v-160H400v160ZM180-400h160v-160H180v160Zm440 0h160v-160H620v160ZM180-180h160v-160H180v160Zm440 0h160v-160H620v160Z\"/>\n",
              "  </svg>\n",
              "    </button>\n",
              "\n",
              "  <style>\n",
              "    .colab-df-container {\n",
              "      display:flex;\n",
              "      gap: 12px;\n",
              "    }\n",
              "\n",
              "    .colab-df-convert {\n",
              "      background-color: #E8F0FE;\n",
              "      border: none;\n",
              "      border-radius: 50%;\n",
              "      cursor: pointer;\n",
              "      display: none;\n",
              "      fill: #1967D2;\n",
              "      height: 32px;\n",
              "      padding: 0 0 0 0;\n",
              "      width: 32px;\n",
              "    }\n",
              "\n",
              "    .colab-df-convert:hover {\n",
              "      background-color: #E2EBFA;\n",
              "      box-shadow: 0px 1px 2px rgba(60, 64, 67, 0.3), 0px 1px 3px 1px rgba(60, 64, 67, 0.15);\n",
              "      fill: #174EA6;\n",
              "    }\n",
              "\n",
              "    .colab-df-buttons div {\n",
              "      margin-bottom: 4px;\n",
              "    }\n",
              "\n",
              "    [theme=dark] .colab-df-convert {\n",
              "      background-color: #3B4455;\n",
              "      fill: #D2E3FC;\n",
              "    }\n",
              "\n",
              "    [theme=dark] .colab-df-convert:hover {\n",
              "      background-color: #434B5C;\n",
              "      box-shadow: 0px 1px 3px 1px rgba(0, 0, 0, 0.15);\n",
              "      filter: drop-shadow(0px 1px 2px rgba(0, 0, 0, 0.3));\n",
              "      fill: #FFFFFF;\n",
              "    }\n",
              "  </style>\n",
              "\n",
              "    <script>\n",
              "      const buttonEl =\n",
              "        document.querySelector('#df-5df91d76-53cb-4bf1-b95d-bdddb37ae482 button.colab-df-convert');\n",
              "      buttonEl.style.display =\n",
              "        google.colab.kernel.accessAllowed ? 'block' : 'none';\n",
              "\n",
              "      async function convertToInteractive(key) {\n",
              "        const element = document.querySelector('#df-5df91d76-53cb-4bf1-b95d-bdddb37ae482');\n",
              "        const dataTable =\n",
              "          await google.colab.kernel.invokeFunction('convertToInteractive',\n",
              "                                                    [key], {});\n",
              "        if (!dataTable) return;\n",
              "\n",
              "        const docLinkHtml = 'Like what you see? Visit the ' +\n",
              "          '<a target=\"_blank\" href=https://colab.research.google.com/notebooks/data_table.ipynb>data table notebook</a>'\n",
              "          + ' to learn more about interactive tables.';\n",
              "        element.innerHTML = '';\n",
              "        dataTable['output_type'] = 'display_data';\n",
              "        await google.colab.output.renderOutput(dataTable, element);\n",
              "        const docLink = document.createElement('div');\n",
              "        docLink.innerHTML = docLinkHtml;\n",
              "        element.appendChild(docLink);\n",
              "      }\n",
              "    </script>\n",
              "  </div>\n",
              "\n",
              "\n",
              "<div id=\"df-e3103d0c-d534-43ee-9d67-e0dbf77deeab\">\n",
              "  <button class=\"colab-df-quickchart\" onclick=\"quickchart('df-e3103d0c-d534-43ee-9d67-e0dbf77deeab')\"\n",
              "            title=\"Suggest charts\"\n",
              "            style=\"display:none;\">\n",
              "\n",
              "<svg xmlns=\"http://www.w3.org/2000/svg\" height=\"24px\"viewBox=\"0 0 24 24\"\n",
              "     width=\"24px\">\n",
              "    <g>\n",
              "        <path d=\"M19 3H5c-1.1 0-2 .9-2 2v14c0 1.1.9 2 2 2h14c1.1 0 2-.9 2-2V5c0-1.1-.9-2-2-2zM9 17H7v-7h2v7zm4 0h-2V7h2v10zm4 0h-2v-4h2v4z\"/>\n",
              "    </g>\n",
              "</svg>\n",
              "  </button>\n",
              "\n",
              "<style>\n",
              "  .colab-df-quickchart {\n",
              "      --bg-color: #E8F0FE;\n",
              "      --fill-color: #1967D2;\n",
              "      --hover-bg-color: #E2EBFA;\n",
              "      --hover-fill-color: #174EA6;\n",
              "      --disabled-fill-color: #AAA;\n",
              "      --disabled-bg-color: #DDD;\n",
              "  }\n",
              "\n",
              "  [theme=dark] .colab-df-quickchart {\n",
              "      --bg-color: #3B4455;\n",
              "      --fill-color: #D2E3FC;\n",
              "      --hover-bg-color: #434B5C;\n",
              "      --hover-fill-color: #FFFFFF;\n",
              "      --disabled-bg-color: #3B4455;\n",
              "      --disabled-fill-color: #666;\n",
              "  }\n",
              "\n",
              "  .colab-df-quickchart {\n",
              "    background-color: var(--bg-color);\n",
              "    border: none;\n",
              "    border-radius: 50%;\n",
              "    cursor: pointer;\n",
              "    display: none;\n",
              "    fill: var(--fill-color);\n",
              "    height: 32px;\n",
              "    padding: 0;\n",
              "    width: 32px;\n",
              "  }\n",
              "\n",
              "  .colab-df-quickchart:hover {\n",
              "    background-color: var(--hover-bg-color);\n",
              "    box-shadow: 0 1px 2px rgba(60, 64, 67, 0.3), 0 1px 3px 1px rgba(60, 64, 67, 0.15);\n",
              "    fill: var(--button-hover-fill-color);\n",
              "  }\n",
              "\n",
              "  .colab-df-quickchart-complete:disabled,\n",
              "  .colab-df-quickchart-complete:disabled:hover {\n",
              "    background-color: var(--disabled-bg-color);\n",
              "    fill: var(--disabled-fill-color);\n",
              "    box-shadow: none;\n",
              "  }\n",
              "\n",
              "  .colab-df-spinner {\n",
              "    border: 2px solid var(--fill-color);\n",
              "    border-color: transparent;\n",
              "    border-bottom-color: var(--fill-color);\n",
              "    animation:\n",
              "      spin 1s steps(1) infinite;\n",
              "  }\n",
              "\n",
              "  @keyframes spin {\n",
              "    0% {\n",
              "      border-color: transparent;\n",
              "      border-bottom-color: var(--fill-color);\n",
              "      border-left-color: var(--fill-color);\n",
              "    }\n",
              "    20% {\n",
              "      border-color: transparent;\n",
              "      border-left-color: var(--fill-color);\n",
              "      border-top-color: var(--fill-color);\n",
              "    }\n",
              "    30% {\n",
              "      border-color: transparent;\n",
              "      border-left-color: var(--fill-color);\n",
              "      border-top-color: var(--fill-color);\n",
              "      border-right-color: var(--fill-color);\n",
              "    }\n",
              "    40% {\n",
              "      border-color: transparent;\n",
              "      border-right-color: var(--fill-color);\n",
              "      border-top-color: var(--fill-color);\n",
              "    }\n",
              "    60% {\n",
              "      border-color: transparent;\n",
              "      border-right-color: var(--fill-color);\n",
              "    }\n",
              "    80% {\n",
              "      border-color: transparent;\n",
              "      border-right-color: var(--fill-color);\n",
              "      border-bottom-color: var(--fill-color);\n",
              "    }\n",
              "    90% {\n",
              "      border-color: transparent;\n",
              "      border-bottom-color: var(--fill-color);\n",
              "    }\n",
              "  }\n",
              "</style>\n",
              "\n",
              "  <script>\n",
              "    async function quickchart(key) {\n",
              "      const quickchartButtonEl =\n",
              "        document.querySelector('#' + key + ' button');\n",
              "      quickchartButtonEl.disabled = true;  // To prevent multiple clicks.\n",
              "      quickchartButtonEl.classList.add('colab-df-spinner');\n",
              "      try {\n",
              "        const charts = await google.colab.kernel.invokeFunction(\n",
              "            'suggestCharts', [key], {});\n",
              "      } catch (error) {\n",
              "        console.error('Error during call to suggestCharts:', error);\n",
              "      }\n",
              "      quickchartButtonEl.classList.remove('colab-df-spinner');\n",
              "      quickchartButtonEl.classList.add('colab-df-quickchart-complete');\n",
              "    }\n",
              "    (() => {\n",
              "      let quickchartButtonEl =\n",
              "        document.querySelector('#df-e3103d0c-d534-43ee-9d67-e0dbf77deeab button');\n",
              "      quickchartButtonEl.style.display =\n",
              "        google.colab.kernel.accessAllowed ? 'block' : 'none';\n",
              "    })();\n",
              "  </script>\n",
              "</div>\n",
              "\n",
              "    </div>\n",
              "  </div>\n"
            ],
            "application/vnd.google.colaboratory.intrinsic+json": {
              "type": "dataframe",
              "variable_name": "tweets_df",
              "summary": "{\n  \"name\": \"tweets_df\",\n  \"rows\": 7613,\n  \"fields\": [\n    {\n      \"column\": \"text\",\n      \"properties\": {\n        \"dtype\": \"string\",\n        \"num_unique_values\": 7002,\n        \"samples\": [\n          \"location oil spill refugio oil spill may have been costlier bigger than projected weblink   negative  news   social concern non irony fear \",\n          \"location bloody bloody hell what a day  i havent even really done anything  just  tired  of everything  thought vaca would help but it only did so much     negative  news   social concern non irony sadness\",\n          \"location exploded oh yeah my ipod almost exploded last night i was using it while charging and shit was sparking akxbskdn almost died negative  news   social concern non irony disgust \"\n        ],\n        \"semantic_type\": \"\",\n        \"description\": \"\"\n      }\n    },\n    {\n      \"column\": \"target\",\n      \"properties\": {\n        \"dtype\": \"number\",\n        \"std\": 0,\n        \"min\": 0,\n        \"max\": 1,\n        \"num_unique_values\": 2,\n        \"samples\": [\n          0,\n          1\n        ],\n        \"semantic_type\": \"\",\n        \"description\": \"\"\n      }\n    }\n  ]\n}"
            }
          },
          "metadata": {},
          "execution_count": 10
        }
      ]
    },
    {
      "cell_type": "markdown",
      "metadata": {
        "id": "eJxTd6aVnZyh"
      },
      "source": [
        "### Set up the tokenizer"
      ]
    },
    {
      "cell_type": "markdown",
      "metadata": {
        "id": "Mopr6oKUlzds"
      },
      "source": [
        "Now that you have loaded the dataset, you need to tokenize the text, so that each element is represented as a [token](https://developers.google.com/machine-learning/glossary#token) or token ID (a numeric representation).\n",
        "\n",
        "Tokenization is the process of breaking up text, into \"tokens\". Depending on the tokenizer, these tokens can represent sentence-pieces, words, subwords, or characters. To learn more about tokenization, visit [this guide](https://www.tensorflow.org/text/guide/tokenizers)."
      ]
    },
    {
      "cell_type": "code",
      "source": [
        "sentences = tweets_df['text']\n",
        "labels = tweets_df['target']"
      ],
      "metadata": {
        "id": "WiZB9l9ubV0e"
      },
      "execution_count": null,
      "outputs": []
    },
    {
      "cell_type": "code",
      "source": [],
      "metadata": {
        "id": "B51rnxS8V0gO"
      },
      "execution_count": null,
      "outputs": []
    },
    {
      "cell_type": "code",
      "source": [
        "from tensorflow.keras.preprocessing.text import Tokenizer\n",
        "from tensorflow.keras.preprocessing.sequence import pad_sequences\n",
        "\n",
        "# Instantiate the tokenizer\n",
        "tokenizer = Tokenizer()\n",
        "\n",
        "# Fit the tokenizer on your text data\n",
        "tokenizer.fit_on_texts(sentences)\n"
      ],
      "metadata": {
        "id": "FlLcttf77sHP"
      },
      "execution_count": null,
      "outputs": []
    },
    {
      "cell_type": "code",
      "source": [
        "MAX_TOKENS =30\n",
        "# Convert sentences to sequences\n",
        "sequences = tokenizer.texts_to_sequences(sentences)\n",
        "\n",
        "# Pad sequences\n",
        "sequences = pad_sequences(sequences, maxlen=MAX_TOKENS, padding='post')\n",
        "\n",
        "# Convert labels to NumPy array\n",
        "\"\"\"\n",
        "\n",
        "\"\"\""
      ],
      "metadata": {
        "id": "g2IH6BJs7hGZ",
        "colab": {
          "base_uri": "https://localhost:8080/",
          "height": 36
        },
        "outputId": "8c46aecc-70a1-4fb9-ad71-c9fb3380d6be"
      },
      "execution_count": null,
      "outputs": [
        {
          "output_type": "execute_result",
          "data": {
            "text/plain": [
              "'\\n\\n'"
            ],
            "application/vnd.google.colaboratory.intrinsic+json": {
              "type": "string"
            }
          },
          "metadata": {},
          "execution_count": 13
        }
      ]
    },
    {
      "cell_type": "markdown",
      "metadata": {
        "id": "-Yb35sTJcZq9"
      },
      "source": [
        "### Set up a data pipeline with `tf.data`"
      ]
    },
    {
      "cell_type": "markdown",
      "metadata": {
        "id": "JZHsns5obJhN"
      },
      "source": [
        "The following function takes batches of text as input, and converts them to a format suitable for training.\n",
        "\n",
        "1. It tokenizes them into ragged batches.\n",
        "2. It trims each to be no longer than `MAX_TOKENS`.\n",
        "3. It splits the target (English) tokens into inputs and labels. These are shifted by one step so that at each input location the `label` is the id of the next token.\n",
        "4. It converts the `RaggedTensor`s to padded dense `Tensor`s.\n",
        "5. It returns an `(inputs, labels)` pair.\n"
      ]
    },
    {
      "cell_type": "code",
      "source": [
        "from sklearn.model_selection import train_test_split\n",
        "# Shuffle and batch the dataset\n",
        "BUFFER_SIZE = len(sequences)\n",
        "BATCH_SIZE = 64  # You can adjust the batch size as needed\n",
        "\n",
        "# Split the data\n",
        "sequences_train, sequences_val, labels_train, labels_val = train_test_split(sequences, labels, test_size=0.1)\n",
        "\n",
        "# Convert to TensorFlow Datasets\n",
        "train_dataset = tf.data.Dataset.from_tensor_slices((sequences_train, labels_train))\n",
        "val_dataset = tf.data.Dataset.from_tensor_slices((sequences_val, labels_val))\n",
        "\n",
        "# Shuffle and batch the datasets\n",
        "train_dataset = train_dataset.shuffle(len(sequences_train)).batch(BATCH_SIZE)\n",
        "val_dataset = val_dataset.batch(BATCH_SIZE)\n",
        "\n",
        "\n"
      ],
      "metadata": {
        "id": "_6wwjDir8hcL"
      },
      "execution_count": null,
      "outputs": []
    },
    {
      "cell_type": "code",
      "source": [
        "#train_dataset.append()"
      ],
      "metadata": {
        "id": "WCNszZzzXFeH"
      },
      "execution_count": null,
      "outputs": []
    },
    {
      "cell_type": "markdown",
      "metadata": {
        "id": "itSWqk-ivrRg"
      },
      "source": [
        "### Test the Dataset"
      ]
    },
    {
      "cell_type": "code",
      "source": [
        "# For train_batches\n",
        "for x, y in train_dataset.take(1):  # We only take one batch\n",
        "    print(\"Shape of X:\", x.shape)\n",
        "    print(\"Data type of X:\", x.dtype)  # This will print the data type\n",
        "    print(\"Content of X:\", x.numpy())  # .numpy() converts the tensor to a numpy array\n",
        "    print(\"Shape of Y:\", y.shape)\n",
        "    print(\"Content of Y:\", y.numpy())\n",
        "\n",
        "# For val_batches\n",
        "for x, y in val_dataset.take(1):  # We only take one batch\n",
        "    print(\"Shape of X:\", x.shape)\n",
        "    print(\"Data type of X:\", x.dtype)  # This will print the data type\n",
        "    print(\"Content of X:\", x.numpy())  # .numpy() converts the tensor to a numpy array\n",
        "    print(\"Shape of Y:\", y.shape)\n",
        "    print(\"Content of Y:\", y.numpy())"
      ],
      "metadata": {
        "id": "kE1DTUdA8k0K",
        "colab": {
          "base_uri": "https://localhost:8080/"
        },
        "outputId": "111b21ce-3477-4456-c997-4e440c054c9b"
      },
      "execution_count": null,
      "outputs": [
        {
          "output_type": "stream",
          "name": "stdout",
          "text": [
            "Shape of X: (64, 30)\n",
            "Data type of X: <dtype: 'int32'>\n",
            "Content of X: [[    4   253     9 ...     0     0     0]\n",
            " [    4    42  6141 ...     0     0     0]\n",
            " [    4   301  1461 ...     0     0     0]\n",
            " ...\n",
            " [    4   321 11338 ...     6     5    18]\n",
            " [    4   283   238 ...     0     0     0]\n",
            " [  136    66   328 ...     6     5    15]]\n",
            "Shape of Y: (64,)\n",
            "Content of Y: [1 0 0 1 0 0 0 0 0 1 0 1 1 1 1 0 1 0 0 0 0 0 0 0 0 1 0 0 1 1 0 0 0 0 0 1 1\n",
            " 1 1 0 1 0 0 1 1 0 0 0 0 1 0 0 1 0 0 1 0 1 1 0 0 0 1 0]\n",
            "Shape of X: (64, 30)\n",
            "Data type of X: <dtype: 'int32'>\n",
            "Content of X: [[    4   259    48 ...     0     0     0]\n",
            " [    4   216     9 ...     5    22     0]\n",
            " [    4    91 15093 ...     0     0     0]\n",
            " ...\n",
            " [    4   367     2 ...     0     0     0]\n",
            " [    4   256   179 ...     0     0     0]\n",
            " [    4   105   392 ...     0     0     0]]\n",
            "Shape of Y: (64,)\n",
            "Content of Y: [1 0 1 0 0 0 1 1 0 1 1 0 0 0 0 0 0 0 1 0 1 0 0 0 1 0 1 1 1 0 0 0 0 1 1 0 1\n",
            " 0 0 0 0 1 0 1 0 1 1 0 1 1 0 1 1 0 0 0 1 0 1 0 0 0 1 0]\n"
          ]
        }
      ]
    },
    {
      "cell_type": "code",
      "source": [
        "for tweet, labels in train_dataset.take(1):\n",
        "  break\n",
        "\n",
        "print(tweet.shape)\n",
        "print(labels.shape)\n"
      ],
      "metadata": {
        "id": "iZZS6HuY-n31",
        "colab": {
          "base_uri": "https://localhost:8080/"
        },
        "outputId": "66caa4f3-3db6-4e65-9766-41200192ae4f"
      },
      "execution_count": null,
      "outputs": [
        {
          "output_type": "stream",
          "name": "stdout",
          "text": [
            "(64, 30)\n",
            "(64,)\n"
          ]
        }
      ]
    },
    {
      "cell_type": "markdown",
      "source": [
        "##Location of Saved Training"
      ],
      "metadata": {
        "id": "OhelWo91DZB3"
      }
    },
    {
      "cell_type": "markdown",
      "source": [
        "Save the models, and files, if directory does not exist, it creates it."
      ],
      "metadata": {
        "id": "Y7wkIlFm3Eme"
      }
    },
    {
      "cell_type": "code",
      "source": [
        "\n",
        "checkpoint_dir = './Final_Work/enh_cl_data_lp_tx_model_tw_emb_12ep_d06_dff_256/'\n",
        "directory = checkpoint_dir\n",
        "\n",
        "if not os.path.exists(directory):\n",
        "    os.makedirs(directory)\n"
      ],
      "metadata": {
        "id": "Llt2ct5-21EP"
      },
      "execution_count": null,
      "outputs": []
    },
    {
      "cell_type": "markdown",
      "metadata": {
        "id": "FX_h3tCnwgR4"
      },
      "source": [
        " </section>"
      ]
    },
    {
      "cell_type": "markdown",
      "metadata": {
        "id": "7e7hKcxn6-zd"
      },
      "source": [
        "## Define the components"
      ]
    },
    {
      "cell_type": "markdown",
      "metadata": {
        "id": "y54xnJnuYgJ7"
      },
      "source": [
        "### The Transformer Classifier with Learnable Positional Encoding"
      ]
    },
    {
      "cell_type": "markdown",
      "source": [
        "This model is based on last hidden state"
      ],
      "metadata": {
        "id": "6M0aKVuxRRtq"
      }
    },
    {
      "cell_type": "code",
      "source": [
        "def positional_encoding(length, depth):\n",
        "  depth = depth/2\n",
        "\n",
        "  positions = np.arange(length)[:, np.newaxis]     # (seq, 1)\n",
        "  depths = np.arange(depth)[np.newaxis, :]/depth   # (1, depth)\n",
        "\n",
        "  angle_rates = 1 / (10000**depths)         # (1, depth)\n",
        "  angle_rads = positions * angle_rates      # (pos, depth)\n",
        "\n",
        "  pos_encoding = np.concatenate(\n",
        "      [np.sin(angle_rads), np.cos(angle_rads)],\n",
        "      axis=-1)\n",
        "\n",
        "  return tf.cast(pos_encoding, dtype=tf.float32)\n",
        "\n",
        "\n",
        "\n",
        "# PositionalEmbedding with trainable positional encodings\n",
        "class PositionalEmbedding(tf.keras.layers.Layer):\n",
        "    \"\"\"Custom Keras layer that integrates trainable positional encodings with token embeddings.\n",
        "\n",
        "      This layer first creates an embedding matrix for the vocabulary and then adds trainable positional\n",
        "      encodings to the token embeddings. The idea is to allow the model to learn the optimal positional\n",
        "      encodings along with learning the token embeddings, which could provide more flexibility and\n",
        "      potentially better performance for certain datasets or problems.\n",
        "\n",
        "      Args:\n",
        "          vocab_size (int): Size of the vocabulary. This determines the number of rows in the embedding matrix.\n",
        "          d_model (int): The dimensionality of the embeddings. Each token is transformed into a vector of this size.\n",
        "          maxlen (int): The maximum length of input sequences this embedding layer will be used with. This defines\n",
        "                        the size of the positional encoding matrix, ensuring it can handle sequences up to this length.\n",
        "\n",
        "      Attributes:\n",
        "          d_model (int): Stored dimensionality of the embeddings, used for scaling the embeddings.\n",
        "          embedding (tf.keras.layers.Embedding): The embedding layer that transforms token indices into embeddings.\n",
        "          pos_encoding (tf.Variable): Trainable positional encodings added to token embeddings. Initialized with\n",
        "                                      random values and learned during training.    \"\"\"\n",
        "\n",
        "\n",
        "    def __init__(self, vocab_size, d_model, maxlen=2048, pretrained_embeddings=None):\n",
        "        super(PositionalEmbedding, self).__init__()\n",
        "        self.d_model = d_model\n",
        "        self.embedding = tf.keras.layers.Embedding(vocab_size, d_model, mask_zero=True)\n",
        "        self.pos_encoding = self.add_weight(\"pos_encoding\", shape=[maxlen, d_model], initializer=\"random_normal\", trainable=True)\n",
        "\n",
        "        # If pretrained embeddings are provided, set the weights of the embedding layer\n",
        "        if pretrained_embeddings is not None:\n",
        "            self.embedding.build((None,))\n",
        "            self.embedding.set_weights([pretrained_embeddings])\n",
        "\n",
        "    def compute_mask(self, *args, **kwargs):\n",
        "        return self.embedding.compute_mask(*args, **kwargs)\n",
        "\n",
        "    def call(self, x):\n",
        "      \"\"\"Adds positional encoding to token embeddings.\n",
        "\n",
        "        This method retrieves embeddings for input tokens and adds learned positional encodings\n",
        "        to these embeddings. The embeddings are also scaled by the square root of the model's\n",
        "        dimensionality, a common practice to help stabilize the learning.\n",
        "\n",
        "        Args:\n",
        "            x (tf.Tensor): Input tensor containing token indices of shape (batch_size, sequence_length).\n",
        "\n",
        "        Returns:\n",
        "            tf.Tensor: Output tensor of the same shape as `x` but with embeddings that now include\n",
        "                        positional information. The shape is (batch_size, sequence_length, d_model).\n",
        "        \"\"\"\n",
        "      length = tf.shape(x)[1] # Determine the sequence length of the current batch.\n",
        "      x = self.embedding(x) * tf.math.sqrt(tf.cast(self.d_model, tf.float32)) # Lookup token embeddings.\n",
        "      x += self.pos_encoding[:length, :] # Add the appropriate positional encodings up to the current sequence length.\n",
        "      return x\n",
        "\n",
        "\n",
        "# BaseAttention layer extended for self-attention mechanism\n",
        "class BaseAttention(tf.keras.layers.Layer):\n",
        "    def __init__(self, **kwargs):\n",
        "        super().__init__()\n",
        "        self.mha = tf.keras.layers.MultiHeadAttention(**kwargs)\n",
        "        self.layernorm = tf.keras.layers.LayerNormalization()\n",
        "        self.add = tf.keras.layers.Add()\n",
        "\n",
        "    def call(self, x):\n",
        "        attn_output = self.mha(query=x, value=x, key=x)\n",
        "        x = self.add([x, attn_output])\n",
        "        x = self.layernorm(x)\n",
        "        return x\n",
        "\n",
        "\n",
        "class GlobalSelfAttention(BaseAttention):\n",
        "  def call(self, x):\n",
        "    attn_output, attn_scores = self.mha(\n",
        "        query=x,\n",
        "        value=x,\n",
        "        key=x,\n",
        "        return_attention_scores=True)\n",
        "    x = self.add([x, attn_output])\n",
        "    x = self.layernorm(x)\n",
        "\n",
        "    # Cache the attention scores for plotting later.\n",
        "    self.last_attn_scores = attn_scores\n",
        "\n",
        "    return x\n",
        "class FeedForward(tf.keras.layers.Layer):\n",
        "    \"\"\"Defines a feed-forward network layer which is used in the transformer.\n",
        "\n",
        "      This class creates a two-layer neural network with a ReLU activation in between,\n",
        "      followed by dropout for regularization, and a residual connection around the network.\n",
        "\n",
        "      Args:\n",
        "          d_model (int): Dimensionality of the input and output.\n",
        "          dff (int): Dimensionality of the inner layer.\n",
        "          dropout_rate (float): Dropout rate.\n",
        "\n",
        "      Attributes:\n",
        "          seq (tf.keras.Sequential): Sequential model performing the feed-forward operation.\n",
        "          add (tf.keras.layers.Add): Layer to perform the addition in the residual connection.\n",
        "          layer_norm (tf.keras.layers.LayerNormalization): Layer to normalize the data.\n",
        "      \"\"\"\n",
        "    def __init__(self, d_model, dff, dropout_rate=0.1):\n",
        "      super().__init__()\n",
        "      self.seq = tf.keras.Sequential([\n",
        "        tf.keras.layers.Dense(dff, activation='relu'),  # First dense layer with ReLU\n",
        "        tf.keras.layers.Dense(d_model),                 # Second dense layer\n",
        "        tf.keras.layers.Dropout(dropout_rate)           # Dropout for regularization\n",
        "      ])\n",
        "      self.add = tf.keras.layers.Add()\n",
        "      self.layer_norm = tf.keras.layers.LayerNormalization()\n",
        "\n",
        "    def call(self, x):\n",
        "      \"\"\"Applies the feed-forward network to x with a residual connection followed by layer normalization.\n",
        "\n",
        "          Args:\n",
        "              x (tf.Tensor): Input tensor.\n",
        "\n",
        "          Returns:\n",
        "              tf.Tensor: Normalized output tensor.\n",
        "          \"\"\"\n",
        "      x = self.add([x, self.seq(x)])  # Apply residual connection\n",
        "      x = self.layer_norm(x)          # Normalize the output\n",
        "      return x\n",
        "\n",
        "# EncoderLayer combining self-attention and FeedForward\n",
        "class EncoderLayer(tf.keras.layers.Layer):\n",
        "    def __init__(self, *, d_model, num_heads, dff, dropout_rate=0.1):\n",
        "        super().__init__()\n",
        "        self.self_attention = GlobalSelfAttention(num_heads=num_heads, key_dim=d_model, dropout=dropout_rate)\n",
        "        self.ffn = FeedForward(d_model, dff)\n",
        "\n",
        "    def call(self, x):\n",
        "        x = self.self_attention(x)\n",
        "        x = self.ffn(x)\n",
        "        return x\n",
        "    @property\n",
        "    def last_attn_scores(self):\n",
        "      return self.self_attention.last_attn_scores\n",
        "\n",
        "\n",
        "\"\"\"\n",
        "# Encoder comprising multiple EncoderLayers\n",
        "class Encoder(tf.keras.layers.Layer):\n",
        "    def __init__(self, *, num_layers, d_model, num_heads, dff, vocab_size, dropout_rate=0.1, pretrained_embeddings=None):\n",
        "        super().__init__()\n",
        "        self.pos_embedding = PositionalEmbedding(vocab_size=vocab_size, d_model=d_model, pretrained_embeddings=pretrained_embeddings)\n",
        "        self.enc_layers = [EncoderLayer(d_model=d_model, num_heads=num_heads, dff=dff, dropout_rate=dropout_rate) for _ in range(num_layers)]\n",
        "        self.dropout = tf.keras.layers.Dropout(dropout_rate)\n",
        "\n",
        "    def call(self, x):\n",
        "        x = self.pos_embedding(x)\n",
        "        x = self.dropout(x)\n",
        "        for layer in self.enc_layers:\n",
        "            x = layer(x)\n",
        "        return x\n",
        "    @property\n",
        "    def last_attn_scores(self):\n",
        "      return self.enc_layers[-1].last_attn_scores\n",
        "\"\"\"\n",
        "class Encoder(tf.keras.layers.Layer):\n",
        "    def __init__(self, *, num_layers, d_model, num_heads, dff, vocab_size, dropout_rate=0.1, pretrained_embeddings=None):\n",
        "        super().__init__()\n",
        "        self.d_model = d_model\n",
        "        self.num_layers = num_layers\n",
        "        self.pos_embedding = PositionalEmbedding(vocab_size=vocab_size, d_model=d_model, pretrained_embeddings=pretrained_embeddings)\n",
        "        self.enc_layers = [\n",
        "            EncoderLayer(d_model=d_model,\n",
        "                         num_heads=num_heads,\n",
        "                         dff=dff,\n",
        "                         dropout_rate=dropout_rate)\n",
        "            for _ in range(num_layers)]\n",
        "        self.dropout = tf.keras.layers.Dropout(dropout_rate)\n",
        "\n",
        "    def call(self, x):\n",
        "      # `x` is token-IDs shape: (batch, seq_len)\n",
        "      #print(f\"Shape of inputs to encoder: {x.shape}\")  # Add this line\n",
        "      x = self.pos_embedding(x)\n",
        "      #print(f\"Shape after pos_embedding: {x.shape}\")  # Add this line\n",
        "\n",
        "\n",
        "      # Add dropout.\n",
        "      x = self.dropout(x)\n",
        "\n",
        "      for i in range(self.num_layers):\n",
        "        x = self.enc_layers[i](x)\n",
        "\n",
        "      #print(\"length: \", x.dtype)\n",
        "      return x  # Shape `(batch_size, seq_len, d_model)`.\n",
        "\n",
        "\n",
        "    @property\n",
        "    def last_attn_scores(self):\n",
        "      return self.enc_layers[-1].last_attn_scores\n",
        "\n",
        "# Transformer classifier model\n",
        "class TransformerClassifier(tf.keras.Model):\n",
        "    def __init__(self, *, num_layers, d_model, num_heads, dff, input_vocab_size, dropout_rate=0.1, pretrained_embeddings=None ):\n",
        "        super().__init__()\n",
        "        self.encoder = Encoder(num_layers=num_layers,\n",
        "                               d_model=d_model,\n",
        "                               num_heads=num_heads,\n",
        "                               dff=dff,\n",
        "                               vocab_size=input_vocab_size,\n",
        "                               dropout_rate=dropout_rate,\n",
        "                               pretrained_embeddings=pretrained_embeddings)\n",
        "        self.final_layer = tf.keras.layers.Dense(1, activation='sigmoid')\n",
        "\n",
        "    def call(self, inputs):\n",
        "        context = self.encoder(inputs)\n",
        "        logits = self.final_layer(context[:, -1, :])  # Take last hidden state\n",
        "        return logits"
      ],
      "metadata": {
        "id": "GyyESE_xhsqW"
      },
      "execution_count": null,
      "outputs": []
    },
    {
      "cell_type": "markdown",
      "metadata": {
        "id": "g08YOE-zHRqY"
      },
      "source": [
        "# Try it out"
      ]
    },
    {
      "cell_type": "markdown",
      "source": [
        "###Location of Saved Model and Results"
      ],
      "metadata": {
        "id": "TdH9cAACIvr9"
      }
    },
    {
      "cell_type": "markdown",
      "source": [
        "Optional: run again if you wish to change the directory where its saved"
      ],
      "metadata": {
        "id": "dbzoD922PRIb"
      }
    },
    {
      "cell_type": "code",
      "source": [
        "checkpoint_dir = './Final_Work/lp_plus_attn_enh_cl_more_lp_tx_2h_2l_tweet_emb_d06_dff256_ep12/'\n",
        "checkpoint_dir"
      ],
      "metadata": {
        "colab": {
          "base_uri": "https://localhost:8080/",
          "height": 36
        },
        "id": "IH5r2hlsgheE",
        "outputId": "259c5c7f-c563-4507-bb39-03d65c94fdb4"
      },
      "execution_count": null,
      "outputs": [
        {
          "output_type": "execute_result",
          "data": {
            "text/plain": [
              "'./Final_Work/lp_plus_attn_enh_cl_more_lp_tx_2h_2l_tweet_emb_d06_dff256_ep12/'"
            ],
            "application/vnd.google.colaboratory.intrinsic+json": {
              "type": "string"
            }
          },
          "metadata": {},
          "execution_count": 73
        }
      ]
    },
    {
      "cell_type": "code",
      "source": [
        "if not os.path.exists(checkpoint_dir):\n",
        "    os.makedirs(checkpoint_dir)\n"
      ],
      "metadata": {
        "id": "GpRgsRFtI1Qb"
      },
      "execution_count": null,
      "outputs": []
    },
    {
      "cell_type": "markdown",
      "metadata": {
        "id": "wsINyf1VEQLC"
      },
      "source": [
        "### Hyperparameters"
      ]
    },
    {
      "cell_type": "markdown",
      "metadata": {
        "id": "IjwMq_ixlzd5"
      },
      "source": [
        "\n",
        "\n",
        "The base model described in the original Transformer paper used `num_layers=6`, `d_model=512`, and `dff=2048`.\n",
        "\n",
        "The number of self-attention heads remains the same (`num_heads=8`).\n",
        "\n",
        "We save the hyperparameters on the drive with the same trained model\n"
      ]
    },
    {
      "cell_type": "code",
      "source": [
        "\n",
        "# Specify the path where you want to save the CSV\n",
        "save_path = './'+checkpoint_dir+'/hyperparameters.csv'\n",
        "\n",
        "\n",
        "hyperparameters = {\n",
        "    'num_layers': 2,\n",
        "    'd_model': 100,\n",
        "    'dff': 256,\n",
        "    'num_heads': 2,\n",
        "    'dropout_rate': 0.6\n",
        "}\n",
        "\n",
        "# Convert the hyperparameters dictionary to a DataFrame\n",
        "hyperparameters_df = pd.DataFrame([hyperparameters])\n",
        "\n",
        "# Save the DataFrame to a CSV file\n",
        "hyperparameters_df.to_csv(save_path, index=False)\n"
      ],
      "metadata": {
        "id": "GQ-uIJ8v5-8R"
      },
      "execution_count": null,
      "outputs": []
    },
    {
      "cell_type": "code",
      "source": [
        "# Load the hyperparameters from the CSV file\n",
        "loaded_hyperparameters_df = pd.read_csv(save_path)\n",
        "\n",
        "# Access the hyperparameters\n",
        "loaded_hyperparameters = loaded_hyperparameters_df.iloc[0].to_dict()\n",
        "\n",
        "#HYPERPARAMETERS\n",
        "num_layers = int(loaded_hyperparameters['num_layers'])\n",
        "d_model = int(loaded_hyperparameters['d_model'])\n",
        "num_heads = int(loaded_hyperparameters['num_heads'])\n",
        "dff = int(loaded_hyperparameters['dff'])\n",
        "dropout_rate = float(loaded_hyperparameters['dropout_rate'])\n"
      ],
      "metadata": {
        "id": "rLpjFbHOlNa8"
      },
      "execution_count": null,
      "outputs": []
    },
    {
      "cell_type": "markdown",
      "source": [
        "###Load the Pre-Trained Embeddings"
      ],
      "metadata": {
        "id": "9AY2Sa4VLNwF"
      }
    },
    {
      "cell_type": "code",
      "source": [
        "path_to_embeddings =None"
      ],
      "metadata": {
        "id": "M954A-5hh1z3"
      },
      "execution_count": null,
      "outputs": []
    },
    {
      "cell_type": "code",
      "source": [
        "# Load the embeddings from the CSV file\n",
        "path_to_embeddings = 'fast_text_twitter_embeddings.csv'\n",
        "loaded_embeddings_df = pd.read_csv(path_to_embeddings)\n",
        "loaded_embeddings = loaded_embeddings_df.values\n",
        "\n",
        "# Create a new PositionalEmbedding layer for the new model\n",
        "new_pos_embedding_layer = PositionalEmbedding(\n",
        "    vocab_size=len(tokenizer.word_index) + 1,\n",
        "    d_model=d_model,\n",
        "    pretrained_embeddings=loaded_embeddings\n",
        ")"
      ],
      "metadata": {
        "id": "2bZAMu8OLNQQ"
      },
      "execution_count": null,
      "outputs": []
    },
    {
      "cell_type": "code",
      "source": [
        "loaded_embeddings.shape"
      ],
      "metadata": {
        "colab": {
          "base_uri": "https://localhost:8080/"
        },
        "id": "jCIYp6ASObVs",
        "outputId": "80a38682-d325-4196-ed82-f3961133f90c"
      },
      "execution_count": null,
      "outputs": [
        {
          "output_type": "execute_result",
          "data": {
            "text/plain": [
              "(17984, 100)"
            ]
          },
          "metadata": {},
          "execution_count": 78
        }
      ]
    },
    {
      "cell_type": "markdown",
      "metadata": {
        "id": "yYbXDEhhlzd6"
      },
      "source": [
        "###Instantiate the `Transformer` model:"
      ]
    },
    {
      "cell_type": "code",
      "source": [
        "\n",
        "transformer = TransformerClassifier(\n",
        "    num_layers=num_layers,\n",
        "    d_model=d_model,\n",
        "    num_heads=num_heads,\n",
        "    dff=dff,\n",
        "    input_vocab_size=len(tokenizer.word_index) + 1,\n",
        "    dropout_rate=dropout_rate,\n",
        "    pretrained_embeddings=loaded_embeddings #new\n",
        ")\n",
        "\n",
        "\n",
        "# Instantiate the transformer model\n",
        "#model2 = TransformerClassifier(\n",
        "    #num_layers=2,\n",
        "    #d_model=100,\n",
        "    #num_heads=8,\n",
        "    #dff=512,\n",
        "    #input_vocab_size=max(tokenizer.word_index.values()) + 1,\n",
        "    #dropout_rate=0.2)\n",
        "\n"
      ],
      "metadata": {
        "id": "8XdL0RB168F2"
      },
      "execution_count": null,
      "outputs": []
    },
    {
      "cell_type": "markdown",
      "source": [
        "####Extract initial weights"
      ],
      "metadata": {
        "id": "80ZOIDWnEW6A"
      }
    },
    {
      "cell_type": "markdown",
      "source": [
        "Build the transformer to extract initial word weights (for later analysis)"
      ],
      "metadata": {
        "id": "isz93EeuwGAM"
      }
    },
    {
      "cell_type": "code",
      "source": [
        "\n",
        "# Build the transformer to initialize weights\n",
        "transformer.build(input_shape=(None, MAX_TOKENS))\n",
        "\n",
        "# Access the weights of the embedding layer within the PositionalEmbedding layer\n",
        "initial_embeddings = transformer.encoder.pos_embedding.embedding.get_weights()[0]\n"
      ],
      "metadata": {
        "id": "s23I333Wv_5_"
      },
      "execution_count": null,
      "outputs": []
    },
    {
      "cell_type": "markdown",
      "source": [
        "The words size list is dependent on the data wrangling done before it. If the data warngling and tokenization doesnt change then the embeddings will not change, and we can start loading hte embeddings instead of randomly creating them on start."
      ],
      "metadata": {
        "id": "9CTqUdMLo-Tp"
      }
    },
    {
      "cell_type": "markdown",
      "source": [
        "The initial embeddings should be just the loaded embeddings, below am doing a sanity check"
      ],
      "metadata": {
        "id": "x228xd-ZO2IH"
      }
    },
    {
      "cell_type": "code",
      "source": [
        "initial_embeddings.shape, initial_embeddings[1]"
      ],
      "metadata": {
        "colab": {
          "base_uri": "https://localhost:8080/"
        },
        "id": "Mveleg9Twxga",
        "outputId": "817be9c9-415b-45d4-ff7f-2dcf30c02ed8"
      },
      "execution_count": null,
      "outputs": [
        {
          "output_type": "execute_result",
          "data": {
            "text/plain": [
              "((17984, 100),\n",
              " array([-3.4806e-01,  4.6123e-01, -2.1694e-01,  6.1845e-02,  2.3122e-02,\n",
              "        -4.4194e-01, -2.8939e-01, -1.4042e-01,  2.0356e-01, -1.4766e-03,\n",
              "         1.4099e-01,  1.6973e-01, -2.5894e-01,  1.1918e-01, -5.6644e-02,\n",
              "        -1.9194e-01, -4.6347e-01, -2.3882e-01, -4.2290e-01,  1.1425e-01,\n",
              "        -2.7304e-02,  2.0090e-01, -8.0673e-02,  1.7944e-01, -4.0131e-01,\n",
              "         4.2389e-01,  8.1304e-02,  3.9369e-01, -6.6077e-02, -3.1873e-01,\n",
              "         2.7647e-01,  4.5163e-01, -3.2050e-01, -8.9602e-05,  8.9974e-01,\n",
              "        -4.2211e-01, -4.1124e-01, -1.8637e-02,  6.1292e-01, -3.5513e-01,\n",
              "         2.9589e-01,  3.1024e-01,  5.1241e-01,  4.6033e-01, -3.3272e-01,\n",
              "         1.2669e-01, -6.3074e-02, -5.8398e-02, -4.7630e-01,  3.9685e-01,\n",
              "        -4.0602e-01, -6.9270e-01, -6.0114e-01,  3.2997e-01, -2.6665e-01,\n",
              "        -7.2613e-01, -6.1922e-01, -4.7685e-01, -2.4736e-01,  1.6644e-01,\n",
              "        -1.8508e-01,  2.0447e-01,  2.3464e-01, -8.0302e-02,  1.1650e+00,\n",
              "        -1.2155e-02, -2.4816e-01, -2.7170e-02, -3.3387e-01,  3.4174e-01,\n",
              "        -6.8687e-01,  7.0614e-01,  1.6891e-01,  1.3400e-02,  3.5246e-01,\n",
              "        -3.7677e-02,  4.1160e-01, -1.8286e-01,  4.2182e-01,  1.6571e-01,\n",
              "         1.2066e-01, -1.7407e-01, -1.7991e-01,  1.4452e-02,  2.1754e-01,\n",
              "         9.9649e-01, -1.0134e-03, -2.3007e-02, -1.8162e-01, -3.1818e-01,\n",
              "        -3.6765e-01, -6.0209e-01,  3.0666e-01, -2.0385e-01, -3.6655e-02,\n",
              "         5.7922e-01,  4.5266e-01,  7.1265e-02, -3.5784e-02, -3.4018e-01],\n",
              "       dtype=float32))"
            ]
          },
          "metadata": {},
          "execution_count": 86
        }
      ]
    },
    {
      "cell_type": "code",
      "source": [
        "loaded_embeddings.shape, loaded_embeddings[1]"
      ],
      "metadata": {
        "id": "H4p4T8EPOsQ2",
        "colab": {
          "base_uri": "https://localhost:8080/"
        },
        "outputId": "1f5c54bd-fcb3-45aa-a440-25bdade2f24c"
      },
      "execution_count": null,
      "outputs": [
        {
          "output_type": "execute_result",
          "data": {
            "text/plain": [
              "((17984, 100),\n",
              " array([-3.48060012e-01,  4.61230010e-01, -2.16940001e-01,  6.18450008e-02,\n",
              "         2.31219996e-02, -4.41940010e-01, -2.89389998e-01, -1.40420005e-01,\n",
              "         2.03559995e-01, -1.47659995e-03,  1.40990004e-01,  1.69729993e-01,\n",
              "        -2.58940011e-01,  1.19180001e-01, -5.66440001e-02, -1.91939995e-01,\n",
              "        -4.63470012e-01, -2.38820001e-01, -4.22899991e-01,  1.14249997e-01,\n",
              "        -2.73039993e-02,  2.00900003e-01, -8.06730017e-02,  1.79440007e-01,\n",
              "        -4.01309997e-01,  4.23889995e-01,  8.13039988e-02,  3.93689990e-01,\n",
              "        -6.60770014e-02, -3.18729997e-01,  2.76470006e-01,  4.51629996e-01,\n",
              "        -3.20499986e-01, -8.96019992e-05,  8.99739981e-01, -4.22109991e-01,\n",
              "        -4.11240011e-01, -1.86369997e-02,  6.12919986e-01, -3.55129987e-01,\n",
              "         2.95890003e-01,  3.10240000e-01,  5.12409985e-01,  4.60330009e-01,\n",
              "        -3.32720011e-01,  1.26690000e-01, -6.30740002e-02, -5.83980009e-02,\n",
              "        -4.76300001e-01,  3.96849990e-01, -4.06019986e-01, -6.92700028e-01,\n",
              "        -6.01140022e-01,  3.29970002e-01, -2.66649991e-01, -7.26130009e-01,\n",
              "        -6.19220018e-01, -4.76850003e-01, -2.47360006e-01,  1.66439995e-01,\n",
              "        -1.85080007e-01,  2.04469994e-01,  2.34640002e-01, -8.03020000e-02,\n",
              "         1.16499996e+00, -1.21550001e-02, -2.48160005e-01, -2.71700006e-02,\n",
              "        -3.33869994e-01,  3.41740012e-01, -6.86869979e-01,  7.06139982e-01,\n",
              "         1.68909997e-01,  1.33999996e-02,  3.52459997e-01, -3.76770012e-02,\n",
              "         4.11599994e-01, -1.82860002e-01,  4.21820015e-01,  1.65710002e-01,\n",
              "         1.20660000e-01, -1.74070001e-01, -1.79910004e-01,  1.44520001e-02,\n",
              "         2.17539996e-01,  9.96490002e-01, -1.01340003e-03, -2.30069999e-02,\n",
              "        -1.81620002e-01, -3.18179995e-01, -3.67650002e-01, -6.02090001e-01,\n",
              "         3.06659997e-01, -2.03850001e-01, -3.66550013e-02,  5.79219997e-01,\n",
              "         4.52659994e-01,  7.12649971e-02, -3.57839987e-02, -3.40180010e-01]))"
            ]
          },
          "metadata": {},
          "execution_count": 87
        }
      ]
    },
    {
      "cell_type": "markdown",
      "source": [
        "####Name the Model"
      ],
      "metadata": {
        "id": "GWwFDeBJD5t9"
      }
    },
    {
      "cell_type": "code",
      "source": [
        "#model created with cleaned enhanced data set and initialize with randome ebeddings and 2 attention heads\n",
        "model_base_name = 'lp_plus_attn_cl_enh_more_dat_tx_w_tweet_2h12l_ep12_d06_dff256'"
      ],
      "metadata": {
        "id": "0Hj_-5UFqu4U"
      },
      "execution_count": null,
      "outputs": []
    },
    {
      "cell_type": "markdown",
      "source": [
        "####Create Readme File"
      ],
      "metadata": {
        "id": "lU93v8HTqv_W"
      }
    },
    {
      "cell_type": "code",
      "source": [
        "\n",
        "\n",
        "# Assuming 'initial_embeddings' contains the weights from the embedding layer\n",
        "#even if they were loaded\n",
        "initial_embeddings_df = pd.DataFrame(initial_embeddings)\n",
        "save_to = checkpoint_dir + 'initial_embeddings.csv'\n",
        "initial_embeddings_df.to_csv(save_to, index=False)\n",
        "# Define the directory and file name\n",
        "directory = checkpoint_dir\n",
        "file_name = 'initial_embeddings.csv'\n",
        "how_were_embeddings_created ='loaded from FastText Twitter pre-trained embeddings'\n",
        "#how_were_embeddings_created ='created at random using seed 45'\n",
        "note = \"ADDED ATTENTION WEIGHTS RETURN MECHANISM. Traiining with two head two layers and drop rate 0.6 Running 12 epochs with 90% 10% split in train/val and dff = 256 \\\n",
        "and Learnable Positional Encoding, This is the 3rd run for adding pre-trained embeddings\"\n",
        "\n",
        "readme_content = f\"\"\"README\n",
        "\n",
        "\n",
        "Note: {note}\n",
        "These embeddings were {how_were_embeddings_created}.\n",
        "These  embeddings are associated with the model checkpoints saved during training pertaining to the model with\n",
        "base name '{model_base_name}', these word embeddings\n",
        "can be used for a pre- and post- training analysis of the training effects to each word embedding.\n",
        "The initial state of the  word embeddings before training are saved in the '{directory}' directory.\n",
        "The file '{file_name}' contains the embeddings in CSV format.\n",
        "\n",
        "The hyperparameters for this model ara saved on this directory in hyperparameters.csv file\n",
        "The results of this training run will be saved under CSV_Results-{model_base_name }'.csv file.\n",
        "The learning schedule plot, training loss plot and training model summary will also saved in this directory.\n",
        "\"\"\"\n",
        "# path\n",
        "readme_file_path = f'{directory}/readme.txt'\n",
        "\n",
        "# Write the readme content to the file\n",
        "with open(readme_file_path, 'w') as readme_file:\n",
        "    readme_file.write(readme_content)\n",
        "\n",
        "# Print a success message\n",
        "print(f\"The readme.txt file has been successfully written to the '{directory}' directory.\")\n",
        "\n",
        "print(readme_content)"
      ],
      "metadata": {
        "colab": {
          "base_uri": "https://localhost:8080/"
        },
        "id": "DK3FYzFg3MtQ",
        "outputId": "feb5d2fd-d431-47b1-ac86-7f5202f65d8a"
      },
      "execution_count": null,
      "outputs": [
        {
          "output_type": "stream",
          "name": "stdout",
          "text": [
            "The readme.txt file has been successfully written to the './Final_Work/lp_plus_attn_enh_cl_more_lp_tx_2h_2l_tweet_emb_d06_dff256_ep12/' directory.\n",
            "README\n",
            "\n",
            "\n",
            "Note: ADDED ATTENTION WEIGHTS RETURN MECHANISM. Traiining with two head two layers and drop rate 0.6 Running 12 epochs with 90% 10% split in train/val and dff = 256 and Learnable Positional Encoding, This is the 3rd run for adding pre-trained embeddings\n",
            "These embeddings were loaded from FastText Twitter pre-trained embeddings.\n",
            "These  embeddings are associated with the model checkpoints saved during training pertaining to the model with\n",
            "base name 'lp_plus_attn_cl_enh_more_dat_tx_w_tweet_2h12l_ep12_d06_dff256', these word embeddings\n",
            "can be used for a pre- and post- training analysis of the training effects to each word embedding.\n",
            "The initial state of the  word embeddings before training are saved in the './Final_Work/lp_plus_attn_enh_cl_more_lp_tx_2h_2l_tweet_emb_d06_dff256_ep12/' directory.\n",
            "The file 'initial_embeddings.csv' contains the embeddings in CSV format.\n",
            "\n",
            "The hyperparameters for this model ara saved on this directory in hyperparameters.csv file\n",
            "The results of this training run will be saved under CSV_Results-lp_plus_attn_cl_enh_more_dat_tx_w_tweet_2h12l_ep12_d06_dff256'.csv file.\n",
            "The learning schedule plot, training loss plot and training model summary will also saved in this directory.\n",
            "\n"
          ]
        }
      ]
    },
    {
      "cell_type": "markdown",
      "source": [
        "####Plotting Tool and Saving History"
      ],
      "metadata": {
        "id": "1n-x8IiMq4CQ"
      }
    },
    {
      "cell_type": "code",
      "source": [
        "def plot_history(history, checkpoint_dir):\n",
        "  plt.ylabel('Loss')\n",
        "  plt.xlabel('Epoch')\n",
        "  plt.xticks(range(0, len(history['loss'] + 1)))\n",
        "  plt.plot(history['loss'], label=\"training\", marker='o')\n",
        "  plt.plot(history['val_loss'], label=\"validation\", marker='o')\n",
        "  plt.legend()\n",
        "  plt.savefig(checkpoint_dir+'loss_history_plot.png')\n",
        "  plt.show()"
      ],
      "metadata": {
        "id": "I6bFnSYqB1Qk"
      },
      "execution_count": null,
      "outputs": []
    },
    {
      "cell_type": "code",
      "source": [
        "def history_to_csv(history, num_layers, d_model, num_heads, dff, dropout_rate, model_base_name, load_data, checkpoint_dir, path_to_embeddings):\n",
        "    # Assuming 'history' is your DataFrame\n",
        "    history_copy = history.copy(deep=True)\n",
        "\n",
        "    # Add 'Epoch' column\n",
        "    history_copy['Epoch'] = range(1, len(history_copy) + 1)\n",
        "     # Add 'name' and 'data' columns\n",
        "    history_copy['name'] = model_base_name\n",
        "\n",
        "    history_copy['data'] = load_data\n",
        "    if(path_to_embeddings):\n",
        "      history_copy['word_embeddings'] = path_to_embeddings\n",
        "    # Add hyperparameters\n",
        "    history_copy['num_layers'] = num_layers\n",
        "    history_copy['d_model'] = d_model\n",
        "    history_copy['num_heads'] = num_heads\n",
        "    history_copy['dff'] = dff\n",
        "    history_copy['dropout_rate'] = dropout_rate\n",
        "\n",
        "\n",
        "\n",
        "    # Save to CSV\n",
        "    csv_file_name = \"CSV_Results-\" + model_base_name + \".csv\"\n",
        "    csv_file_path = os.path.join(checkpoint_dir, csv_file_name)\n",
        "    history_copy.to_csv(csv_file_path, index=False)"
      ],
      "metadata": {
        "id": "WokzCNqzzGuf"
      },
      "execution_count": null,
      "outputs": []
    },
    {
      "cell_type": "markdown",
      "metadata": {
        "id": "_jTvJsXquaHW"
      },
      "source": [
        "####Save and Print the summary of the model:"
      ]
    },
    {
      "cell_type": "code",
      "execution_count": null,
      "metadata": {
        "id": "IsUPhlfEtOjn",
        "colab": {
          "base_uri": "https://localhost:8080/"
        },
        "outputId": "cc23b987-0033-4c23-aeda-17e77deb2852"
      },
      "outputs": [
        {
          "output_type": "stream",
          "name": "stdout",
          "text": [
            "Model: \"transformer_classifier_5\"\n",
            "_________________________________________________________________\n",
            " Layer (type)                Output Shape              Param #   \n",
            "=================================================================\n",
            " encoder_4 (Encoder)         multiple                  2268512   \n",
            "                                                                 \n",
            " dense_20 (Dense)            multiple                  101       \n",
            "                                                                 \n",
            "=================================================================\n",
            "Total params: 2268613 (8.65 MB)\n",
            "Trainable params: 2268613 (8.65 MB)\n",
            "Non-trainable params: 0 (0.00 Byte)\n",
            "_________________________________________________________________\n",
            "None\n"
          ]
        }
      ],
      "source": [
        "#print(transformer.summary())\n",
        "\n",
        "with open(checkpoint_dir+'model_summary.txt', 'w') as f:\n",
        "    transformer.summary(print_fn=lambda x: f.write(x + '\\n'))\n",
        "print(transformer.summary())\n"
      ]
    },
    {
      "cell_type": "code",
      "source": [
        "from tensorflow.keras.utils import plot_model\n",
        "plot_model(transformer, to_file=\"model_diagram.png\", show_shapes=True, show_layer_names=True)"
      ],
      "metadata": {
        "colab": {
          "base_uri": "https://localhost:8080/",
          "height": 77
        },
        "id": "U4Y2whmn9Y2z",
        "outputId": "4b5f7cf6-851f-4582-9497-36f7e03ac649"
      },
      "execution_count": null,
      "outputs": [
        {
          "output_type": "execute_result",
          "data": {
            "image/png": "[encoded data removed]",
            "text/plain": [
              "<IPython.core.display.Image object>"
            ]
          },
          "metadata": {},
          "execution_count": 92
        }
      ]
    },
    {
      "cell_type": "markdown",
      "metadata": {
        "id": "EfoBfC2oQtEy"
      },
      "source": [
        "# Training\n",
        "\n",
        "It's time to prepare the model and start training it."
      ]
    },
    {
      "cell_type": "markdown",
      "metadata": {
        "id": "xYEGhEOtzn5W"
      },
      "source": [
        "### Set up the optimizer"
      ]
    },
    {
      "cell_type": "markdown",
      "metadata": {
        "id": "SL4G5bS6lzd5"
      },
      "source": [
        "Use the Adam optimizer with a custom learning rate scheduler according to the formula in the original Transformer [paper](https://arxiv.org/abs/1706.03762).\n",
        "\n",
        "$$\\Large{lrate = d_{model}^{-0.5} * \\min(step{\\_}num^{-0.5}, step{\\_}num \\cdot warmup{\\_}steps^{-1.5})}$$"
      ]
    },
    {
      "cell_type": "code",
      "execution_count": null,
      "metadata": {
        "id": "iYQdOO1axwEI"
      },
      "outputs": [],
      "source": [
        "# Define the learning rate scheduler\n",
        "class CustomSchedule(tf.keras.optimizers.schedules.LearningRateSchedule):\n",
        "    def __init__(self, d_model, warmup_steps=4000):\n",
        "        super().__init__()\n",
        "        self.d_model = tf.cast(d_model, tf.float32)  # Ensure d_model is a float\n",
        "        self.warmup_steps = tf.cast(warmup_steps, tf.float32)  # Ensure warmup_steps is a float\n",
        "\n",
        "    def __call__(self, step):\n",
        "        step = tf.cast(step, tf.float32)  # Cast step to float32 to ensure compatibility\n",
        "        arg1 = tf.math.rsqrt(step)\n",
        "        arg2 = step * (self.warmup_steps ** -1.5)\n",
        "\n",
        "        # Ensure division by sqrt of d_model\n",
        "        return tf.math.rsqrt(self.d_model) * tf.math.minimum(arg1, arg2)\n",
        "\n",
        "    def get_config(self):\n",
        "        return {\n",
        "            \"d_model\": self.d_model.numpy(),  # Return python float\n",
        "            \"warmup_steps\": self.warmup_steps.numpy()  # Return python float\n",
        "        }\n",
        "\n"
      ]
    },
    {
      "cell_type": "markdown",
      "metadata": {
        "id": "YgkDE7hzo8r5"
      },
      "source": [
        "### Set up the loss and metrics"
      ]
    },
    {
      "cell_type": "code",
      "source": [
        "#updated\n",
        "learning_rate = CustomSchedule(d_model)\n",
        "\n",
        "optimizer = tf.keras.optimizers.Adam(learning_rate, beta_1=0.9, beta_2=0.98,\n",
        "                                     epsilon=1e-9)\n",
        "\n",
        "\n",
        "# Instantiate the optimizer\n",
        "#optimizer = tf.keras.optimizers.Adam(learning_rate=CustomSchedule(d_model=100),\n",
        "                                     #beta_1=0.9, beta_2=0.98, epsilon=1e-9)\n",
        "\n"
      ],
      "metadata": {
        "id": "cnvxm8MpE2u9"
      },
      "execution_count": null,
      "outputs": []
    },
    {
      "cell_type": "markdown",
      "metadata": {
        "id": "fTb2S4RnQ8DU"
      },
      "source": [
        "Test the custom learning rate scheduler:"
      ]
    },
    {
      "cell_type": "code",
      "execution_count": null,
      "metadata": {
        "id": "Xij3MwYVRAAS",
        "colab": {
          "base_uri": "https://localhost:8080/",
          "height": 449
        },
        "outputId": "333e970b-fa49-469f-dec9-5dcdd014e3ed"
      },
      "outputs": [
        {
          "output_type": "display_data",
          "data": {
            "text/plain": [
              "<Figure size 640x480 with 1 Axes>"
            ],
            "image/png": "[encoded data removed]"
          },
          "metadata": {}
        }
      ],
      "source": [
        "plt.plot(learning_rate(tf.range(40000, dtype=tf.float32)))\n",
        "plt.ylabel('Learning Rate')\n",
        "plt.xlabel('Train Step')\n",
        "plt.savefig(checkpoint_dir+'learning_rate_plot.png')"
      ]
    },
    {
      "cell_type": "markdown",
      "metadata": {
        "id": "fzXq5LWgRN63"
      },
      "source": [
        "Instantiate the optimizer (in this example it's `tf.keras.optimizers.Adam`):"
      ]
    },
    {
      "cell_type": "markdown",
      "metadata": {
        "id": "Mk8vwuN24hafK"
      },
      "source": [
        "With all the components ready, configure the training procedure using `model.compile`, and then run it with `model.fit`:\n",
        "\n",
        "Note: This takes about an hour to train in Colab."
      ]
    },
    {
      "cell_type": "markdown",
      "source": [
        "##Save best model"
      ],
      "metadata": {
        "id": "mHaNJztRAUpE"
      }
    },
    {
      "cell_type": "code",
      "source": [
        "\n",
        "checkpoint_filepath = checkpoint_dir +model_base_name +'.{epoch:02d}-{val_accuracy:.2f}'\n",
        "checkpoint_filepath"
      ],
      "metadata": {
        "colab": {
          "base_uri": "https://localhost:8080/",
          "height": 54
        },
        "id": "vKCmBK7u7ar3",
        "outputId": "dc496f92-e7c7-4fc7-f149-f6f6605d93e1"
      },
      "execution_count": null,
      "outputs": [
        {
          "output_type": "execute_result",
          "data": {
            "text/plain": [
              "'./Final_Work/lp_plus_attn_enh_cl_more_lp_tx_2h_2l_tweet_emb_d06_dff256_ep12/lp_plus_attn_cl_enh_more_dat_tx_w_tweet_2h12l_ep12_d06_dff256.{epoch:02d}-{val_accuracy:.2f}'"
            ],
            "application/vnd.google.colaboratory.intrinsic+json": {
              "type": "string"
            }
          },
          "metadata": {},
          "execution_count": 96
        }
      ]
    },
    {
      "cell_type": "code",
      "source": [
        "from keras import losses\n",
        "\n",
        "\n",
        "callbacks_list = [\n",
        "    keras.callbacks.ModelCheckpoint(\n",
        "        filepath=checkpoint_filepath, #checkpoint_filepath define earlier in this notebook\n",
        "        monitor=\"val_loss\", #'val_loss'\n",
        "        save_best_only=False,\n",
        "        save_weights_only=True,  # Add this line\n",
        "    )\n",
        "]\n"
      ],
      "metadata": {
        "id": "vZCijhAPEX75"
      },
      "execution_count": null,
      "outputs": []
    },
    {
      "cell_type": "markdown",
      "source": [
        "####Compile the Model"
      ],
      "metadata": {
        "id": "SG4IWGdfAigm"
      }
    },
    {
      "cell_type": "code",
      "source": [
        "\n",
        "transformer.compile(\n",
        "    loss='binary_crossentropy',\n",
        "    optimizer=optimizer,\n",
        "    metrics=['accuracy'],\n",
        "    run_eagerly=True)\n",
        "\n",
        "# Compile model\n",
        "#model2.compile(\n",
        "#    loss='binary_crossentropy',\n",
        "#    optimizer=optimizer,\n",
        "#    metrics=['accuracy'],\n",
        "#    run_eagerly=False)\n",
        "\n",
        "# Define checkpointing\n",
        "#checkpoint_dir = './model_checkpoints/'\n",
        "#checkpoint_filepath = checkpoint_dir + 'tx_w_embeddings_cl2.{epoch:02d}-{val_accuracy:.2f}'\n",
        "\n",
        "#callbacks_list = [\n",
        "#    tf.keras.callbacks.ModelCheckpoint(\n",
        "#        filepath=checkpoint_filepath,\n",
        "#        monitor=\"val_loss\",\n",
        "#        save_best_only=True,\n",
        "#        save_weights_only=True,\n",
        "#    )]\n",
        "\n"
      ],
      "metadata": {
        "id": "iGOD9UKLAgz5"
      },
      "execution_count": null,
      "outputs": []
    },
    {
      "cell_type": "markdown",
      "source": [
        "####Start Training"
      ],
      "metadata": {
        "id": "qCqXKL-Bzx0U"
      }
    },
    {
      "cell_type": "code",
      "source": [
        "history = transformer.fit(train_dataset, epochs=12, validation_data=val_dataset, callbacks=callbacks_list)\n",
        "\n",
        "# Convert the return value into a DataFrame so we can see the train loss\n",
        "# and binary accuracy after every epoch.\n",
        "history = pd.DataFrame(history.history)\n",
        "plot_history(history, checkpoint_dir)\n",
        "history_to_csv(history, num_layers, d_model, num_heads, dff, dropout_rate, model_base_name, load_data, checkpoint_dir, path_to_embeddings)\n"
      ],
      "metadata": {
        "colab": {
          "base_uri": "https://localhost:8080/",
          "height": 883
        },
        "id": "Uzf9O-bRCY7V",
        "outputId": "8cde7363-4400-4eab-9c06-e2ddbef12b65"
      },
      "execution_count": null,
      "outputs": [
        {
          "output_type": "stream",
          "name": "stdout",
          "text": [
            "Epoch 1/12\n",
            "108/108 [==============================] - 29s 272ms/step - loss: 0.7671 - accuracy: 0.5328 - val_loss: 0.6197 - val_accuracy: 0.6969\n",
            "Epoch 2/12\n",
            "108/108 [==============================] - 30s 273ms/step - loss: 0.6522 - accuracy: 0.6386 - val_loss: 0.5234 - val_accuracy: 0.7625\n",
            "Epoch 3/12\n",
            "108/108 [==============================] - 29s 271ms/step - loss: 0.5924 - accuracy: 0.6868 - val_loss: 0.5034 - val_accuracy: 0.7493\n",
            "Epoch 4/12\n",
            "108/108 [==============================] - 29s 271ms/step - loss: 0.5577 - accuracy: 0.7211 - val_loss: 0.5025 - val_accuracy: 0.7651\n",
            "Epoch 5/12\n",
            "108/108 [==============================] - 29s 271ms/step - loss: 0.5317 - accuracy: 0.7409 - val_loss: 0.5156 - val_accuracy: 0.7362\n",
            "Epoch 6/12\n",
            "108/108 [==============================] - 29s 270ms/step - loss: 0.5211 - accuracy: 0.7470 - val_loss: 0.4583 - val_accuracy: 0.7992\n",
            "Epoch 7/12\n",
            "108/108 [==============================] - 29s 270ms/step - loss: 0.4892 - accuracy: 0.7749 - val_loss: 0.4386 - val_accuracy: 0.8136\n",
            "Epoch 8/12\n",
            "108/108 [==============================] - 29s 267ms/step - loss: 0.4888 - accuracy: 0.7727 - val_loss: 0.4277 - val_accuracy: 0.8215\n",
            "Epoch 9/12\n",
            "108/108 [==============================] - 29s 269ms/step - loss: 0.4707 - accuracy: 0.7812 - val_loss: 0.4460 - val_accuracy: 0.8110\n",
            "Epoch 10/12\n",
            "108/108 [==============================] - 29s 266ms/step - loss: 0.4756 - accuracy: 0.7862 - val_loss: 0.4359 - val_accuracy: 0.8189\n",
            "Epoch 11/12\n",
            "108/108 [==============================] - 29s 266ms/step - loss: 0.4558 - accuracy: 0.7943 - val_loss: 0.4666 - val_accuracy: 0.7953\n",
            "Epoch 12/12\n",
            "108/108 [==============================] - 29s 270ms/step - loss: 0.4419 - accuracy: 0.8012 - val_loss: 0.4847 - val_accuracy: 0.7913\n"
          ]
        },
        {
          "output_type": "display_data",
          "data": {
            "text/plain": [
              "<Figure size 640x480 with 1 Axes>"
            ],
            "image/png": "[encoded data removed]"
          },
          "metadata": {}
        }
      ]
    },
    {
      "cell_type": "markdown",
      "source": [
        "#Memory Clean Up"
      ],
      "metadata": {
        "id": "KvOBNMYM8Egc"
      }
    },
    {
      "cell_type": "code",
      "source": [
        "del transformer"
      ],
      "metadata": {
        "id": "9kwAONtz8JJP"
      },
      "execution_count": null,
      "outputs": []
    },
    {
      "cell_type": "code",
      "source": [
        "note = \"first one to return attention weights. Using d_type 256 and d =0.6\\\n",
        "baseline model. best val acc was  val_accuracy: 0.8215\""
      ],
      "metadata": {
        "id": "4eEM9JqVBjki"
      },
      "execution_count": null,
      "outputs": []
    },
    {
      "cell_type": "markdown",
      "source": [
        "add a note to share drive"
      ],
      "metadata": {
        "id": "DmUgoWx-wEdf"
      }
    },
    {
      "cell_type": "code",
      "source": [
        "\n",
        "\n",
        "\n",
        "\n",
        "# Define the directory and file name\n",
        "directory = checkpoint_dir\n",
        "\n",
        "\n",
        "\n",
        "\n",
        "readme_content = f\"\"\"Post Results Note: {note}\n",
        "\n",
        "\"\"\"\n",
        "# path\n",
        "readme_file_path = f'{directory}/note_about_results.txt'\n",
        "\n",
        "# Write the readme content to the file\n",
        "with open(readme_file_path, 'w') as readme_file:\n",
        "    readme_file.write(readme_content)\n",
        "\n",
        "# Print a success message\n",
        "print(f\"The note_about_resultsfile has been successfully written to the '{directory}' directory.\")\n",
        "\n",
        "print(readme_content)"
      ],
      "metadata": {
        "colab": {
          "base_uri": "https://localhost:8080/"
        },
        "id": "nmTYS3T9wA1O",
        "outputId": "6f37ee08-60dc-4620-bbac-64dbb22836c6"
      },
      "execution_count": null,
      "outputs": [
        {
          "output_type": "stream",
          "name": "stdout",
          "text": [
            "The note_about_resultsfile has been successfully written to the './Final_Work/lp_plus_attn_enh_cl_more_lp_tx_2h_2l_tweet_emb_d06_dff256_ep12/' directory.\n",
            "Post Results Note: first one to return attention weights. Using d_type 256 and d =0.6baseline model. best val acc was  val_accuracy: 0.8215\n",
            "\n",
            "\n"
          ]
        }
      ]
    },
    {
      "cell_type": "markdown",
      "metadata": {
        "id": "cxKpqCbzSW6z"
      },
      "source": [
        "#End of File"
      ]
    }
  ],
  "metadata": {
    "colab": {
      "provenance": [],
      "machine_shape": "hm",
      "toc_visible": true
    },
    "kernelspec": {
      "display_name": "Python 3",
      "name": "python3"
    }
  },
  "nbformat": 4,
  "nbformat_minor": 0
}