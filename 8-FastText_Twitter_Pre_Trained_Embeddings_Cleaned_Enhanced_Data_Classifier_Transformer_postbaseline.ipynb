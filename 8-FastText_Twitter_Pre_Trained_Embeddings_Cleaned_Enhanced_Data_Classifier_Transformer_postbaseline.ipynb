{
  "cells": [
    {
      "cell_type": "markdown",
      "metadata": {
        "id": "e7f697fec28a"
      },
      "source": [
        "</p>\n",
        "<p>-adding custom schedule [improved learning]</p>\n",
        "<p>-adding attention weights to output for viz </p>\n",
        "<p>-extracted pre-training word embeddings/post embedding weights to output for viz </p>\n",
        "<p>-updated Transformer, Encoding and Positional Encoding classes to be able to load pre-trained Embeddings</p>\n",
        "<p>-Adding FastText Twitter Embeddings</p>\n",
        "<p>-Training with Different Settings</p>"
      ]
    },
    {
      "cell_type": "markdown",
      "metadata": {
        "id": "EFwSaNB8jF7s"
      },
      "source": [
        "<style>\n",
        "td {\n",
        "  text-align: center;\n",
        "}\n",
        "\n",
        "th {\n",
        "  text-align: center;\n",
        "}\n",
        "</style>"
      ]
    },
    {
      "cell_type": "markdown",
      "metadata": {
        "id": "swymtxpl7W7w"
      },
      "source": [
        "## Setup"
      ]
    },
    {
      "cell_type": "markdown",
      "source": [
        "The following codes ensures the words embeddings have the same result after being randomly initialized"
      ],
      "metadata": {
        "id": "fUVUPmpZwfcL"
      }
    },
    {
      "cell_type": "code",
      "source": [
        "import tensorflow as tf\n",
        "import numpy as np\n",
        "\n",
        "# Set the seed for random number generation\n",
        "seed_value = 42\n",
        "tf.random.set_seed(seed_value)\n",
        "np.random.seed(seed_value)\n",
        "\n"
      ],
      "metadata": {
        "id": "uj-XUHm-wWdL"
      },
      "execution_count": null,
      "outputs": []
    },
    {
      "cell_type": "code",
      "source": [
        "\n",
        "# Mount Google Drive\n",
        "from google.colab import drive\n",
        "drive.mount('/content/drive')"
      ],
      "metadata": {
        "colab": {
          "base_uri": "https://localhost:8080/"
        },
        "id": "acgF9rXfaiRP",
        "outputId": "b3cd8b14-deab-42b0-fdba-d743602d4b2e"
      },
      "execution_count": null,
      "outputs": [
        {
          "output_type": "stream",
          "name": "stdout",
          "text": [
            "Drive already mounted at /content/drive; to attempt to forcibly remount, call drive.mount(\"/content/drive\", force_remount=True).\n"
          ]
        }
      ]
    },
    {
      "cell_type": "code",
      "source": [
        "# Navigate to the Directory Containing the CSV File\n",
        "import os\n",
        "os.chdir('/content/drive/My Drive/DS266 Project')"
      ],
      "metadata": {
        "id": "FNO7MPwxarDt"
      },
      "execution_count": null,
      "outputs": []
    },
    {
      "cell_type": "markdown",
      "metadata": {
        "id": "OfV1batAwq9j"
      },
      "source": [
        "Begin by installing [TensorFlow Datasets](https://tensorflow.org/datasets) for loading the dataset and [TensorFlow Text](https://www.tensorflow.org/text) for text preprocessing:"
      ]
    },
    {
      "cell_type": "code",
      "execution_count": null,
      "metadata": {
        "id": "XFG0NDRu5mYQ",
        "colab": {
          "base_uri": "https://localhost:8080/"
        },
        "outputId": "2176300c-de0a-4918-c6a6-02b1f429cbc8"
      },
      "outputs": [
        {
          "output_type": "stream",
          "name": "stdout",
          "text": [
            "Reading package lists...\n",
            "Building dependency tree...\n",
            "Reading state information...\n",
            "Package libcudnn8 is not available, but is referred to by another package.\n",
            "This may mean that the package is missing, has been obsoleted, or\n",
            "is only available from another source\n",
            "\n",
            "\u001b[1;31mE: \u001b[0mVersion '8.1.0.77-1+cuda11.2' for 'libcudnn8' was not found\u001b[0m\n",
            "\u001b[31mERROR: pip's dependency resolver does not currently take into account all the packages that are installed. This behaviour is the source of the following dependency conflicts.\n",
            "tf-keras 2.15.1 requires tensorflow<2.16,>=2.15, but you have tensorflow 2.16.1 which is incompatible.\u001b[0m\u001b[31m\n",
            "\u001b[0m"
          ]
        }
      ],
      "source": [
        "# Install the most re version of TensorFlow to use the improved\n",
        "# masking support for `tf.keras.layers.MultiHeadAttention`.\n",
        "!apt install --allow-change-held-packages libcudnn8=8.1.0.77-1+cuda11.2 -q\n",
        "!pip uninstall -y -q tensorflow keras tensorflow-estimator tensorflow-text -q\n",
        "!pip install -q protobuf~=3.20.3\n",
        "!pip install -q tensorflow_datasets\n",
        "!pip install -q -U tensorflow-text tensorflow"
      ]
    },
    {
      "cell_type": "code",
      "source": [
        "# Install compatible TensorFlow version\n",
        "!pip uninstall tensorflow -y -q\n",
        "!pip install tensorflow==2.15 -q\n",
        "\n",
        "# Reinstall tf-keras to resolve any potential dependency conflicts\n",
        "!pip uninstall tf-keras -y -q\n",
        "!pip install tf-keras -q"
      ],
      "metadata": {
        "id": "sfB0JATpjTEz",
        "colab": {
          "base_uri": "https://localhost:8080/"
        },
        "outputId": "3d3d3c4d-08f1-4896-8284-49a71c9b1c68"
      },
      "execution_count": null,
      "outputs": [
        {
          "output_type": "stream",
          "name": "stdout",
          "text": [
            "\u001b[31mERROR: pip's dependency resolver does not currently take into account all the packages that are installed. This behaviour is the source of the following dependency conflicts.\n",
            "tensorflow-text 2.16.1 requires tensorflow<2.17,>=2.16.1; platform_machine != \"arm64\" or platform_system != \"Darwin\", but you have tensorflow 2.15.0 which is incompatible.\u001b[0m\u001b[31m\n",
            "\u001b[0m"
          ]
        }
      ]
    },
    {
      "cell_type": "code",
      "source": [
        "!pip install tensorflow==2.15 -q #it needs it again for some reason"
      ],
      "metadata": {
        "id": "Q-VgaWpbm21T",
        "colab": {
          "base_uri": "https://localhost:8080/"
        },
        "outputId": "cbb43e12-d87f-4a57-c46e-3a419b160f09"
      },
      "execution_count": null,
      "outputs": [
        {
          "output_type": "stream",
          "name": "stdout",
          "text": [
            "\u001b[31mERROR: pip's dependency resolver does not currently take into account all the packages that are installed. This behaviour is the source of the following dependency conflicts.\n",
            "tensorflow-text 2.16.1 requires tensorflow<2.17,>=2.16.1; platform_machine != \"arm64\" or platform_system != \"Darwin\", but you have tensorflow 2.15.0 which is incompatible.\n",
            "tf-keras 2.16.0 requires tensorflow<2.17,>=2.16, but you have tensorflow 2.15.0 which is incompatible.\u001b[0m\u001b[31m\n",
            "\u001b[0m"
          ]
        }
      ]
    },
    {
      "cell_type": "code",
      "source": [
        "!pip uninstall tensorflow-text -y -q\n",
        "!pip install tensorflow-text==2.15 -q"
      ],
      "metadata": {
        "id": "KHCOdSJLuYLn"
      },
      "execution_count": null,
      "outputs": []
    },
    {
      "cell_type": "markdown",
      "metadata": {
        "id": "0GYpLBSjxJmG"
      },
      "source": [
        "Import the necessary modules:"
      ]
    },
    {
      "cell_type": "code",
      "execution_count": null,
      "metadata": {
        "id": "JjJJyJTZYebt"
      },
      "outputs": [],
      "source": [
        "import logging\n",
        "import time\n",
        "\n",
        "import numpy as np\n",
        "import matplotlib.pyplot as plt\n",
        "\n",
        "import tensorflow_datasets as tfds\n",
        "import tensorflow as tf\n",
        "\n",
        "import tensorflow_text as text\n",
        "from tensorflow import keras"
      ]
    },
    {
      "cell_type": "markdown",
      "metadata": {
        "id": "Xf_WUi2HLhzf"
      },
      "source": [
        "## Data handling\n",
        "\n"
      ]
    },
    {
      "cell_type": "markdown",
      "metadata": {
        "id": "-cCvXbPkccV1"
      },
      "source": [
        "### Download the dataset"
      ]
    },
    {
      "cell_type": "markdown",
      "metadata": {
        "id": "LTEVgBxklzdq"
      },
      "source": [
        "read the data"
      ]
    },
    {
      "cell_type": "code",
      "source": [
        "# Read the CSV File\n",
        "import pandas as pd\n",
        "load_data = 'train_enhanced_cleaned.csv'\n",
        "tweets_df = pd.read_csv(load_data).drop_duplicates()\n",
        "tweets_df.head(3)"
      ],
      "metadata": {
        "id": "lw7axoYfayav",
        "colab": {
          "base_uri": "https://localhost:8080/",
          "height": 143
        },
        "outputId": "6eca4d48-4e3d-45a3-c23a-dd5dc9eb251e"
      },
      "execution_count": null,
      "outputs": [
        {
          "output_type": "execute_result",
          "data": {
            "text/plain": [
              "                                                text  target\n",
              "0  location   our deeds are the reason of this ea...       1\n",
              "1  location   forest fire near la ronge sask  can...       1\n",
              "2  location   all residents asked to shelter in p...       1"
            ],
            "text/html": [
              "\n",
              "  <div id=\"df-6ceb1817-3450-4847-837b-081fc9d91c95\" class=\"colab-df-container\">\n",
              "    <div>\n",
              "<style scoped>\n",
              "    .dataframe tbody tr th:only-of-type {\n",
              "        vertical-align: middle;\n",
              "    }\n",
              "\n",
              "    .dataframe tbody tr th {\n",
              "        vertical-align: top;\n",
              "    }\n",
              "\n",
              "    .dataframe thead th {\n",
              "        text-align: right;\n",
              "    }\n",
              "</style>\n",
              "<table border=\"1\" class=\"dataframe\">\n",
              "  <thead>\n",
              "    <tr style=\"text-align: right;\">\n",
              "      <th></th>\n",
              "      <th>text</th>\n",
              "      <th>target</th>\n",
              "    </tr>\n",
              "  </thead>\n",
              "  <tbody>\n",
              "    <tr>\n",
              "      <th>0</th>\n",
              "      <td>location   our deeds are the reason of this ea...</td>\n",
              "      <td>1</td>\n",
              "    </tr>\n",
              "    <tr>\n",
              "      <th>1</th>\n",
              "      <td>location   forest fire near la ronge sask  can...</td>\n",
              "      <td>1</td>\n",
              "    </tr>\n",
              "    <tr>\n",
              "      <th>2</th>\n",
              "      <td>location   all residents asked to shelter in p...</td>\n",
              "      <td>1</td>\n",
              "    </tr>\n",
              "  </tbody>\n",
              "</table>\n",
              "</div>\n",
              "    <div class=\"colab-df-buttons\">\n",
              "\n",
              "  <div class=\"colab-df-container\">\n",
              "    <button class=\"colab-df-convert\" onclick=\"convertToInteractive('df-6ceb1817-3450-4847-837b-081fc9d91c95')\"\n",
              "            title=\"Convert this dataframe to an interactive table.\"\n",
              "            style=\"display:none;\">\n",
              "\n",
              "  <svg xmlns=\"http://www.w3.org/2000/svg\" height=\"24px\" viewBox=\"0 -960 960 960\">\n",
              "    <path d=\"M120-120v-720h720v720H120Zm60-500h600v-160H180v160Zm220 220h160v-160H400v160Zm0 220h160v-160H400v160ZM180-400h160v-160H180v160Zm440 0h160v-160H620v160ZM180-180h160v-160H180v160Zm440 0h160v-160H620v160Z\"/>\n",
              "  </svg>\n",
              "    </button>\n",
              "\n",
              "  <style>\n",
              "    .colab-df-container {\n",
              "      display:flex;\n",
              "      gap: 12px;\n",
              "    }\n",
              "\n",
              "    .colab-df-convert {\n",
              "      background-color: #E8F0FE;\n",
              "      border: none;\n",
              "      border-radius: 50%;\n",
              "      cursor: pointer;\n",
              "      display: none;\n",
              "      fill: #1967D2;\n",
              "      height: 32px;\n",
              "      padding: 0 0 0 0;\n",
              "      width: 32px;\n",
              "    }\n",
              "\n",
              "    .colab-df-convert:hover {\n",
              "      background-color: #E2EBFA;\n",
              "      box-shadow: 0px 1px 2px rgba(60, 64, 67, 0.3), 0px 1px 3px 1px rgba(60, 64, 67, 0.15);\n",
              "      fill: #174EA6;\n",
              "    }\n",
              "\n",
              "    .colab-df-buttons div {\n",
              "      margin-bottom: 4px;\n",
              "    }\n",
              "\n",
              "    [theme=dark] .colab-df-convert {\n",
              "      background-color: #3B4455;\n",
              "      fill: #D2E3FC;\n",
              "    }\n",
              "\n",
              "    [theme=dark] .colab-df-convert:hover {\n",
              "      background-color: #434B5C;\n",
              "      box-shadow: 0px 1px 3px 1px rgba(0, 0, 0, 0.15);\n",
              "      filter: drop-shadow(0px 1px 2px rgba(0, 0, 0, 0.3));\n",
              "      fill: #FFFFFF;\n",
              "    }\n",
              "  </style>\n",
              "\n",
              "    <script>\n",
              "      const buttonEl =\n",
              "        document.querySelector('#df-6ceb1817-3450-4847-837b-081fc9d91c95 button.colab-df-convert');\n",
              "      buttonEl.style.display =\n",
              "        google.colab.kernel.accessAllowed ? 'block' : 'none';\n",
              "\n",
              "      async function convertToInteractive(key) {\n",
              "        const element = document.querySelector('#df-6ceb1817-3450-4847-837b-081fc9d91c95');\n",
              "        const dataTable =\n",
              "          await google.colab.kernel.invokeFunction('convertToInteractive',\n",
              "                                                    [key], {});\n",
              "        if (!dataTable) return;\n",
              "\n",
              "        const docLinkHtml = 'Like what you see? Visit the ' +\n",
              "          '<a target=\"_blank\" href=https://colab.research.google.com/notebooks/data_table.ipynb>data table notebook</a>'\n",
              "          + ' to learn more about interactive tables.';\n",
              "        element.innerHTML = '';\n",
              "        dataTable['output_type'] = 'display_data';\n",
              "        await google.colab.output.renderOutput(dataTable, element);\n",
              "        const docLink = document.createElement('div');\n",
              "        docLink.innerHTML = docLinkHtml;\n",
              "        element.appendChild(docLink);\n",
              "      }\n",
              "    </script>\n",
              "  </div>\n",
              "\n",
              "\n",
              "<div id=\"df-0a9d300b-10c3-4266-a247-feaa7db0e970\">\n",
              "  <button class=\"colab-df-quickchart\" onclick=\"quickchart('df-0a9d300b-10c3-4266-a247-feaa7db0e970')\"\n",
              "            title=\"Suggest charts\"\n",
              "            style=\"display:none;\">\n",
              "\n",
              "<svg xmlns=\"http://www.w3.org/2000/svg\" height=\"24px\"viewBox=\"0 0 24 24\"\n",
              "     width=\"24px\">\n",
              "    <g>\n",
              "        <path d=\"M19 3H5c-1.1 0-2 .9-2 2v14c0 1.1.9 2 2 2h14c1.1 0 2-.9 2-2V5c0-1.1-.9-2-2-2zM9 17H7v-7h2v7zm4 0h-2V7h2v10zm4 0h-2v-4h2v4z\"/>\n",
              "    </g>\n",
              "</svg>\n",
              "  </button>\n",
              "\n",
              "<style>\n",
              "  .colab-df-quickchart {\n",
              "      --bg-color: #E8F0FE;\n",
              "      --fill-color: #1967D2;\n",
              "      --hover-bg-color: #E2EBFA;\n",
              "      --hover-fill-color: #174EA6;\n",
              "      --disabled-fill-color: #AAA;\n",
              "      --disabled-bg-color: #DDD;\n",
              "  }\n",
              "\n",
              "  [theme=dark] .colab-df-quickchart {\n",
              "      --bg-color: #3B4455;\n",
              "      --fill-color: #D2E3FC;\n",
              "      --hover-bg-color: #434B5C;\n",
              "      --hover-fill-color: #FFFFFF;\n",
              "      --disabled-bg-color: #3B4455;\n",
              "      --disabled-fill-color: #666;\n",
              "  }\n",
              "\n",
              "  .colab-df-quickchart {\n",
              "    background-color: var(--bg-color);\n",
              "    border: none;\n",
              "    border-radius: 50%;\n",
              "    cursor: pointer;\n",
              "    display: none;\n",
              "    fill: var(--fill-color);\n",
              "    height: 32px;\n",
              "    padding: 0;\n",
              "    width: 32px;\n",
              "  }\n",
              "\n",
              "  .colab-df-quickchart:hover {\n",
              "    background-color: var(--hover-bg-color);\n",
              "    box-shadow: 0 1px 2px rgba(60, 64, 67, 0.3), 0 1px 3px 1px rgba(60, 64, 67, 0.15);\n",
              "    fill: var(--button-hover-fill-color);\n",
              "  }\n",
              "\n",
              "  .colab-df-quickchart-complete:disabled,\n",
              "  .colab-df-quickchart-complete:disabled:hover {\n",
              "    background-color: var(--disabled-bg-color);\n",
              "    fill: var(--disabled-fill-color);\n",
              "    box-shadow: none;\n",
              "  }\n",
              "\n",
              "  .colab-df-spinner {\n",
              "    border: 2px solid var(--fill-color);\n",
              "    border-color: transparent;\n",
              "    border-bottom-color: var(--fill-color);\n",
              "    animation:\n",
              "      spin 1s steps(1) infinite;\n",
              "  }\n",
              "\n",
              "  @keyframes spin {\n",
              "    0% {\n",
              "      border-color: transparent;\n",
              "      border-bottom-color: var(--fill-color);\n",
              "      border-left-color: var(--fill-color);\n",
              "    }\n",
              "    20% {\n",
              "      border-color: transparent;\n",
              "      border-left-color: var(--fill-color);\n",
              "      border-top-color: var(--fill-color);\n",
              "    }\n",
              "    30% {\n",
              "      border-color: transparent;\n",
              "      border-left-color: var(--fill-color);\n",
              "      border-top-color: var(--fill-color);\n",
              "      border-right-color: var(--fill-color);\n",
              "    }\n",
              "    40% {\n",
              "      border-color: transparent;\n",
              "      border-right-color: var(--fill-color);\n",
              "      border-top-color: var(--fill-color);\n",
              "    }\n",
              "    60% {\n",
              "      border-color: transparent;\n",
              "      border-right-color: var(--fill-color);\n",
              "    }\n",
              "    80% {\n",
              "      border-color: transparent;\n",
              "      border-right-color: var(--fill-color);\n",
              "      border-bottom-color: var(--fill-color);\n",
              "    }\n",
              "    90% {\n",
              "      border-color: transparent;\n",
              "      border-bottom-color: var(--fill-color);\n",
              "    }\n",
              "  }\n",
              "</style>\n",
              "\n",
              "  <script>\n",
              "    async function quickchart(key) {\n",
              "      const quickchartButtonEl =\n",
              "        document.querySelector('#' + key + ' button');\n",
              "      quickchartButtonEl.disabled = true;  // To prevent multiple clicks.\n",
              "      quickchartButtonEl.classList.add('colab-df-spinner');\n",
              "      try {\n",
              "        const charts = await google.colab.kernel.invokeFunction(\n",
              "            'suggestCharts', [key], {});\n",
              "      } catch (error) {\n",
              "        console.error('Error during call to suggestCharts:', error);\n",
              "      }\n",
              "      quickchartButtonEl.classList.remove('colab-df-spinner');\n",
              "      quickchartButtonEl.classList.add('colab-df-quickchart-complete');\n",
              "    }\n",
              "    (() => {\n",
              "      let quickchartButtonEl =\n",
              "        document.querySelector('#df-0a9d300b-10c3-4266-a247-feaa7db0e970 button');\n",
              "      quickchartButtonEl.style.display =\n",
              "        google.colab.kernel.accessAllowed ? 'block' : 'none';\n",
              "    })();\n",
              "  </script>\n",
              "</div>\n",
              "\n",
              "    </div>\n",
              "  </div>\n"
            ],
            "application/vnd.google.colaboratory.intrinsic+json": {
              "type": "dataframe",
              "variable_name": "tweets_df",
              "summary": "{\n  \"name\": \"tweets_df\",\n  \"rows\": 7066,\n  \"fields\": [\n    {\n      \"column\": \"text\",\n      \"properties\": {\n        \"dtype\": \"string\",\n        \"num_unique_values\": 7002,\n        \"samples\": [\n          \"location oil spill refugio oil spill may have been costlier bigger than projected weblink   negative  news   social concern non irony fear \",\n          \"location bloody bloody hell what a day  i havent even really done anything  just  tired  of everything  thought vaca would help but it only did so much     negative  news   social concern non irony sadness\",\n          \"location exploded oh yeah my ipod almost exploded last night i was using it while charging and shit was sparking akxbskdn almost died negative  news   social concern non irony disgust \"\n        ],\n        \"semantic_type\": \"\",\n        \"description\": \"\"\n      }\n    },\n    {\n      \"column\": \"target\",\n      \"properties\": {\n        \"dtype\": \"number\",\n        \"std\": 0,\n        \"min\": 0,\n        \"max\": 1,\n        \"num_unique_values\": 2,\n        \"samples\": [\n          0,\n          1\n        ],\n        \"semantic_type\": \"\",\n        \"description\": \"\"\n      }\n    }\n  ]\n}"
            }
          },
          "metadata": {},
          "execution_count": 6
        }
      ]
    },
    {
      "cell_type": "markdown",
      "metadata": {
        "id": "eJxTd6aVnZyh"
      },
      "source": [
        "### Set up the tokenizer"
      ]
    },
    {
      "cell_type": "markdown",
      "metadata": {
        "id": "Mopr6oKUlzds"
      },
      "source": [
        "Now that you have loaded the dataset, you need to tokenize the text, so that each element is represented as a [token](https://developers.google.com/machine-learning/glossary#token) or token ID (a numeric representation).\n",
        "\n",
        "Tokenization is the process of breaking up text, into \"tokens\". Depending on the tokenizer, these tokens can represent sentence-pieces, words, subwords, or characters. To learn more about tokenization, visit [this guide](https://www.tensorflow.org/text/guide/tokenizers)."
      ]
    },
    {
      "cell_type": "code",
      "source": [
        "sentences = tweets_df['text']\n",
        "labels = tweets_df['target']\n",
        "\n",
        "\n"
      ],
      "metadata": {
        "id": "WiZB9l9ubV0e"
      },
      "execution_count": null,
      "outputs": []
    },
    {
      "cell_type": "markdown",
      "source": [
        "Make them the same"
      ],
      "metadata": {
        "id": "r880v9idOy2k"
      }
    },
    {
      "cell_type": "markdown",
      "source": [
        "overall sentences"
      ],
      "metadata": {
        "id": "tCflagRrPYYe"
      }
    },
    {
      "cell_type": "code",
      "source": [
        "from tensorflow.keras.preprocessing.text import Tokenizer\n",
        "from tensorflow.keras.preprocessing.sequence import pad_sequences\n",
        "\n",
        "# Instantiate the tokenizer\n",
        "tokenizer = Tokenizer()\n",
        "\n",
        "# Fit the tokenizer on your text data\n",
        "tokenizer.fit_on_texts(sentences)\n"
      ],
      "metadata": {
        "id": "FlLcttf77sHP"
      },
      "execution_count": null,
      "outputs": []
    },
    {
      "cell_type": "markdown",
      "source": [
        "####Set MAX TOKENS"
      ],
      "metadata": {
        "id": "bdgOE9kswYai"
      }
    },
    {
      "cell_type": "code",
      "source": [
        "MAX_TOKENS =30\n",
        "# Convert sentences to sequences\n",
        "sequences = tokenizer.texts_to_sequences(sentences)\n",
        "\n",
        "# Pad sequences\n",
        "sequences = pad_sequences(sequences, maxlen=MAX_TOKENS, padding='post')\n",
        "\n",
        "# Convert labels to NumPy array\n",
        "\"\"\"\n",
        "\n",
        "\"\"\""
      ],
      "metadata": {
        "id": "g2IH6BJs7hGZ",
        "colab": {
          "base_uri": "https://localhost:8080/",
          "height": 36
        },
        "outputId": "17f0d670-4d24-422e-8d98-c6057f0a9338"
      },
      "execution_count": null,
      "outputs": [
        {
          "output_type": "execute_result",
          "data": {
            "text/plain": [
              "'\\n\\n'"
            ],
            "application/vnd.google.colaboratory.intrinsic+json": {
              "type": "string"
            }
          },
          "metadata": {},
          "execution_count": 9
        }
      ]
    },
    {
      "cell_type": "markdown",
      "metadata": {
        "id": "-Yb35sTJcZq9"
      },
      "source": [
        "### Set up a data pipeline with `tf.data`"
      ]
    },
    {
      "cell_type": "markdown",
      "metadata": {
        "id": "JZHsns5obJhN"
      },
      "source": [
        "The following function takes batches of text as input, and converts them to a format suitable for training.\n",
        "\n",
        "1. It tokenizes them into ragged batches.\n",
        "2. It trims each to be no longer than `MAX_TOKENS`.\n",
        "3. It splits the target (English) tokens into inputs and labels. These are shifted by one step so that at each input location the `label` is the id of the next token.\n",
        "4. It converts the `RaggedTensor`s to padded dense `Tensor`s.\n",
        "5. It returns an `(inputs, labels)` pair.\n"
      ]
    },
    {
      "cell_type": "markdown",
      "source": [
        "####Set Batch Size"
      ],
      "metadata": {
        "id": "wA_j8tjcykSv"
      }
    },
    {
      "cell_type": "code",
      "source": [
        "from sklearn.model_selection import train_test_split\n",
        "# Shuffle and batch the dataset\n",
        "BUFFER_SIZE = len(sequences)\n",
        "BATCH_SIZE = 64  # You can adjust the batch size as needed\n",
        "\n",
        "# Split the data\n",
        "sequences_train, sequences_val, labels_train, labels_val = train_test_split(sequences, labels, test_size=0.1)\n",
        "\n",
        "# Convert to TensorFlow Datasets\n",
        "train_dataset = tf.data.Dataset.from_tensor_slices((sequences_train, labels_train))\n",
        "val_dataset = tf.data.Dataset.from_tensor_slices((sequences_val, labels_val))\n",
        "\n",
        "# Shuffle and batch the datasets\n",
        "train_dataset = train_dataset.shuffle(len(sequences_train)).batch(BATCH_SIZE)\n",
        "val_dataset = val_dataset.batch(BATCH_SIZE)\n",
        "\n",
        "\n"
      ],
      "metadata": {
        "id": "_6wwjDir8hcL"
      },
      "execution_count": null,
      "outputs": []
    },
    {
      "cell_type": "markdown",
      "metadata": {
        "id": "itSWqk-ivrRg"
      },
      "source": [
        "### Test the Dataset"
      ]
    },
    {
      "cell_type": "code",
      "source": [
        "# For train_batches\n",
        "for x, y in train_dataset.take(1):  # We only take one batch\n",
        "    print(\"Shape of X:\", x.shape)\n",
        "    print(\"Data type of X:\", x.dtype)  # This will print the data type\n",
        "    print(\"Content of X:\", x.numpy())  # .numpy() converts the tensor to a numpy array\n",
        "    print(\"Shape of Y:\", y.shape)\n",
        "    print(\"Content of Y:\", y.numpy())\n",
        "\n",
        "# For val_batches\n",
        "for x, y in val_dataset.take(1):  # We only take one batch\n",
        "    print(\"Shape of X:\", x.shape)\n",
        "    print(\"Data type of X:\", x.dtype)  # This will print the data type\n",
        "    print(\"Content of X:\", x.numpy())  # .numpy() converts the tensor to a numpy array\n",
        "    print(\"Shape of Y:\", y.shape)\n",
        "    print(\"Content of Y:\", y.numpy())"
      ],
      "metadata": {
        "id": "kE1DTUdA8k0K",
        "colab": {
          "base_uri": "https://localhost:8080/"
        },
        "outputId": "c54e8d37-3db8-4477-abf0-1178a991e8b2"
      },
      "execution_count": null,
      "outputs": [
        {
          "output_type": "stream",
          "name": "stdout",
          "text": [
            "Shape of X: (64, 30)\n",
            "Data type of X: <dtype: 'int32'>\n",
            "Content of X: [[    4   261   705 ...     6     5    25]\n",
            " [   83 14149    24 ...     6     5    22]\n",
            " [    4   294   767 ...     0     0     0]\n",
            " ...\n",
            " [    4   180    28 ...     0     0     0]\n",
            " [    4    49   163 ...     0     0     0]\n",
            " [    4   140     9 ...     0     0     0]]\n",
            "Shape of Y: (64,)\n",
            "Content of Y: [0 0 1 0 0 1 0 0 0 0 0 1 0 0 1 1 1 0 1 0 1 0 0 1 1 0 0 0 1 1 0 1 1 0 0 0 0\n",
            " 0 0 0 0 0 0 1 0 1 0 0 0 0 0 1 1 1 1 0 0 1 0 0 1 0 0 0]\n",
            "Shape of X: (64, 30)\n",
            "Data type of X: <dtype: 'int32'>\n",
            "Content of X: [[    4   172    20 ...     0     0     0]\n",
            " [    4   426    85 ...     0     0     0]\n",
            " [    4   205 14477 ...     0     0     0]\n",
            " ...\n",
            " [    4   165     9 ...     0     0     0]\n",
            " [    4   151  1206 ...     6     5   907]\n",
            " [    4   275  1591 ...     0     0     0]]\n",
            "Shape of Y: (64,)\n",
            "Content of Y: [0 0 1 0 0 0 0 1 1 1 1 1 0 1 0 0 1 1 0 1 0 0 0 0 1 0 0 0 0 0 1 0 0 0 0 0 1\n",
            " 0 0 0 1 1 0 0 0 1 1 1 0 0 0 1 1 0 1 0 1 1 0 0 0 0 1 1]\n"
          ]
        }
      ]
    },
    {
      "cell_type": "code",
      "source": [
        "for tweet, labels in train_dataset.take(1):\n",
        "  break\n",
        "\n",
        "print(tweet.shape)\n",
        "print(labels.shape)\n"
      ],
      "metadata": {
        "id": "iZZS6HuY-n31",
        "colab": {
          "base_uri": "https://localhost:8080/"
        },
        "outputId": "00222a32-a5af-4277-e858-92fb571ea990"
      },
      "execution_count": null,
      "outputs": [
        {
          "output_type": "stream",
          "name": "stdout",
          "text": [
            "(64, 30)\n",
            "(64,)\n"
          ]
        }
      ]
    },
    {
      "cell_type": "markdown",
      "source": [
        "##Location of Saved Training"
      ],
      "metadata": {
        "id": "OhelWo91DZB3"
      }
    },
    {
      "cell_type": "markdown",
      "source": [
        "Save the models, and files, if directory does not exist, it creates it."
      ],
      "metadata": {
        "id": "Y7wkIlFm3Eme"
      }
    },
    {
      "cell_type": "code",
      "source": [
        "\n",
        "checkpoint_dir = './Final_Work/b64_wm3000_enh_cl_data_base_tx_model_fast_emb_10ep_drophigh/'\n",
        "directory = checkpoint_dir\n",
        "\n",
        "if not os.path.exists(directory):\n",
        "    os.makedirs(directory)\n"
      ],
      "metadata": {
        "id": "Llt2ct5-21EP"
      },
      "execution_count": null,
      "outputs": []
    },
    {
      "cell_type": "markdown",
      "metadata": {
        "id": "FX_h3tCnwgR4"
      },
      "source": [
        " </section>"
      ]
    },
    {
      "cell_type": "markdown",
      "metadata": {
        "id": "7e7hKcxn6-zd"
      },
      "source": [
        "## Define the components"
      ]
    },
    {
      "cell_type": "markdown",
      "metadata": {
        "id": "YS75Y-9-lkzn"
      },
      "source": [
        "### The positional encoding layer"
      ]
    },
    {
      "cell_type": "code",
      "execution_count": null,
      "metadata": {
        "id": "1Rz82wEs5biZ"
      },
      "outputs": [],
      "source": [
        "def positional_encoding(length, depth):\n",
        "  depth = depth/2\n",
        "\n",
        "  positions = np.arange(length)[:, np.newaxis]     # (seq, 1)\n",
        "  depths = np.arange(depth)[np.newaxis, :]/depth   # (1, depth)\n",
        "\n",
        "  angle_rates = 1 / (10000**depths)         # (1, depth)\n",
        "  angle_rads = positions * angle_rates      # (pos, depth)\n",
        "\n",
        "  pos_encoding = np.concatenate(\n",
        "      [np.sin(angle_rads), np.cos(angle_rads)],\n",
        "      axis=-1)\n",
        "\n",
        "  return tf.cast(pos_encoding, dtype=tf.float32)"
      ]
    },
    {
      "cell_type": "markdown",
      "metadata": {
        "id": "Ra1IcbzFhnmF"
      },
      "source": [
        "The position encoding function is a stack of sines and cosines that vibrate at different frequencies depending on their location along the depth of the embedding vector. They vibrate across the position axis."
      ]
    },
    {
      "cell_type": "markdown",
      "source": [
        "###Positional Embedding"
      ],
      "metadata": {
        "id": "eJ9x7fldgx08"
      }
    },
    {
      "cell_type": "code",
      "source": [
        "\n",
        "\n",
        "# Update the PositionalEmbedding class to accept pretrained embeddings\n",
        "class PositionalEmbedding(tf.keras.layers.Layer):\n",
        "    def __init__(self, vocab_size, d_model, pretrained_embeddings=None):\n",
        "        super().__init__()\n",
        "        self.d_model = d_model\n",
        "        self.embedding = tf.keras.layers.Embedding(vocab_size, d_model, mask_zero=True)\n",
        "        self.pos_encoding = positional_encoding(length=2048, depth=d_model)\n",
        "        if pretrained_embeddings is not None:\n",
        "            self.embedding.build((None,))  # Build the layer to set the weights\n",
        "            self.embedding.set_weights([pretrained_embeddings])  # Set the pretrained weights\n",
        "\n",
        "    def compute_mask(self, *args, **kwargs):\n",
        "        return self.embedding.compute_mask(*args, **kwargs)\n",
        "\n",
        "    def call(self, x):\n",
        "        length = tf.shape(x)[1]\n",
        "        x = self.embedding(x)\n",
        "        x *= tf.math.sqrt(tf.cast(self.d_model, tf.float32))\n",
        "        x = x + self.pos_encoding[tf.newaxis, :length, :]\n",
        "        return x"
      ],
      "metadata": {
        "id": "o8ZQ4dm2SH26"
      },
      "execution_count": null,
      "outputs": []
    },
    {
      "cell_type": "markdown",
      "metadata": {
        "id": "Z6chjIrOVSYp"
      },
      "source": [
        "To implement these attention layers, start with a simple base class that just contains the component layers. Each use-case will be implemented as a subclass. It's a little more code to write this way, but it keeps the intention clear."
      ]
    },
    {
      "cell_type": "code",
      "execution_count": null,
      "metadata": {
        "id": "5VLa5QcdPpv5"
      },
      "outputs": [],
      "source": [
        "class BaseAttention(tf.keras.layers.Layer):\n",
        "  def __init__(self, **kwargs):\n",
        "    super().__init__()\n",
        "    self.mha = tf.keras.layers.MultiHeadAttention(**kwargs)\n",
        "    self.layernorm = tf.keras.layers.LayerNormalization()\n",
        "    self.add = tf.keras.layers.Add()"
      ]
    },
    {
      "cell_type": "code",
      "source": [
        "class GlobalSelfAttention(BaseAttention):\n",
        "  def call(self, x):\n",
        "    attn_output, attn_scores = self.mha(\n",
        "        query=x,\n",
        "        value=x,\n",
        "        key=x,\n",
        "        return_attention_scores=True)\n",
        "    x = self.add([x, attn_output])\n",
        "    x = self.layernorm(x)\n",
        "\n",
        "    # Cache the attention scores for plotting later.\n",
        "    self.last_attn_scores = attn_scores\n",
        "\n",
        "    return x"
      ],
      "metadata": {
        "id": "_wXyZ6NvMZ6O"
      },
      "execution_count": null,
      "outputs": []
    },
    {
      "cell_type": "markdown",
      "metadata": {
        "id": "0Yb-IV0Nlzd0"
      },
      "source": [
        "The network consists of two linear layers (`tf.keras.layers.Dense`) with a ReLU activation in-between, and a dropout layer. As with the attention layers the code here also includes the residual connection and normalization:"
      ]
    },
    {
      "cell_type": "code",
      "execution_count": null,
      "metadata": {
        "id": "rAYLeu0uwXYK"
      },
      "outputs": [],
      "source": [
        "class FeedForward(tf.keras.layers.Layer):\n",
        "  def __init__(self, d_model, dff, dropout_rate=0.1):\n",
        "    super().__init__()\n",
        "    self.seq = tf.keras.Sequential([\n",
        "      tf.keras.layers.Dense(dff, activation='relu'),\n",
        "      tf.keras.layers.Dense(d_model),\n",
        "      tf.keras.layers.Dropout(dropout_rate)\n",
        "    ])\n",
        "    self.add = tf.keras.layers.Add()\n",
        "    self.layer_norm = tf.keras.layers.LayerNormalization()\n",
        "\n",
        "  def call(self, x):\n",
        "    x = self.add([x, self.seq(x)])\n",
        "    x = self.layer_norm(x)\n",
        "    return x\n"
      ]
    },
    {
      "cell_type": "markdown",
      "metadata": {
        "id": "eQBlOVQU_hUt"
      },
      "source": [
        "Test the layer, the output is the same shape as the input:"
      ]
    },
    {
      "cell_type": "markdown",
      "metadata": {
        "id": "QFv-FNYUmvpn"
      },
      "source": [
        "### The encoder layer"
      ]
    },
    {
      "cell_type": "markdown",
      "metadata": {
        "id": "8kRUT__Ly9HH"
      },
      "source": [
        "Here is the definition of the `EncoderLayer`:"
      ]
    },
    {
      "cell_type": "code",
      "source": [
        "class EncoderLayer(tf.keras.layers.Layer):\n",
        "  def __init__(self,*, d_model, num_heads, dff, dropout_rate=0.1):\n",
        "    super().__init__()\n",
        "\n",
        "    self.self_attention = GlobalSelfAttention(\n",
        "        num_heads=num_heads,\n",
        "        key_dim=d_model,\n",
        "        dropout=dropout_rate)\n",
        "\n",
        "    self.ffn = FeedForward(d_model, dff)\n",
        "\n",
        "  def call(self, x):\n",
        "\n",
        "    #print(f\"Shape of inputs to encoder layer: {x.shape}\")  # Add this line\n",
        "    x = self.self_attention(x)\n",
        "    #print(f\"Shape after self_attention: {x.shape}\")  # Add this line\n",
        "\n",
        "    x = self.ffn(x)\n",
        "    return x\n",
        "\n",
        "  @property\n",
        "  def last_attn_scores(self):\n",
        "    return self.self_attention.last_attn_scores"
      ],
      "metadata": {
        "id": "cWM2baZ6Myxv"
      },
      "execution_count": null,
      "outputs": []
    },
    {
      "cell_type": "markdown",
      "metadata": {
        "id": "QeXHMUlb6q6F"
      },
      "source": [
        "And a quick test, the output will have the same shape as the input:"
      ]
    },
    {
      "cell_type": "markdown",
      "metadata": {
        "id": "SE1H51Ajm0q1"
      },
      "source": [
        "### The encoder"
      ]
    },
    {
      "cell_type": "markdown",
      "metadata": {
        "id": "DA6sVo5rlzd3"
      },
      "source": [
        "The encoder consists of:\n",
        "\n",
        "- A `PositionalEmbedding` layer at the input.\n",
        "- A stack of `EncoderLayer` layers."
      ]
    },
    {
      "cell_type": "code",
      "source": [
        "class Encoder(tf.keras.layers.Layer):\n",
        "    def __init__(self, *, num_layers, d_model, num_heads, dff, vocab_size, dropout_rate=0.1, pretrained_embeddings=None):\n",
        "        super().__init__()\n",
        "        self.d_model = d_model\n",
        "        self.num_layers = num_layers\n",
        "        self.pos_embedding = PositionalEmbedding(vocab_size=vocab_size, d_model=d_model, pretrained_embeddings=pretrained_embeddings)\n",
        "        self.enc_layers = [\n",
        "            EncoderLayer(d_model=d_model,\n",
        "                         num_heads=num_heads,\n",
        "                         dff=dff,\n",
        "                         dropout_rate=dropout_rate)\n",
        "            for _ in range(num_layers)]\n",
        "        self.dropout = tf.keras.layers.Dropout(dropout_rate)\n",
        "\n",
        "    def call(self, x):\n",
        "      # `x` is token-IDs shape: (batch, seq_len)\n",
        "      #print(f\"Shape of inputs to encoder: {x.shape}\")  # Add this line\n",
        "      x = self.pos_embedding(x)\n",
        "      #print(f\"Shape after pos_embedding: {x.shape}\")  # Add this line\n",
        "\n",
        "\n",
        "      # Add dropout.\n",
        "      x = self.dropout(x)\n",
        "\n",
        "      for i in range(self.num_layers):\n",
        "        x = self.enc_layers[i](x)\n",
        "\n",
        "      #print(\"length: \", x.dtype)\n",
        "      return x  # Shape `(batch_size, seq_len, d_model)`.\n",
        "\n",
        "\n",
        "    @property\n",
        "    def last_attn_scores(self):\n",
        "      return self.enc_layers[-1].last_attn_scores"
      ],
      "metadata": {
        "id": "OIP4t7iYkNTN"
      },
      "execution_count": null,
      "outputs": []
    },
    {
      "cell_type": "markdown",
      "metadata": {
        "id": "D3uvMP5vNuOV"
      },
      "source": [
        "Having created the Transformer encoder, it's time to build the Transformer model and train it."
      ]
    },
    {
      "cell_type": "markdown",
      "metadata": {
        "id": "y54xnJnuYgJ7"
      },
      "source": [
        "## The Transformer Classifier"
      ]
    },
    {
      "cell_type": "markdown",
      "source": [
        "This model is based on last hidden state"
      ],
      "metadata": {
        "id": "6M0aKVuxRRtq"
      }
    },
    {
      "cell_type": "code",
      "source": [
        "class TransformerClassifier(tf.keras.Model):\n",
        "    def __init__(self, *, num_layers, d_model, num_heads, dff,\n",
        "                 input_vocab_size, dropout_rate=0.1, pretrained_embeddings=None):\n",
        "        super().__init__()\n",
        "        self.encoder = Encoder(num_layers=num_layers, d_model=d_model,\n",
        "                               num_heads=num_heads, dff=dff,\n",
        "                               vocab_size=input_vocab_size,\n",
        "                               dropout_rate=dropout_rate,\n",
        "                               pretrained_embeddings=pretrained_embeddings)\n",
        "\n",
        "        self.final_layer = tf.keras.layers.Dense(1, activation='sigmoid')\n",
        "\n",
        "    def call(self, inputs):\n",
        "        context = inputs\n",
        "        context = self.encoder(context)  # (batch_size, context_len, d_model)\n",
        "        logits = self.final_layer(context[:, -1, :])  # Use the last hidden state\n",
        "        return logits"
      ],
      "metadata": {
        "id": "GyyESE_xhsqW"
      },
      "execution_count": null,
      "outputs": []
    },
    {
      "cell_type": "markdown",
      "metadata": {
        "id": "g08YOE-zHRqY"
      },
      "source": [
        "# Try it out"
      ]
    },
    {
      "cell_type": "markdown",
      "source": [
        "###Location of Saved Model and Results"
      ],
      "metadata": {
        "id": "TdH9cAACIvr9"
      }
    },
    {
      "cell_type": "markdown",
      "source": [
        "Optional: run again if you wish to change the directory where its saved"
      ],
      "metadata": {
        "id": "dbzoD922PRIb"
      }
    },
    {
      "cell_type": "code",
      "source": [
        "checkpoint_dir = './Final_Work/ep20_wm6000_b64_enh_clean_more_bl_tx_2h_2l_twit_emb_d06_dff256/'\n",
        "checkpoint_dir"
      ],
      "metadata": {
        "colab": {
          "base_uri": "https://localhost:8080/",
          "height": 36
        },
        "id": "IH5r2hlsgheE",
        "outputId": "6ff3cc23-702b-4732-a7d1-7cd36f7ac402"
      },
      "execution_count": null,
      "outputs": [
        {
          "output_type": "execute_result",
          "data": {
            "text/plain": [
              "'./Final_Work/ep20_wm6000_b64_enh_clean_more_bl_tx_2h_2l_twit_emb_d06_dff256/'"
            ],
            "application/vnd.google.colaboratory.intrinsic+json": {
              "type": "string"
            }
          },
          "metadata": {},
          "execution_count": 44
        }
      ]
    },
    {
      "cell_type": "code",
      "source": [
        "if not os.path.exists(checkpoint_dir):\n",
        "    os.makedirs(checkpoint_dir)\n"
      ],
      "metadata": {
        "id": "GpRgsRFtI1Qb"
      },
      "execution_count": null,
      "outputs": []
    },
    {
      "cell_type": "markdown",
      "metadata": {
        "id": "wsINyf1VEQLC"
      },
      "source": [
        "### Hyperparameters"
      ]
    },
    {
      "cell_type": "markdown",
      "metadata": {
        "id": "IjwMq_ixlzd5"
      },
      "source": [
        "\n",
        "\n",
        "The base model described in the original Transformer paper used `num_layers=6`, `d_model=512`, and `dff=2048`.\n",
        "\n",
        "The number of self-attention heads remains the same (`num_heads=8`).\n",
        "\n",
        "We save the hyperparameters on the drive with the same trained model\n"
      ]
    },
    {
      "cell_type": "code",
      "source": [
        "\n",
        "# Specify the path where you want to save the CSV\n",
        "save_path = './'+checkpoint_dir+'/hyperparameters.csv'\n",
        "\n",
        "\n",
        "hyperparameters = {\n",
        "    'num_layers': 2,\n",
        "    'd_model': 100,\n",
        "    'dff': 256,\n",
        "    'num_heads': 2,\n",
        "    'dropout_rate': 0.6\n",
        "}\n",
        "\n",
        "# Convert the hyperparameters dictionary to a DataFrame\n",
        "hyperparameters_df = pd.DataFrame([hyperparameters])\n",
        "\n",
        "# Save the DataFrame to a CSV file\n",
        "hyperparameters_df.to_csv(save_path, index=False)\n"
      ],
      "metadata": {
        "id": "GQ-uIJ8v5-8R"
      },
      "execution_count": null,
      "outputs": []
    },
    {
      "cell_type": "code",
      "source": [
        "# Load the hyperparameters from the CSV file\n",
        "loaded_hyperparameters_df = pd.read_csv(save_path)\n",
        "\n",
        "# Access the hyperparameters\n",
        "loaded_hyperparameters = loaded_hyperparameters_df.iloc[0].to_dict()\n",
        "\n",
        "#HYPERPARAMETERS\n",
        "num_layers = int(loaded_hyperparameters['num_layers'])\n",
        "d_model = int(loaded_hyperparameters['d_model'])\n",
        "num_heads = int(loaded_hyperparameters['num_heads'])\n",
        "dff = int(loaded_hyperparameters['dff'])\n",
        "dropout_rate = float(loaded_hyperparameters['dropout_rate'])\n"
      ],
      "metadata": {
        "id": "rLpjFbHOlNa8"
      },
      "execution_count": null,
      "outputs": []
    },
    {
      "cell_type": "markdown",
      "source": [
        "###Load the Pre-Trained Embeddings"
      ],
      "metadata": {
        "id": "9AY2Sa4VLNwF"
      }
    },
    {
      "cell_type": "code",
      "source": [
        "# Load the embeddings from the CSV file\n",
        "path_to_embeddings = 'fast_text_twitter_embeddings.csv'\n",
        "loaded_embeddings_df = pd.read_csv(path_to_embeddings)\n",
        "loaded_embeddings = loaded_embeddings_df.values\n",
        "\n",
        "# Create a new PositionalEmbedding layer for the new model\n",
        "new_pos_embedding_layer = PositionalEmbedding(\n",
        "    vocab_size=len(tokenizer.word_index) + 1,\n",
        "    d_model=d_model,\n",
        "    pretrained_embeddings=loaded_embeddings\n",
        ")"
      ],
      "metadata": {
        "id": "2bZAMu8OLNQQ"
      },
      "execution_count": null,
      "outputs": []
    },
    {
      "cell_type": "code",
      "source": [
        "loaded_embeddings.shape"
      ],
      "metadata": {
        "colab": {
          "base_uri": "https://localhost:8080/"
        },
        "id": "jCIYp6ASObVs",
        "outputId": "87559a94-8810-4e24-e4c2-7ede072bdd8a"
      },
      "execution_count": null,
      "outputs": [
        {
          "output_type": "execute_result",
          "data": {
            "text/plain": [
              "(17984, 100)"
            ]
          },
          "metadata": {},
          "execution_count": 49
        }
      ]
    },
    {
      "cell_type": "markdown",
      "metadata": {
        "id": "yYbXDEhhlzd6"
      },
      "source": [
        "###Instantiate the `Transformer` model:"
      ]
    },
    {
      "cell_type": "code",
      "source": [
        "\n",
        "transformer = TransformerClassifier(\n",
        "    num_layers=num_layers,\n",
        "    d_model=d_model,\n",
        "    num_heads=num_heads,\n",
        "    dff=dff,\n",
        "    input_vocab_size=len(tokenizer.word_index) + 1,\n",
        "    dropout_rate=dropout_rate,\n",
        "    pretrained_embeddings=loaded_embeddings #new\n",
        ")\n"
      ],
      "metadata": {
        "id": "8XdL0RB168F2"
      },
      "execution_count": null,
      "outputs": []
    },
    {
      "cell_type": "markdown",
      "source": [
        "####Extract initial weights"
      ],
      "metadata": {
        "id": "80ZOIDWnEW6A"
      }
    },
    {
      "cell_type": "markdown",
      "source": [
        "Build the transformer to extract initial word weights (for later analysis)"
      ],
      "metadata": {
        "id": "isz93EeuwGAM"
      }
    },
    {
      "cell_type": "code",
      "source": [
        "\n",
        "# Build the transformer to initialize weights\n",
        "transformer.build(input_shape=(None, MAX_TOKENS))\n",
        "\n",
        "# Access the weights of the embedding layer within the PositionalEmbedding layer\n",
        "initial_embeddings = transformer.encoder.pos_embedding.embedding.get_weights()[0]\n"
      ],
      "metadata": {
        "id": "s23I333Wv_5_"
      },
      "execution_count": null,
      "outputs": []
    },
    {
      "cell_type": "markdown",
      "source": [
        "The words size list is dependent on the data wrangling done before it. If the data warngling and tokenization doesnt change then the embeddings will not change, and we can start loading hte embeddings instead of randomly creating them on start."
      ],
      "metadata": {
        "id": "9CTqUdMLo-Tp"
      }
    },
    {
      "cell_type": "markdown",
      "source": [
        "The initial embeddings should be just the loaded embeddings, below am doing a sanity check"
      ],
      "metadata": {
        "id": "x228xd-ZO2IH"
      }
    },
    {
      "cell_type": "code",
      "source": [
        "initial_embeddings.shape, initial_embeddings[1]"
      ],
      "metadata": {
        "colab": {
          "base_uri": "https://localhost:8080/"
        },
        "id": "Mveleg9Twxga",
        "outputId": "b206405a-0776-4ef2-b7a1-fd955187db4e"
      },
      "execution_count": null,
      "outputs": [
        {
          "output_type": "execute_result",
          "data": {
            "text/plain": [
              "((17984, 100),\n",
              " array([-3.4806e-01,  4.6123e-01, -2.1694e-01,  6.1845e-02,  2.3122e-02,\n",
              "        -4.4194e-01, -2.8939e-01, -1.4042e-01,  2.0356e-01, -1.4766e-03,\n",
              "         1.4099e-01,  1.6973e-01, -2.5894e-01,  1.1918e-01, -5.6644e-02,\n",
              "        -1.9194e-01, -4.6347e-01, -2.3882e-01, -4.2290e-01,  1.1425e-01,\n",
              "        -2.7304e-02,  2.0090e-01, -8.0673e-02,  1.7944e-01, -4.0131e-01,\n",
              "         4.2389e-01,  8.1304e-02,  3.9369e-01, -6.6077e-02, -3.1873e-01,\n",
              "         2.7647e-01,  4.5163e-01, -3.2050e-01, -8.9602e-05,  8.9974e-01,\n",
              "        -4.2211e-01, -4.1124e-01, -1.8637e-02,  6.1292e-01, -3.5513e-01,\n",
              "         2.9589e-01,  3.1024e-01,  5.1241e-01,  4.6033e-01, -3.3272e-01,\n",
              "         1.2669e-01, -6.3074e-02, -5.8398e-02, -4.7630e-01,  3.9685e-01,\n",
              "        -4.0602e-01, -6.9270e-01, -6.0114e-01,  3.2997e-01, -2.6665e-01,\n",
              "        -7.2613e-01, -6.1922e-01, -4.7685e-01, -2.4736e-01,  1.6644e-01,\n",
              "        -1.8508e-01,  2.0447e-01,  2.3464e-01, -8.0302e-02,  1.1650e+00,\n",
              "        -1.2155e-02, -2.4816e-01, -2.7170e-02, -3.3387e-01,  3.4174e-01,\n",
              "        -6.8687e-01,  7.0614e-01,  1.6891e-01,  1.3400e-02,  3.5246e-01,\n",
              "        -3.7677e-02,  4.1160e-01, -1.8286e-01,  4.2182e-01,  1.6571e-01,\n",
              "         1.2066e-01, -1.7407e-01, -1.7991e-01,  1.4452e-02,  2.1754e-01,\n",
              "         9.9649e-01, -1.0134e-03, -2.3007e-02, -1.8162e-01, -3.1818e-01,\n",
              "        -3.6765e-01, -6.0209e-01,  3.0666e-01, -2.0385e-01, -3.6655e-02,\n",
              "         5.7922e-01,  4.5266e-01,  7.1265e-02, -3.5784e-02, -3.4018e-01],\n",
              "       dtype=float32))"
            ]
          },
          "metadata": {},
          "execution_count": 512
        }
      ]
    },
    {
      "cell_type": "code",
      "source": [
        "loaded_embeddings.shape, loaded_embeddings[1]"
      ],
      "metadata": {
        "colab": {
          "base_uri": "https://localhost:8080/"
        },
        "id": "H4p4T8EPOsQ2",
        "outputId": "20240600-da22-4df2-eab2-ab38094ae5a5"
      },
      "execution_count": null,
      "outputs": [
        {
          "output_type": "execute_result",
          "data": {
            "text/plain": [
              "((17984, 100),\n",
              " array([-3.48060012e-01,  4.61230010e-01, -2.16940001e-01,  6.18450008e-02,\n",
              "         2.31219996e-02, -4.41940010e-01, -2.89389998e-01, -1.40420005e-01,\n",
              "         2.03559995e-01, -1.47659995e-03,  1.40990004e-01,  1.69729993e-01,\n",
              "        -2.58940011e-01,  1.19180001e-01, -5.66440001e-02, -1.91939995e-01,\n",
              "        -4.63470012e-01, -2.38820001e-01, -4.22899991e-01,  1.14249997e-01,\n",
              "        -2.73039993e-02,  2.00900003e-01, -8.06730017e-02,  1.79440007e-01,\n",
              "        -4.01309997e-01,  4.23889995e-01,  8.13039988e-02,  3.93689990e-01,\n",
              "        -6.60770014e-02, -3.18729997e-01,  2.76470006e-01,  4.51629996e-01,\n",
              "        -3.20499986e-01, -8.96019992e-05,  8.99739981e-01, -4.22109991e-01,\n",
              "        -4.11240011e-01, -1.86369997e-02,  6.12919986e-01, -3.55129987e-01,\n",
              "         2.95890003e-01,  3.10240000e-01,  5.12409985e-01,  4.60330009e-01,\n",
              "        -3.32720011e-01,  1.26690000e-01, -6.30740002e-02, -5.83980009e-02,\n",
              "        -4.76300001e-01,  3.96849990e-01, -4.06019986e-01, -6.92700028e-01,\n",
              "        -6.01140022e-01,  3.29970002e-01, -2.66649991e-01, -7.26130009e-01,\n",
              "        -6.19220018e-01, -4.76850003e-01, -2.47360006e-01,  1.66439995e-01,\n",
              "        -1.85080007e-01,  2.04469994e-01,  2.34640002e-01, -8.03020000e-02,\n",
              "         1.16499996e+00, -1.21550001e-02, -2.48160005e-01, -2.71700006e-02,\n",
              "        -3.33869994e-01,  3.41740012e-01, -6.86869979e-01,  7.06139982e-01,\n",
              "         1.68909997e-01,  1.33999996e-02,  3.52459997e-01, -3.76770012e-02,\n",
              "         4.11599994e-01, -1.82860002e-01,  4.21820015e-01,  1.65710002e-01,\n",
              "         1.20660000e-01, -1.74070001e-01, -1.79910004e-01,  1.44520001e-02,\n",
              "         2.17539996e-01,  9.96490002e-01, -1.01340003e-03, -2.30069999e-02,\n",
              "        -1.81620002e-01, -3.18179995e-01, -3.67650002e-01, -6.02090001e-01,\n",
              "         3.06659997e-01, -2.03850001e-01, -3.66550013e-02,  5.79219997e-01,\n",
              "         4.52659994e-01,  7.12649971e-02, -3.57839987e-02, -3.40180010e-01]))"
            ]
          },
          "metadata": {},
          "execution_count": 260
        }
      ]
    },
    {
      "cell_type": "markdown",
      "source": [
        "####Name the Model"
      ],
      "metadata": {
        "id": "GWwFDeBJD5t9"
      }
    },
    {
      "cell_type": "code",
      "source": [
        "#model created with cleaned enhanced data set and initialize with randome ebeddings and 2 attention heads\n",
        "model_base_name = 'wm6000ep20_b64_cl_enh_more_dat_bl_tx_w_tw_2h_2l_d06_dff256'"
      ],
      "metadata": {
        "id": "0Hj_-5UFqu4U"
      },
      "execution_count": null,
      "outputs": []
    },
    {
      "cell_type": "markdown",
      "source": [
        "####Create Readme File"
      ],
      "metadata": {
        "id": "lU93v8HTqv_W"
      }
    },
    {
      "cell_type": "code",
      "source": [
        "\n",
        "\n",
        "# Assuming 'initial_embeddings' contains the weights from the embedding layer\n",
        "#even if they were loaded\n",
        "initial_embeddings_df = pd.DataFrame(initial_embeddings)\n",
        "save_to = checkpoint_dir + 'initial_embeddings.csv'\n",
        "initial_embeddings_df.to_csv(save_to, index=False)\n",
        "# Define the directory and file name\n",
        "directory = checkpoint_dir\n",
        "file_name = 'initial_embeddings.csv'\n",
        "how_were_embeddings_created ='loaded from FastText Twitter pre-trained embeddings'\n",
        "note = \"wu to 6000, doing 20 epcohs , making batch size to 64,trying with two  head two layers and drop rate 0.6 with 90% 10% split in train/val and dff = 256\"\n",
        "\n",
        "readme_content = f\"\"\"README\n",
        "\n",
        "\n",
        "Note: {note}\n",
        "These embeddings were {how_were_embeddings_created}.\n",
        "These  embeddings are associated with the model checkpoints saved during training pertaining to the model with\n",
        "base name '{model_base_name}', these word embeddings\n",
        "can be used for a pre- and post- training analysis of the training effects to each word embedding.\n",
        "The initial state of the  word embeddings before training are saved in the '{directory}' directory.\n",
        "The file '{file_name}' contains the embeddings in CSV format.\n",
        "\n",
        "The hyperparameters for this model ara saved on this directory in hyperparameters.csv file\n",
        "The results of this training run will be saved under CSV_Results-{model_base_name }'.csv file.\n",
        "The learning schedule plot, training loss plot and training model summary will also saved in this directory.\n",
        "\"\"\"\n",
        "# path\n",
        "readme_file_path = f'{directory}/readme.txt'\n",
        "\n",
        "# Write the readme content to the file\n",
        "with open(readme_file_path, 'w') as readme_file:\n",
        "    readme_file.write(readme_content)\n",
        "\n",
        "# Print a success message\n",
        "print(f\"The readme.txt file has been successfully written to the '{directory}' directory.\")\n",
        "\n",
        "print(readme_content)"
      ],
      "metadata": {
        "colab": {
          "base_uri": "https://localhost:8080/"
        },
        "id": "DK3FYzFg3MtQ",
        "outputId": "6f1d9115-5dbc-409c-ef42-5a2471f27c6b"
      },
      "execution_count": null,
      "outputs": [
        {
          "output_type": "stream",
          "name": "stdout",
          "text": [
            "The readme.txt file has been successfully written to the './Final_Work/ep20_wm6000_b64_enh_clean_more_bl_tx_2h_2l_twit_emb_d06_dff256/' directory.\n",
            "README\n",
            "\n",
            "\n",
            "Note: wu to 6000, doing 20 epcohs , making batch size to 64,trying with two  head two layers and drop rate 0.6 with 90% 10% split in train/val and dff = 256\n",
            "These embeddings were loaded from FastText Twitter pre-trained embeddings.\n",
            "These  embeddings are associated with the model checkpoints saved during training pertaining to the model with\n",
            "base name 'wm6000ep20_b64_cl_enh_more_dat_bl_tx_w_tw_2h_2l_d06_dff256', these word embeddings\n",
            "can be used for a pre- and post- training analysis of the training effects to each word embedding.\n",
            "The initial state of the  word embeddings before training are saved in the './Final_Work/ep20_wm6000_b64_enh_clean_more_bl_tx_2h_2l_twit_emb_d06_dff256/' directory.\n",
            "The file 'initial_embeddings.csv' contains the embeddings in CSV format.\n",
            "\n",
            "The hyperparameters for this model ara saved on this directory in hyperparameters.csv file\n",
            "The results of this training run will be saved under CSV_Results-wm6000ep20_b64_cl_enh_more_dat_bl_tx_w_tw_2h_2l_d06_dff256'.csv file.\n",
            "The learning schedule plot, training loss plot and training model summary will also saved in this directory.\n",
            "\n"
          ]
        }
      ]
    },
    {
      "cell_type": "markdown",
      "source": [
        "####Plotting Tool and Saving History"
      ],
      "metadata": {
        "id": "1n-x8IiMq4CQ"
      }
    },
    {
      "cell_type": "code",
      "source": [
        "def plot_history(history, checkpoint_dir):\n",
        "  plt.ylabel('Loss')\n",
        "  plt.xlabel('Epoch')\n",
        "  plt.xticks(range(0, len(history['loss'] + 1)))\n",
        "  plt.plot(history['loss'], label=\"training\", marker='o')\n",
        "  plt.plot(history['val_loss'], label=\"validation\", marker='o')\n",
        "  plt.legend()\n",
        "  plt.savefig(checkpoint_dir+'loss_history_plot.png')\n",
        "  plt.show()"
      ],
      "metadata": {
        "id": "I6bFnSYqB1Qk"
      },
      "execution_count": null,
      "outputs": []
    },
    {
      "cell_type": "code",
      "source": [
        "def history_to_csv(history, num_layers, d_model, num_heads, dff, dropout_rate, model_base_name, load_data, checkpoint_dir, path_to_embeddings):\n",
        "    # Assuming 'history' is your DataFrame\n",
        "    history_copy = history.copy(deep=True)\n",
        "\n",
        "    # Add 'Epoch' column\n",
        "    history_copy['Epoch'] = range(1, len(history_copy) + 1)\n",
        "     # Add 'name' and 'data' columns\n",
        "    history_copy['name'] = model_base_name\n",
        "\n",
        "    history_copy['data'] = load_data\n",
        "    history_copy['word_embeddings'] = path_to_embeddings\n",
        "    # Add hyperparameters\n",
        "    history_copy['num_layers'] = num_layers\n",
        "    history_copy['d_model'] = d_model\n",
        "    history_copy['num_heads'] = num_heads\n",
        "    history_copy['dff'] = dff\n",
        "    history_copy['dropout_rate'] = dropout_rate\n",
        "\n",
        "\n",
        "\n",
        "    # Save to CSV\n",
        "    csv_file_name = \"CSV_Results-\" + model_base_name + \".csv\"\n",
        "    csv_file_path = os.path.join(checkpoint_dir, csv_file_name)\n",
        "    history_copy.to_csv(csv_file_path, index=False)"
      ],
      "metadata": {
        "id": "WokzCNqzzGuf"
      },
      "execution_count": null,
      "outputs": []
    },
    {
      "cell_type": "markdown",
      "metadata": {
        "id": "_jTvJsXquaHW"
      },
      "source": [
        "####Save and Print the summary of the model:"
      ]
    },
    {
      "cell_type": "code",
      "execution_count": null,
      "metadata": {
        "id": "IsUPhlfEtOjn",
        "colab": {
          "base_uri": "https://localhost:8080/"
        },
        "outputId": "aad77e65-2a05-4381-c571-1444f06efd7b"
      },
      "outputs": [
        {
          "output_type": "stream",
          "name": "stdout",
          "text": [
            "Model: \"transformer_classifier_3\"\n",
            "_________________________________________________________________\n",
            " Layer (type)                Output Shape              Param #   \n",
            "=================================================================\n",
            " encoder_3 (Encoder)         multiple                  2063712   \n",
            "                                                                 \n",
            " dense_9 (Dense)             multiple                  101       \n",
            "                                                                 \n",
            "=================================================================\n",
            "Total params: 2063813 (7.87 MB)\n",
            "Trainable params: 2063813 (7.87 MB)\n",
            "Non-trainable params: 0 (0.00 Byte)\n",
            "_________________________________________________________________\n",
            "None\n"
          ]
        }
      ],
      "source": [
        "#print(transformer.summary())\n",
        "\n",
        "with open(checkpoint_dir+'model_summary.txt', 'w') as f:\n",
        "    transformer.summary(print_fn=lambda x: f.write(x + '\\n'))\n",
        "print(transformer.summary())\n"
      ]
    },
    {
      "cell_type": "code",
      "source": [
        "from tensorflow.keras.utils import plot_model\n",
        "plot_model(transformer, to_file=\"model_diagram.png\", show_shapes=True, show_layer_names=True)"
      ],
      "metadata": {
        "colab": {
          "base_uri": "https://localhost:8080/",
          "height": 77
        },
        "id": "U4Y2whmn9Y2z",
        "outputId": "b858fc0a-53af-4ddc-8757-9de3367a43e1"
      },
      "execution_count": null,
      "outputs": [
        {
          "output_type": "execute_result",
          "data": {
            "image/png": "[encoded data removed]",
            "text/plain": [
              "<IPython.core.display.Image object>"
            ]
          },
          "metadata": {},
          "execution_count": 55
        }
      ]
    },
    {
      "cell_type": "markdown",
      "metadata": {
        "id": "EfoBfC2oQtEy"
      },
      "source": [
        "# Training\n",
        "\n",
        "It's time to prepare the model and start training it."
      ]
    },
    {
      "cell_type": "markdown",
      "metadata": {
        "id": "xYEGhEOtzn5W"
      },
      "source": [
        "### Set up the optimizer"
      ]
    },
    {
      "cell_type": "markdown",
      "metadata": {
        "id": "SL4G5bS6lzd5"
      },
      "source": [
        "Use the Adam optimizer with a custom learning rate scheduler according to the formula in the original Transformer [paper](https://arxiv.org/abs/1706.03762).\n",
        "\n",
        "$$\\Large{lrate = d_{model}^{-0.5} * \\min(step{\\_}num^{-0.5}, step{\\_}num \\cdot warmup{\\_}steps^{-1.5})}$$"
      ]
    },
    {
      "cell_type": "code",
      "execution_count": null,
      "metadata": {
        "id": "iYQdOO1axwEI"
      },
      "outputs": [],
      "source": [
        "\n",
        "class CustomSchedule(tf.keras.optimizers.schedules.LearningRateSchedule):\n",
        "  def __init__(self, d_model, warmup_steps=6000): #chnagefrom 4000\n",
        "    super().__init__()\n",
        "\n",
        "    self.d_model = d_model\n",
        "    self.d_model = tf.cast(self.d_model, tf.float32)\n",
        "\n",
        "    self.warmup_steps = warmup_steps\n",
        "\n",
        "  def __call__(self, step):\n",
        "    step = tf.cast(step, dtype=tf.float32)\n",
        "    arg1 = tf.math.rsqrt(step)\n",
        "    arg2 = step * (self.warmup_steps ** -1.5)\n",
        "\n",
        "    return tf.math.rsqrt(self.d_model) * tf.math.minimum(arg1, arg2)\n"
      ]
    },
    {
      "cell_type": "markdown",
      "metadata": {
        "id": "YgkDE7hzo8r5"
      },
      "source": [
        "### Set up the loss and metrics"
      ]
    },
    {
      "cell_type": "code",
      "source": [
        "\n",
        "learning_rate = CustomSchedule(d_model)\n",
        "\n",
        "optimizer = tf.keras.optimizers.Adam(learning_rate, beta_1=0.9, beta_2=0.98,\n",
        "                                     epsilon=1e-9)\n"
      ],
      "metadata": {
        "id": "cnvxm8MpE2u9"
      },
      "execution_count": null,
      "outputs": []
    },
    {
      "cell_type": "markdown",
      "metadata": {
        "id": "fTb2S4RnQ8DU"
      },
      "source": [
        "Test the custom learning rate scheduler:"
      ]
    },
    {
      "cell_type": "code",
      "execution_count": null,
      "metadata": {
        "id": "Xij3MwYVRAAS",
        "colab": {
          "base_uri": "https://localhost:8080/",
          "height": 449
        },
        "outputId": "7bc8d784-e75d-4770-9818-dcc760ac4216"
      },
      "outputs": [
        {
          "output_type": "display_data",
          "data": {
            "text/plain": [
              "<Figure size 640x480 with 1 Axes>"
            ],
            "image/png": "[encoded data removed]"
          },
          "metadata": {}
        }
      ],
      "source": [
        "plt.plot(learning_rate(tf.range(40000, dtype=tf.float32)))\n",
        "plt.ylabel('Learning Rate')\n",
        "plt.xlabel('Train Step')\n",
        "plt.savefig(checkpoint_dir+'learning_rate_plot.png')"
      ]
    },
    {
      "cell_type": "markdown",
      "metadata": {
        "id": "fzXq5LWgRN63"
      },
      "source": [
        "Instantiate the optimizer (in this example it's `tf.keras.optimizers.Adam`):"
      ]
    },
    {
      "cell_type": "markdown",
      "metadata": {
        "id": "Mk8vwuN24hafK"
      },
      "source": [
        "With all the components ready, configure the training procedure using `model.compile`, and then run it with `model.fit`:\n",
        "\n",
        "Note: This takes about an hour to train in Colab."
      ]
    },
    {
      "cell_type": "markdown",
      "source": [
        "##Save best model"
      ],
      "metadata": {
        "id": "mHaNJztRAUpE"
      }
    },
    {
      "cell_type": "code",
      "source": [
        "\n",
        "checkpoint_filepath = checkpoint_dir +model_base_name +'.{epoch:02d}-{val_accuracy:.2f}'\n",
        "checkpoint_filepath"
      ],
      "metadata": {
        "colab": {
          "base_uri": "https://localhost:8080/",
          "height": 54
        },
        "id": "vKCmBK7u7ar3",
        "outputId": "dd013d37-0cf2-4938-c9f3-c07e0b8ecc13"
      },
      "execution_count": null,
      "outputs": [
        {
          "output_type": "execute_result",
          "data": {
            "text/plain": [
              "'./Final_Work/ep20_wm6000_b64_enh_clean_more_bl_tx_2h_2l_twit_emb_d06_dff256/wm6000ep20_b64_cl_enh_more_dat_bl_tx_w_tw_2h_2l_d06_dff256.{epoch:02d}-{val_accuracy:.2f}'"
            ],
            "application/vnd.google.colaboratory.intrinsic+json": {
              "type": "string"
            }
          },
          "metadata": {},
          "execution_count": 59
        }
      ]
    },
    {
      "cell_type": "code",
      "source": [
        "from keras import losses\n",
        "\n",
        "\n",
        "callbacks_list = [\n",
        "    keras.callbacks.ModelCheckpoint(\n",
        "        filepath=checkpoint_filepath, #checkpoint_filepath define earlier in this notebook\n",
        "        monitor=\"val_loss\", #'val_loss'\n",
        "        save_best_only=False,\n",
        "        save_weights_only=True,  # Add this line\n",
        "    )\n",
        "]\n"
      ],
      "metadata": {
        "id": "vZCijhAPEX75"
      },
      "execution_count": null,
      "outputs": []
    },
    {
      "cell_type": "markdown",
      "source": [
        "####Compile the Model"
      ],
      "metadata": {
        "id": "SG4IWGdfAigm"
      }
    },
    {
      "cell_type": "code",
      "source": [
        "\n",
        "transformer.compile(\n",
        "    loss='binary_crossentropy',\n",
        "    optimizer=optimizer,\n",
        "    metrics=['accuracy'],\n",
        "    run_eagerly=True)\n"
      ],
      "metadata": {
        "id": "iGOD9UKLAgz5"
      },
      "execution_count": null,
      "outputs": []
    },
    {
      "cell_type": "markdown",
      "source": [
        "####Start Training"
      ],
      "metadata": {
        "id": "qCqXKL-Bzx0U"
      }
    },
    {
      "cell_type": "code",
      "source": [
        "history = transformer.fit(train_dataset, epochs=15, validation_data=val_dataset, callbacks=callbacks_list)\n",
        "\n",
        "# Convert the return value into a DataFrame so we can see the train loss\n",
        "# and binary accuracy after every epoch.\n",
        "history = pd.DataFrame(history.history)\n",
        "plot_history(history, checkpoint_dir)\n",
        "history_to_csv(history, num_layers, d_model, num_heads, dff, dropout_rate, model_base_name, load_data, checkpoint_dir, path_to_embeddings)\n"
      ],
      "metadata": {
        "colab": {
          "base_uri": "https://localhost:8080/",
          "height": 658
        },
        "id": "Uzf9O-bRCY7V",
        "outputId": "b2234fc2-4acb-486f-f9db-8e82ac8aa488"
      },
      "execution_count": null,
      "outputs": [
        {
          "output_type": "stream",
          "name": "stdout",
          "text": [
            "Epoch 1/15\n",
            "100/100 [==============================] - 32s 314ms/step - loss: 0.8042 - accuracy: 0.5318 - val_loss: 0.6782 - val_accuracy: 0.6054\n",
            "Epoch 2/15\n",
            "100/100 [==============================] - 31s 314ms/step - loss: 0.7594 - accuracy: 0.5413 - val_loss: 0.6731 - val_accuracy: 0.6068\n",
            "Epoch 3/15\n",
            "100/100 [==============================] - 31s 311ms/step - loss: 0.7153 - accuracy: 0.5548 - val_loss: 0.6596 - val_accuracy: 0.6209\n",
            "Epoch 4/15\n",
            "100/100 [==============================] - 32s 316ms/step - loss: 0.6932 - accuracy: 0.5658 - val_loss: 0.6571 - val_accuracy: 0.6393\n",
            "Epoch 5/15\n",
            "100/100 [==============================] - 31s 315ms/step - loss: 0.6787 - accuracy: 0.5757 - val_loss: 0.6411 - val_accuracy: 0.6379\n",
            "Epoch 6/15\n",
            "100/100 [==============================] - 31s 314ms/step - loss: 0.6555 - accuracy: 0.6152 - val_loss: 0.6179 - val_accuracy: 0.6605\n",
            "Epoch 7/15\n",
            "100/100 [==============================] - 31s 305ms/step - loss: 0.6340 - accuracy: 0.6380 - val_loss: 0.6025 - val_accuracy: 0.6846\n",
            "Epoch 8/15\n",
            "100/100 [==============================] - ETA: 0s - loss: 0.6184 - accuracy: 0.6643"
          ]
        },
        {
          "output_type": "error",
          "ename": "FileNotFoundError",
          "evalue": "[Errno 2] No such file or directory",
          "traceback": [
            "\u001b[0;31m---------------------------------------------------------------------------\u001b[0m",
            "\u001b[0;31mFileNotFoundError\u001b[0m                         Traceback (most recent call last)",
            "\u001b[0;32m<ipython-input-62-f05a3eab082d>\u001b[0m in \u001b[0;36m<cell line: 1>\u001b[0;34m()\u001b[0m\n\u001b[0;32m----> 1\u001b[0;31m \u001b[0mhistory\u001b[0m \u001b[0;34m=\u001b[0m \u001b[0mtransformer\u001b[0m\u001b[0;34m.\u001b[0m\u001b[0mfit\u001b[0m\u001b[0;34m(\u001b[0m\u001b[0mtrain_dataset\u001b[0m\u001b[0;34m,\u001b[0m \u001b[0mepochs\u001b[0m\u001b[0;34m=\u001b[0m\u001b[0;36m15\u001b[0m\u001b[0;34m,\u001b[0m \u001b[0mvalidation_data\u001b[0m\u001b[0;34m=\u001b[0m\u001b[0mval_dataset\u001b[0m\u001b[0;34m,\u001b[0m \u001b[0mcallbacks\u001b[0m\u001b[0;34m=\u001b[0m\u001b[0mcallbacks_list\u001b[0m\u001b[0;34m)\u001b[0m\u001b[0;34m\u001b[0m\u001b[0;34m\u001b[0m\u001b[0m\n\u001b[0m\u001b[1;32m      2\u001b[0m \u001b[0;34m\u001b[0m\u001b[0m\n\u001b[1;32m      3\u001b[0m \u001b[0;31m# Convert the return value into a DataFrame so we can see the train loss\u001b[0m\u001b[0;34m\u001b[0m\u001b[0;34m\u001b[0m\u001b[0m\n\u001b[1;32m      4\u001b[0m \u001b[0;31m# and binary accuracy after every epoch.\u001b[0m\u001b[0;34m\u001b[0m\u001b[0;34m\u001b[0m\u001b[0m\n\u001b[1;32m      5\u001b[0m \u001b[0mhistory\u001b[0m \u001b[0;34m=\u001b[0m \u001b[0mpd\u001b[0m\u001b[0;34m.\u001b[0m\u001b[0mDataFrame\u001b[0m\u001b[0;34m(\u001b[0m\u001b[0mhistory\u001b[0m\u001b[0;34m.\u001b[0m\u001b[0mhistory\u001b[0m\u001b[0;34m)\u001b[0m\u001b[0;34m\u001b[0m\u001b[0;34m\u001b[0m\u001b[0m\n",
            "\u001b[0;32m/usr/local/lib/python3.10/dist-packages/keras/src/utils/traceback_utils.py\u001b[0m in \u001b[0;36merror_handler\u001b[0;34m(*args, **kwargs)\u001b[0m\n\u001b[1;32m     68\u001b[0m             \u001b[0;31m# To get the full stack trace, call:\u001b[0m\u001b[0;34m\u001b[0m\u001b[0;34m\u001b[0m\u001b[0m\n\u001b[1;32m     69\u001b[0m             \u001b[0;31m# `tf.debugging.disable_traceback_filtering()`\u001b[0m\u001b[0;34m\u001b[0m\u001b[0;34m\u001b[0m\u001b[0m\n\u001b[0;32m---> 70\u001b[0;31m             \u001b[0;32mraise\u001b[0m \u001b[0me\u001b[0m\u001b[0;34m.\u001b[0m\u001b[0mwith_traceback\u001b[0m\u001b[0;34m(\u001b[0m\u001b[0mfiltered_tb\u001b[0m\u001b[0;34m)\u001b[0m \u001b[0;32mfrom\u001b[0m \u001b[0;32mNone\u001b[0m\u001b[0;34m\u001b[0m\u001b[0;34m\u001b[0m\u001b[0m\n\u001b[0m\u001b[1;32m     71\u001b[0m         \u001b[0;32mfinally\u001b[0m\u001b[0;34m:\u001b[0m\u001b[0;34m\u001b[0m\u001b[0;34m\u001b[0m\u001b[0m\n\u001b[1;32m     72\u001b[0m             \u001b[0;32mdel\u001b[0m \u001b[0mfiltered_tb\u001b[0m\u001b[0;34m\u001b[0m\u001b[0;34m\u001b[0m\u001b[0m\n",
            "\u001b[0;32m/usr/lib/python3.10/posixpath.py\u001b[0m in \u001b[0;36mrelpath\u001b[0;34m(path, start)\u001b[0m\n\u001b[1;32m    486\u001b[0m \u001b[0;34m\u001b[0m\u001b[0m\n\u001b[1;32m    487\u001b[0m     \u001b[0;32mtry\u001b[0m\u001b[0;34m:\u001b[0m\u001b[0;34m\u001b[0m\u001b[0;34m\u001b[0m\u001b[0m\n\u001b[0;32m--> 488\u001b[0;31m         \u001b[0mstart_list\u001b[0m \u001b[0;34m=\u001b[0m \u001b[0;34m[\u001b[0m\u001b[0mx\u001b[0m \u001b[0;32mfor\u001b[0m \u001b[0mx\u001b[0m \u001b[0;32min\u001b[0m \u001b[0mabspath\u001b[0m\u001b[0;34m(\u001b[0m\u001b[0mstart\u001b[0m\u001b[0;34m)\u001b[0m\u001b[0;34m.\u001b[0m\u001b[0msplit\u001b[0m\u001b[0;34m(\u001b[0m\u001b[0msep\u001b[0m\u001b[0;34m)\u001b[0m \u001b[0;32mif\u001b[0m \u001b[0mx\u001b[0m\u001b[0;34m]\u001b[0m\u001b[0;34m\u001b[0m\u001b[0;34m\u001b[0m\u001b[0m\n\u001b[0m\u001b[1;32m    489\u001b[0m         \u001b[0mpath_list\u001b[0m \u001b[0;34m=\u001b[0m \u001b[0;34m[\u001b[0m\u001b[0mx\u001b[0m \u001b[0;32mfor\u001b[0m \u001b[0mx\u001b[0m \u001b[0;32min\u001b[0m \u001b[0mabspath\u001b[0m\u001b[0;34m(\u001b[0m\u001b[0mpath\u001b[0m\u001b[0;34m)\u001b[0m\u001b[0;34m.\u001b[0m\u001b[0msplit\u001b[0m\u001b[0;34m(\u001b[0m\u001b[0msep\u001b[0m\u001b[0;34m)\u001b[0m \u001b[0;32mif\u001b[0m \u001b[0mx\u001b[0m\u001b[0;34m]\u001b[0m\u001b[0;34m\u001b[0m\u001b[0;34m\u001b[0m\u001b[0m\n\u001b[1;32m    490\u001b[0m         \u001b[0;31m# Work out how much of the filepath is shared by start and path.\u001b[0m\u001b[0;34m\u001b[0m\u001b[0;34m\u001b[0m\u001b[0m\n",
            "\u001b[0;32m/usr/lib/python3.10/posixpath.py\u001b[0m in \u001b[0;36mabspath\u001b[0;34m(path)\u001b[0m\n\u001b[1;32m    382\u001b[0m             \u001b[0mcwd\u001b[0m \u001b[0;34m=\u001b[0m \u001b[0mos\u001b[0m\u001b[0;34m.\u001b[0m\u001b[0mgetcwdb\u001b[0m\u001b[0;34m(\u001b[0m\u001b[0;34m)\u001b[0m\u001b[0;34m\u001b[0m\u001b[0;34m\u001b[0m\u001b[0m\n\u001b[1;32m    383\u001b[0m         \u001b[0;32melse\u001b[0m\u001b[0;34m:\u001b[0m\u001b[0;34m\u001b[0m\u001b[0;34m\u001b[0m\u001b[0m\n\u001b[0;32m--> 384\u001b[0;31m             \u001b[0mcwd\u001b[0m \u001b[0;34m=\u001b[0m \u001b[0mos\u001b[0m\u001b[0;34m.\u001b[0m\u001b[0mgetcwd\u001b[0m\u001b[0;34m(\u001b[0m\u001b[0;34m)\u001b[0m\u001b[0;34m\u001b[0m\u001b[0;34m\u001b[0m\u001b[0m\n\u001b[0m\u001b[1;32m    385\u001b[0m         \u001b[0mpath\u001b[0m \u001b[0;34m=\u001b[0m \u001b[0mjoin\u001b[0m\u001b[0;34m(\u001b[0m\u001b[0mcwd\u001b[0m\u001b[0;34m,\u001b[0m \u001b[0mpath\u001b[0m\u001b[0;34m)\u001b[0m\u001b[0;34m\u001b[0m\u001b[0;34m\u001b[0m\u001b[0m\n\u001b[1;32m    386\u001b[0m     \u001b[0;32mreturn\u001b[0m \u001b[0mnormpath\u001b[0m\u001b[0;34m(\u001b[0m\u001b[0mpath\u001b[0m\u001b[0;34m)\u001b[0m\u001b[0;34m\u001b[0m\u001b[0;34m\u001b[0m\u001b[0m\n",
            "\u001b[0;31mFileNotFoundError\u001b[0m: [Errno 2] No such file or directory"
          ]
        }
      ]
    },
    {
      "cell_type": "markdown",
      "source": [
        "#Memory Clean Up"
      ],
      "metadata": {
        "id": "KvOBNMYM8Egc"
      }
    },
    {
      "cell_type": "code",
      "source": [
        "del transformer"
      ],
      "metadata": {
        "id": "9kwAONtz8JJP"
      },
      "execution_count": null,
      "outputs": []
    },
    {
      "cell_type": "code",
      "source": [
        "note = \"resutls are bad for wu 6000, maybe go in the opposite diretion?val_accuracy: 0.7242\""
      ],
      "metadata": {
        "id": "yFyf64HR1I8W"
      },
      "execution_count": null,
      "outputs": []
    },
    {
      "cell_type": "markdown",
      "source": [
        "add a note to share drive"
      ],
      "metadata": {
        "id": "rZNaCJ8VthFE"
      }
    },
    {
      "cell_type": "code",
      "source": [
        "\n",
        "\n",
        "\n",
        "\n",
        "# Define the directory and file name\n",
        "directory = checkpoint_dir\n",
        "\n",
        "\n",
        "\n",
        "\n",
        "readme_content = f\"\"\"Post Results Note: {note}\n",
        "\n",
        "\"\"\"\n",
        "# path\n",
        "readme_file_path = f'{directory}/note_about_results.txt'\n",
        "\n",
        "# Write the readme content to the file\n",
        "with open(readme_file_path, 'w') as readme_file:\n",
        "    readme_file.write(readme_content)\n",
        "\n",
        "# Print a success message\n",
        "print(f\"The note_about_resultsfile has been successfully written to the '{directory}' directory.\")\n",
        "\n",
        "print(readme_content)"
      ],
      "metadata": {
        "colab": {
          "base_uri": "https://localhost:8080/"
        },
        "id": "uMlliyVUtW6A",
        "outputId": "bb840fd8-79e7-41d7-e57d-7751c46ec85d"
      },
      "execution_count": null,
      "outputs": [
        {
          "output_type": "stream",
          "name": "stdout",
          "text": [
            "The note_about_resultsfile has been successfully written to the './Final_Work/ep40_wm6000_b128_enh_clean_more_bl_tx_2h_2l_twit_emb_d06_dff256/' directory.\n",
            "Post Results Note: resutls are bad for wu 6000, maybe go in the opposite diretion?val_accuracy: 0.7242\n",
            "\n",
            "\n"
          ]
        }
      ]
    },
    {
      "cell_type": "markdown",
      "metadata": {
        "id": "cxKpqCbzSW6z"
      },
      "source": [
        "#End of File"
      ]
    }
  ],
  "metadata": {
    "colab": {
      "provenance": [],
      "machine_shape": "hm",
      "toc_visible": true
    },
    "kernelspec": {
      "display_name": "Python 3",
      "name": "python3"
    }
  },
  "nbformat": 4,
  "nbformat_minor": 0
}