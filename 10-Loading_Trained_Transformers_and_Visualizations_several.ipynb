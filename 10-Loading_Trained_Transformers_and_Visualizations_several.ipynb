{
  "cells": [
    {
      "cell_type": "markdown",
      "metadata": {
        "id": "e7f697fec28a"
      },
      "source": [
        "</p>\n",
        "\n",
        "<p>-adding custom schedule [improved learning]</p>\n",
        "<p>-adjusting hyperparameters, d_model =100, droprate =  0.2</p>\n",
        "<p>-adding attention weights to output for viz </p>\n",
        "<p>-loading saved model for salient map </p>\n"
      ]
    },
    {
      "cell_type": "markdown",
      "metadata": {
        "id": "EFwSaNB8jF7s"
      },
      "source": [
        "<style>\n",
        "td {\n",
        "  text-align: center;\n",
        "}\n",
        "\n",
        "th {\n",
        "  text-align: center;\n",
        "}\n",
        "</style>"
      ]
    },
    {
      "cell_type": "markdown",
      "metadata": {
        "id": "swymtxpl7W7w"
      },
      "source": [
        "## Setup"
      ]
    },
    {
      "cell_type": "code",
      "execution_count": 16,
      "metadata": {
        "colab": {
          "base_uri": "https://localhost:8080/"
        },
        "id": "acgF9rXfaiRP",
        "outputId": "3978c3bb-d7c1-4cc4-e870-5f66ba7c1bb5"
      },
      "outputs": [
        {
          "output_type": "stream",
          "name": "stdout",
          "text": [
            "Drive already mounted at /content/drive; to attempt to forcibly remount, call drive.mount(\"/content/drive\", force_remount=True).\n"
          ]
        }
      ],
      "source": [
        "\n",
        "# Mount Google Drive\n",
        "from google.colab import drive\n",
        "drive.mount('/content/drive')"
      ]
    },
    {
      "cell_type": "code",
      "execution_count": 17,
      "metadata": {
        "id": "FNO7MPwxarDt"
      },
      "outputs": [],
      "source": [
        "# Navigate to the Directory Containing the CSV File\n",
        "import os\n",
        "os.chdir('/content/drive/My Drive/DS266 Project')"
      ]
    },
    {
      "cell_type": "markdown",
      "metadata": {
        "id": "OfV1batAwq9j"
      },
      "source": [
        "Begin by installing [TensorFlow Datasets](https://tensorflow.org/datasets) for loading the dataset and [TensorFlow Text](https://www.tensorflow.org/text) for text preprocessing:"
      ]
    },
    {
      "cell_type": "code",
      "execution_count": 18,
      "metadata": {
        "colab": {
          "base_uri": "https://localhost:8080/"
        },
        "id": "XFG0NDRu5mYQ",
        "outputId": "bf0ad5f1-7df3-4713-836d-a98aaf43f57e"
      },
      "outputs": [
        {
          "output_type": "stream",
          "name": "stdout",
          "text": [
            "Reading package lists...\n",
            "Building dependency tree...\n",
            "Reading state information...\n",
            "Package libcudnn8 is not available, but is referred to by another package.\n",
            "This may mean that the package is missing, has been obsoleted, or\n",
            "is only available from another source\n",
            "\n",
            "\u001b[1;31mE: \u001b[0mVersion '8.1.0.77-1+cuda11.2' for 'libcudnn8' was not found\u001b[0m\n",
            "\u001b[31mERROR: pip's dependency resolver does not currently take into account all the packages that are installed. This behaviour is the source of the following dependency conflicts.\n",
            "tf-keras 2.15.1 requires tensorflow<2.16,>=2.15, but you have tensorflow 2.16.1 which is incompatible.\u001b[0m\u001b[31m\n",
            "\u001b[0m"
          ]
        }
      ],
      "source": [
        "# Install the most re version of TensorFlow to use the improved\n",
        "# masking support for `tf.keras.layers.MultiHeadAttention`.\n",
        "!apt install -q --allow-change-held-packages libcudnn8=8.1.0.77-1+cuda11.2\n",
        "!pip uninstall -y -q tensorflow keras tensorflow-estimator tensorflow-text\n",
        "!pip install -q protobuf~=3.20.3\n",
        "!pip install -q tensorflow_datasets\n",
        "!pip install -q -U tensorflow-text tensorflow"
      ]
    },
    {
      "cell_type": "code",
      "execution_count": 19,
      "metadata": {
        "id": "sfB0JATpjTEz",
        "colab": {
          "base_uri": "https://localhost:8080/"
        },
        "outputId": "f07b3f5e-550d-4c04-8c04-efc305d26951"
      },
      "outputs": [
        {
          "output_type": "stream",
          "name": "stdout",
          "text": [
            "\u001b[31mERROR: pip's dependency resolver does not currently take into account all the packages that are installed. This behaviour is the source of the following dependency conflicts.\n",
            "tensorflow-text 2.16.1 requires tensorflow<2.17,>=2.16.1; platform_machine != \"arm64\" or platform_system != \"Darwin\", but you have tensorflow 2.15.0 which is incompatible.\u001b[0m\u001b[31m\n",
            "\u001b[0m"
          ]
        }
      ],
      "source": [
        "# Install compatible TensorFlow version\n",
        "!pip uninstall tensorflow -y -q\n",
        "!pip install tensorflow==2.15 -q\n",
        "\n",
        "# Reinstall tf-keras to resolve any potential dependency conflicts\n",
        "!pip uninstall tf-keras -y -q\n",
        "!pip install tf-keras -q"
      ]
    },
    {
      "cell_type": "markdown",
      "metadata": {
        "id": "0GYpLBSjxJmG"
      },
      "source": [
        "Import the necessary modules:"
      ]
    },
    {
      "cell_type": "code",
      "execution_count": 20,
      "metadata": {
        "colab": {
          "base_uri": "https://localhost:8080/"
        },
        "id": "Q-VgaWpbm21T",
        "outputId": "4c7c8daa-f6ca-4de2-a883-0d80120c85ba"
      },
      "outputs": [
        {
          "output_type": "stream",
          "name": "stdout",
          "text": [
            "\u001b[31mERROR: pip's dependency resolver does not currently take into account all the packages that are installed. This behaviour is the source of the following dependency conflicts.\n",
            "tensorflow-text 2.16.1 requires tensorflow<2.17,>=2.16.1; platform_machine != \"arm64\" or platform_system != \"Darwin\", but you have tensorflow 2.15.0 which is incompatible.\n",
            "tf-keras 2.16.0 requires tensorflow<2.17,>=2.16, but you have tensorflow 2.15.0 which is incompatible.\u001b[0m\u001b[31m\n",
            "\u001b[0m"
          ]
        }
      ],
      "source": [
        "!pip install -q tensorflow==2.15"
      ]
    },
    {
      "cell_type": "code",
      "execution_count": 21,
      "metadata": {
        "id": "KHCOdSJLuYLn"
      },
      "outputs": [],
      "source": [
        "!pip uninstall tensorflow-text -y -q\n",
        "!pip install tensorflow-text==2.15 -q"
      ]
    },
    {
      "cell_type": "code",
      "execution_count": 22,
      "metadata": {
        "id": "JjJJyJTZYebt"
      },
      "outputs": [],
      "source": [
        "import logging\n",
        "import time\n",
        "import numpy as np\n",
        "import matplotlib.pyplot as plt\n",
        "import tensorflow_datasets as tfds\n",
        "import tensorflow as tf\n",
        "import tensorflow_text as text\n",
        "from tensorflow import keras"
      ]
    },
    {
      "cell_type": "markdown",
      "metadata": {
        "id": "Xf_WUi2HLhzf"
      },
      "source": [
        "## Data handling\n",
        "\n"
      ]
    },
    {
      "cell_type": "markdown",
      "metadata": {
        "id": "-cCvXbPkccV1"
      },
      "source": [
        "###Load the dataset"
      ]
    },
    {
      "cell_type": "markdown",
      "metadata": {
        "id": "QJ29V1F_u0GT"
      },
      "source": [
        "Load the data the model your loading was trained on:"
      ]
    },
    {
      "cell_type": "code",
      "execution_count": 23,
      "metadata": {
        "id": "lw7axoYfayav"
      },
      "outputs": [],
      "source": [
        "# Read the CSV File\n",
        "import pandas as pd\n",
        "tweets_df = pd.read_csv('train_enhanced_cleaned.csv')\n",
        "tweets_df.head(3)\n",
        "bl_tweets_df = pd.read_csv('train.csv')"
      ]
    },
    {
      "cell_type": "code",
      "execution_count": 24,
      "metadata": {
        "id": "WiZB9l9ubV0e"
      },
      "outputs": [],
      "source": [
        "sentences = tweets_df['text']\n",
        "labels = tweets_df['target']\n",
        "bl_sentences = bl_tweets_df['text']\n",
        "bl_labels = bl_tweets_df['target']"
      ]
    },
    {
      "cell_type": "markdown",
      "metadata": {
        "id": "pCgPxq3mxqOg"
      },
      "source": [
        "####Define val_data and val_labels"
      ]
    },
    {
      "cell_type": "code",
      "execution_count": 25,
      "metadata": {
        "id": "hJOGEQ-CvPP8"
      },
      "outputs": [],
      "source": [
        "from sklearn.model_selection import train_test_split\n",
        "# Shuffle and batch the dataset\n",
        "\n",
        "\n",
        "# Split the data\n",
        "train_data, val_data, train_labels, val_labels = train_test_split(sentences, labels, test_size=0.3)\n",
        "bl_train_data, bl_val_data, bl_train_labels, bl_val_labels = train_test_split(bl_sentences, bl_labels, test_size=0.3)"
      ]
    },
    {
      "cell_type": "code",
      "execution_count": 26,
      "metadata": {
        "colab": {
          "base_uri": "https://localhost:8080/"
        },
        "id": "MPNKzx6Ivaqj",
        "outputId": "12be0a41-133a-45ea-d1dc-c005fe5dda2b"
      },
      "outputs": [
        {
          "output_type": "execute_result",
          "data": {
            "text/plain": [
              "((2284,), pandas.core.series.Series)"
            ]
          },
          "metadata": {},
          "execution_count": 26
        }
      ],
      "source": [
        " val_data.shape,type(val_data)"
      ]
    },
    {
      "cell_type": "markdown",
      "metadata": {
        "id": "eJxTd6aVnZyh"
      },
      "source": [
        "### Set up the tokenizer"
      ]
    },
    {
      "cell_type": "markdown",
      "metadata": {
        "id": "Mopr6oKUlzds"
      },
      "source": [
        "Now that you have loaded the dataset, you need to tokenize the text, so that each element is represented as a [token](https://developers.google.com/machine-learning/glossary#token) or token ID (a numeric representation)."
      ]
    },
    {
      "cell_type": "code",
      "execution_count": 27,
      "metadata": {
        "id": "FlLcttf77sHP"
      },
      "outputs": [],
      "source": [
        "from tensorflow.keras.preprocessing.text import Tokenizer\n",
        "from tensorflow.keras.preprocessing.sequence import pad_sequences\n",
        "\n",
        "# Instantiate the tokenizer\n",
        "tokenizer = Tokenizer()\n",
        "\n",
        "# Fit the tokenizer on your text data\n",
        "tokenizer.fit_on_texts(sentences)\n"
      ]
    },
    {
      "cell_type": "code",
      "execution_count": 28,
      "metadata": {
        "id": "jfhxa_jtpiIx"
      },
      "outputs": [],
      "source": [
        "from tensorflow.keras.preprocessing.text import Tokenizer\n",
        "from tensorflow.keras.preprocessing.sequence import pad_sequences\n",
        "\n",
        "# Instantiate the tokenizer\n",
        "bl_tokenizer = Tokenizer()\n",
        "\n",
        "# Fit the tokenizer on your text data\n",
        "bl_tokenizer.fit_on_texts(bl_sentences)"
      ]
    },
    {
      "cell_type": "code",
      "execution_count": 29,
      "metadata": {
        "id": "g2IH6BJs7hGZ"
      },
      "outputs": [],
      "source": [
        "MAX_TOKENS =30\n",
        "# Convert sentences to sequences\n",
        "sequences = tokenizer.texts_to_sequences(sentences)\n",
        "\n",
        "# Pad sequences\n",
        "sequences = pad_sequences(sequences, maxlen=MAX_TOKENS, padding='post')\n",
        "\n",
        "# Convert labels to NumPy array\n",
        "labels = labels.to_numpy()\n"
      ]
    },
    {
      "cell_type": "code",
      "execution_count": 30,
      "metadata": {
        "id": "_lTY9jxdpoqq"
      },
      "outputs": [],
      "source": [
        "MAX_TOKENS =30\n",
        "# Convert sentences to sequences\n",
        "bl_sequences = bl_tokenizer.texts_to_sequences(bl_sentences)\n",
        "\n",
        "# Pad sequences\n",
        "bl_sequences = pad_sequences(bl_sequences, maxlen=MAX_TOKENS, padding='post')\n",
        "\n",
        "# Convert labels to NumPy array\n",
        "bl_labels = bl_labels.to_numpy()"
      ]
    },
    {
      "cell_type": "code",
      "execution_count": 31,
      "metadata": {
        "colab": {
          "base_uri": "https://localhost:8080/"
        },
        "id": "J5CQlajecVQA",
        "outputId": "bfdf422f-732a-4bbf-8d19-f842cef835c6"
      },
      "outputs": [
        {
          "output_type": "stream",
          "name": "stdout",
          "text": [
            "original text: \n",
            "location   our deeds are the reason of this earthquake may allah forgive us all negative  news   social concern non irony optimism \n",
            "location   forest fire near la ronge sask  canada neutral  news   social concern non irony fear \n",
            "location   all residents asked to shelter in place are being notified by officers  no other evacuation or shelter in place orders are expected neutral  news   social concern non irony disgust \n",
            "tokenized text: \n",
            "[   4  142 4574   38    9  883   14   34  160  161 1634 4575  115   61\n",
            "   10    1    2    3    6    5   58    0    0    0    0    0    0    0\n",
            "    0    0]\n",
            "[   4  118   42  420  815 6846 6847 1408    8    1    2    3    6    5\n",
            "   15    0    0    0    0    0    0    0    0    0    0    0    0    0\n",
            "    0    0]\n",
            "[   4   61 1758 1635   13 1945   12  710   38  158 6848   33 1759   56\n",
            "  553  172   78 1945   12  710 1409   38 1126    8    1    2    3    6\n",
            "    5   21]\n"
          ]
        }
      ],
      "source": [
        "print (\"original text: \")\n",
        "for i in range(3):\n",
        "\n",
        "  print(tweets_df.text.iloc[i])\n",
        "print (\"tokenized text: \")\n",
        "for i in range(3):\n",
        "  print(sequences[i])"
      ]
    },
    {
      "cell_type": "markdown",
      "metadata": {
        "id": "g_4vdnhSaATh"
      },
      "source": [
        "The distribution of tokens per example in the dataset is as follows:"
      ]
    },
    {
      "cell_type": "code",
      "execution_count": 32,
      "metadata": {
        "colab": {
          "base_uri": "https://localhost:8080/",
          "height": 452
        },
        "id": "2QckwMHyfZ0B",
        "outputId": "d4378712-6680-4672-e634-bb1571952fb2"
      },
      "outputs": [
        {
          "output_type": "display_data",
          "data": {
            "text/plain": [
              "<Figure size 640x480 with 1 Axes>"
            ],
            "image/png": "[encoded data removed]"
          },
          "metadata": {}
        }
      ],
      "source": [
        "\n",
        "\n",
        "# Tokenize the sentences\n",
        "tokenized_sentences = tokenizer.texts_to_sequences(tweets_df['text'])\n",
        "\n",
        "# Calculate the lengths of the tokenized sentences\n",
        "lengths = [len(sentence) for sentence in tokenized_sentences]\n",
        "\n",
        "# Plot the histogram of lengths\n",
        "plt.hist(lengths, np.linspace(0, 100, 101))\n",
        "plt.ylim(plt.ylim())\n",
        "max_length = max(lengths)\n",
        "plt.plot([max_length, max_length], plt.ylim())\n",
        "plt.title(f'Maximum tokens per example: {max_length}');\n"
      ]
    },
    {
      "cell_type": "code",
      "execution_count": 33,
      "metadata": {
        "id": "3IYdau7MyTdI"
      },
      "outputs": [],
      "source": [
        "#convert sequence back to text\n",
        "def sequence_to_text(sequence):\n",
        "    # Convert a sequence of indices to text using the tokenizer's index_word dictionary\n",
        "    return ' '.join([tokenizer.index_word.get(index, '') for index in sequence])\n",
        "\n"
      ]
    },
    {
      "cell_type": "markdown",
      "metadata": {
        "id": "ylyY-_4fy_2a"
      },
      "source": [
        "Convert back to English words"
      ]
    },
    {
      "cell_type": "code",
      "execution_count": 34,
      "metadata": {
        "colab": {
          "base_uri": "https://localhost:8080/"
        },
        "id": "UKuW1Wr7yeH1",
        "outputId": "8ce2ccd8-bee4-480f-a520-41c82385b18c"
      },
      "outputs": [
        {
          "output_type": "stream",
          "name": "stdout",
          "text": [
            "location our deeds are the reason of this earthquake may allah forgive us all negative news social concern non irony optimism         \n",
            "1\n"
          ]
        }
      ],
      "source": [
        "# Convert the sequence to text\n",
        "text = sequence_to_text(sequences[0])\n",
        "print(text)\n",
        "print(labels[0])"
      ]
    },
    {
      "cell_type": "markdown",
      "metadata": {
        "id": "-Yb35sTJcZq9"
      },
      "source": [
        "### Set up a data pipeline with `tf.data`"
      ]
    },
    {
      "cell_type": "markdown",
      "metadata": {
        "id": "JZHsns5obJhN"
      },
      "source": [
        "The following function takes batches of text as input, and converts them to a format suitable for training.\n",
        "\n",
        "1. It tokenizes them into ragged batches.\n",
        "2. It trims each to be no longer than `MAX_TOKENS`.\n",
        "3. It splits the target (English) tokens into inputs and labels. These are shifted by one step so that at each input location the `label` is the id of the next token.\n",
        "4. It converts the `RaggedTensor`s to padded dense `Tensor`s.\n",
        "5. It returns an `(inputs, labels)` pair.\n"
      ]
    },
    {
      "cell_type": "code",
      "execution_count": 35,
      "metadata": {
        "id": "_6wwjDir8hcL"
      },
      "outputs": [],
      "source": [
        "from sklearn.model_selection import train_test_split\n",
        "# Shuffle and batch the dataset\n",
        "BUFFER_SIZE = len(sequences)\n",
        "BATCH_SIZE = 64  # You can adjust the batch size as needed\n",
        "\n",
        "# Split the data\n",
        "sequences_train, sequences_val, labels_train, labels_val = train_test_split(sequences, labels, test_size=0.3)\n",
        "\n",
        "# Convert to TensorFlow Datasets\n",
        "train_dataset = tf.data.Dataset.from_tensor_slices((sequences_train, labels_train))\n",
        "val_dataset = tf.data.Dataset.from_tensor_slices((sequences_val, labels_val))\n",
        "\n",
        "# Shuffle and batch the datasets\n",
        "train_dataset = train_dataset.shuffle(len(sequences_train)).batch(BATCH_SIZE)\n",
        "val_dataset = val_dataset.batch(BATCH_SIZE)\n",
        "\n",
        "\n"
      ]
    },
    {
      "cell_type": "markdown",
      "metadata": {
        "id": "itSWqk-ivrRg"
      },
      "source": [
        "Sanity check the dataset"
      ]
    },
    {
      "cell_type": "code",
      "execution_count": 36,
      "metadata": {
        "colab": {
          "base_uri": "https://localhost:8080/"
        },
        "id": "iZZS6HuY-n31",
        "outputId": "3b362c5a-7c52-4494-d727-833c20a4a893"
      },
      "outputs": [
        {
          "output_type": "stream",
          "name": "stdout",
          "text": [
            "(64, 30)\n",
            "(64,)\n"
          ]
        }
      ],
      "source": [
        "for tweet, labels in train_dataset.take(1):\n",
        "  break\n",
        "\n",
        "print(tweet.shape)\n",
        "print(labels.shape)\n"
      ]
    },
    {
      "cell_type": "code",
      "execution_count": 37,
      "metadata": {
        "colab": {
          "base_uri": "https://localhost:8080/"
        },
        "id": "JiqK5BH8wz2D",
        "outputId": "1055315b-96d8-45de-f973-06d278e2a242"
      },
      "outputs": [
        {
          "output_type": "execute_result",
          "data": {
            "text/plain": [
              "<tf.Tensor: shape=(30,), dtype=int32, numpy=\n",
              "array([   14,   115,   127,     9,  1858,    66,    41,    26,     9,\n",
              "         526,    14,   329,   517,   115,   270,     9, 17333, 17334,\n",
              "          98,  1748,    11,   300,    72,    10,     1,     2,     3,\n",
              "           6,     5,    54], dtype=int32)>"
            ]
          },
          "metadata": {},
          "execution_count": 37
        }
      ],
      "source": [
        "tweet[0]"
      ]
    },
    {
      "cell_type": "markdown",
      "metadata": {
        "id": "y54xnJnuYgJ7"
      },
      "source": [
        "## The Transformer Classifier"
      ]
    },
    {
      "cell_type": "markdown",
      "metadata": {
        "id": "YS75Y-9-lkzn"
      },
      "source": [
        "#### The Classifier Transformer Architecture Along with its Components"
      ]
    },
    {
      "cell_type": "markdown",
      "metadata": {
        "id": "6M0aKVuxRRtq"
      },
      "source": [
        "This classifier model is based on last hidden state"
      ]
    },
    {
      "cell_type": "code",
      "execution_count": 38,
      "metadata": {
        "id": "1Rz82wEs5biZ"
      },
      "outputs": [],
      "source": [
        "def positional_encoding(length, depth):\n",
        "  depth = depth/2\n",
        "\n",
        "  positions = np.arange(length)[:, np.newaxis]     # (seq, 1)\n",
        "  depths = np.arange(depth)[np.newaxis, :]/depth   # (1, depth)\n",
        "\n",
        "  angle_rates = 1 / (10000**depths)         # (1, depth)\n",
        "  angle_rads = positions * angle_rates      # (pos, depth)\n",
        "\n",
        "  pos_encoding = np.concatenate(\n",
        "      [np.sin(angle_rads), np.cos(angle_rads)],\n",
        "      axis=-1)\n",
        "\n",
        "  return tf.cast(pos_encoding, dtype=tf.float32)\n",
        "\n",
        "\"\"\"\n",
        "The position encoding function is a stack of sines and cosines that vibrate at different frequencies depending on their location\n",
        "along the depth of the embedding vector. They vibrate across the position axis.\n",
        "\"\"\"\n",
        "class PositionalEmbedding(tf.keras.layers.Layer):\n",
        "  def __init__(self, vocab_size, d_model):\n",
        "    super().__init__()\n",
        "    self.d_model = d_model\n",
        "    self.embedding = tf.keras.layers.Embedding(vocab_size, d_model, mask_zero=True)\n",
        "    self.pos_encoding = positional_encoding(length=2048, depth=d_model)\n",
        "    #the line below is new\n",
        "    #self.pos_encoding = tf.cast(self.pos_encoding, tf.float64)\n",
        "\n",
        "  def compute_mask(self, *args, **kwargs):\n",
        "    return self.embedding.compute_mask(*args, **kwargs)\n",
        "\n",
        "  def call(self, x):\n",
        "    #x, _ = x #ignore attn weights\n",
        "    length = tf.shape(x)[1]\n",
        "    x = self.embedding(x)\n",
        "    # This factor sets the relative scale of the embedding and positonal_encoding.\n",
        "    x *= tf.math.sqrt(tf.cast(self.d_model, tf.float32))\n",
        "    #x *= tf.math.sqrt(tf.cast(self.d_model, tf.float64))\n",
        "    x = x + self.pos_encoding[tf.newaxis, :length, :]\n",
        "    #print(\"positionalembedding: shape and type:\")\n",
        "    #the casting is new\n",
        "    #x = tf.cast(x, tf.float64)\n",
        "    #print(x.dtype)\n",
        "    #print(tf.shape(x)[1])\n",
        "    return x\n",
        "\n",
        "\"\"\"The base attention layer\"\"\"\n",
        "class BaseAttention(tf.keras.layers.Layer):\n",
        "  def __init__(self, **kwargs):\n",
        "    super().__init__()\n",
        "    self.mha = tf.keras.layers.MultiHeadAttention(**kwargs)\n",
        "    self.layernorm = tf.keras.layers.LayerNormalization()\n",
        "    self.add = tf.keras.layers.Add()\n",
        "\n",
        "\"\"\"The global attention layer\"\"\"\n",
        "class GlobalSelfAttention(BaseAttention):\n",
        "  def call(self, x):\n",
        "    attn_output, attn_scores = self.mha(\n",
        "        query=x,\n",
        "        value=x,\n",
        "        key=x,\n",
        "        return_attention_scores=True)\n",
        "    x = self.add([x, attn_output])\n",
        "    x = self.layernorm(x)\n",
        "\n",
        "    # Cache the attention scores for plotting later.\n",
        "    self.last_attn_scores = attn_scores\n",
        "\n",
        "    return x\n",
        "\n",
        "\"\"\"The feed forward layer\"\"\"\n",
        "class FeedForward(tf.keras.layers.Layer):\n",
        "  def __init__(self, d_model, dff, dropout_rate=0.1):\n",
        "    super().__init__()\n",
        "    self.seq = tf.keras.Sequential([\n",
        "      tf.keras.layers.Dense(dff, activation='relu'),\n",
        "      tf.keras.layers.Dense(d_model),\n",
        "      tf.keras.layers.Dropout(dropout_rate)\n",
        "    ])\n",
        "    self.add = tf.keras.layers.Add()\n",
        "    self.layer_norm = tf.keras.layers.LayerNormalization()\n",
        "\n",
        "  def call(self, x):\n",
        "    x = self.add([x, self.seq(x)])\n",
        "    x = self.layer_norm(x)\n",
        "    return x\n",
        "\n",
        "\"\"\"The Encoder Layer\"\"\"\n",
        "\n",
        "class EncoderLayer(tf.keras.layers.Layer):\n",
        "  def __init__(self,*, d_model, num_heads, dff, dropout_rate=0.1):\n",
        "    super().__init__()\n",
        "\n",
        "    self.self_attention = GlobalSelfAttention(\n",
        "        num_heads=num_heads,\n",
        "        key_dim=d_model,\n",
        "        dropout=dropout_rate)\n",
        "\n",
        "    self.ffn = FeedForward(d_model, dff)\n",
        "\n",
        "  def call(self, x):\n",
        "\n",
        "    #print(f\"Shape of inputs to encoder layer: {x.shape}\")  # Add this line\n",
        "    x = self.self_attention(x)\n",
        "    #print(f\"Shape after self_attention: {x.shape}\")  # Add this line\n",
        "\n",
        "    x = self.ffn(x)\n",
        "    return x\n",
        "\n",
        "  @property\n",
        "  def last_attn_scores(self):\n",
        "    return self.self_attention.last_attn_scores\n",
        "\n",
        "\"\"\"The Encoder\"\"\"\n",
        "\n",
        "class Encoder(tf.keras.layers.Layer):\n",
        "  def __init__(self, *, num_layers, d_model, num_heads,\n",
        "               dff, vocab_size, dropout_rate=0.1):\n",
        "    super().__init__()\n",
        "\n",
        "    self.d_model = d_model\n",
        "    self.num_layers = num_layers\n",
        "\n",
        "    self.pos_embedding = PositionalEmbedding(\n",
        "        vocab_size=vocab_size, d_model=d_model)\n",
        "\n",
        "    self.enc_layers = [\n",
        "        EncoderLayer(d_model=d_model,\n",
        "                     num_heads=num_heads,\n",
        "                     dff=dff,\n",
        "                     dropout_rate=dropout_rate)\n",
        "        for _ in range(num_layers)]\n",
        "    self.dropout = tf.keras.layers.Dropout(dropout_rate)\n",
        "\n",
        "  def call(self, x):\n",
        "    # `x` is token-IDs shape: (batch, seq_len)\n",
        "    #print(f\"Shape of inputs to encoder: {x.shape}\")  # Add this line\n",
        "    x = self.pos_embedding(x)\n",
        "    #print(f\"Shape after pos_embedding: {x.shape}\")  # Add this line\n",
        "\n",
        "\n",
        "    # Add dropout.\n",
        "    x = self.dropout(x)\n",
        "\n",
        "    for i in range(self.num_layers):\n",
        "      x = self.enc_layers[i](x)\n",
        "\n",
        "    #print(\"length: \", x.dtype)\n",
        "    return x  # Shape `(batch_size, seq_len, d_model)`.\n",
        "\n",
        "\n",
        "  @property\n",
        "  def last_attn_scores(self):\n",
        "    return self.enc_layers[-1].last_attn_scores\n",
        "\n",
        "\n",
        "\"\"\"Finally the Transformer Class\"\"\"\n",
        "class TransformerClassifier(tf.keras.Model):\n",
        "  def __init__(self, *, num_layers, d_model, num_heads, dff,\n",
        "               input_vocab_size, dropout_rate=0.1):\n",
        "    super().__init__()\n",
        "    self.encoder = Encoder(num_layers=num_layers, d_model=d_model,\n",
        "                           num_heads=num_heads, dff=dff,\n",
        "                           vocab_size=input_vocab_size,\n",
        "                           dropout_rate=dropout_rate)\n",
        "\n",
        "    self.final_layer = tf.keras.layers.Dense(1, activation='sigmoid')\n",
        "\n",
        "  def call(self, inputs):\n",
        "    # To use a Keras model with `.fit` you must pass all your inputs in the\n",
        "    # first argument.\n",
        "    context = inputs\n",
        "    #print(f\"Shape of inputs to transformer: {inputs.shape}\")  # Add this line\n",
        "    #print(f\"Shape of inputs to transformer: {inputs.dtype}\")  # Add this line\n",
        "    #print((f\"end printing shapes and type of input\"))\n",
        "\n",
        "    context = self.encoder(context)  # (batch_size, context_len, d_model)\n",
        "    logits = self.final_layer(context[:, -1, :])  # Use the last hidden state\n",
        "    #print(f\"end transformer\")  # Add this line\n",
        "    return logits\n",
        "\n",
        "\n",
        "\n"
      ]
    },
    {
      "cell_type": "markdown",
      "metadata": {
        "id": "IjwMq_ixlzd5"
      },
      "source": [
        "To keep this example small and relatively fast, the number of layers (`num_layers`), the dimensionality of the embeddings (`d_model`), and the internal dimensionality of the `FeedForward` layer (`dff`) have been reduced.\n",
        "\n",
        "The base model described in the original Transformer paper used `num_layers=6`, `d_model=512`, and `dff=2048`.\n",
        "\n",
        "The number of self-attention heads remains the same (`num_heads=8`).\n"
      ]
    },
    {
      "cell_type": "markdown",
      "metadata": {
        "id": "cxKpqCbzSW6z"
      },
      "source": [
        "##Lets have some fun"
      ]
    },
    {
      "cell_type": "markdown",
      "metadata": {
        "id": "i1G1SqcBYRqR"
      },
      "source": [
        "####Load the trained model"
      ]
    },
    {
      "cell_type": "markdown",
      "metadata": {
        "id": "oHq82snOYJ3x"
      },
      "source": [
        "At this point we have defined the transformerclassifier class and all its dependencies per above."
      ]
    },
    {
      "cell_type": "markdown",
      "metadata": {
        "id": "3rAije8WOxuK"
      },
      "source": [
        "Learnable Positional Encoding Model"
      ]
    },
    {
      "cell_type": "code",
      "execution_count": 39,
      "metadata": {
        "id": "vx-RqEc3K3Wf"
      },
      "outputs": [],
      "source": [
        "#change file path appropiately\n",
        "checkpoint_dir = './Final_Work/lp_plus_attn_enh_cl_more_lp_tx_2h_2l_tweet_emb_d06_dff256_ep12/'\n",
        "lp_model_name = 'lp_plus_attn_cl_enh_more_dat_tx_w_tweet_2h12l_ep12_d06_dff256.10-0.82'\n",
        "lp_checkpoint_filepath = checkpoint_dir + lp_model_name\n",
        "\n"
      ]
    },
    {
      "cell_type": "markdown",
      "metadata": {
        "id": "rZn06_OGO1Td"
      },
      "source": [
        "Final Base Transformer Model"
      ]
    },
    {
      "cell_type": "code",
      "execution_count": 40,
      "metadata": {
        "id": "d-NSWBI7ORit"
      },
      "outputs": [],
      "source": [
        "#change file path appropiately\n",
        "checkpoint_dir = './Final_Work/enh_clean_more_bl_tx_2_h_2l_twitter_emb_highdrop_low_dff/'\n",
        "tx_model_name = 'cl_enh_more_dat_bl_tx_w_tw_embed_2h_2l_20ep_drophigh_low_dff.06-0.84'\n",
        "tx_checkpoint_filepath = checkpoint_dir + tx_model_name\n"
      ]
    },
    {
      "cell_type": "markdown",
      "metadata": {
        "id": "5gg1dHu2O8iL"
      },
      "source": [
        "Baseline model with baseline data"
      ]
    },
    {
      "cell_type": "code",
      "execution_count": 41,
      "metadata": {
        "id": "CVDckpJdOiAx"
      },
      "outputs": [],
      "source": [
        "#change file path appropiately\n",
        "checkpoint_dir = './model_checkpoints/'\n",
        "bl_model_name = 'tx_w_embeddings_cl2a.06-0.79'\n",
        "bl_checkpoint_filepath = checkpoint_dir + bl_model_name"
      ]
    },
    {
      "cell_type": "markdown",
      "metadata": {
        "id": "wsINyf1VEQLC"
      },
      "source": [
        "#### Hyperparameters"
      ]
    },
    {
      "cell_type": "markdown",
      "metadata": {
        "id": "5L2TGh3QPHa8"
      },
      "source": [
        "For PL and Final Tx model are the same"
      ]
    },
    {
      "cell_type": "code",
      "execution_count": 42,
      "metadata": {
        "id": "IjnPEoXNgqDp"
      },
      "outputs": [],
      "source": [
        "#use same num_heads, num_layers, d_model, dff that model was built with\n",
        "#for loading\n",
        "num_layers = 2\n",
        "d_model = 100\n",
        "dff = 256\n",
        "num_heads = 2\n",
        "dropout_rate = 0.6\n",
        "MAX_TOKENS =30"
      ]
    },
    {
      "cell_type": "markdown",
      "metadata": {
        "id": "fsbpOZDtPLzt"
      },
      "source": [
        "For baseline model its different"
      ]
    },
    {
      "cell_type": "code",
      "execution_count": 43,
      "metadata": {
        "id": "AaUPkZvmPS5F"
      },
      "outputs": [],
      "source": [
        "#use same num_heads, num_layers, d_model, dff that model was built with\n",
        "#for loading\n",
        "bl_num_layers = 2\n",
        "bl_d_model = 100\n",
        "bl_dff = 512\n",
        "bl_num_heads = 8\n",
        "bl_dropout_rate = 0.3\n",
        "bl_MAX_TOKENS =30"
      ]
    },
    {
      "cell_type": "code",
      "execution_count": 44,
      "metadata": {
        "id": "IUvK5cBRPOKU"
      },
      "outputs": [],
      "source": [
        "from tensorflow.keras.preprocessing.text import Tokenizer\n",
        "from tensorflow.keras.preprocessing.sequence import pad_sequences\n",
        "sentences2 = tweets_df['text']\n",
        "labels2 = tweets_df['target']\n",
        "\n",
        "# Instantiate the tokenizer\n",
        "tokenizer = Tokenizer()\n",
        "\n",
        "# Fit the tokenizer on your text data\n",
        "tokenizer.fit_on_texts(sentences)"
      ]
    },
    {
      "cell_type": "code",
      "execution_count": 45,
      "metadata": {
        "colab": {
          "base_uri": "https://localhost:8080/"
        },
        "id": "YDXXkhQcEmA1",
        "outputId": "b5f97b74-0047-467c-bd1d-443c99e2e205"
      },
      "outputs": [
        {
          "output_type": "execute_result",
          "data": {
            "text/plain": [
              "<tensorflow.python.checkpoint.checkpoint.CheckpointLoadStatus at 0x7e61c5442050>"
            ]
          },
          "metadata": {},
          "execution_count": 45
        }
      ],
      "source": [
        "# Create a new instance of the model\n",
        "lp_model = TransformerClassifier(\n",
        "    num_layers=num_layers,\n",
        "    d_model=d_model,\n",
        "    num_heads=num_heads,\n",
        "    dff=dff,\n",
        "    input_vocab_size= len(tokenizer.word_index) + 1,\n",
        "    dropout_rate=dropout_rate)\n",
        "\n",
        "# Build the model by calling it on some data\n",
        "#remember to define tweet\n",
        "\n",
        "lp_model(tweet)\n",
        "\n",
        "# Now load the weights\n",
        "lp_model.load_weights(lp_checkpoint_filepath)\n"
      ]
    },
    {
      "cell_type": "code",
      "execution_count": 46,
      "metadata": {
        "colab": {
          "base_uri": "https://localhost:8080/"
        },
        "id": "Rg-r7XemP67l",
        "outputId": "fba91448-dbc2-49ea-d56a-45687e029f0d"
      },
      "outputs": [
        {
          "output_type": "execute_result",
          "data": {
            "text/plain": [
              "<tensorflow.python.checkpoint.checkpoint.CheckpointLoadStatus at 0x7e617f390a30>"
            ]
          },
          "metadata": {},
          "execution_count": 46
        }
      ],
      "source": [
        "# Create a new instance of the model\n",
        "tx_model = TransformerClassifier(\n",
        "    num_layers=num_layers,\n",
        "    d_model=d_model,\n",
        "    num_heads=num_heads,\n",
        "    dff=dff,\n",
        "    input_vocab_size= len(tokenizer.word_index) + 1,\n",
        "    dropout_rate=dropout_rate)\n",
        "\n",
        "# Build the model by calling it on some data\n",
        "#remember to define tweet\n",
        "\n",
        "tx_model(tweet)\n",
        "\n",
        "# Now load the weights\n",
        "tx_model.load_weights(tx_checkpoint_filepath)"
      ]
    },
    {
      "cell_type": "code",
      "execution_count": 47,
      "metadata": {
        "colab": {
          "base_uri": "https://localhost:8080/"
        },
        "id": "mq1pST3cQUtL",
        "outputId": "4ffe1917-896e-4aee-ffeb-c3668a55f42f"
      },
      "outputs": [
        {
          "output_type": "execute_result",
          "data": {
            "text/plain": [
              "<tensorflow.python.checkpoint.checkpoint.CheckpointLoadStatus at 0x7e617f423fa0>"
            ]
          },
          "metadata": {},
          "execution_count": 47
        }
      ],
      "source": [
        "# Create a new instance of the model\n",
        "bl_model = TransformerClassifier(\n",
        "    num_layers=bl_num_layers,\n",
        "    d_model=bl_d_model,\n",
        "    num_heads=bl_num_heads,\n",
        "    dff=bl_dff,\n",
        "    input_vocab_size= len(bl_tokenizer.word_index) + 1,\n",
        "    dropout_rate=bl_dropout_rate)\n",
        "\n",
        "# Build the model by calling it on some data\n",
        "#remember to define tweet\n",
        "\n",
        "bl_model(tweet)\n",
        "\n",
        "# Now load the weights\n",
        "bl_model.load_weights(bl_checkpoint_filepath)"
      ]
    },
    {
      "cell_type": "markdown",
      "metadata": {
        "id": "YzBDQVTJrJSU"
      },
      "source": [
        "##Analysis and Diagnostics"
      ]
    },
    {
      "cell_type": "markdown",
      "metadata": {
        "id": "mM7izYRTWqmh"
      },
      "source": [
        "###Supporting Functions\n",
        "###Classification"
      ]
    },
    {
      "cell_type": "code",
      "execution_count": 48,
      "metadata": {
        "id": "5RJyp3NkOevr"
      },
      "outputs": [],
      "source": [
        "\n",
        "def classification(prediction):\n",
        "\n",
        "\n",
        "  t ='''\n",
        "        TRUE TRUE TRUE TRUE TRUE TRUE\n",
        "        TRUE TRUE TRUE TRUE TRUE TRUE\n",
        "        TRUE TRUE TRUE TRUE TRUE TRUE\n",
        "                  TRUE TRUE\n",
        "                  TRUE TRUE\n",
        "                  TRUE TRUE\n",
        "                  TRUE TRUE\n",
        "                  TRUE TRUE\n",
        "                  TRUE TRUE\n",
        "                  TRUE TRUE\n",
        "                  TRUE TRUE'''\n",
        "\n",
        "  f = '''\n",
        "         FALSE FALSE FALSE FALSE\n",
        "         FALSE FALSE FALSE FALSE\n",
        "         FALSE\n",
        "         FALSE\n",
        "         FALSE FALSE FALSE FALSE\n",
        "         FALSEFALSE FALSE FALSE\n",
        "         FALSE\n",
        "         FALSE\n",
        "         FALSE\n",
        "         FALSE\n",
        "         FALSE'''\n",
        "\n",
        "  class_names = [f, t]\n",
        "  # Since this is a binary classification,round the prediction to the nearest integer (0 or 1)\n",
        "  print('probability of true: ', prediction[0])\n",
        "  rounded_predictions = np.round(prediction[0])\n",
        "\n",
        "  # Now, you can use this rounded prediction to index into your class_names\n",
        "  predicted_class = class_names[int(rounded_predictions[0])]\n",
        "\n",
        "  print(predicted_class)\n"
      ]
    },
    {
      "cell_type": "markdown",
      "metadata": {
        "id": "l-OtA7FKNJeL"
      },
      "source": []
    },
    {
      "cell_type": "code",
      "execution_count": 49,
      "metadata": {
        "id": "99fwjcwUUovj"
      },
      "outputs": [],
      "source": [
        "@tf.function\n",
        "def forward_and_get_attn_scores(input, model):\n",
        "    # Forward pass on your model\n",
        "    output = model(input)\n",
        "\n",
        "    # Get attention scores\n",
        "    attn_scores = model.encoder.last_attn_scores\n",
        "    #prediction = transformer.predict(input)\n",
        "    return output, attn_scores\n",
        "\n",
        "\n"
      ]
    },
    {
      "cell_type": "markdown",
      "metadata": {
        "id": "2fyTHZRYNKgn"
      },
      "source": [
        "###Format Sentence: Tokenize"
      ]
    },
    {
      "cell_type": "code",
      "execution_count": 50,
      "metadata": {
        "id": "etqFAhrCOszl"
      },
      "outputs": [],
      "source": [
        "import string\n",
        "def format_sentence(text, max_sentence_length=30):\n",
        "\n",
        "    #print('original sentence: ', text)\n",
        "\n",
        "    # Lowercase the text\n",
        "    text = text.lower()\n",
        "\n",
        "  # Remove punctuation\n",
        "\n",
        "    text = text.translate(str.maketrans('', '', string.punctuation))\n",
        "\n",
        "\n",
        "    #print('untokenized sentence: ', text)\n",
        "\n",
        "    MAX_TOKENS =max_sentence_length\n",
        "    # Convert sentences to sequences\n",
        "    sequences2 = tokenizer.texts_to_sequences([text])\n",
        "    #print(\"len: \", len(sequences2))\n",
        "    # Pad sequences\n",
        "    sequences2 = pad_sequences(sequences2, maxlen=MAX_TOKENS, padding='post')\n",
        "\n",
        "    #print('tokenized sentence: ', sequences2)\n",
        "    #print('vector of first word: ', vectorized_sentences[0, 0])\n",
        "\n",
        "    return sequences2\n"
      ]
    },
    {
      "cell_type": "markdown",
      "metadata": {
        "id": "G9taD5P3NvxA"
      },
      "source": [
        "###Convert Tokenized Sentences Back to Word"
      ]
    },
    {
      "cell_type": "code",
      "execution_count": 51,
      "metadata": {
        "id": "m-AYpMUGN1kE"
      },
      "outputs": [],
      "source": [
        "def sequences_to_text(sequences, tokenizer):\n",
        "    # Retrieve the index_word mapping from the tokenizer\n",
        "    index_word = tokenizer.index_word\n",
        "    # Initialize an empty list to store the converted sentences\n",
        "    text_sentences = []\n",
        "    # Iterate over each sequence\n",
        "    for seq in sequences:\n",
        "        # Convert each token in the sequence back to the corresponding word\n",
        "        words = [index_word.get(i, 'UNK') for i in seq if i != 0]\n",
        "        # Join the words to form the sentence\n",
        "        sentence = ' '.join(words)\n",
        "        # Append the sentence to the list\n",
        "        text_sentences.append(sentence)\n",
        "    return text_sentences\n",
        "\n",
        "\n"
      ]
    },
    {
      "cell_type": "markdown",
      "metadata": {
        "id": "5n8JlIZ-pWfO"
      },
      "source": [
        "####Classification Execution"
      ]
    },
    {
      "cell_type": "markdown",
      "metadata": {
        "id": "LOARuPPBsbjj"
      },
      "source": []
    },
    {
      "cell_type": "code",
      "execution_count": 52,
      "metadata": {
        "id": "kbXetw3oxhiv"
      },
      "outputs": [],
      "source": [
        "from tensorflow.keras.preprocessing.sequence import pad_sequences\n",
        "\n",
        "\n",
        "# Ensure val_data is a Series of strings\n",
        "val_data = val_data.astype(str)\n",
        "\n",
        "# Instantiate the tokenizer\n",
        "tokenizer = Tokenizer()\n",
        "\n",
        "# Fit the tokenizer on your text data\n",
        "#tokenizer.fit_on_texts(val_data)\n",
        "#tokenized_sentences = tokenizer.texts_to_sequences(tweets_df['text'])\n",
        "sentences = tweets_df['text']\n",
        "tokenizer.fit_on_texts(sentences)\n",
        "\n",
        "MAX_TOKENS = 30\n",
        "# Convert sentences to sequences\n",
        "sequences = tokenizer.texts_to_sequences(val_data)\n",
        "\n",
        "# Pad sequences\n",
        "sequences = pad_sequences(sequences, maxlen=MAX_TOKENS, padding='post')\n",
        "\n",
        "# Convert labels to NumPy array if they aren't already\n",
        "if not isinstance(val_labels, np.ndarray):\n",
        "    val_labels = val_labels.to_numpy()\n",
        "\n",
        "\n",
        "\n"
      ]
    },
    {
      "cell_type": "markdown",
      "metadata": {
        "id": "wkZj4p_Rx4MB"
      },
      "source": [
        "###Get Results"
      ]
    },
    {
      "cell_type": "code",
      "execution_count": null,
      "metadata": {
        "colab": {
          "base_uri": "https://localhost:8080/"
        },
        "id": "4K3mobBL1f4q",
        "outputId": "4fdfffba-64d2-4d19-998b-9b394d6012f6"
      },
      "outputs": [
        {
          "name": "stdout",
          "output_type": "stream",
          "text": [
            "72/72 [==============================] - 2s 21ms/step\n",
            "bl_model: \n",
            "Number of false positives: 28\n",
            "Number of false negatives: 978\n",
            "72/72 [==============================] - 1s 21ms/step\n",
            "tx_model: \n",
            "Number of false positives: 145\n",
            "Number of false negatives: 288\n",
            "72/72 [==============================] - 1s 21ms/step\n",
            "lp_model: \n",
            "Number of false positives: 154\n",
            "Number of false negatives: 202\n"
          ]
        }
      ],
      "source": [
        "from sklearn.metrics import confusion_matrix\n",
        "\n",
        "\n",
        "bl_predictions = bl_model.predict(sequences)\n",
        "bl_rounded_predictions = np.round(bl_predictions)\n",
        "\n",
        "# Calculate confusion matrix\n",
        "bl_cm = confusion_matrix(val_labels, bl_rounded_predictions)\n",
        "\n",
        "# Confusion matrix format:\n",
        "# [[true_negatives, false_positives],\n",
        "#  [false_negatives, true_positives]]\n",
        "\n",
        "# Extract false positives\n",
        "bl_false_positives = bl_cm[0][1] if bl_cm.shape == (2, 2) else 0\n",
        "bl_false_negatives = bl_cm[1][0] if bl_cm.shape == (2, 2) else 0\n",
        "bl_true_negatives = bl_cm[0][0] if bl_cm.shape == (2, 2) else 0\n",
        "bl_rue_positives = bl_cm[1][1] if bl_cm.shape == (2, 2) else 0\n",
        "\n",
        "print(\"bl_model: \")\n",
        "print(f'Number of false positives: {bl_false_positives}')\n",
        "print(f'Number of false negatives: {bl_false_negatives}')\n",
        "\n",
        "tx_predictions = tx_model.predict(sequences)\n",
        "tx_rounded_predictions = np.round(tx_predictions)\n",
        "\n",
        "# Calculate confusion matrix\n",
        "tx_cm = confusion_matrix(val_labels, tx_rounded_predictions)\n",
        "\n",
        "# Confusion matrix format:\n",
        "# [[true_negatives, false_positives],\n",
        "#  [false_negatives, true_positives]]\n",
        "\n",
        "# Extract false positives\n",
        "tx_false_positives = tx_cm[0][1] if tx_cm.shape == (2, 2) else 0\n",
        "tx_false_negatives = tx_cm[1][0] if tx_cm.shape == (2, 2) else 0\n",
        "tx_true_negatives = tx_cm[0][0] if tx_cm.shape == (2, 2) else 0\n",
        "tx_true_positives = tx_cm[1][1] if tx_cm.shape == (2, 2) else 0\n",
        "\n",
        "print(\"tx_model: \")\n",
        "print(f'Number of false positives: {tx_false_positives}')\n",
        "print(f'Number of false negatives: {tx_false_negatives}')\n",
        "\n",
        "lp_predictions = lp_model.predict(sequences)\n",
        "lp_rounded_predictions = np.round(lp_predictions)\n",
        "\n",
        "# Calculate confusion matrix\n",
        "lp_cm = confusion_matrix(val_labels, lp_rounded_predictions)\n",
        "\n",
        "# Confusion matrix format:\n",
        "# [[true_negatives, false_positives],\n",
        "#  [false_negatives, true_positives]]\n",
        "\n",
        "# Extract false positives\n",
        "lp_false_positives = lp_cm[0][1] if lp_cm.shape == (2, 2) else 0\n",
        "lp_false_negatives = lp_cm[1][0] if lp_cm.shape == (2, 2) else 0\n",
        "lp_true_negatives = lp_cm[0][0] if lp_cm.shape == (2, 2) else 0\n",
        "lp_true_positives = lp_cm[1][1] if lp_cm.shape == (2, 2) else 0\n",
        "\n",
        "print(\"lp_model: \")\n",
        "print(f'Number of false positives: {lp_false_positives}')\n",
        "print(f'Number of false negatives: {lp_false_negatives}')\n",
        "\n",
        "\n"
      ]
    },
    {
      "cell_type": "markdown",
      "metadata": {
        "id": "8ZkwdUh7iDfk"
      },
      "source": [
        "####Confusion Matrix"
      ]
    },
    {
      "cell_type": "code",
      "execution_count": null,
      "metadata": {
        "colab": {
          "base_uri": "https://localhost:8080/",
          "height": 565
        },
        "id": "GysEBgClTC5e",
        "outputId": "07fde3b3-6991-4dc7-c8aa-b7c2eb437ac8"
      },
      "outputs": [
        {
          "data": {
            "image/png": "[encoded data removed]",
            "text/plain": [
              "<Figure size 1500x500 with 3 Axes>"
            ]
          },
          "metadata": {},
          "output_type": "display_data"
        }
      ],
      "source": [
        "# Function to plot a confusion matrix\n",
        "def plot_confusion_matrix(cm, title, subtitle, ax):\n",
        "    cax = ax.matshow(cm, cmap=plt.cm.Blues)\n",
        "    ax.set_title(subtitle, pad=20)\n",
        "    ax.set_xlabel('Predicted label')\n",
        "    ax.set_ylabel('True label')\n",
        "    # Loop over data dimensions and create text annotations.\n",
        "    for i in range(cm.shape[0]):\n",
        "        for j in range(cm.shape[1]):\n",
        "            ax.text(j, i, cm[i, j], ha=\"center\", va=\"center\", color=\"black\")\n",
        "\n",
        "# Create a figure with subplots\n",
        "fig, axes = plt.subplots(nrows=1, ncols=3, figsize=(15, 5))\n",
        "\n",
        "# Plot each confusion matrix with subtitles\n",
        "plot_confusion_matrix(lp_cm, 'LP Model Confusion Matrix', 'LP Model', axes[0])\n",
        "plot_confusion_matrix(tx_cm, 'TX Model Confusion Matrix', 'TX Model', axes[1])\n",
        "plot_confusion_matrix(bl_cm, 'BL Model Confusion Matrix', 'BL Model', axes[2])\n",
        "\n",
        "# Adjust layout and display the plot\n",
        "plt.tight_layout()\n",
        "plt.show()"
      ]
    },
    {
      "cell_type": "markdown",
      "metadata": {
        "id": "5TlN1xjYZr-K"
      },
      "source": [
        "we will focus on the differences between the tx_model and the lp_model"
      ]
    },
    {
      "cell_type": "markdown",
      "metadata": {
        "id": "uHjbDMsEiK5H"
      },
      "source": [
        "####False Positives"
      ]
    },
    {
      "cell_type": "markdown",
      "metadata": {
        "id": "Q_fOSqhs5NIR"
      },
      "source": [
        "I want to extract the top ten shortest sentencs that produced the false positives"
      ]
    },
    {
      "cell_type": "markdown",
      "metadata": {
        "id": "oxTEsVbpaDyT"
      },
      "source": [
        "lp_model"
      ]
    },
    {
      "cell_type": "code",
      "execution_count": null,
      "metadata": {
        "colab": {
          "base_uri": "https://localhost:8080/"
        },
        "id": "7yV3eS0v4dVM",
        "outputId": "332e444d-3cfe-4992-a40f-48c7b32577e9"
      },
      "outputs": [
        {
          "name": "stdout",
          "output_type": "stream",
          "text": [
            "                                               sentence  length\n",
            "3054  location earthquake earthquake drill atm neutr...      87\n",
            "3496  location explosion kindermorgan gas explosion ...      89\n",
            "630   location bioterrorism to fight bioterrorism si...      91\n",
            "7469  location wreck captainn morgan car wreck  neut...      91\n",
            "3351  location evacuated rocky fire weblink   neutra...      94\n",
            "4095  location hail weathernetwork here comes the ha...      95\n",
            "3757  location fire wcw catsandsyrup tha bitch is fi...      97\n",
            "1391  location bush fires the bush fires in ca are s...      98\n",
            "3330  location evacuated they evacuated the mall  ag...      98\n",
            "1269  location burned wild lionx3 so others dont get...     100\n",
            "7149  location volcano lexi purduee the volcano by i...     103\n",
            "7313  location wild fires these wild fires out west ...     103\n",
            "165   location airplane accident i had a airplane ac...     104\n",
            "6742  location tornado soonergrunt better than torna...     104\n",
            "6278  location storm johngreen storm and silence by ...     105\n",
            "2853  location drought u s  in record hurricane drou...     105\n",
            "3993  location floods disaster group stunned by floo...     105\n",
            "2094  location death adult dies of plague in colorad...     105\n",
            "4450  location hostage gideonstrumpet have you been ...     106\n",
            "6593  location survivors remembrance  weblink   hiro...     107\n"
          ]
        }
      ],
      "source": [
        "import pandas as pd\n",
        "\n",
        "\n",
        "false_positive_indices = np.where((lp_rounded_predictions == 1) & (val_labels == 0))[0]\n",
        "\n",
        "# Extract the sentences corresponding to false positives\n",
        "false_positive_sentences = val_data.iloc[false_positive_indices]\n",
        "\n",
        "# Create a DataFrame to sort sentences by length\n",
        "lp_fp_sentences_df = pd.DataFrame({\n",
        "    'sentence': false_positive_sentences,\n",
        "    'length': false_positive_sentences.apply(len)\n",
        "})\n",
        "\n",
        "# Drop duplicates to ensure unique sentences\n",
        "lp_fp_sentences_df = lp_fp_sentences_df.drop_duplicates(subset='sentence')\n",
        "\n",
        "# Sort by sentence length and get the top ten shortest sentences\n",
        "lp_top_ten_shortest_fp = lp_fp_sentences_df.sort_values(by='length', ascending=True).head(20)\n",
        "\n",
        "# Print the results\n",
        "print(lp_top_ten_shortest_fp)\n"
      ]
    },
    {
      "cell_type": "markdown",
      "metadata": {
        "id": "Nr-Vah2DaFtb"
      },
      "source": [
        "tx_model"
      ]
    },
    {
      "cell_type": "code",
      "execution_count": null,
      "metadata": {
        "colab": {
          "base_uri": "https://localhost:8080/"
        },
        "id": "MNgNwX4vYgH9",
        "outputId": "47eb8df5-2cdb-4d9e-e864-34704160f424"
      },
      "outputs": [
        {
          "name": "stdout",
          "output_type": "stream",
          "text": [
            "                                               sentence  length\n",
            "3608  location fatal fatal attraction neutral  news ...      77\n",
            "3054  location earthquake earthquake drill atm neutr...      87\n",
            "6766  location tornado ayshun tornado then dont neut...      88\n",
            "3351  location evacuated rocky fire weblink   neutra...      94\n",
            "6071  location sinkhole damn that sinkhole on sunset...      97\n",
            "1391  location bush fires the bush fires in ca are s...      98\n",
            "3330  location evacuated they evacuated the mall  ag...      98\n",
            "73    location accident bigrigradio live accident aw...     100\n",
            "7313  location wild fires these wild fires out west ...     103\n",
            "165   location airplane accident i had a airplane ac...     104\n"
          ]
        }
      ],
      "source": [
        "import pandas as pd\n",
        "\n",
        "\n",
        "false_positive_indices = np.where((tx_rounded_predictions == 1) & (val_labels == 0))[0]\n",
        "\n",
        "# Extract the sentences corresponding to false positives\n",
        "false_positive_sentences = val_data.iloc[false_positive_indices]\n",
        "\n",
        "# Create a DataFrame to sort sentences by length\n",
        "tx_fp_sentences_df = pd.DataFrame({\n",
        "    'sentence': false_positive_sentences,\n",
        "    'length': false_positive_sentences.apply(len)\n",
        "})\n",
        "\n",
        "# Drop duplicates to ensure unique sentences\n",
        "tx_fp_sentences_df = tx_fp_sentences_df.drop_duplicates(subset='sentence')\n",
        "\n",
        "# Sort by sentence length and get the top ten shortest sentences\n",
        "tx_top_ten_shortest_fp = tx_fp_sentences_df.sort_values(by='length', ascending=True).head(10)\n",
        "\n",
        "# Print the results\n",
        "print(tx_top_ten_shortest_fp)\n"
      ]
    },
    {
      "cell_type": "markdown",
      "metadata": {
        "id": "c1KOWxdriZLQ"
      },
      "source": [
        "####False Negatives"
      ]
    },
    {
      "cell_type": "markdown",
      "metadata": {
        "id": "9H86LZZa54W6"
      },
      "source": [
        "I want to extract the top ten shortest sentencs that produced the false negatives"
      ]
    },
    {
      "cell_type": "markdown",
      "metadata": {
        "id": "wkhakTr1aIWf"
      },
      "source": [
        "lp_model"
      ]
    },
    {
      "cell_type": "code",
      "execution_count": null,
      "metadata": {
        "colab": {
          "base_uri": "https://localhost:8080/"
        },
        "id": "Ohg8skVP5-Ql",
        "outputId": "69fcf7a7-48ed-4152-f498-e4cce6d1dbbd"
      },
      "outputs": [
        {
          "name": "stdout",
          "output_type": "stream",
          "text": [
            "                                               sentence  length\n",
            "28    location   cooool  positive  news   social con...      61\n",
            "24    location   looooool neutral  news   social con...      65\n",
            "21    location   london is cool  positive  news   so...      69\n",
            "17    location   summer is lovely positive  news   s...      70\n",
            "6705  location thunder thunder neutral  news   socia...      71\n",
            "18    location   my car is so fast positive  news   ...      71\n",
            "3749  location fire i see fire neutral  news   socia...      71\n",
            "1882  location crushed crushed neutral  news   socia...      74\n",
            "3608  location fatal fatal attraction neutral  news ...      77\n",
            "26    location   was in nyc last week neutral  news ...      77\n",
            "2496  location desolate eggs desolate negative  news...      78\n",
            "4922  location mayhem mayhem is beautiful positive  ...      78\n",
            "3688  location fatality fatality https  neutral  new...      79\n",
            "4184  location hazard get that hazard pay neutral  n...      79\n",
            "4092  location hail hail pic ûó https  positive  ne...      80\n",
            "3751  location fire im on fire   weblink   neutral  ...      80\n",
            "7448  location wounds 11 puncture wounds neutral  ne...      80\n",
            "6224  location smoke smoke eat sleep neutral  news  ...      80\n",
            "388   location arson the sound of arson negative  ne...      81\n",
            "1886  location crushed crushed it https  positive  n...      83\n",
            "823   location blizzard blizzard gamin ight neutral ...      83\n",
            "3717  location fear my worst fear  https  negative  ...      83\n",
            "29    location   do you like pasta neutral  news   s...      83\n",
            "1268  location burned burned my popcorn negative  ne...      84\n",
            "874   location blood lobo paranoico mad men neutral ...      84\n",
            "5988  location screams screams weblink   neutral  ne...      84\n",
            "113   location aftershock aftershock https  neutral ...      84\n",
            "3712  location fear fear  youtube weblink   neutral ...      84\n",
            "6917  location trouble noel back up neutral  news   ...      84\n",
            "3883  location flattened flattened https  neutral  n...      85\n",
            "4964  location meltdown  ice age the meltdown neutra...      85\n",
            "3417  location explode im about to explode  negative...      85\n",
            "3681  location fatality babybackreeve fatality negat...      85\n",
            "5846  location ruin always gotta ruin my mood negati...      86\n",
            "5962  location screaming scalpium screaming positive...      86\n",
            "1038  location body bags baskgod body bags neutral  ...      86\n",
            "3772  location fire fire waves and darkness negative...      86\n",
            "6678  location thunder atl events and thunder o neut...      87\n",
            "6181  location sirens lets goooooooo weblink   posit...      87\n",
            "1791  location crash make man pikin crash  negative ...      87\n",
            "5998  location screams realjaxclone screams neutral ...      87\n",
            "6878  location traumatised im so traumatised  negati...      87\n",
            "6171  location sirens fuck sleeping with sirens  neg...      87\n",
            "3054  location earthquake earthquake drill atm neutr...      87\n",
            "644   location blaze blaze is my bro weblink   posit...      87\n",
            "6766  location tornado ayshun tornado then dont neut...      88\n",
            "5393  location panic panic at the disco te amo posit...      88\n",
            "2086  location dead atchisonsean he is dead negative...      88\n",
            "3761  location fire nothing like a good fire https  ...      88\n",
            "1071  location bomb jen you da bomb girl https  posi...      88\n",
            "2783  location disaster im a disaster https  negativ...      89\n",
            "3496  location explosion kindermorgan gas explosion ...      89\n",
            "675   location blaze  yes i do have 2 guns   neutral...      89\n",
            "4427  location hostage im hungry as a hostage negati...      90\n",
            "5401  location panicking okay now i am panicking neg...      90\n",
            "5996  location screams in every bts song jimin screa...      90\n",
            "3419  location explode my head gonna explode soon ne...      91\n",
            "1086  location bomb soul food sound so bomb right no...      91\n",
            "991   location body bagging yankees body bagging mfs...      91\n",
            "630   location bioterrorism to fight bioterrorism si...      91\n"
          ]
        }
      ],
      "source": [
        "import pandas as pd\n",
        "\n",
        "\n",
        "false_negative_indices = np.where((rounded_predictions == 0) & (val_labels == 1))[0]\n",
        "\n",
        "# Extract the sentences corresponding to false negatives\n",
        "false_negative_sentences = val_data.iloc[false_negative_indices]\n",
        "\n",
        "# Create a DataFrame to sort sentences by length\n",
        "lp_fn_sentences_df = pd.DataFrame({\n",
        "    'sentence': false_negative_sentences,\n",
        "    'length': false_negative_sentences.apply(len)\n",
        "})\n",
        "\n",
        "# Drop duplicates to ensure unique sentences\n",
        "lp_fn_sentences_df = lp_fn_sentences_df.drop_duplicates(subset='sentence')\n",
        "\n",
        "# Sort by sentence length and get the top ten shortest sentences\n",
        "lp_top_ten_shortest_fn = lp_fn_sentences_df.sort_values(by='length', ascending=True).head(60)\n",
        "\n",
        "# Print the results\n",
        "print(lp_top_ten_shortest_fn)\n"
      ]
    },
    {
      "cell_type": "markdown",
      "metadata": {
        "id": "eCnrPavuag7n"
      },
      "source": [
        "tx_model"
      ]
    },
    {
      "cell_type": "code",
      "execution_count": null,
      "metadata": {
        "colab": {
          "base_uri": "https://localhost:8080/"
        },
        "id": "KqaPUd_NaiQ5",
        "outputId": "c7d852ce-2c98-41bc-935b-c973d3acbdbb"
      },
      "outputs": [
        {
          "name": "stdout",
          "output_type": "stream",
          "text": [
            "                                               sentence  length\n",
            "28    location   cooool  positive  news   social con...      61\n",
            "24    location   looooool neutral  news   social con...      65\n",
            "21    location   london is cool  positive  news   so...      69\n",
            "17    location   summer is lovely positive  news   s...      70\n",
            "6705  location thunder thunder neutral  news   socia...      71\n",
            "18    location   my car is so fast positive  news   ...      71\n",
            "3749  location fire i see fire neutral  news   socia...      71\n",
            "1882  location crushed crushed neutral  news   socia...      74\n",
            "3608  location fatal fatal attraction neutral  news ...      77\n",
            "26    location   was in nyc last week neutral  news ...      77\n",
            "2496  location desolate eggs desolate negative  news...      78\n",
            "4922  location mayhem mayhem is beautiful positive  ...      78\n",
            "3688  location fatality fatality https  neutral  new...      79\n",
            "4184  location hazard get that hazard pay neutral  n...      79\n",
            "4092  location hail hail pic ûó https  positive  ne...      80\n",
            "3751  location fire im on fire   weblink   neutral  ...      80\n",
            "7448  location wounds 11 puncture wounds neutral  ne...      80\n",
            "6224  location smoke smoke eat sleep neutral  news  ...      80\n",
            "388   location arson the sound of arson negative  ne...      81\n",
            "1886  location crushed crushed it https  positive  n...      83\n",
            "823   location blizzard blizzard gamin ight neutral ...      83\n",
            "3717  location fear my worst fear  https  negative  ...      83\n",
            "29    location   do you like pasta neutral  news   s...      83\n",
            "1268  location burned burned my popcorn negative  ne...      84\n",
            "874   location blood lobo paranoico mad men neutral ...      84\n",
            "5988  location screams screams weblink   neutral  ne...      84\n",
            "113   location aftershock aftershock https  neutral ...      84\n",
            "3712  location fear fear  youtube weblink   neutral ...      84\n",
            "6917  location trouble noel back up neutral  news   ...      84\n",
            "3883  location flattened flattened https  neutral  n...      85\n",
            "4964  location meltdown  ice age the meltdown neutra...      85\n",
            "3417  location explode im about to explode  negative...      85\n",
            "3681  location fatality babybackreeve fatality negat...      85\n",
            "5846  location ruin always gotta ruin my mood negati...      86\n",
            "5962  location screaming scalpium screaming positive...      86\n",
            "1038  location body bags baskgod body bags neutral  ...      86\n",
            "3772  location fire fire waves and darkness negative...      86\n",
            "6678  location thunder atl events and thunder o neut...      87\n",
            "6181  location sirens lets goooooooo weblink   posit...      87\n",
            "1791  location crash make man pikin crash  negative ...      87\n",
            "5998  location screams realjaxclone screams neutral ...      87\n",
            "6878  location traumatised im so traumatised  negati...      87\n",
            "6171  location sirens fuck sleeping with sirens  neg...      87\n",
            "3054  location earthquake earthquake drill atm neutr...      87\n",
            "644   location blaze blaze is my bro weblink   posit...      87\n",
            "6766  location tornado ayshun tornado then dont neut...      88\n",
            "5393  location panic panic at the disco te amo posit...      88\n",
            "2086  location dead atchisonsean he is dead negative...      88\n",
            "3761  location fire nothing like a good fire https  ...      88\n",
            "1071  location bomb jen you da bomb girl https  posi...      88\n",
            "2783  location disaster im a disaster https  negativ...      89\n",
            "3496  location explosion kindermorgan gas explosion ...      89\n",
            "675   location blaze  yes i do have 2 guns   neutral...      89\n",
            "4427  location hostage im hungry as a hostage negati...      90\n",
            "5401  location panicking okay now i am panicking neg...      90\n",
            "5996  location screams in every bts song jimin screa...      90\n",
            "3419  location explode my head gonna explode soon ne...      91\n",
            "1086  location bomb soul food sound so bomb right no...      91\n",
            "991   location body bagging yankees body bagging mfs...      91\n",
            "630   location bioterrorism to fight bioterrorism si...      91\n"
          ]
        }
      ],
      "source": [
        "import pandas as pd\n",
        "\n",
        "\n",
        "false_negative_indices = np.where((rounded_predictions == 0) & (val_labels == 1))[0]\n",
        "\n",
        "# Extract the sentences corresponding to false negatives\n",
        "false_negative_sentences = val_data.iloc[false_negative_indices]\n",
        "\n",
        "# Create a DataFrame to sort sentences by length\n",
        "tx_fn_sentences_df = pd.DataFrame({\n",
        "    'sentence': false_negative_sentences,\n",
        "    'length': false_negative_sentences.apply(len)\n",
        "})\n",
        "\n",
        "# Drop duplicates to ensure unique sentences\n",
        "tx_fn_sentences_df = tx_fn_sentences_df.drop_duplicates(subset='sentence')\n",
        "\n",
        "# Sort by sentence length and get the top ten shortest sentences\n",
        "tx_top_ten_shortest_fn = tx_fn_sentences_df.sort_values(by='length', ascending=True).head(60)\n",
        "\n",
        "# Print the results\n",
        "print(top_ten_shortest_fn)\n"
      ]
    },
    {
      "cell_type": "markdown",
      "metadata": {
        "id": "uWFIAQ2Rqhe5"
      },
      "source": [
        "###Salient Maps"
      ]
    },
    {
      "cell_type": "markdown",
      "metadata": {
        "id": "f80ZkUHFpwDP"
      },
      "source": [
        "####Attention Sentence Confusion Matrix per Head"
      ]
    },
    {
      "cell_type": "markdown",
      "metadata": {
        "id": "gE2lhrv575em"
      },
      "source": [
        "Lighter color represents more attention given by the transformer"
      ]
    },
    {
      "cell_type": "code",
      "execution_count": null,
      "metadata": {
        "id": "cP1wGhdbeGqx"
      },
      "outputs": [],
      "source": [
        "import matplotlib.pyplot as plt\n",
        "import numpy as np\n",
        "\n",
        "def plot_attention_scores(attn_scores, sentence, title ='None'):\n",
        "    # Assuming attn_scores is of shape (1, num_heads, seq_len, seq_len)\n",
        "    num_heads = attn_scores.shape[1]\n",
        "    seq_len = attn_scores.shape[2]\n",
        "\n",
        "    # Reshape attention scores to (num_heads, seq_len, seq_len)\n",
        "    attn_scores1 = np.squeeze(attn_scores, axis=0)\n",
        "\n",
        "    # Split the sentence into words\n",
        "    words = sentence.split()\n",
        "\n",
        "    # Get the length of the sentence\n",
        "    sentence_length = len(words)\n",
        "\n",
        "    # Slice the attention scores to match the sentence length\n",
        "    attn_scores1 = attn_scores1[:, :sentence_length, :sentence_length]\n",
        "\n",
        "    # Plotting\n",
        "    fig, axs = plt.subplots(1, num_heads, figsize=(10, 5))  # Change to 1 row and num_heads columns\n",
        "    if title != 'None':\n",
        "        fig.suptitle(title)  # Set the title for the plot\n",
        "    for i in range(num_heads):\n",
        "        axs[i].imshow(attn_scores1[i], cmap='viridis')\n",
        "        axs[i].set_title(f'Head {i+1}')\n",
        "        axs[i].set_xticks(np.arange(sentence_length))\n",
        "        axs[i].set_yticks(np.arange(sentence_length))  # Set y-ticks\n",
        "        axs[i].set_xticklabels(words, rotation=90)\n",
        "        axs[i].set_yticklabels(words)  # Set y-tick labels\n",
        "    plt.tight_layout()\n",
        "    plt.show()\n",
        "\n",
        "# Now you can call the function with attn_scores and sentence as arguments\n",
        "# plot_attention_scores(attn_scores, \"This is a real tragedy\")\n",
        "\n",
        "\n",
        "\n",
        "\n"
      ]
    },
    {
      "cell_type": "markdown",
      "metadata": {
        "id": "9jvlzmmwbj6z"
      },
      "source": [
        "The below sentence is classified as true by tx_model although its labeled false"
      ]
    },
    {
      "cell_type": "code",
      "execution_count": null,
      "metadata": {
        "colab": {
          "base_uri": "https://localhost:8080/",
          "height": 35
        },
        "id": "bBWkrOVa66Jr",
        "outputId": "358ebb75-70b8-4788-a969-26e4f3dba06e"
      },
      "outputs": [
        {
          "data": {
            "application/vnd.google.colaboratory.intrinsic+json": {
              "type": "string"
            },
            "text/plain": [
              "'location fatal fatal attraction neutral  news   social concern irony sadness '"
            ]
          },
          "execution_count": 77,
          "metadata": {},
          "output_type": "execute_result"
        }
      ],
      "source": [
        "tx_top_ten_shortest_fp.sentence.iloc[0]"
      ]
    },
    {
      "cell_type": "markdown",
      "metadata": {
        "id": "7iyoiM6refrq"
      },
      "source": [
        "tx_model"
      ]
    },
    {
      "cell_type": "code",
      "execution_count": null,
      "metadata": {
        "colab": {
          "base_uri": "https://localhost:8080/",
          "height": 788
        },
        "id": "4phFdBDABzzr",
        "outputId": "51997dff-7d14-4fb9-d1e9-4f6ae8d979f1"
      },
      "outputs": [
        {
          "name": "stdout",
          "output_type": "stream",
          "text": [
            "['location fatal fatal attraction neutral news social concern irony sadness']\n",
            "location fatal fatal attraction neutral  news   social concern irony sadness \n",
            "probability of true:  tf.Tensor([0.62583786], shape=(1,), dtype=float32)\n",
            "\n",
            "        TRUE TRUE TRUE TRUE TRUE TRUE\n",
            "        TRUE TRUE TRUE TRUE TRUE TRUE\n",
            "        TRUE TRUE TRUE TRUE TRUE TRUE\n",
            "                  TRUE TRUE\n",
            "                  TRUE TRUE\n",
            "                  TRUE TRUE\n",
            "                  TRUE TRUE\n",
            "                  TRUE TRUE\n",
            "                  TRUE TRUE\n",
            "                  TRUE TRUE\n",
            "                  TRUE TRUE\n"
          ]
        },
        {
          "data": {
            "image/png": "[encoded data removed]",
            "text/plain": [
              "<Figure size 1000x500 with 2 Axes>"
            ]
          },
          "metadata": {},
          "output_type": "display_data"
        }
      ],
      "source": [
        "i=0\n",
        "original_sentence = tx_top_ten_shortest_fp.sentence.iloc[i]\n",
        "text_sentences = sequences_to_text(format_sentence(original_sentence), tokenizer)\n",
        "print(text_sentences)\n",
        "text_sentences[0]\n",
        "print(original_sentence)\n",
        "prediction, attn_scores = forward_and_get_attn_scores(format_sentence(original_sentence), tx_model)\n",
        "classification(prediction)\n",
        "plot_attention_scores(attn_scores, text_sentences[0], original_sentence)"
      ]
    },
    {
      "cell_type": "markdown",
      "metadata": {
        "id": "hts4QjDPcQ4a"
      },
      "source": [
        "The lp_model classifies it correctly"
      ]
    },
    {
      "cell_type": "code",
      "execution_count": null,
      "metadata": {
        "colab": {
          "base_uri": "https://localhost:8080/",
          "height": 788
        },
        "id": "qmgtEetlelNU",
        "outputId": "a3697b02-4dcf-4111-eb3f-f2280d91fa8d"
      },
      "outputs": [
        {
          "name": "stdout",
          "output_type": "stream",
          "text": [
            "['location fatal fatal attraction neutral news social concern irony sadness']\n",
            "location fatal fatal attraction neutral  news   social concern irony sadness \n",
            "probability of true:  tf.Tensor([0.41652828], shape=(1,), dtype=float32)\n",
            "\n",
            "         FALSE FALSE FALSE FALSE\n",
            "         FALSE FALSE FALSE FALSE\n",
            "         FALSE\n",
            "         FALSE\n",
            "         FALSE FALSE FALSE FALSE\n",
            "         FALSEFALSE FALSE FALSE\n",
            "         FALSE\n",
            "         FALSE\n",
            "         FALSE\n",
            "         FALSE\n",
            "         FALSE\n"
          ]
        },
        {
          "data": {
            "image/png": "[encoded data removed]",
            "text/plain": [
              "<Figure size 1000x500 with 2 Axes>"
            ]
          },
          "metadata": {},
          "output_type": "display_data"
        }
      ],
      "source": [
        "i=0\n",
        "original_sentence = tx_top_ten_shortest_fp.sentence.iloc[i]\n",
        "text_sentences = sequences_to_text(format_sentence(original_sentence), tokenizer)\n",
        "print(text_sentences)\n",
        "text_sentences[0]\n",
        "print(original_sentence)\n",
        "prediction, attn_scores = forward_and_get_attn_scores(format_sentence(original_sentence), lp_model)\n",
        "classification(prediction)\n",
        "plot_attention_scores(attn_scores, text_sentences[0], original_sentence)"
      ]
    },
    {
      "cell_type": "markdown",
      "metadata": {
        "id": "j1R5eov3fWhf"
      },
      "source": [
        "In the above, the lp_model has learned to pay special attention to attraction"
      ]
    },
    {
      "cell_type": "markdown",
      "metadata": {
        "id": "bXv2GLqPfqxQ"
      },
      "source": [
        "In \"blew up those mentions\" we want to see the relationship between \"blew\" \"up\" and \"mentions\""
      ]
    },
    {
      "cell_type": "markdown",
      "metadata": {
        "id": "2OeTKpc9gBjq"
      },
      "source": [
        "tx_model"
      ]
    },
    {
      "cell_type": "code",
      "execution_count": null,
      "metadata": {
        "colab": {
          "base_uri": "https://localhost:8080/",
          "height": 788
        },
        "id": "tZbbOmrFOO2E",
        "outputId": "97194e8c-53d9-4a1c-ab43-90afdea00417"
      },
      "outputs": [
        {
          "name": "stdout",
          "output_type": "stream",
          "text": [
            "['blew up those mentions']\n",
            "blew up those mentions\n",
            "probability of true:  tf.Tensor([0.03049658], shape=(1,), dtype=float32)\n",
            "\n",
            "         FALSE FALSE FALSE FALSE\n",
            "         FALSE FALSE FALSE FALSE\n",
            "         FALSE\n",
            "         FALSE\n",
            "         FALSE FALSE FALSE FALSE\n",
            "         FALSEFALSE FALSE FALSE\n",
            "         FALSE\n",
            "         FALSE\n",
            "         FALSE\n",
            "         FALSE\n",
            "         FALSE\n"
          ]
        },
        {
          "data": {
            "image/png": "[encoded data removed]",
            "text/plain": [
              "<Figure size 1000x500 with 2 Axes>"
            ]
          },
          "metadata": {},
          "output_type": "display_data"
        }
      ],
      "source": [
        "original_sentence = 'blew up those mentions'\n",
        "text_sentences = sequences_to_text(format_sentence(original_sentence), tokenizer)\n",
        "print(text_sentences)\n",
        "text_sentences[0]\n",
        "print(original_sentence)\n",
        "prediction, attn_scores = forward_and_get_attn_scores(format_sentence(original_sentence), tx_model)\n",
        "classification(prediction)\n",
        "plot_attention_scores(attn_scores, text_sentences[0], original_sentence)"
      ]
    },
    {
      "cell_type": "markdown",
      "metadata": {
        "id": "TxVHkSZjgY5U"
      },
      "source": [
        "lp_model"
      ]
    },
    {
      "cell_type": "code",
      "execution_count": null,
      "metadata": {
        "colab": {
          "base_uri": "https://localhost:8080/",
          "height": 788
        },
        "id": "noO47pBogafc",
        "outputId": "9df649df-b6d7-4421-dd56-6f23548ab988"
      },
      "outputs": [
        {
          "name": "stdout",
          "output_type": "stream",
          "text": [
            "['blew up those mentions']\n",
            "blew up those mentions\n",
            "probability of true:  tf.Tensor([0.07053924], shape=(1,), dtype=float32)\n",
            "\n",
            "         FALSE FALSE FALSE FALSE\n",
            "         FALSE FALSE FALSE FALSE\n",
            "         FALSE\n",
            "         FALSE\n",
            "         FALSE FALSE FALSE FALSE\n",
            "         FALSEFALSE FALSE FALSE\n",
            "         FALSE\n",
            "         FALSE\n",
            "         FALSE\n",
            "         FALSE\n",
            "         FALSE\n"
          ]
        },
        {
          "data": {
            "image/png": "[encoded data removed]",
            "text/plain": [
              "<Figure size 1000x500 with 2 Axes>"
            ]
          },
          "metadata": {},
          "output_type": "display_data"
        }
      ],
      "source": [
        "original_sentence = 'blew up those mentions'\n",
        "text_sentences = sequences_to_text(format_sentence(original_sentence), tokenizer)\n",
        "print(text_sentences)\n",
        "text_sentences[0]\n",
        "print(original_sentence)\n",
        "prediction, attn_scores = forward_and_get_attn_scores(format_sentence(original_sentence), lp_model)\n",
        "classification(prediction)\n",
        "plot_attention_scores(attn_scores, text_sentences[0], original_sentence)"
      ]
    },
    {
      "cell_type": "markdown",
      "metadata": {
        "id": "97knbygNhJoI"
      },
      "source": [
        "The above shows a more nuanced view by the lp_model, as the high and lows are of a bigger range and the checkerboard pattern reflects a more nuanced view for each word."
      ]
    },
    {
      "cell_type": "markdown",
      "metadata": {
        "id": "Rpqml6IR6w7i"
      },
      "source": [
        "####Formatting Words Font Size per Attention\n",
        "The following code provides a visual correlation of the font size and the attention given to it."
      ]
    },
    {
      "cell_type": "code",
      "execution_count": null,
      "metadata": {
        "id": "o2YjidrE5abh"
      },
      "outputs": [],
      "source": [
        "from IPython.core.display import display, HTML\n",
        "\n",
        "def visualize_attention_scores(attn_scores, sentence):\n",
        "    # Assuming attn_scores is of shape (1, num_heads, seq_len, seq_len)\n",
        "    num_heads = attn_scores.shape[1]\n",
        "    seq_len = attn_scores.shape[2]\n",
        "\n",
        "    # Reshape attention scores to (num_heads, seq_len, seq_len)\n",
        "    attn_scores1 = np.squeeze(attn_scores, axis=0)\n",
        "\n",
        "    # Split the sentence into words\n",
        "    words = sentence.split()\n",
        "\n",
        "    # Get the length of the sentence\n",
        "    sentence_length = len(words)\n",
        "\n",
        "    # Slice the attention scores to match the sentence length\n",
        "    attn_scores1 = attn_scores1[:, :sentence_length, :sentence_length]\n",
        "\n",
        "    # Sum the attention scores for each word for each head\n",
        "    attn_sum = np.sum(attn_scores1, axis=2)\n",
        "\n",
        "    # Normalize the attention scores to the range [12, 36]\n",
        "    attn_sum = 12 + 24 * (attn_sum - np.min(attn_sum)) / (np.max(attn_sum) - np.min(attn_sum))\n",
        "\n",
        "    # Create a list to store the HTML strings for each head\n",
        "    html_strings = []\n",
        "\n",
        "    # Iterate over each head\n",
        "    for i in range(num_heads):\n",
        "        # Create an HTML string for the current head\n",
        "        html_string = f\"<h2>Head {i+1}</h2><p>\"\n",
        "        # Iterate over each word in the sentence\n",
        "        for j in range(sentence_length):\n",
        "            # Add the current word to the HTML string with a font size proportional to its attention score\n",
        "            html_string += f'<span style=\"font-size: {attn_sum[i, j]}px\">{words[j]}</span> '\n",
        "        # Close the paragraph tag\n",
        "        html_string += \"</p>\"\n",
        "        # Add the HTML string for the current head to the list\n",
        "        html_strings.append(html_string)\n",
        "\n",
        "    # Join the HTML strings for all heads and return the result\n",
        "    html_output = \"\".join(html_strings)\n",
        "\n",
        "    # Display the HTML output inline in Jupyter notebook\n",
        "    display(HTML(html_output))\n",
        "\n",
        "# Now you can call the function with attn_scores and sentence as arguments\n",
        "# visualize_attention_scores(attn_scores, \"This is a real tragedy\")\n",
        "    return attn_sum #returned normalized attention scores for sentence"
      ]
    },
    {
      "cell_type": "code",
      "execution_count": null,
      "metadata": {
        "id": "TJ22w4Wb7V4f"
      },
      "outputs": [],
      "source": [
        "import numpy as np\n",
        "from IPython.core.display import display, HTML\n",
        "\n",
        "def visualize_average_attention_scores(attn_scores, sentence, power=4, font_size_min=12, font_size_max=48):\n",
        "    # Assuming attn_scores is of shape (1, num_heads, seq_len, seq_len)\n",
        "    num_heads = attn_scores.shape[1]\n",
        "    seq_len = attn_scores.shape[2]\n",
        "\n",
        "    # Reshape attention scores to (num_heads, seq_len, seq_len)\n",
        "    attn_scores = np.squeeze(attn_scores, axis=0)\n",
        "\n",
        "    # Split the sentence into words\n",
        "    words = sentence.split()\n",
        "\n",
        "    # Get the length of the sentence\n",
        "    sentence_length = len(words)\n",
        "\n",
        "    # Slice the attention scores to match the sentence length\n",
        "    attn_scores = attn_scores[:, :sentence_length, :sentence_length]\n",
        "\n",
        "    # Sum the attention scores for each word across all heads\n",
        "    attn_sum = np.sum(attn_scores, axis=0)\n",
        "\n",
        "    # Average the attention scores for each word\n",
        "    attn_avg = attn_sum / num_heads\n",
        "\n",
        "    # Apply a power law transformation to amplify differences\n",
        "    attn_avg = np.power(attn_avg, power)\n",
        "\n",
        "    # Normalize the attention scores to the new font size range\n",
        "    epsilon = 1e-9  # Small value to prevent division by zero\n",
        "    attn_avg = font_size_min + (font_size_max - font_size_min) * (attn_avg - np.min(attn_avg)) / (np.max(attn_avg) - np.min(attn_avg) + epsilon)\n",
        "\n",
        "    # Create an HTML string for the sentence\n",
        "    html_string = \"<p>\"\n",
        "    # Iterate over each word in the sentence\n",
        "    for j in range(sentence_length):\n",
        "        # Add the current word to the HTML string with a font size proportional to its average attention score\n",
        "        html_string += f'<span style=\"font-size: {attn_avg[j]}px\">{words[j]}</span> '\n",
        "    # Close the paragraph tag\n",
        "    html_string += \"</p>\"\n",
        "\n",
        "    # Display the HTML output inline in Jupyter notebook\n",
        "    display(HTML(html_string))\n",
        "\n",
        "    # Return the normalized average attention scores for sentence\n",
        "    return attn_avg\n",
        "\n",
        "# Example usage:\n",
        "# attn_scores = np.random.rand(1, 12, 10, 10)  # Replace with actual attention scores\n",
        "# sentence = \"This is a real tragedy\"\n",
        "# visualize_average_attention_scores(attn_scores, sentence)\n"
      ]
    },
    {
      "cell_type": "markdown",
      "metadata": {
        "id": "Ot_TqXKJjAgv"
      },
      "source": [
        "Below we look at the sentence: 'location forest fire near la ronge sask canada neutral news social concern non irony fear' which was classified incorrectly by the bl_model"
      ]
    },
    {
      "cell_type": "markdown",
      "metadata": {
        "id": "lCqaXg5pjMQg"
      },
      "source": [
        "bl_model"
      ]
    },
    {
      "cell_type": "code",
      "execution_count": null,
      "metadata": {
        "colab": {
          "base_uri": "https://localhost:8080/",
          "height": 422
        },
        "id": "ukHAX7gGjNck",
        "outputId": "64b63653-16e5-430a-cb9b-ebd41feb5f34"
      },
      "outputs": [
        {
          "name": "stdout",
          "output_type": "stream",
          "text": [
            "probability of true:  tf.Tensor([0.44472238], shape=(1,), dtype=float32)\n",
            "\n",
            "         FALSE FALSE FALSE FALSE\n",
            "         FALSE FALSE FALSE FALSE\n",
            "         FALSE\n",
            "         FALSE\n",
            "         FALSE FALSE FALSE FALSE\n",
            "         FALSEFALSE FALSE FALSE\n",
            "         FALSE\n",
            "         FALSE\n",
            "         FALSE\n",
            "         FALSE\n",
            "         FALSE\n"
          ]
        },
        {
          "data": {
            "text/html": [
              "<h2>Head 1</h2><p><span style=\"font-size: 36.0px\">location</span> <span style=\"font-size: 18.0px\">forest</span> <span style=\"font-size: 24.0px\">fire</span> <span style=\"font-size: 12.0px\">near</span> <span style=\"font-size: 18.0px\">la</span> <span style=\"font-size: 12.0px\">ronge</span> <span style=\"font-size: 24.0px\">sask</span> <span style=\"font-size: 12.0px\">canada</span> <span style=\"font-size: 36.0px\">neutral</span> <span style=\"font-size: 18.0px\">news</span> <span style=\"font-size: 24.0px\">social</span> <span style=\"font-size: 24.0px\">concern</span> <span style=\"font-size: 18.0px\">non</span> <span style=\"font-size: 24.0px\">irony</span> <span style=\"font-size: 36.0px\">fear</span> </p><h2>Head 2</h2><p><span style=\"font-size: 24.0px\">location</span> <span style=\"font-size: 24.0px\">forest</span> <span style=\"font-size: 24.0px\">fire</span> <span style=\"font-size: 18.0px\">near</span> <span style=\"font-size: 24.0px\">la</span> <span style=\"font-size: 18.0px\">ronge</span> <span style=\"font-size: 24.0px\">sask</span> <span style=\"font-size: 24.0px\">canada</span> <span style=\"font-size: 24.0px\">neutral</span> <span style=\"font-size: 24.0px\">news</span> <span style=\"font-size: 18.0px\">social</span> <span style=\"font-size: 24.0px\">concern</span> <span style=\"font-size: 24.0px\">non</span> <span style=\"font-size: 24.0px\">irony</span> <span style=\"font-size: 24.0px\">fear</span> </p>"
            ],
            "text/plain": [
              "<IPython.core.display.HTML object>"
            ]
          },
          "metadata": {},
          "output_type": "display_data"
        }
      ],
      "source": [
        "sentence ='location forest fire near la ronge sask canada neutral news social concern non irony fear'\n",
        "prediction, attn_scores = forward_and_get_attn_scores(format_sentence(sentence), bl_model)\n",
        "classification(prediction)\n",
        "_ = visualize_attention_scores(attn_scores, sentence)\n"
      ]
    },
    {
      "cell_type": "markdown",
      "metadata": {
        "id": "3I2FJeuIjKST"
      },
      "source": [
        "tx_model"
      ]
    },
    {
      "cell_type": "code",
      "execution_count": null,
      "metadata": {
        "colab": {
          "base_uri": "https://localhost:8080/",
          "height": 437
        },
        "id": "6OdQlqHx5lLT",
        "outputId": "adc0c3d8-fcc8-4ccf-8df4-96c835268eb9"
      },
      "outputs": [
        {
          "name": "stdout",
          "output_type": "stream",
          "text": [
            "probability of true:  tf.Tensor([0.6348514], shape=(1,), dtype=float32)\n",
            "\n",
            "        TRUE TRUE TRUE TRUE TRUE TRUE\n",
            "        TRUE TRUE TRUE TRUE TRUE TRUE\n",
            "        TRUE TRUE TRUE TRUE TRUE TRUE\n",
            "                  TRUE TRUE\n",
            "                  TRUE TRUE\n",
            "                  TRUE TRUE\n",
            "                  TRUE TRUE\n",
            "                  TRUE TRUE\n",
            "                  TRUE TRUE\n",
            "                  TRUE TRUE\n",
            "                  TRUE TRUE\n"
          ]
        },
        {
          "data": {
            "text/html": [
              "<h2>Head 1</h2><p><span style=\"font-size: 24.0px\">location</span> <span style=\"font-size: 36.0px\">forest</span> <span style=\"font-size: 24.0px\">fire</span> <span style=\"font-size: 24.0px\">near</span> <span style=\"font-size: 36.0px\">la</span> <span style=\"font-size: 24.0px\">ronge</span> <span style=\"font-size: 24.0px\">sask</span> <span style=\"font-size: 36.0px\">canada</span> <span style=\"font-size: 24.0px\">neutral</span> <span style=\"font-size: 12.0px\">news</span> <span style=\"font-size: 12.0px\">social</span> <span style=\"font-size: 24.0px\">concern</span> <span style=\"font-size: 24.0px\">non</span> <span style=\"font-size: 36.0px\">irony</span> <span style=\"font-size: 24.0px\">fear</span> </p><h2>Head 2</h2><p><span style=\"font-size: 12.0px\">location</span> <span style=\"font-size: 36.0px\">forest</span> <span style=\"font-size: 36.0px\">fire</span> <span style=\"font-size: 36.0px\">near</span> <span style=\"font-size: 36.0px\">la</span> <span style=\"font-size: 24.0px\">ronge</span> <span style=\"font-size: 24.0px\">sask</span> <span style=\"font-size: 24.0px\">canada</span> <span style=\"font-size: 12.0px\">neutral</span> <span style=\"font-size: 36.0px\">news</span> <span style=\"font-size: 24.0px\">social</span> <span style=\"font-size: 18.0px\">concern</span> <span style=\"font-size: 12.0px\">non</span> <span style=\"font-size: 18.0px\">irony</span> <span style=\"font-size: 12.0px\">fear</span> </p>"
            ],
            "text/plain": [
              "<IPython.core.display.HTML object>"
            ]
          },
          "metadata": {},
          "output_type": "display_data"
        }
      ],
      "source": [
        "sentence ='location forest fire near la ronge sask canada neutral news social concern non irony fear'\n",
        "prediction, attn_scores = forward_and_get_attn_scores(format_sentence(sentence), tx_model)\n",
        "classification(prediction)\n",
        "_ = visualize_attention_scores(attn_scores, sentence)\n"
      ]
    },
    {
      "cell_type": "markdown",
      "metadata": {
        "id": "6VgjRhC9ja12"
      },
      "source": [
        "lp_model"
      ]
    },
    {
      "cell_type": "code",
      "execution_count": null,
      "metadata": {
        "colab": {
          "base_uri": "https://localhost:8080/",
          "height": 437
        },
        "id": "l_2FH-Tw8phb",
        "outputId": "e2f6d4cc-6ce0-4365-c349-e2c0c9028aae"
      },
      "outputs": [
        {
          "name": "stdout",
          "output_type": "stream",
          "text": [
            "probability of true:  tf.Tensor([0.98448926], shape=(1,), dtype=float32)\n",
            "\n",
            "        TRUE TRUE TRUE TRUE TRUE TRUE\n",
            "        TRUE TRUE TRUE TRUE TRUE TRUE\n",
            "        TRUE TRUE TRUE TRUE TRUE TRUE\n",
            "                  TRUE TRUE\n",
            "                  TRUE TRUE\n",
            "                  TRUE TRUE\n",
            "                  TRUE TRUE\n",
            "                  TRUE TRUE\n",
            "                  TRUE TRUE\n",
            "                  TRUE TRUE\n",
            "                  TRUE TRUE\n"
          ]
        },
        {
          "data": {
            "text/html": [
              "<h2>Head 1</h2><p><span style=\"font-size: 36.0px\">location</span> <span style=\"font-size: 24.0px\">forest</span> <span style=\"font-size: 18.0px\">fire</span> <span style=\"font-size: 24.0px\">near</span> <span style=\"font-size: 12.0px\">la</span> <span style=\"font-size: 18.0px\">ronge</span> <span style=\"font-size: 24.0px\">sask</span> <span style=\"font-size: 12.0px\">canada</span> <span style=\"font-size: 24.0px\">neutral</span> <span style=\"font-size: 12.0px\">news</span> <span style=\"font-size: 24.0px\">social</span> <span style=\"font-size: 24.0px\">concern</span> <span style=\"font-size: 24.0px\">non</span> <span style=\"font-size: 24.0px\">irony</span> <span style=\"font-size: 12.0px\">fear</span> </p><h2>Head 2</h2><p><span style=\"font-size: 24.0px\">location</span> <span style=\"font-size: 24.0px\">forest</span> <span style=\"font-size: 18.0px\">fire</span> <span style=\"font-size: 36.0px\">near</span> <span style=\"font-size: 18.0px\">la</span> <span style=\"font-size: 18.0px\">ronge</span> <span style=\"font-size: 24.0px\">sask</span> <span style=\"font-size: 12.0px\">canada</span> <span style=\"font-size: 12.0px\">neutral</span> <span style=\"font-size: 18.0px\">news</span> <span style=\"font-size: 18.0px\">social</span> <span style=\"font-size: 24.0px\">concern</span> <span style=\"font-size: 12.0px\">non</span> <span style=\"font-size: 18.0px\">irony</span> <span style=\"font-size: 24.0px\">fear</span> </p>"
            ],
            "text/plain": [
              "<IPython.core.display.HTML object>"
            ]
          },
          "metadata": {},
          "output_type": "display_data"
        }
      ],
      "source": [
        "sentence ='location forest fire near la ronge sask canada neutral news social concern non irony fear'\n",
        "prediction, attn_scores = forward_and_get_attn_scores(format_sentence(sentence), lp_model)\n",
        "classification(prediction)\n",
        "_ = visualize_attention_scores(attn_scores, sentence)"
      ]
    },
    {
      "cell_type": "markdown",
      "metadata": {
        "id": "ONTwx10YjnmI"
      },
      "source": [
        "The probability output of lp_model was 0.98448926 vs the tx_model of 0.6348514, which means the lp_model understands the sentence better."
      ]
    },
    {
      "cell_type": "markdown",
      "metadata": {
        "id": "LS1ibQS3GsVS"
      },
      "source": [
        "###Word Embeddings"
      ]
    },
    {
      "cell_type": "markdown",
      "metadata": {
        "id": "8yLYPVsNX0I2"
      },
      "source": [
        "####Load Embeddings After Training"
      ]
    },
    {
      "cell_type": "markdown",
      "metadata": {
        "id": "tanvLRGiHjzy"
      },
      "source": [
        "We expect a (total words, dimensional embedding) shaped matrix"
      ]
    },
    {
      "cell_type": "code",
      "execution_count": 53,
      "metadata": {
        "id": "sy7DAAq-GuE-"
      },
      "outputs": [],
      "source": [
        "lp_embeddings_after_training = lp_model.encoder.pos_embedding.embedding.get_weights()[0]\n",
        "tx_embeddings_after_training = tx_model.encoder.pos_embedding.embedding.get_weights()[0]\n",
        "bl_embeddings_after_training = bl_model.encoder.pos_embedding.embedding.get_weights()[0]\n"
      ]
    },
    {
      "cell_type": "code",
      "execution_count": 54,
      "metadata": {
        "colab": {
          "base_uri": "https://localhost:8080/"
        },
        "id": "vEgoHiYsHXDu",
        "outputId": "95400314-f88e-4316-a41b-ef5f40b6ed02"
      },
      "outputs": [
        {
          "output_type": "stream",
          "name": "stdout",
          "text": [
            "(17984, 100)\n",
            "(17984, 100)\n"
          ]
        },
        {
          "output_type": "execute_result",
          "data": {
            "text/plain": [
              "(None, None)"
            ]
          },
          "metadata": {},
          "execution_count": 54
        }
      ],
      "source": [
        "print(lp_embeddings_after_training.shape), print(tx_embeddings_after_training.shape)"
      ]
    },
    {
      "cell_type": "markdown",
      "metadata": {
        "id": "Xc2_O1b4lN5f"
      },
      "source": [
        "####word_index"
      ]
    },
    {
      "cell_type": "code",
      "execution_count": 55,
      "metadata": {
        "id": "tCBtpEFAH4Sp"
      },
      "outputs": [],
      "source": [
        "\n",
        "word_index = tokenizer.word_index"
      ]
    },
    {
      "cell_type": "code",
      "execution_count": 136,
      "metadata": {
        "id": "knheJWJsWrpI"
      },
      "outputs": [],
      "source": [
        "disaster_words =\"\"\"\n",
        "fire\n",
        "disaster\n",
        "emergency\n",
        "burning\n",
        "police\n",
        "bomb\n",
        "people\n",
        "news\n",
        "storm\n",
        "body\n",
        "crash\n",
        "suicide\n",
        "buildings\n",
        "death\n",
        "home\n",
        "collapse\n",
        "mass\n",
        "fear\n",
        "typhoon\n",
        "nuclear\n",
        "attack\n",
        "hiroshima\n",
        "killed\n",
        "families\n",
        "watch\n",
        "shit\n",
        "dead\n",
        "war\n",
        "bombing\n",
        "help\n",
        "fatal\n",
        "wildfire\n",
        "forest\n",
        "thunder\n",
        "fires\n",
        "accident\n",
        "god\n",
        "\"\"\"\n",
        "disaster_words_list = disaster_words.strip().split(\"\\n\")"
      ]
    },
    {
      "cell_type": "markdown",
      "source": [
        "disaster words list plotted on the retrieved word embeddings from lp_model"
      ],
      "metadata": {
        "id": "NIMD_qOzPQjU"
      }
    },
    {
      "cell_type": "code",
      "execution_count": 137,
      "metadata": {
        "colab": {
          "base_uri": "https://localhost:8080/",
          "height": 542
        },
        "id": "9XvSZPBxioLn",
        "outputId": "326ab15f-23ba-4b5a-ef7a-7f3ec465b247"
      },
      "outputs": [
        {
          "output_type": "display_data",
          "data": {
            "text/html": [
              "<html>\n",
              "<head><meta charset=\"utf-8\" /></head>\n",
              "<body>\n",
              "    <div>            <script src=\"https://cdnjs.cloudflare.com/ajax/libs/mathjax/2.7.5/MathJax.js?config=TeX-AMS-MML_SVG\"></script><script type=\"text/javascript\">if (window.MathJax && window.MathJax.Hub && window.MathJax.Hub.Config) {window.MathJax.Hub.Config({SVG: {font: \"STIX-Web\"}});}</script>                <script type=\"text/javascript\">window.PlotlyConfig = {MathJaxConfig: 'local'};</script>\n",
              "        <script charset=\"utf-8\" src=\"https://cdn.plot.ly/plotly-2.24.1.min.js\"></script>                <div id=\"98cf8acf-9990-4693-94ff-00aaa55019b0\" class=\"plotly-graph-div\" style=\"height:525px; width:100%;\"></div>            <script type=\"text/javascript\">                                    window.PLOTLYENV=window.PLOTLYENV || {};                                    if (document.getElementById(\"98cf8acf-9990-4693-94ff-00aaa55019b0\")) {                    Plotly.newPlot(                        \"98cf8acf-9990-4693-94ff-00aaa55019b0\",                        [{\"customdata\":[[\"fire\",0],[\"disaster\",1],[\"emergency\",2],[\"burning\",3],[\"police\",4],[\"bomb\",5],[\"people\",6],[\"news\",7],[\"storm\",8],[\"body\",9],[\"crash\",10],[\"suicide\",11],[\"buildings\",12],[\"death\",13],[\"home\",14],[\"collapse\",15],[\"mass\",16],[\"fear\",17],[\"typhoon\",18],[\"nuclear\",19],[\"attack\",20],[\"hiroshima\",21],[\"killed\",22],[\"families\",23],[\"watch\",24],[\"shit\",25],[\"dead\",26],[\"war\",27],[\"bombing\",28],[\"help\",29],[\"fatal\",30],[\"wildfire\",31],[\"forest\",32],[\"thunder\",33],[\"fires\",34],[\"accident\",35],[\"god\",36]],\"hovertemplate\":\"x=%{x}\\u003cbr\\u003ey=%{y}\\u003cbr\\u003eword=%{customdata[0]}\\u003cbr\\u003eindex=%{customdata[1]}\\u003cextra\\u003e\\u003c\\u002fextra\\u003e\",\"legendgroup\":\"\",\"marker\":{\"color\":\"#636efa\",\"symbol\":\"circle\"},\"mode\":\"markers+text\",\"name\":\"\",\"orientation\":\"v\",\"showlegend\":false,\"text\":[\"fire\",\"disaster\",\"emergency\",\"burning\",\"police\",\"bomb\",\"people\",\"news\",\"storm\",\"body\",\"crash\",\"suicide\",\"buildings\",\"death\",\"home\",\"collapse\",\"mass\",\"fear\",\"typhoon\",\"nuclear\",\"attack\",\"hiroshima\",\"killed\",\"families\",\"watch\",\"shit\",\"dead\",\"war\",\"bombing\",\"help\",\"fatal\",\"wildfire\",\"forest\",\"thunder\",\"fires\",\"accident\",\"god\"],\"x\":[-2.3228232860565186,-2.997795820236206,-3.5069665908813477,-2.2094600200653076,-3.4167304039001465,-2.5145325660705566,-2.6736481189727783,-3.073920249938965,-2.4221255779266357,-2.066859006881714,-3.014132022857666,-3.199261426925659,-2.7785327434539795,-2.374694585800171,-2.67720103263855,-2.7493863105773926,-3.5946848392486572,-2.2768137454986572,-3.6298511028289795,-3.155291795730591,-2.9526374340057373,-3.0267155170440674,-2.568821430206299,-2.9338254928588867,-2.7525885105133057,-2.404210329055786,-2.486030101776123,-2.8654794692993164,-2.909214973449707,-2.758822202682495,-3.606478214263916,-1.9631801843643188,-1.6869709491729736,-2.1544742584228516,-2.0226175785064697,-3.752628803253174,-2.232893466949463],\"xaxis\":\"x\",\"y\":[3.9470033645629883,3.738490104675293,3.9541893005371094,3.60392427444458,3.6752915382385254,3.401233434677124,4.00167989730835,4.267761707305908,4.29416561126709,3.2308340072631836,3.7168941497802734,2.841416120529175,4.724861145019531,3.0581014156341553,4.172391414642334,3.660662889480591,3.3245813846588135,3.2480051517486572,4.869656085968018,3.1887669563293457,3.4857449531555176,2.5559403896331787,3.285510778427124,4.411632537841797,3.953732967376709,3.5984270572662354,3.3435051441192627,2.9665799140930176,3.4381532669067383,3.9658639430999756,3.374573230743408,4.369100093841553,3.8957040309906006,4.5515899658203125,4.330867767333984,3.708482027053833,3.666008234024048],\"yaxis\":\"y\",\"type\":\"scatter\",\"textposition\":\"top center\"}],                        {\"template\":{\"data\":{\"histogram2dcontour\":[{\"type\":\"histogram2dcontour\",\"colorbar\":{\"outlinewidth\":0,\"ticks\":\"\"},\"colorscale\":[[0.0,\"#0d0887\"],[0.1111111111111111,\"#46039f\"],[0.2222222222222222,\"#7201a8\"],[0.3333333333333333,\"#9c179e\"],[0.4444444444444444,\"#bd3786\"],[0.5555555555555556,\"#d8576b\"],[0.6666666666666666,\"#ed7953\"],[0.7777777777777778,\"#fb9f3a\"],[0.8888888888888888,\"#fdca26\"],[1.0,\"#f0f921\"]]}],\"choropleth\":[{\"type\":\"choropleth\",\"colorbar\":{\"outlinewidth\":0,\"ticks\":\"\"}}],\"histogram2d\":[{\"type\":\"histogram2d\",\"colorbar\":{\"outlinewidth\":0,\"ticks\":\"\"},\"colorscale\":[[0.0,\"#0d0887\"],[0.1111111111111111,\"#46039f\"],[0.2222222222222222,\"#7201a8\"],[0.3333333333333333,\"#9c179e\"],[0.4444444444444444,\"#bd3786\"],[0.5555555555555556,\"#d8576b\"],[0.6666666666666666,\"#ed7953\"],[0.7777777777777778,\"#fb9f3a\"],[0.8888888888888888,\"#fdca26\"],[1.0,\"#f0f921\"]]}],\"heatmap\":[{\"type\":\"heatmap\",\"colorbar\":{\"outlinewidth\":0,\"ticks\":\"\"},\"colorscale\":[[0.0,\"#0d0887\"],[0.1111111111111111,\"#46039f\"],[0.2222222222222222,\"#7201a8\"],[0.3333333333333333,\"#9c179e\"],[0.4444444444444444,\"#bd3786\"],[0.5555555555555556,\"#d8576b\"],[0.6666666666666666,\"#ed7953\"],[0.7777777777777778,\"#fb9f3a\"],[0.8888888888888888,\"#fdca26\"],[1.0,\"#f0f921\"]]}],\"heatmapgl\":[{\"type\":\"heatmapgl\",\"colorbar\":{\"outlinewidth\":0,\"ticks\":\"\"},\"colorscale\":[[0.0,\"#0d0887\"],[0.1111111111111111,\"#46039f\"],[0.2222222222222222,\"#7201a8\"],[0.3333333333333333,\"#9c179e\"],[0.4444444444444444,\"#bd3786\"],[0.5555555555555556,\"#d8576b\"],[0.6666666666666666,\"#ed7953\"],[0.7777777777777778,\"#fb9f3a\"],[0.8888888888888888,\"#fdca26\"],[1.0,\"#f0f921\"]]}],\"contourcarpet\":[{\"type\":\"contourcarpet\",\"colorbar\":{\"outlinewidth\":0,\"ticks\":\"\"}}],\"contour\":[{\"type\":\"contour\",\"colorbar\":{\"outlinewidth\":0,\"ticks\":\"\"},\"colorscale\":[[0.0,\"#0d0887\"],[0.1111111111111111,\"#46039f\"],[0.2222222222222222,\"#7201a8\"],[0.3333333333333333,\"#9c179e\"],[0.4444444444444444,\"#bd3786\"],[0.5555555555555556,\"#d8576b\"],[0.6666666666666666,\"#ed7953\"],[0.7777777777777778,\"#fb9f3a\"],[0.8888888888888888,\"#fdca26\"],[1.0,\"#f0f921\"]]}],\"surface\":[{\"type\":\"surface\",\"colorbar\":{\"outlinewidth\":0,\"ticks\":\"\"},\"colorscale\":[[0.0,\"#0d0887\"],[0.1111111111111111,\"#46039f\"],[0.2222222222222222,\"#7201a8\"],[0.3333333333333333,\"#9c179e\"],[0.4444444444444444,\"#bd3786\"],[0.5555555555555556,\"#d8576b\"],[0.6666666666666666,\"#ed7953\"],[0.7777777777777778,\"#fb9f3a\"],[0.8888888888888888,\"#fdca26\"],[1.0,\"#f0f921\"]]}],\"mesh3d\":[{\"type\":\"mesh3d\",\"colorbar\":{\"outlinewidth\":0,\"ticks\":\"\"}}],\"scatter\":[{\"fillpattern\":{\"fillmode\":\"overlay\",\"size\":10,\"solidity\":0.2},\"type\":\"scatter\"}],\"parcoords\":[{\"type\":\"parcoords\",\"line\":{\"colorbar\":{\"outlinewidth\":0,\"ticks\":\"\"}}}],\"scatterpolargl\":[{\"type\":\"scatterpolargl\",\"marker\":{\"colorbar\":{\"outlinewidth\":0,\"ticks\":\"\"}}}],\"bar\":[{\"error_x\":{\"color\":\"#2a3f5f\"},\"error_y\":{\"color\":\"#2a3f5f\"},\"marker\":{\"line\":{\"color\":\"#E5ECF6\",\"width\":0.5},\"pattern\":{\"fillmode\":\"overlay\",\"size\":10,\"solidity\":0.2}},\"type\":\"bar\"}],\"scattergeo\":[{\"type\":\"scattergeo\",\"marker\":{\"colorbar\":{\"outlinewidth\":0,\"ticks\":\"\"}}}],\"scatterpolar\":[{\"type\":\"scatterpolar\",\"marker\":{\"colorbar\":{\"outlinewidth\":0,\"ticks\":\"\"}}}],\"histogram\":[{\"marker\":{\"pattern\":{\"fillmode\":\"overlay\",\"size\":10,\"solidity\":0.2}},\"type\":\"histogram\"}],\"scattergl\":[{\"type\":\"scattergl\",\"marker\":{\"colorbar\":{\"outlinewidth\":0,\"ticks\":\"\"}}}],\"scatter3d\":[{\"type\":\"scatter3d\",\"line\":{\"colorbar\":{\"outlinewidth\":0,\"ticks\":\"\"}},\"marker\":{\"colorbar\":{\"outlinewidth\":0,\"ticks\":\"\"}}}],\"scattermapbox\":[{\"type\":\"scattermapbox\",\"marker\":{\"colorbar\":{\"outlinewidth\":0,\"ticks\":\"\"}}}],\"scatterternary\":[{\"type\":\"scatterternary\",\"marker\":{\"colorbar\":{\"outlinewidth\":0,\"ticks\":\"\"}}}],\"scattercarpet\":[{\"type\":\"scattercarpet\",\"marker\":{\"colorbar\":{\"outlinewidth\":0,\"ticks\":\"\"}}}],\"carpet\":[{\"aaxis\":{\"endlinecolor\":\"#2a3f5f\",\"gridcolor\":\"white\",\"linecolor\":\"white\",\"minorgridcolor\":\"white\",\"startlinecolor\":\"#2a3f5f\"},\"baxis\":{\"endlinecolor\":\"#2a3f5f\",\"gridcolor\":\"white\",\"linecolor\":\"white\",\"minorgridcolor\":\"white\",\"startlinecolor\":\"#2a3f5f\"},\"type\":\"carpet\"}],\"table\":[{\"cells\":{\"fill\":{\"color\":\"#EBF0F8\"},\"line\":{\"color\":\"white\"}},\"header\":{\"fill\":{\"color\":\"#C8D4E3\"},\"line\":{\"color\":\"white\"}},\"type\":\"table\"}],\"barpolar\":[{\"marker\":{\"line\":{\"color\":\"#E5ECF6\",\"width\":0.5},\"pattern\":{\"fillmode\":\"overlay\",\"size\":10,\"solidity\":0.2}},\"type\":\"barpolar\"}],\"pie\":[{\"automargin\":true,\"type\":\"pie\"}]},\"layout\":{\"autotypenumbers\":\"strict\",\"colorway\":[\"#636efa\",\"#EF553B\",\"#00cc96\",\"#ab63fa\",\"#FFA15A\",\"#19d3f3\",\"#FF6692\",\"#B6E880\",\"#FF97FF\",\"#FECB52\"],\"font\":{\"color\":\"#2a3f5f\"},\"hovermode\":\"closest\",\"hoverlabel\":{\"align\":\"left\"},\"paper_bgcolor\":\"white\",\"plot_bgcolor\":\"#E5ECF6\",\"polar\":{\"bgcolor\":\"#E5ECF6\",\"angularaxis\":{\"gridcolor\":\"white\",\"linecolor\":\"white\",\"ticks\":\"\"},\"radialaxis\":{\"gridcolor\":\"white\",\"linecolor\":\"white\",\"ticks\":\"\"}},\"ternary\":{\"bgcolor\":\"#E5ECF6\",\"aaxis\":{\"gridcolor\":\"white\",\"linecolor\":\"white\",\"ticks\":\"\"},\"baxis\":{\"gridcolor\":\"white\",\"linecolor\":\"white\",\"ticks\":\"\"},\"caxis\":{\"gridcolor\":\"white\",\"linecolor\":\"white\",\"ticks\":\"\"}},\"coloraxis\":{\"colorbar\":{\"outlinewidth\":0,\"ticks\":\"\"}},\"colorscale\":{\"sequential\":[[0.0,\"#0d0887\"],[0.1111111111111111,\"#46039f\"],[0.2222222222222222,\"#7201a8\"],[0.3333333333333333,\"#9c179e\"],[0.4444444444444444,\"#bd3786\"],[0.5555555555555556,\"#d8576b\"],[0.6666666666666666,\"#ed7953\"],[0.7777777777777778,\"#fb9f3a\"],[0.8888888888888888,\"#fdca26\"],[1.0,\"#f0f921\"]],\"sequentialminus\":[[0.0,\"#0d0887\"],[0.1111111111111111,\"#46039f\"],[0.2222222222222222,\"#7201a8\"],[0.3333333333333333,\"#9c179e\"],[0.4444444444444444,\"#bd3786\"],[0.5555555555555556,\"#d8576b\"],[0.6666666666666666,\"#ed7953\"],[0.7777777777777778,\"#fb9f3a\"],[0.8888888888888888,\"#fdca26\"],[1.0,\"#f0f921\"]],\"diverging\":[[0,\"#8e0152\"],[0.1,\"#c51b7d\"],[0.2,\"#de77ae\"],[0.3,\"#f1b6da\"],[0.4,\"#fde0ef\"],[0.5,\"#f7f7f7\"],[0.6,\"#e6f5d0\"],[0.7,\"#b8e186\"],[0.8,\"#7fbc41\"],[0.9,\"#4d9221\"],[1,\"#276419\"]]},\"xaxis\":{\"gridcolor\":\"white\",\"linecolor\":\"white\",\"ticks\":\"\",\"title\":{\"standoff\":15},\"zerolinecolor\":\"white\",\"automargin\":true,\"zerolinewidth\":2},\"yaxis\":{\"gridcolor\":\"white\",\"linecolor\":\"white\",\"ticks\":\"\",\"title\":{\"standoff\":15},\"zerolinecolor\":\"white\",\"automargin\":true,\"zerolinewidth\":2},\"scene\":{\"xaxis\":{\"backgroundcolor\":\"#E5ECF6\",\"gridcolor\":\"white\",\"linecolor\":\"white\",\"showbackground\":true,\"ticks\":\"\",\"zerolinecolor\":\"white\",\"gridwidth\":2},\"yaxis\":{\"backgroundcolor\":\"#E5ECF6\",\"gridcolor\":\"white\",\"linecolor\":\"white\",\"showbackground\":true,\"ticks\":\"\",\"zerolinecolor\":\"white\",\"gridwidth\":2},\"zaxis\":{\"backgroundcolor\":\"#E5ECF6\",\"gridcolor\":\"white\",\"linecolor\":\"white\",\"showbackground\":true,\"ticks\":\"\",\"zerolinecolor\":\"white\",\"gridwidth\":2}},\"shapedefaults\":{\"line\":{\"color\":\"#2a3f5f\"}},\"annotationdefaults\":{\"arrowcolor\":\"#2a3f5f\",\"arrowhead\":0,\"arrowwidth\":1},\"geo\":{\"bgcolor\":\"white\",\"landcolor\":\"#E5ECF6\",\"subunitcolor\":\"white\",\"showland\":true,\"showlakes\":true,\"lakecolor\":\"white\"},\"title\":{\"x\":0.05},\"mapbox\":{\"style\":\"light\"}}},\"xaxis\":{\"anchor\":\"y\",\"domain\":[0.0,1.0],\"title\":{\"text\":\"x\"}},\"yaxis\":{\"anchor\":\"x\",\"domain\":[0.0,1.0],\"title\":{\"text\":\"y\"}},\"legend\":{\"tracegroupgap\":0},\"margin\":{\"t\":60}},                        {\"responsive\": true}                    ).then(function(){\n",
              "                            \n",
              "var gd = document.getElementById('98cf8acf-9990-4693-94ff-00aaa55019b0');\n",
              "var x = new MutationObserver(function (mutations, observer) {{\n",
              "        var display = window.getComputedStyle(gd).display;\n",
              "        if (!display || display === 'none') {{\n",
              "            console.log([gd, 'removed!']);\n",
              "            Plotly.purge(gd);\n",
              "            observer.disconnect();\n",
              "        }}\n",
              "}});\n",
              "\n",
              "// Listen for the removal of the full notebook cells\n",
              "var notebookContainer = gd.closest('#notebook-container');\n",
              "if (notebookContainer) {{\n",
              "    x.observe(notebookContainer, {childList: true});\n",
              "}}\n",
              "\n",
              "// Listen for the clearing of the current output cell\n",
              "var outputEl = gd.closest('.output');\n",
              "if (outputEl) {{\n",
              "    x.observe(outputEl, {childList: true});\n",
              "}}\n",
              "\n",
              "                        })                };                            </script>        </div>\n",
              "</body>\n",
              "</html>"
            ]
          },
          "metadata": {}
        }
      ],
      "source": [
        "# Import the necessary libraries\n",
        "from sklearn.manifold import TSNE\n",
        "import plotly.express as px\n",
        "\n",
        "# Get the embeddings for the disaster words\n",
        "embeddings = np.array([lp_embeddings_after_training[word_index[word]] for word in disaster_words_list if word in word_index])\n",
        "\n",
        "# Use t-SNE to reduce the dimensionality of the embeddings\n",
        "tsne = TSNE(n_components=2, random_state=0)\n",
        "embeddings_2d = tsne.fit_transform(embeddings)\n",
        "\n",
        "# Create a DataFrame with the 2D embeddings and the words\n",
        "embeddings_df = pd.DataFrame(embeddings_2d, columns=['x', 'y'])\n",
        "embeddings_df['word'] = disaster_words_list\n",
        "\n",
        "# Add index column to the DataFrame\n",
        "embeddings_df['index'] = embeddings_df.index\n",
        "\n",
        "# Create an interactive plot\n",
        "fig = px.scatter(embeddings_df, x='x', y='y', hover_data=['word', 'index'], text='word')\n",
        "\n",
        "# Update layout to show text\n",
        "fig.update_traces(textposition='top center')\n",
        "\n",
        "fig.show()\n"
      ]
    },
    {
      "cell_type": "markdown",
      "source": [
        "disaster words list plotted on the retrieved word embeddings from tx_model"
      ],
      "metadata": {
        "id": "ZooqNTgmPXeJ"
      }
    },
    {
      "cell_type": "code",
      "source": [
        "# Import the necessary libraries\n",
        "from sklearn.manifold import TSNE\n",
        "import plotly.express as px\n",
        "\n",
        "# Get the embeddings for the disaster words\n",
        "embeddings = np.array([tx_embeddings_after_training[word_index[word]] for word in disaster_words_list if word in word_index])\n",
        "\n",
        "# Use t-SNE to reduce the dimensionality of the embeddings\n",
        "tsne = TSNE(n_components=2, random_state=0)\n",
        "embeddings_2d = tsne.fit_transform(embeddings)\n",
        "\n",
        "# Create a DataFrame with the 2D embeddings and the words\n",
        "embeddings_df = pd.DataFrame(embeddings_2d, columns=['x', 'y'])\n",
        "embeddings_df['word'] = disaster_words_list\n",
        "\n",
        "# Add index column to the DataFrame\n",
        "embeddings_df['index'] = embeddings_df.index\n",
        "\n",
        "# Create an interactive plot\n",
        "fig = px.scatter(embeddings_df, x='x', y='y', hover_data=['word', 'index'], text='word')\n",
        "\n",
        "# Update layout to show text\n",
        "fig.update_traces(textposition='top center')\n",
        "\n",
        "fig.show()\n"
      ],
      "metadata": {
        "colab": {
          "base_uri": "https://localhost:8080/",
          "height": 542
        },
        "id": "X0dGPNLgPJzS",
        "outputId": "1a6b6c65-5ded-492a-adc0-62ac23d1eb68"
      },
      "execution_count": 138,
      "outputs": [
        {
          "output_type": "display_data",
          "data": {
            "text/html": [
              "<html>\n",
              "<head><meta charset=\"utf-8\" /></head>\n",
              "<body>\n",
              "    <div>            <script src=\"https://cdnjs.cloudflare.com/ajax/libs/mathjax/2.7.5/MathJax.js?config=TeX-AMS-MML_SVG\"></script><script type=\"text/javascript\">if (window.MathJax && window.MathJax.Hub && window.MathJax.Hub.Config) {window.MathJax.Hub.Config({SVG: {font: \"STIX-Web\"}});}</script>                <script type=\"text/javascript\">window.PlotlyConfig = {MathJaxConfig: 'local'};</script>\n",
              "        <script charset=\"utf-8\" src=\"https://cdn.plot.ly/plotly-2.24.1.min.js\"></script>                <div id=\"4c34b044-c2ea-4761-b922-18cd135c96b8\" class=\"plotly-graph-div\" style=\"height:525px; width:100%;\"></div>            <script type=\"text/javascript\">                                    window.PLOTLYENV=window.PLOTLYENV || {};                                    if (document.getElementById(\"4c34b044-c2ea-4761-b922-18cd135c96b8\")) {                    Plotly.newPlot(                        \"4c34b044-c2ea-4761-b922-18cd135c96b8\",                        [{\"customdata\":[[\"fire\",0],[\"disaster\",1],[\"emergency\",2],[\"burning\",3],[\"police\",4],[\"bomb\",5],[\"people\",6],[\"news\",7],[\"storm\",8],[\"body\",9],[\"crash\",10],[\"suicide\",11],[\"buildings\",12],[\"death\",13],[\"home\",14],[\"collapse\",15],[\"mass\",16],[\"fear\",17],[\"typhoon\",18],[\"nuclear\",19],[\"attack\",20],[\"hiroshima\",21],[\"killed\",22],[\"families\",23],[\"watch\",24],[\"shit\",25],[\"dead\",26],[\"war\",27],[\"bombing\",28],[\"help\",29],[\"fatal\",30],[\"wildfire\",31],[\"forest\",32],[\"thunder\",33],[\"fires\",34],[\"accident\",35],[\"god\",36]],\"hovertemplate\":\"x=%{x}\\u003cbr\\u003ey=%{y}\\u003cbr\\u003eword=%{customdata[0]}\\u003cbr\\u003eindex=%{customdata[1]}\\u003cextra\\u003e\\u003c\\u002fextra\\u003e\",\"legendgroup\":\"\",\"marker\":{\"color\":\"#636efa\",\"symbol\":\"circle\"},\"mode\":\"markers+text\",\"name\":\"\",\"orientation\":\"v\",\"showlegend\":false,\"text\":[\"fire\",\"disaster\",\"emergency\",\"burning\",\"police\",\"bomb\",\"people\",\"news\",\"storm\",\"body\",\"crash\",\"suicide\",\"buildings\",\"death\",\"home\",\"collapse\",\"mass\",\"fear\",\"typhoon\",\"nuclear\",\"attack\",\"hiroshima\",\"killed\",\"families\",\"watch\",\"shit\",\"dead\",\"war\",\"bombing\",\"help\",\"fatal\",\"wildfire\",\"forest\",\"thunder\",\"fires\",\"accident\",\"god\"],\"x\":[2.0669565200805664,2.0454790592193604,2.72320556640625,1.8004136085510254,2.605441093444824,1.5338348150253296,2.149942636489868,2.535938024520874,2.1217663288116455,1.5835692882537842,2.160761833190918,1.069536566734314,2.4994146823883057,1.3788586854934692,2.2585039138793945,2.082975387573242,2.8986337184906006,1.7405951023101807,0.7882475256919861,1.5144957304000854,1.8335208892822266,0.843521237373352,1.6134895086288452,2.4846649169921875,2.061082363128662,1.833341360092163,1.6999306678771973,1.250125765800476,1.7846912145614624,2.123027801513672,2.8142945766448975,2.23124098777771,1.6579591035842896,2.046664237976074,2.2516796588897705,2.973144769668579,1.9222406148910522],\"xaxis\":\"x\",\"y\":[-1.6190636157989502,-1.1767441034317017,-1.4429796934127808,-1.412536382675171,-1.341729760169983,-1.1704902648925781,-0.5580154061317444,-0.7602300643920898,-1.727837324142456,-0.42798739671707153,-1.3049825429916382,-0.8908498287200928,-0.12172600626945496,-0.8376821279525757,-0.7663255929946899,-1.197115421295166,-0.7814415693283081,-0.39182645082473755,-1.9901506900787354,-1.498666763305664,-1.218313455581665,-1.2771036624908447,-1.0127729177474976,-0.46404582262039185,-0.8672380447387695,-0.7031557559967041,-0.886024534702301,-1.0228701829910278,-1.2466726303100586,-0.7882770299911499,-1.4047248363494873,-2.089399814605713,-2.0456175804138184,-2.11755108833313,-1.9953089952468872,-1.3901294469833374,-0.414597749710083],\"yaxis\":\"y\",\"type\":\"scatter\",\"textposition\":\"top center\"}],                        {\"template\":{\"data\":{\"histogram2dcontour\":[{\"type\":\"histogram2dcontour\",\"colorbar\":{\"outlinewidth\":0,\"ticks\":\"\"},\"colorscale\":[[0.0,\"#0d0887\"],[0.1111111111111111,\"#46039f\"],[0.2222222222222222,\"#7201a8\"],[0.3333333333333333,\"#9c179e\"],[0.4444444444444444,\"#bd3786\"],[0.5555555555555556,\"#d8576b\"],[0.6666666666666666,\"#ed7953\"],[0.7777777777777778,\"#fb9f3a\"],[0.8888888888888888,\"#fdca26\"],[1.0,\"#f0f921\"]]}],\"choropleth\":[{\"type\":\"choropleth\",\"colorbar\":{\"outlinewidth\":0,\"ticks\":\"\"}}],\"histogram2d\":[{\"type\":\"histogram2d\",\"colorbar\":{\"outlinewidth\":0,\"ticks\":\"\"},\"colorscale\":[[0.0,\"#0d0887\"],[0.1111111111111111,\"#46039f\"],[0.2222222222222222,\"#7201a8\"],[0.3333333333333333,\"#9c179e\"],[0.4444444444444444,\"#bd3786\"],[0.5555555555555556,\"#d8576b\"],[0.6666666666666666,\"#ed7953\"],[0.7777777777777778,\"#fb9f3a\"],[0.8888888888888888,\"#fdca26\"],[1.0,\"#f0f921\"]]}],\"heatmap\":[{\"type\":\"heatmap\",\"colorbar\":{\"outlinewidth\":0,\"ticks\":\"\"},\"colorscale\":[[0.0,\"#0d0887\"],[0.1111111111111111,\"#46039f\"],[0.2222222222222222,\"#7201a8\"],[0.3333333333333333,\"#9c179e\"],[0.4444444444444444,\"#bd3786\"],[0.5555555555555556,\"#d8576b\"],[0.6666666666666666,\"#ed7953\"],[0.7777777777777778,\"#fb9f3a\"],[0.8888888888888888,\"#fdca26\"],[1.0,\"#f0f921\"]]}],\"heatmapgl\":[{\"type\":\"heatmapgl\",\"colorbar\":{\"outlinewidth\":0,\"ticks\":\"\"},\"colorscale\":[[0.0,\"#0d0887\"],[0.1111111111111111,\"#46039f\"],[0.2222222222222222,\"#7201a8\"],[0.3333333333333333,\"#9c179e\"],[0.4444444444444444,\"#bd3786\"],[0.5555555555555556,\"#d8576b\"],[0.6666666666666666,\"#ed7953\"],[0.7777777777777778,\"#fb9f3a\"],[0.8888888888888888,\"#fdca26\"],[1.0,\"#f0f921\"]]}],\"contourcarpet\":[{\"type\":\"contourcarpet\",\"colorbar\":{\"outlinewidth\":0,\"ticks\":\"\"}}],\"contour\":[{\"type\":\"contour\",\"colorbar\":{\"outlinewidth\":0,\"ticks\":\"\"},\"colorscale\":[[0.0,\"#0d0887\"],[0.1111111111111111,\"#46039f\"],[0.2222222222222222,\"#7201a8\"],[0.3333333333333333,\"#9c179e\"],[0.4444444444444444,\"#bd3786\"],[0.5555555555555556,\"#d8576b\"],[0.6666666666666666,\"#ed7953\"],[0.7777777777777778,\"#fb9f3a\"],[0.8888888888888888,\"#fdca26\"],[1.0,\"#f0f921\"]]}],\"surface\":[{\"type\":\"surface\",\"colorbar\":{\"outlinewidth\":0,\"ticks\":\"\"},\"colorscale\":[[0.0,\"#0d0887\"],[0.1111111111111111,\"#46039f\"],[0.2222222222222222,\"#7201a8\"],[0.3333333333333333,\"#9c179e\"],[0.4444444444444444,\"#bd3786\"],[0.5555555555555556,\"#d8576b\"],[0.6666666666666666,\"#ed7953\"],[0.7777777777777778,\"#fb9f3a\"],[0.8888888888888888,\"#fdca26\"],[1.0,\"#f0f921\"]]}],\"mesh3d\":[{\"type\":\"mesh3d\",\"colorbar\":{\"outlinewidth\":0,\"ticks\":\"\"}}],\"scatter\":[{\"fillpattern\":{\"fillmode\":\"overlay\",\"size\":10,\"solidity\":0.2},\"type\":\"scatter\"}],\"parcoords\":[{\"type\":\"parcoords\",\"line\":{\"colorbar\":{\"outlinewidth\":0,\"ticks\":\"\"}}}],\"scatterpolargl\":[{\"type\":\"scatterpolargl\",\"marker\":{\"colorbar\":{\"outlinewidth\":0,\"ticks\":\"\"}}}],\"bar\":[{\"error_x\":{\"color\":\"#2a3f5f\"},\"error_y\":{\"color\":\"#2a3f5f\"},\"marker\":{\"line\":{\"color\":\"#E5ECF6\",\"width\":0.5},\"pattern\":{\"fillmode\":\"overlay\",\"size\":10,\"solidity\":0.2}},\"type\":\"bar\"}],\"scattergeo\":[{\"type\":\"scattergeo\",\"marker\":{\"colorbar\":{\"outlinewidth\":0,\"ticks\":\"\"}}}],\"scatterpolar\":[{\"type\":\"scatterpolar\",\"marker\":{\"colorbar\":{\"outlinewidth\":0,\"ticks\":\"\"}}}],\"histogram\":[{\"marker\":{\"pattern\":{\"fillmode\":\"overlay\",\"size\":10,\"solidity\":0.2}},\"type\":\"histogram\"}],\"scattergl\":[{\"type\":\"scattergl\",\"marker\":{\"colorbar\":{\"outlinewidth\":0,\"ticks\":\"\"}}}],\"scatter3d\":[{\"type\":\"scatter3d\",\"line\":{\"colorbar\":{\"outlinewidth\":0,\"ticks\":\"\"}},\"marker\":{\"colorbar\":{\"outlinewidth\":0,\"ticks\":\"\"}}}],\"scattermapbox\":[{\"type\":\"scattermapbox\",\"marker\":{\"colorbar\":{\"outlinewidth\":0,\"ticks\":\"\"}}}],\"scatterternary\":[{\"type\":\"scatterternary\",\"marker\":{\"colorbar\":{\"outlinewidth\":0,\"ticks\":\"\"}}}],\"scattercarpet\":[{\"type\":\"scattercarpet\",\"marker\":{\"colorbar\":{\"outlinewidth\":0,\"ticks\":\"\"}}}],\"carpet\":[{\"aaxis\":{\"endlinecolor\":\"#2a3f5f\",\"gridcolor\":\"white\",\"linecolor\":\"white\",\"minorgridcolor\":\"white\",\"startlinecolor\":\"#2a3f5f\"},\"baxis\":{\"endlinecolor\":\"#2a3f5f\",\"gridcolor\":\"white\",\"linecolor\":\"white\",\"minorgridcolor\":\"white\",\"startlinecolor\":\"#2a3f5f\"},\"type\":\"carpet\"}],\"table\":[{\"cells\":{\"fill\":{\"color\":\"#EBF0F8\"},\"line\":{\"color\":\"white\"}},\"header\":{\"fill\":{\"color\":\"#C8D4E3\"},\"line\":{\"color\":\"white\"}},\"type\":\"table\"}],\"barpolar\":[{\"marker\":{\"line\":{\"color\":\"#E5ECF6\",\"width\":0.5},\"pattern\":{\"fillmode\":\"overlay\",\"size\":10,\"solidity\":0.2}},\"type\":\"barpolar\"}],\"pie\":[{\"automargin\":true,\"type\":\"pie\"}]},\"layout\":{\"autotypenumbers\":\"strict\",\"colorway\":[\"#636efa\",\"#EF553B\",\"#00cc96\",\"#ab63fa\",\"#FFA15A\",\"#19d3f3\",\"#FF6692\",\"#B6E880\",\"#FF97FF\",\"#FECB52\"],\"font\":{\"color\":\"#2a3f5f\"},\"hovermode\":\"closest\",\"hoverlabel\":{\"align\":\"left\"},\"paper_bgcolor\":\"white\",\"plot_bgcolor\":\"#E5ECF6\",\"polar\":{\"bgcolor\":\"#E5ECF6\",\"angularaxis\":{\"gridcolor\":\"white\",\"linecolor\":\"white\",\"ticks\":\"\"},\"radialaxis\":{\"gridcolor\":\"white\",\"linecolor\":\"white\",\"ticks\":\"\"}},\"ternary\":{\"bgcolor\":\"#E5ECF6\",\"aaxis\":{\"gridcolor\":\"white\",\"linecolor\":\"white\",\"ticks\":\"\"},\"baxis\":{\"gridcolor\":\"white\",\"linecolor\":\"white\",\"ticks\":\"\"},\"caxis\":{\"gridcolor\":\"white\",\"linecolor\":\"white\",\"ticks\":\"\"}},\"coloraxis\":{\"colorbar\":{\"outlinewidth\":0,\"ticks\":\"\"}},\"colorscale\":{\"sequential\":[[0.0,\"#0d0887\"],[0.1111111111111111,\"#46039f\"],[0.2222222222222222,\"#7201a8\"],[0.3333333333333333,\"#9c179e\"],[0.4444444444444444,\"#bd3786\"],[0.5555555555555556,\"#d8576b\"],[0.6666666666666666,\"#ed7953\"],[0.7777777777777778,\"#fb9f3a\"],[0.8888888888888888,\"#fdca26\"],[1.0,\"#f0f921\"]],\"sequentialminus\":[[0.0,\"#0d0887\"],[0.1111111111111111,\"#46039f\"],[0.2222222222222222,\"#7201a8\"],[0.3333333333333333,\"#9c179e\"],[0.4444444444444444,\"#bd3786\"],[0.5555555555555556,\"#d8576b\"],[0.6666666666666666,\"#ed7953\"],[0.7777777777777778,\"#fb9f3a\"],[0.8888888888888888,\"#fdca26\"],[1.0,\"#f0f921\"]],\"diverging\":[[0,\"#8e0152\"],[0.1,\"#c51b7d\"],[0.2,\"#de77ae\"],[0.3,\"#f1b6da\"],[0.4,\"#fde0ef\"],[0.5,\"#f7f7f7\"],[0.6,\"#e6f5d0\"],[0.7,\"#b8e186\"],[0.8,\"#7fbc41\"],[0.9,\"#4d9221\"],[1,\"#276419\"]]},\"xaxis\":{\"gridcolor\":\"white\",\"linecolor\":\"white\",\"ticks\":\"\",\"title\":{\"standoff\":15},\"zerolinecolor\":\"white\",\"automargin\":true,\"zerolinewidth\":2},\"yaxis\":{\"gridcolor\":\"white\",\"linecolor\":\"white\",\"ticks\":\"\",\"title\":{\"standoff\":15},\"zerolinecolor\":\"white\",\"automargin\":true,\"zerolinewidth\":2},\"scene\":{\"xaxis\":{\"backgroundcolor\":\"#E5ECF6\",\"gridcolor\":\"white\",\"linecolor\":\"white\",\"showbackground\":true,\"ticks\":\"\",\"zerolinecolor\":\"white\",\"gridwidth\":2},\"yaxis\":{\"backgroundcolor\":\"#E5ECF6\",\"gridcolor\":\"white\",\"linecolor\":\"white\",\"showbackground\":true,\"ticks\":\"\",\"zerolinecolor\":\"white\",\"gridwidth\":2},\"zaxis\":{\"backgroundcolor\":\"#E5ECF6\",\"gridcolor\":\"white\",\"linecolor\":\"white\",\"showbackground\":true,\"ticks\":\"\",\"zerolinecolor\":\"white\",\"gridwidth\":2}},\"shapedefaults\":{\"line\":{\"color\":\"#2a3f5f\"}},\"annotationdefaults\":{\"arrowcolor\":\"#2a3f5f\",\"arrowhead\":0,\"arrowwidth\":1},\"geo\":{\"bgcolor\":\"white\",\"landcolor\":\"#E5ECF6\",\"subunitcolor\":\"white\",\"showland\":true,\"showlakes\":true,\"lakecolor\":\"white\"},\"title\":{\"x\":0.05},\"mapbox\":{\"style\":\"light\"}}},\"xaxis\":{\"anchor\":\"y\",\"domain\":[0.0,1.0],\"title\":{\"text\":\"x\"}},\"yaxis\":{\"anchor\":\"x\",\"domain\":[0.0,1.0],\"title\":{\"text\":\"y\"}},\"legend\":{\"tracegroupgap\":0},\"margin\":{\"t\":60}},                        {\"responsive\": true}                    ).then(function(){\n",
              "                            \n",
              "var gd = document.getElementById('4c34b044-c2ea-4761-b922-18cd135c96b8');\n",
              "var x = new MutationObserver(function (mutations, observer) {{\n",
              "        var display = window.getComputedStyle(gd).display;\n",
              "        if (!display || display === 'none') {{\n",
              "            console.log([gd, 'removed!']);\n",
              "            Plotly.purge(gd);\n",
              "            observer.disconnect();\n",
              "        }}\n",
              "}});\n",
              "\n",
              "// Listen for the removal of the full notebook cells\n",
              "var notebookContainer = gd.closest('#notebook-container');\n",
              "if (notebookContainer) {{\n",
              "    x.observe(notebookContainer, {childList: true});\n",
              "}}\n",
              "\n",
              "// Listen for the clearing of the current output cell\n",
              "var outputEl = gd.closest('.output');\n",
              "if (outputEl) {{\n",
              "    x.observe(outputEl, {childList: true});\n",
              "}}\n",
              "\n",
              "                        })                };                            </script>        </div>\n",
              "</body>\n",
              "</html>"
            ]
          },
          "metadata": {}
        }
      ]
    },
    {
      "cell_type": "markdown",
      "metadata": {
        "id": "Ti_2o41Olawn"
      },
      "source": [
        "####Load Pre-Trained Embeddings"
      ]
    },
    {
      "cell_type": "code",
      "execution_count": 56,
      "metadata": {
        "id": "mIXaPOqcReAR"
      },
      "outputs": [],
      "source": [
        "# Load the embeddings from the CSV file\n",
        "path_to_embeddings = 'fast_text_twitter_embeddings.csv'\n",
        "loaded_embeddings_df = pd.read_csv(path_to_embeddings)\n",
        "loaded_embeddings = loaded_embeddings_df.values"
      ]
    },
    {
      "cell_type": "markdown",
      "metadata": {
        "id": "Xco9WOzdluXH"
      },
      "source": [
        "Load Initial (Random) Embeddings for Baseline model"
      ]
    },
    {
      "cell_type": "code",
      "execution_count": 57,
      "metadata": {
        "id": "_ZooPThlLy55"
      },
      "outputs": [],
      "source": [
        "# Load the embeddings from the CSV file\n",
        "bl_path_to_embeddings = './Final_Work/enhanced_cleaned_data_base_tx_4_heads/initial_embeddings.csv'\n",
        "bl_loaded_embeddings_df = pd.read_csv(path_to_embeddings)\n",
        "bl_loaded_embeddings = loaded_embeddings_df.values"
      ]
    },
    {
      "cell_type": "markdown",
      "source": [
        "Loaded Embeddings from lp_model plotted againts the pre-train embeddings"
      ],
      "metadata": {
        "id": "fdha47ZXPogz"
      }
    },
    {
      "cell_type": "code",
      "execution_count": 139,
      "metadata": {
        "colab": {
          "base_uri": "https://localhost:8080/",
          "height": 542
        },
        "id": "7L44kw_nRYd2",
        "outputId": "1b6df82e-9589-4cc1-e3b0-0081e84937ec"
      },
      "outputs": [
        {
          "output_type": "display_data",
          "data": {
            "text/html": [
              "<html>\n",
              "<head><meta charset=\"utf-8\" /></head>\n",
              "<body>\n",
              "    <div>            <script src=\"https://cdnjs.cloudflare.com/ajax/libs/mathjax/2.7.5/MathJax.js?config=TeX-AMS-MML_SVG\"></script><script type=\"text/javascript\">if (window.MathJax && window.MathJax.Hub && window.MathJax.Hub.Config) {window.MathJax.Hub.Config({SVG: {font: \"STIX-Web\"}});}</script>                <script type=\"text/javascript\">window.PlotlyConfig = {MathJaxConfig: 'local'};</script>\n",
              "        <script charset=\"utf-8\" src=\"https://cdn.plot.ly/plotly-2.24.1.min.js\"></script>                <div id=\"44dc4bec-a178-402a-90dc-ed466fbbf14e\" class=\"plotly-graph-div\" style=\"height:525px; width:100%;\"></div>            <script type=\"text/javascript\">                                    window.PLOTLYENV=window.PLOTLYENV || {};                                    if (document.getElementById(\"44dc4bec-a178-402a-90dc-ed466fbbf14e\")) {                    Plotly.newPlot(                        \"44dc4bec-a178-402a-90dc-ed466fbbf14e\",                        [{\"customdata\":[[\"fire\"],[\"disaster\"],[\"emergency\"],[\"burning\"],[\"police\"],[\"bomb\"],[\"people\"],[\"news\"],[\"storm\"],[\"body\"],[\"crash\"],[\"suicide\"],[\"buildings\"],[\"death\"],[\"home\"],[\"collapse\"],[\"mass\"],[\"fear\"],[\"typhoon\"],[\"nuclear\"],[\"attack\"],[\"hiroshima\"],[\"killed\"],[\"families\"],[\"watch\"],[\"shit\"],[\"dead\"],[\"war\"],[\"bombing\"],[\"help\"],[\"fatal\"],[\"wildfire\"],[\"forest\"],[\"thunder\"],[\"fires\"],[\"accident\"],[\"god\"]],\"hovertemplate\":\"set=Loaded\\u003cbr\\u003ex=%{x}\\u003cbr\\u003ey=%{y}\\u003cbr\\u003eword=%{customdata[0]}\\u003cextra\\u003e\\u003c\\u002fextra\\u003e\",\"legendgroup\":\"Loaded\",\"marker\":{\"color\":\"#636efa\",\"symbol\":\"circle\"},\"mode\":\"markers+text\",\"name\":\"Loaded\",\"orientation\":\"v\",\"showlegend\":true,\"text\":[\"fire\",\"disaster\",\"emergency\",\"burning\",\"police\",\"bomb\",\"people\",\"news\",\"storm\",\"body\",\"crash\",\"suicide\",\"buildings\",\"death\",\"home\",\"collapse\",\"mass\",\"fear\",\"typhoon\",\"nuclear\",\"attack\",\"hiroshima\",\"killed\",\"families\",\"watch\",\"shit\",\"dead\",\"war\",\"bombing\",\"help\",\"fatal\",\"wildfire\",\"forest\",\"thunder\",\"fires\",\"accident\",\"god\"],\"x\":[-3.432126760482788,3.3254199028015137,-4.887038230895996,-2.4430651664733887,-2.5157504081726074,-0.46361106634140015,1.9110068082809448,2.6118059158325195,5.18209981918335,-2.2892801761627197,-1.1178518533706665,7.818334102630615,3.3277175426483154,5.869375705718994,-2.1339831352233887,2.667591094970703,3.4817590713500977,6.217494964599609,8.533416748046875,-0.1277298480272293,1.2213112115859985,-5.42033576965332,1.6454318761825562,0.21611341834068298,0.3373723030090332,2.553093433380127,3.80785870552063,5.444636344909668,0.4561084508895874,-0.1621372252702713,0.3836800158023834,-6.252126216888428,-5.317802906036377,-7.862040042877197,-5.091460227966309,-2.050370216369629,4.155163764953613],\"xaxis\":\"x\",\"y\":[2.3746466636657715,3.6219286918640137,-0.2530863583087921,0.7838670611381531,5.355905055999756,0.034603990614414215,-4.373367786407471,6.046541690826416,5.264827728271484,-1.8369550704956055,3.1321167945861816,2.4768664836883545,-7.1709465980529785,-0.07482128590345383,-4.535336971282959,1.6552398204803467,9.131799697875977,-2.6714024543762207,6.921123504638672,5.430281162261963,3.6312551498413086,7.547120571136475,-0.13704723119735718,-6.115955352783203,-1.8883793354034424,-2.202455997467041,-0.43029657006263733,2.1693859100341797,1.8278626203536987,-3.7884275913238525,8.163677215576172,2.623636484146118,-3.748598337173462,-0.4166692793369293,3.652876615524292,8.380376815795898,-3.9783120155334473],\"yaxis\":\"y\",\"type\":\"scatter\",\"textposition\":\"top center\"},{\"customdata\":[[\"fire\"],[\"disaster\"],[\"emergency\"],[\"burning\"],[\"police\"],[\"bomb\"],[\"people\"],[\"news\"],[\"storm\"],[\"body\"],[\"crash\"],[\"suicide\"],[\"buildings\"],[\"death\"],[\"home\"],[\"collapse\"],[\"mass\"],[\"fear\"],[\"typhoon\"],[\"nuclear\"],[\"attack\"],[\"hiroshima\"],[\"killed\"],[\"families\"],[\"watch\"],[\"shit\"],[\"dead\"],[\"war\"],[\"bombing\"],[\"help\"],[\"fatal\"],[\"wildfire\"],[\"forest\"],[\"thunder\"],[\"fires\"],[\"accident\"],[\"god\"]],\"hovertemplate\":\"set=Trained\\u003cbr\\u003ex=%{x}\\u003cbr\\u003ey=%{y}\\u003cbr\\u003eword=%{customdata[0]}\\u003cextra\\u003e\\u003c\\u002fextra\\u003e\",\"legendgroup\":\"Trained\",\"marker\":{\"color\":\"#EF553B\",\"symbol\":\"circle\"},\"mode\":\"markers+text\",\"name\":\"Trained\",\"orientation\":\"v\",\"showlegend\":true,\"text\":[\"fire\",\"disaster\",\"emergency\",\"burning\",\"police\",\"bomb\",\"people\",\"news\",\"storm\",\"body\",\"crash\",\"suicide\",\"buildings\",\"death\",\"home\",\"collapse\",\"mass\",\"fear\",\"typhoon\",\"nuclear\",\"attack\",\"hiroshima\",\"killed\",\"families\",\"watch\",\"shit\",\"dead\",\"war\",\"bombing\",\"help\",\"fatal\",\"wildfire\",\"forest\",\"thunder\",\"fires\",\"accident\",\"god\"],\"x\":[-3.452779769897461,3.3208203315734863,-4.881723403930664,-2.4388303756713867,-2.5119330883026123,-0.4532901346683502,1.8968889713287354,2.611267328262329,5.186617851257324,-2.3020195960998535,-1.1156290769577026,7.837022304534912,3.3297626972198486,5.867990493774414,-2.1518967151641846,2.6614599227905273,3.4755520820617676,6.227435111999512,8.532377243041992,-0.129044771194458,1.213118076324463,-5.419559478759766,1.6309094429016113,0.15991713106632233,0.33471977710723877,2.5582706928253174,3.795280694961548,5.44243049621582,0.44325482845306396,-0.14931432902812958,0.38168269395828247,-6.4027838706970215,-5.32094669342041,-7.860044956207275,-5.20668888092041,-2.049222469329834,4.1522603034973145],\"xaxis\":\"x\",\"y\":[2.403747797012329,3.6283557415008545,-0.26803478598594666,0.8053563833236694,5.351896286010742,0.1352715939283371,-4.363264083862305,6.038939476013184,5.2759246826171875,-1.8546390533447266,3.147055149078369,2.4987902641296387,-7.17832612991333,-0.07496117800474167,-4.526863098144531,1.6695778369903564,9.13427448272705,-2.64033579826355,6.922989368438721,5.431046485900879,3.639261484146118,7.546621799468994,-0.06582901626825333,-6.212837219238281,-1.8534696102142334,-2.2045984268188477,-0.3946811556816101,2.1733310222625732,1.8683651685714722,-3.7970731258392334,8.159383773803711,2.8111510276794434,-3.741257905960083,-0.4197337031364441,3.794578790664673,8.371153831481934,-3.9871459007263184],\"yaxis\":\"y\",\"type\":\"scatter\",\"textposition\":\"top center\"}],                        {\"template\":{\"data\":{\"histogram2dcontour\":[{\"type\":\"histogram2dcontour\",\"colorbar\":{\"outlinewidth\":0,\"ticks\":\"\"},\"colorscale\":[[0.0,\"#0d0887\"],[0.1111111111111111,\"#46039f\"],[0.2222222222222222,\"#7201a8\"],[0.3333333333333333,\"#9c179e\"],[0.4444444444444444,\"#bd3786\"],[0.5555555555555556,\"#d8576b\"],[0.6666666666666666,\"#ed7953\"],[0.7777777777777778,\"#fb9f3a\"],[0.8888888888888888,\"#fdca26\"],[1.0,\"#f0f921\"]]}],\"choropleth\":[{\"type\":\"choropleth\",\"colorbar\":{\"outlinewidth\":0,\"ticks\":\"\"}}],\"histogram2d\":[{\"type\":\"histogram2d\",\"colorbar\":{\"outlinewidth\":0,\"ticks\":\"\"},\"colorscale\":[[0.0,\"#0d0887\"],[0.1111111111111111,\"#46039f\"],[0.2222222222222222,\"#7201a8\"],[0.3333333333333333,\"#9c179e\"],[0.4444444444444444,\"#bd3786\"],[0.5555555555555556,\"#d8576b\"],[0.6666666666666666,\"#ed7953\"],[0.7777777777777778,\"#fb9f3a\"],[0.8888888888888888,\"#fdca26\"],[1.0,\"#f0f921\"]]}],\"heatmap\":[{\"type\":\"heatmap\",\"colorbar\":{\"outlinewidth\":0,\"ticks\":\"\"},\"colorscale\":[[0.0,\"#0d0887\"],[0.1111111111111111,\"#46039f\"],[0.2222222222222222,\"#7201a8\"],[0.3333333333333333,\"#9c179e\"],[0.4444444444444444,\"#bd3786\"],[0.5555555555555556,\"#d8576b\"],[0.6666666666666666,\"#ed7953\"],[0.7777777777777778,\"#fb9f3a\"],[0.8888888888888888,\"#fdca26\"],[1.0,\"#f0f921\"]]}],\"heatmapgl\":[{\"type\":\"heatmapgl\",\"colorbar\":{\"outlinewidth\":0,\"ticks\":\"\"},\"colorscale\":[[0.0,\"#0d0887\"],[0.1111111111111111,\"#46039f\"],[0.2222222222222222,\"#7201a8\"],[0.3333333333333333,\"#9c179e\"],[0.4444444444444444,\"#bd3786\"],[0.5555555555555556,\"#d8576b\"],[0.6666666666666666,\"#ed7953\"],[0.7777777777777778,\"#fb9f3a\"],[0.8888888888888888,\"#fdca26\"],[1.0,\"#f0f921\"]]}],\"contourcarpet\":[{\"type\":\"contourcarpet\",\"colorbar\":{\"outlinewidth\":0,\"ticks\":\"\"}}],\"contour\":[{\"type\":\"contour\",\"colorbar\":{\"outlinewidth\":0,\"ticks\":\"\"},\"colorscale\":[[0.0,\"#0d0887\"],[0.1111111111111111,\"#46039f\"],[0.2222222222222222,\"#7201a8\"],[0.3333333333333333,\"#9c179e\"],[0.4444444444444444,\"#bd3786\"],[0.5555555555555556,\"#d8576b\"],[0.6666666666666666,\"#ed7953\"],[0.7777777777777778,\"#fb9f3a\"],[0.8888888888888888,\"#fdca26\"],[1.0,\"#f0f921\"]]}],\"surface\":[{\"type\":\"surface\",\"colorbar\":{\"outlinewidth\":0,\"ticks\":\"\"},\"colorscale\":[[0.0,\"#0d0887\"],[0.1111111111111111,\"#46039f\"],[0.2222222222222222,\"#7201a8\"],[0.3333333333333333,\"#9c179e\"],[0.4444444444444444,\"#bd3786\"],[0.5555555555555556,\"#d8576b\"],[0.6666666666666666,\"#ed7953\"],[0.7777777777777778,\"#fb9f3a\"],[0.8888888888888888,\"#fdca26\"],[1.0,\"#f0f921\"]]}],\"mesh3d\":[{\"type\":\"mesh3d\",\"colorbar\":{\"outlinewidth\":0,\"ticks\":\"\"}}],\"scatter\":[{\"fillpattern\":{\"fillmode\":\"overlay\",\"size\":10,\"solidity\":0.2},\"type\":\"scatter\"}],\"parcoords\":[{\"type\":\"parcoords\",\"line\":{\"colorbar\":{\"outlinewidth\":0,\"ticks\":\"\"}}}],\"scatterpolargl\":[{\"type\":\"scatterpolargl\",\"marker\":{\"colorbar\":{\"outlinewidth\":0,\"ticks\":\"\"}}}],\"bar\":[{\"error_x\":{\"color\":\"#2a3f5f\"},\"error_y\":{\"color\":\"#2a3f5f\"},\"marker\":{\"line\":{\"color\":\"#E5ECF6\",\"width\":0.5},\"pattern\":{\"fillmode\":\"overlay\",\"size\":10,\"solidity\":0.2}},\"type\":\"bar\"}],\"scattergeo\":[{\"type\":\"scattergeo\",\"marker\":{\"colorbar\":{\"outlinewidth\":0,\"ticks\":\"\"}}}],\"scatterpolar\":[{\"type\":\"scatterpolar\",\"marker\":{\"colorbar\":{\"outlinewidth\":0,\"ticks\":\"\"}}}],\"histogram\":[{\"marker\":{\"pattern\":{\"fillmode\":\"overlay\",\"size\":10,\"solidity\":0.2}},\"type\":\"histogram\"}],\"scattergl\":[{\"type\":\"scattergl\",\"marker\":{\"colorbar\":{\"outlinewidth\":0,\"ticks\":\"\"}}}],\"scatter3d\":[{\"type\":\"scatter3d\",\"line\":{\"colorbar\":{\"outlinewidth\":0,\"ticks\":\"\"}},\"marker\":{\"colorbar\":{\"outlinewidth\":0,\"ticks\":\"\"}}}],\"scattermapbox\":[{\"type\":\"scattermapbox\",\"marker\":{\"colorbar\":{\"outlinewidth\":0,\"ticks\":\"\"}}}],\"scatterternary\":[{\"type\":\"scatterternary\",\"marker\":{\"colorbar\":{\"outlinewidth\":0,\"ticks\":\"\"}}}],\"scattercarpet\":[{\"type\":\"scattercarpet\",\"marker\":{\"colorbar\":{\"outlinewidth\":0,\"ticks\":\"\"}}}],\"carpet\":[{\"aaxis\":{\"endlinecolor\":\"#2a3f5f\",\"gridcolor\":\"white\",\"linecolor\":\"white\",\"minorgridcolor\":\"white\",\"startlinecolor\":\"#2a3f5f\"},\"baxis\":{\"endlinecolor\":\"#2a3f5f\",\"gridcolor\":\"white\",\"linecolor\":\"white\",\"minorgridcolor\":\"white\",\"startlinecolor\":\"#2a3f5f\"},\"type\":\"carpet\"}],\"table\":[{\"cells\":{\"fill\":{\"color\":\"#EBF0F8\"},\"line\":{\"color\":\"white\"}},\"header\":{\"fill\":{\"color\":\"#C8D4E3\"},\"line\":{\"color\":\"white\"}},\"type\":\"table\"}],\"barpolar\":[{\"marker\":{\"line\":{\"color\":\"#E5ECF6\",\"width\":0.5},\"pattern\":{\"fillmode\":\"overlay\",\"size\":10,\"solidity\":0.2}},\"type\":\"barpolar\"}],\"pie\":[{\"automargin\":true,\"type\":\"pie\"}]},\"layout\":{\"autotypenumbers\":\"strict\",\"colorway\":[\"#636efa\",\"#EF553B\",\"#00cc96\",\"#ab63fa\",\"#FFA15A\",\"#19d3f3\",\"#FF6692\",\"#B6E880\",\"#FF97FF\",\"#FECB52\"],\"font\":{\"color\":\"#2a3f5f\"},\"hovermode\":\"closest\",\"hoverlabel\":{\"align\":\"left\"},\"paper_bgcolor\":\"white\",\"plot_bgcolor\":\"#E5ECF6\",\"polar\":{\"bgcolor\":\"#E5ECF6\",\"angularaxis\":{\"gridcolor\":\"white\",\"linecolor\":\"white\",\"ticks\":\"\"},\"radialaxis\":{\"gridcolor\":\"white\",\"linecolor\":\"white\",\"ticks\":\"\"}},\"ternary\":{\"bgcolor\":\"#E5ECF6\",\"aaxis\":{\"gridcolor\":\"white\",\"linecolor\":\"white\",\"ticks\":\"\"},\"baxis\":{\"gridcolor\":\"white\",\"linecolor\":\"white\",\"ticks\":\"\"},\"caxis\":{\"gridcolor\":\"white\",\"linecolor\":\"white\",\"ticks\":\"\"}},\"coloraxis\":{\"colorbar\":{\"outlinewidth\":0,\"ticks\":\"\"}},\"colorscale\":{\"sequential\":[[0.0,\"#0d0887\"],[0.1111111111111111,\"#46039f\"],[0.2222222222222222,\"#7201a8\"],[0.3333333333333333,\"#9c179e\"],[0.4444444444444444,\"#bd3786\"],[0.5555555555555556,\"#d8576b\"],[0.6666666666666666,\"#ed7953\"],[0.7777777777777778,\"#fb9f3a\"],[0.8888888888888888,\"#fdca26\"],[1.0,\"#f0f921\"]],\"sequentialminus\":[[0.0,\"#0d0887\"],[0.1111111111111111,\"#46039f\"],[0.2222222222222222,\"#7201a8\"],[0.3333333333333333,\"#9c179e\"],[0.4444444444444444,\"#bd3786\"],[0.5555555555555556,\"#d8576b\"],[0.6666666666666666,\"#ed7953\"],[0.7777777777777778,\"#fb9f3a\"],[0.8888888888888888,\"#fdca26\"],[1.0,\"#f0f921\"]],\"diverging\":[[0,\"#8e0152\"],[0.1,\"#c51b7d\"],[0.2,\"#de77ae\"],[0.3,\"#f1b6da\"],[0.4,\"#fde0ef\"],[0.5,\"#f7f7f7\"],[0.6,\"#e6f5d0\"],[0.7,\"#b8e186\"],[0.8,\"#7fbc41\"],[0.9,\"#4d9221\"],[1,\"#276419\"]]},\"xaxis\":{\"gridcolor\":\"white\",\"linecolor\":\"white\",\"ticks\":\"\",\"title\":{\"standoff\":15},\"zerolinecolor\":\"white\",\"automargin\":true,\"zerolinewidth\":2},\"yaxis\":{\"gridcolor\":\"white\",\"linecolor\":\"white\",\"ticks\":\"\",\"title\":{\"standoff\":15},\"zerolinecolor\":\"white\",\"automargin\":true,\"zerolinewidth\":2},\"scene\":{\"xaxis\":{\"backgroundcolor\":\"#E5ECF6\",\"gridcolor\":\"white\",\"linecolor\":\"white\",\"showbackground\":true,\"ticks\":\"\",\"zerolinecolor\":\"white\",\"gridwidth\":2},\"yaxis\":{\"backgroundcolor\":\"#E5ECF6\",\"gridcolor\":\"white\",\"linecolor\":\"white\",\"showbackground\":true,\"ticks\":\"\",\"zerolinecolor\":\"white\",\"gridwidth\":2},\"zaxis\":{\"backgroundcolor\":\"#E5ECF6\",\"gridcolor\":\"white\",\"linecolor\":\"white\",\"showbackground\":true,\"ticks\":\"\",\"zerolinecolor\":\"white\",\"gridwidth\":2}},\"shapedefaults\":{\"line\":{\"color\":\"#2a3f5f\"}},\"annotationdefaults\":{\"arrowcolor\":\"#2a3f5f\",\"arrowhead\":0,\"arrowwidth\":1},\"geo\":{\"bgcolor\":\"white\",\"landcolor\":\"#E5ECF6\",\"subunitcolor\":\"white\",\"showland\":true,\"showlakes\":true,\"lakecolor\":\"white\"},\"title\":{\"x\":0.05},\"mapbox\":{\"style\":\"light\"}}},\"xaxis\":{\"anchor\":\"y\",\"domain\":[0.0,1.0],\"title\":{\"text\":\"x\"}},\"yaxis\":{\"anchor\":\"x\",\"domain\":[0.0,1.0],\"title\":{\"text\":\"y\"}},\"legend\":{\"title\":{\"text\":\"set\"},\"tracegroupgap\":0},\"margin\":{\"t\":60}},                        {\"responsive\": true}                    ).then(function(){\n",
              "                            \n",
              "var gd = document.getElementById('44dc4bec-a178-402a-90dc-ed466fbbf14e');\n",
              "var x = new MutationObserver(function (mutations, observer) {{\n",
              "        var display = window.getComputedStyle(gd).display;\n",
              "        if (!display || display === 'none') {{\n",
              "            console.log([gd, 'removed!']);\n",
              "            Plotly.purge(gd);\n",
              "            observer.disconnect();\n",
              "        }}\n",
              "}});\n",
              "\n",
              "// Listen for the removal of the full notebook cells\n",
              "var notebookContainer = gd.closest('#notebook-container');\n",
              "if (notebookContainer) {{\n",
              "    x.observe(notebookContainer, {childList: true});\n",
              "}}\n",
              "\n",
              "// Listen for the clearing of the current output cell\n",
              "var outputEl = gd.closest('.output');\n",
              "if (outputEl) {{\n",
              "    x.observe(outputEl, {childList: true});\n",
              "}}\n",
              "\n",
              "                        })                };                            </script>        </div>\n",
              "</body>\n",
              "</html>"
            ]
          },
          "metadata": {}
        }
      ],
      "source": [
        "# Import the necessary libraries\n",
        "import numpy as np\n",
        "import pandas as pd\n",
        "from sklearn.manifold import TSNE\n",
        "import plotly.express as px\n",
        "\n",
        "\n",
        "# Assuming embeddings_after_training is already defined as shown in your message\n",
        "\n",
        "# Get the embeddings for the disaster words from both sets\n",
        "loaded_embeddings_subset = np.array([loaded_embeddings[word_index[word]] for word in disaster_words_list if word in word_index])\n",
        "trained_embeddings_subset = np.array([lp_embeddings_after_training[word_index[word]] for word in disaster_words_list  if word in word_index])\n",
        "\n",
        "# Combine both sets of embeddings\n",
        "combined_embeddings = np.vstack((loaded_embeddings_subset, trained_embeddings_subset))\n",
        "\n",
        "# Use t-SNE to reduce the dimensionality of the combined embeddings\n",
        "tsne = TSNE(n_components=2, random_state=0)\n",
        "combined_embeddings_2d = tsne.fit_transform(combined_embeddings)\n",
        "\n",
        "# Create a DataFrame with the 2D embeddings and the words\n",
        "embeddings_df = pd.DataFrame(combined_embeddings_2d, columns=['x', 'y'])\n",
        "embeddings_df['word'] = disaster_words_list * 2  # Repeat words for both sets\n",
        "\n",
        "# Add a column to distinguish between the two sets\n",
        "embeddings_df['set'] = ['Loaded'] * len(loaded_embeddings_subset) + ['Trained'] * len(trained_embeddings_subset)\n",
        "\n",
        "# Create an interactive plot\n",
        "fig = px.scatter(embeddings_df, x='x', y='y', color='set', hover_data=['word'], text='word')\n",
        "\n",
        "# Update layout to show text\n",
        "fig.update_traces(textposition='top center')\n",
        "\n",
        "# Show the plot\n",
        "fig.show()\n"
      ]
    },
    {
      "cell_type": "markdown",
      "source": [
        "Notably above, wildifires, families, and killed, changed the most."
      ],
      "metadata": {
        "id": "KblxYHDYP3_I"
      }
    },
    {
      "cell_type": "markdown",
      "metadata": {
        "id": "HcG1LGkrVnPb"
      },
      "source": [
        "####Compare A Sentence in Two Different Embeddings - 2D plots"
      ]
    },
    {
      "cell_type": "markdown",
      "metadata": {
        "id": "HV3KR72y2mpU"
      },
      "source": [
        "####Plot Compare Embeddings"
      ]
    },
    {
      "cell_type": "code",
      "execution_count": 60,
      "metadata": {
        "id": "VNfXl96ZSjzh"
      },
      "outputs": [],
      "source": [
        "# Import the necessary libraries\n",
        "\n",
        "from sklearn.manifold import TSNE\n",
        "import plotly.express as px\n",
        "\n",
        "\n",
        "\n",
        "def plot_compare_embeddings(sentences, loaded_embeddings, embeddings_after_training, word_index):\n",
        "    # Check if the input is a single string, if so, convert it to a list\n",
        "    if isinstance(sentences, str):\n",
        "        sentences = [sentences]\n",
        "\n",
        "    # Initialize an empty list to store processed words\n",
        "    disaster_words_list = []\n",
        "\n",
        "    # Process each sentence in the list\n",
        "    for sentence in sentences:\n",
        "        # Split the sentence into words and extend the processed words list\n",
        "        disaster_words_list.extend(sentence.lower().split())\n",
        "\n",
        "    # Get the embeddings for the words in the sentence from both sets\n",
        "    loaded_embeddings_subset = np.array([loaded_embeddings[word_index[word]] for word in disaster_words_list if word in word_index])\n",
        "    trained_embeddings_subset = np.array([embeddings_after_training[word_index[word]] for word in disaster_words_list if word in word_index])\n",
        "\n",
        "    # Combine both sets of embeddings\n",
        "    combined_embeddings = np.vstack((loaded_embeddings_subset, trained_embeddings_subset))\n",
        "\n",
        "    # Use t-SNE to reduce the dimensionality of the combined embeddings\n",
        "    #disaster_words_list = sentence.split()\n",
        "    sentence_length = len(disaster_words_list)\n",
        "    tsne = TSNE(n_components=2, random_state=0, perplexity=min(30, sentence_length - 1))\n",
        "    #tsne = TSNE(n_components=2, random_state=0)\n",
        "    combined_embeddings_2d = tsne.fit_transform(combined_embeddings)\n",
        "\n",
        "    # Create a DataFrame with the 2D embeddings and the words\n",
        "    embeddings_df = pd.DataFrame(combined_embeddings_2d, columns=['x', 'y'])\n",
        "    embeddings_df['word'] = disaster_words_list * 2  # Repeat words for both sets\n",
        "\n",
        "\n",
        "    # Correct the length of the 'word' column to match the DataFrame's index\n",
        "    embeddings_df = embeddings_df.loc[embeddings_df.index.repeat(2)].reset_index(drop=True)\n",
        "\n",
        "    # Add a column to distinguish between the two sets\n",
        "    embeddings_df['set'] = ['Loaded'] * len(loaded_embeddings_subset) + ['Trained'] * len(trained_embeddings_subset)\n",
        "    # Define the color map for the sets\n",
        "    color_discrete_map = {'Loaded': 'red', 'Trained': 'blue'}\n",
        "\n",
        "    # Create an interactive plot\n",
        "    fig = px.scatter(embeddings_df, x='x', y='y', color='set', hover_data=['word'], text='word', color_discrete_map=color_discrete_map)\n",
        "\n",
        "\n",
        "\n",
        "    # Update layout to show text\n",
        "    #fig.update_traces(textposition='top center')\n",
        "    fig.update_traces(textposition='top center', marker=dict(size=12), textfont_size=16)\n",
        "    # Show the plot\n",
        "    fig.show()\n",
        "\n",
        "\n"
      ]
    },
    {
      "cell_type": "code",
      "source": [
        "# Import necessary libraries\n",
        "import numpy as np\n",
        "import pandas as pd\n",
        "from sklearn.manifold import TSNE\n",
        "import plotly.express as px\n",
        "\n",
        "def plot_compare_embeddings(sentences, loaded_embeddings, embeddings_after_training, word_index):\n",
        "    # Check if the input is a single string, if so, convert it to a list\n",
        "    if isinstance(sentences, str):\n",
        "        sentences = [sentences]\n",
        "\n",
        "    # Initialize an empty list to store processed words\n",
        "    disaster_words_list = []\n",
        "\n",
        "    # Process each sentence in the list\n",
        "    for sentence in sentences:\n",
        "        # Split the sentence into words and extend the processed words list\n",
        "        disaster_words_list.extend(sentence.lower().split())\n",
        "\n",
        "    # Get the embeddings for the words in the sentence from both sets\n",
        "    loaded_embeddings_subset = np.array([loaded_embeddings[word_index[word]] for word in disaster_words_list if word in word_index])\n",
        "    trained_embeddings_subset = np.array([embeddings_after_training[word_index[word]] for word in disaster_words_list if word in word_index])\n",
        "\n",
        "    # Combine both sets of embeddings\n",
        "    combined_embeddings = np.vstack((loaded_embeddings_subset, trained_embeddings_subset))\n",
        "\n",
        "    # Use t-SNE to reduce the dimensionality of the combined embeddings\n",
        "    sentence_length = len(disaster_words_list)\n",
        "    tsne = TSNE(n_components=2, random_state=0, perplexity=min(30, sentence_length - 1))\n",
        "    combined_embeddings_2d = tsne.fit_transform(combined_embeddings)\n",
        "\n",
        "    # Create a DataFrame with the 2D embeddings and the words\n",
        "    embeddings_df = pd.DataFrame(combined_embeddings_2d, columns=['x', 'y'])\n",
        "\n",
        "    # Repeat words for both sets and ensure the length matches the number of rows in the DataFrame\n",
        "    embeddings_df['word'] = disaster_words_list * (len(loaded_embeddings_subset) + len(trained_embeddings_subset)) // len(disaster_words_list)\n",
        "\n",
        "    # Add a column to distinguish between the two sets\n",
        "    embeddings_df['set'] = ['Loaded'] * len(loaded_embeddings_subset) + ['Trained'] * len(trained_embeddings_subset)\n",
        "\n",
        "    # Define the color map for the sets\n",
        "    color_discrete_map = {'Loaded': 'red', 'Trained': 'blue'}\n",
        "\n",
        "    # Create an interactive plot\n",
        "    fig = px.scatter(embeddings_df, x='x', y='y', color='set', hover_data=['word'], text='word', color_discrete_map=color_discrete_map)\n",
        "\n",
        "    # Update layout to show text\n",
        "    fig.update_traces(textposition='top center', marker=dict(size=12), textfont_size=16)\n",
        "\n",
        "    # Show the plot\n",
        "    fig.show()\n",
        "\n",
        "\n"
      ],
      "metadata": {
        "id": "ubYEUMji97sG"
      },
      "execution_count": 70,
      "outputs": []
    },
    {
      "cell_type": "code",
      "source": [
        "def plot_compare_embeddings(sentences, loaded_embeddings, embeddings_after_training, word_index):\n",
        "    # Check if the input is a single string, if so, convert it to a list\n",
        "    if isinstance(sentences, str):\n",
        "        sentences = [sentences]\n",
        "\n",
        "    # Initialize an empty list to store processed words\n",
        "    disaster_words_list = []\n",
        "\n",
        "    # Process each sentence in the list\n",
        "    for sentence in sentences:\n",
        "        # Split the sentence into words and extend the processed words list\n",
        "        disaster_words_list.extend(sentence.lower().split())\n",
        "\n",
        "    # Get the embeddings for the words in the sentence from both sets\n",
        "    loaded_embeddings_subset = np.array([loaded_embeddings[word_index[word]] for word in disaster_words_list if word in word_index])\n",
        "    trained_embeddings_subset = np.array([embeddings_after_training[word_index[word]] for word in disaster_words_list if word in word_index])\n",
        "\n",
        "    # Combine both sets of embeddings\n",
        "    combined_embeddings = np.vstack((loaded_embeddings_subset, trained_embeddings_subset))\n",
        "\n",
        "    # Use t-SNE to reduce the dimensionality of the combined embeddings\n",
        "    sentence_length = len(disaster_words_list)\n",
        "    tsne = TSNE(n_components=2, random_state=0, perplexity=min(30, sentence_length - 1))\n",
        "    combined_embeddings_2d = tsne.fit_transform(combined_embeddings)\n",
        "\n",
        "    # Create a DataFrame with the 2D embeddings and the words\n",
        "    embeddings_df = pd.DataFrame(combined_embeddings_2d, columns=['x', 'y'])\n",
        "\n",
        "    # Calculate the number of times to repeat the disaster_words_list\n",
        "    repeat_times = (len(loaded_embeddings_subset) + len(trained_embeddings_subset)) // len(disaster_words_list)\n",
        "\n",
        "    # Repeat words for both sets and ensure the length matches the number of rows in the DataFrame\n",
        "    embeddings_df['word'] = disaster_words_list * repeat_times\n",
        "\n",
        "    # Add a column to distinguish between the two sets\n",
        "    embeddings_df['set'] = ['Loaded'] * len(loaded_embeddings_subset) + ['Trained'] * len(trained_embeddings_subset)\n",
        "\n",
        "    # Define the color map for the sets\n",
        "    color_discrete_map = {'Loaded': 'red', 'Trained': 'blue'}\n",
        "\n",
        "    # Create an interactive plot\n",
        "    fig = px.scatter(embeddings_df, x='x', y='y', color='set', hover_data=['word'], text='word', color_discrete_map=color_discrete_map)\n",
        "\n",
        "    # Update layout to show text\n",
        "    fig.update_traces(textposition='top center', marker=dict(size=12), textfont_size=16)\n",
        "\n",
        "    # Show the plot\n",
        "    fig.show()\n"
      ],
      "metadata": {
        "id": "t0pXU45xAbt4"
      },
      "execution_count": 72,
      "outputs": []
    },
    {
      "cell_type": "code",
      "source": [
        "def plot_compare_embeddings(sentences, loaded_embeddings, embeddings_after_training, word_index):\n",
        "    # Check if the input is a single string, if so, convert it to a list\n",
        "    if isinstance(sentences, str):\n",
        "        sentences = [sentences]\n",
        "\n",
        "    # Initialize an empty list to store processed words\n",
        "    disaster_words_list = []\n",
        "\n",
        "    # Process each sentence in the list\n",
        "    for sentence in sentences:\n",
        "        # Split the sentence into words and extend the processed words list\n",
        "        disaster_words_list.extend(sentence.lower().split())\n",
        "\n",
        "    # Initialize lists to store the embeddings and labels\n",
        "    combined_embeddings = []\n",
        "    words = []\n",
        "    labels = []\n",
        "\n",
        "    # Get the embeddings for the words in the sentence from both sets and label them\n",
        "    for word in disaster_words_list:\n",
        "        if word in word_index:\n",
        "            loaded_embedding = loaded_embeddings[word_index[word]]\n",
        "            trained_embedding = embeddings_after_training[word_index[word]]\n",
        "            combined_embeddings.extend([loaded_embedding, trained_embedding])\n",
        "            words.extend([word, word])\n",
        "            labels.extend(['Loaded', 'Trained'])\n",
        "\n",
        "    # Use t-SNE to reduce the dimensionality of the combined embeddings\n",
        "    tsne = TSNE(n_components=2, random_state=0)\n",
        "    combined_embeddings_2d = tsne.fit_transform(np.array(combined_embeddings))\n",
        "\n",
        "    # Create a DataFrame with the 2D embeddings, words, and labels\n",
        "    embeddings_df = pd.DataFrame(combined_embeddings_2d, columns=['x', 'y'])\n",
        "    embeddings_df['word'] = words\n",
        "    embeddings_df['label'] = labels\n",
        "\n",
        "    # Define the color map for the labels\n",
        "    color_discrete_map = {'Loaded': 'red', 'Trained': 'blue'}\n",
        "\n",
        "    # Create an interactive plot\n",
        "    fig = px.scatter(embeddings_df, x='x', y='y', color='label', hover_data=['word'], text='word', color_discrete_map=color_discrete_map)\n",
        "\n",
        "    # Update layout to show text\n",
        "    fig.update_traces(textposition='top center', marker=dict(size=12), textfont_size=16)\n",
        "\n",
        "    # Show the plot\n",
        "    fig.show()\n"
      ],
      "metadata": {
        "id": "GkG_i89t9_AF"
      },
      "execution_count": 75,
      "outputs": []
    },
    {
      "cell_type": "code",
      "source": [
        "def plot_compare_embeddings(sentences, loaded_embeddings, embeddings_after_training, word_index):\n",
        "    # Check if the input is a single string, if so, convert it to a list\n",
        "    if isinstance(sentences, str):\n",
        "        sentences = [sentences]\n",
        "\n",
        "    # Initialize an empty list to store processed words\n",
        "    disaster_words_list = []\n",
        "\n",
        "    # Process each sentence in the list\n",
        "    for sentence in sentences:\n",
        "        # Split the sentence into words and extend the processed words list\n",
        "        disaster_words_list.extend(sentence.lower().split())\n",
        "\n",
        "    # Initialize lists to store the embeddings and labels\n",
        "    combined_embeddings = []\n",
        "    words = []\n",
        "    labels = []\n",
        "\n",
        "    # Get the embeddings for the words in the sentence from both sets and label them\n",
        "    for word in disaster_words_list:\n",
        "        if word in word_index:\n",
        "            loaded_embedding = loaded_embeddings[word_index[word]]\n",
        "            trained_embedding = embeddings_after_training[word_index[word]]\n",
        "            combined_embeddings.extend([loaded_embedding, trained_embedding])\n",
        "            words.extend([word, word])\n",
        "            labels.extend(['Loaded', 'Trained'])\n",
        "\n",
        "    # Use t-SNE to reduce the dimensionality of the combined embeddings\n",
        "    # Set perplexity to a value less than the number of samples\n",
        "    perplexity_value = min(len(combined_embeddings) - 1, 30)\n",
        "    tsne = TSNE(n_components=2, random_state=0, perplexity=perplexity_value)\n",
        "    combined_embeddings_2d = tsne.fit_transform(np.array(combined_embeddings))\n",
        "\n",
        "    # Create a DataFrame with the 2D embeddings, words, and labels\n",
        "    embeddings_df = pd.DataFrame(combined_embeddings_2d, columns=['x', 'y'])\n",
        "    embeddings_df['word'] = words\n",
        "    embeddings_df['label'] = labels\n",
        "\n",
        "    # Define the color map for the labels\n",
        "    color_discrete_map = {'Loaded': 'red', 'Trained': 'blue'}\n",
        "\n",
        "    # Create an interactive plot\n",
        "    fig = px.scatter(embeddings_df, x='x', y='y', color='label', hover_data=['word'], text='word', color_discrete_map=color_discrete_map)\n",
        "\n",
        "    # Update layout to show text\n",
        "    fig.update_traces(textposition='top center', marker=dict(size=12), textfont_size=16)\n",
        "\n",
        "    # Show the plot\n",
        "    fig.show()\n"
      ],
      "metadata": {
        "id": "9NFKV_fPCY6t"
      },
      "execution_count": 77,
      "outputs": []
    },
    {
      "cell_type": "code",
      "source": [
        "def plot_compare_embeddings(sentences, loaded_embeddings, embeddings_after_training, word_index):\n",
        "    # Check if the input is a single string, if so, convert it to a list\n",
        "    if isinstance(sentences, str):\n",
        "        sentences = [sentences]\n",
        "\n",
        "    # Initialize an empty list to store processed words\n",
        "    disaster_words_list = []\n",
        "\n",
        "    # Process each sentence in the list\n",
        "    for sentence in sentences:\n",
        "        # Split the sentence into words and extend the processed words list\n",
        "        disaster_words_list.extend(sentence.lower().split())\n",
        "\n",
        "    # Remove duplicates by converting the list to a set, then back to a list\n",
        "    disaster_words_list = list(set(disaster_words_list))\n",
        "\n",
        "    # Initialize lists to store the embeddings and labels\n",
        "    combined_embeddings = []\n",
        "    words = []\n",
        "    labels = []\n",
        "\n",
        "    # Get the embeddings for the words in the sentence from both sets and label them\n",
        "    for word in disaster_words_list:\n",
        "        if word in word_index:\n",
        "            loaded_embedding = loaded_embeddings[word_index[word]]\n",
        "            trained_embedding = embeddings_after_training[word_index[word]]\n",
        "            combined_embeddings.append(loaded_embedding)\n",
        "            combined_embeddings.append(trained_embedding)\n",
        "            words.append(word)\n",
        "            words.append(word)\n",
        "            labels.append('Loaded')\n",
        "            labels.append('Trained')\n",
        "\n",
        "    # Use t-SNE to reduce the dimensionality of the combined embeddings\n",
        "    # Set perplexity to a value less than the number of samples\n",
        "    perplexity_value = min(len(disaster_words_list) * 2 - 1, 30)\n",
        "    tsne = TSNE(n_components=2, random_state=0, perplexity=perplexity_value)\n",
        "    combined_embeddings_2d = tsne.fit_transform(np.array(combined_embeddings))\n",
        "\n",
        "    # Create a DataFrame with the 2D embeddings, words, and labels\n",
        "    embeddings_df = pd.DataFrame(combined_embeddings_2d, columns=['x', 'y'])\n",
        "    embeddings_df['word'] = words\n",
        "    embeddings_df['label'] = labels\n",
        "\n",
        "    # Define the color map for the labels\n",
        "    color_discrete_map = {'Loaded': 'red', 'Trained': 'blue'}\n",
        "\n",
        "    # Create an interactive plot\n",
        "    fig = px.scatter(embeddings_df, x='x', y='y', color='label', hover_data=['word'], text='word', color_discrete_map=color_discrete_map)\n",
        "\n",
        "    # Update layout to show text\n",
        "    fig.update_traces(textposition='top center', marker=dict(size=12), textfont_size=16)\n",
        "\n",
        "    # Show the plot\n",
        "    fig.show()\n",
        "\n"
      ],
      "metadata": {
        "id": "-bUF0xDYDBha"
      },
      "execution_count": 82,
      "outputs": []
    },
    {
      "cell_type": "code",
      "source": [
        "def plot_compare_embeddings(sentences, loaded_embeddings, embeddings_after_training, word_index):\n",
        "    # Check if the input is a single string, if so, convert it to a list\n",
        "    if isinstance(sentences, str):\n",
        "        sentences = [sentences]\n",
        "\n",
        "    # Initialize an empty list to store processed words\n",
        "    disaster_words_list = []\n",
        "\n",
        "    # Process each sentence in the list\n",
        "    for sentence in sentences:\n",
        "        # Split the sentence into words and extend the processed words list\n",
        "        disaster_words_list.extend(sentence.lower().split())\n",
        "\n",
        "    # Remove duplicates by converting the list to a set, then back to a list\n",
        "    disaster_words_list = list(set(disaster_words_list))\n",
        "\n",
        "    # Initialize lists to store the embeddings and labels\n",
        "    combined_embeddings = []\n",
        "    words = []\n",
        "    labels = []\n",
        "\n",
        "    # Get the embeddings for the words in the sentence from both sets and label them\n",
        "    for word in disaster_words_list:\n",
        "        if word in word_index:\n",
        "            loaded_embedding = loaded_embeddings[word_index[word]]\n",
        "            trained_embedding = embeddings_after_training[word_index[word]]\n",
        "            combined_embeddings.append(loaded_embedding)\n",
        "            combined_embeddings.append(trained_embedding)\n",
        "            words.append(word)\n",
        "            words.append(word)\n",
        "            labels.append('Loaded')\n",
        "            labels.append('Trained')\n",
        "\n",
        "    # Use t-SNE to reduce the dimensionality of the combined embeddings\n",
        "    # Ensure perplexity is less than the number of unique word embeddings\n",
        "    sentence_length = len(disaster_words_list)\n",
        "    tsne = TSNE(n_components=2, random_state=0, perplexity=min(30, sentence_length - 1))\n",
        "    #perplexity_value = min(len(combined_embeddings) // 2 - 1, 30)\n",
        "    #tsne = TSNE(n_components=2, random_state=0, perplexity=perplexity_value)\n",
        "    combined_embeddings_2d = tsne.fit_transform(np.array(combined_embeddings))\n",
        "\n",
        "    # Create a DataFrame with the 2D embeddings, words, and labels\n",
        "    embeddings_df = pd.DataFrame(combined_embeddings_2d, columns=['x', 'y'])\n",
        "    embeddings_df['word'] = words\n",
        "    embeddings_df['label'] = labels\n",
        "\n",
        "    # Define the color map for the labels\n",
        "    color_discrete_map = {'Loaded': 'red', 'Trained': 'blue'}\n",
        "\n",
        "    # Create an interactive plot\n",
        "    fig = px.scatter(embeddings_df, x='x', y='y', color='label', hover_data=['word'], text='word', color_discrete_map=color_discrete_map)\n",
        "\n",
        "    # Update layout to show text\n",
        "    fig.update_traces(textposition='top center', marker=dict(size=12), textfont_size=16)\n",
        "\n",
        "    # Show the plot\n",
        "    fig.show()\n",
        "\n",
        "\n"
      ],
      "metadata": {
        "id": "I23cEEkCDplc"
      },
      "execution_count": 86,
      "outputs": []
    },
    {
      "cell_type": "markdown",
      "metadata": {
        "id": "u13zXSHhXJfr"
      },
      "source": [
        "####Nearest N-Neighboor Embeddings 2D Plot"
      ]
    },
    {
      "cell_type": "code",
      "execution_count": 92,
      "metadata": {
        "id": "qtEOjW7MXIXX"
      },
      "outputs": [],
      "source": [
        "# Import the necessary libraries\n",
        "import numpy as np\n",
        "import pandas as pd\n",
        "from sklearn.manifold import TSNE\n",
        "import plotly.express as px\n",
        "from sklearn.neighbors import NearestNeighbors\n",
        "from tqdm import tqdm\n",
        "\n",
        "# Define the function\n",
        "def plot_nearest_n(sentences, embeddings_after_training, word_index, n_nearest, loaded_model='None'):\n",
        "    # Check if the input is a single string, if so, convert it to a list\n",
        "    if isinstance(sentences, str):\n",
        "        sentences = [sentences]\n",
        "\n",
        "    # Initialize an empty list to store processed words\n",
        "    disaster_words_list = []\n",
        "\n",
        "    # Process each sentence in the list\n",
        "    for sentence in sentences:\n",
        "        # Split the sentence into words and extend the processed words list\n",
        "        disaster_words_list.extend(sentence.lower().split())\n",
        "\n",
        "    # Create a reverse mapping from indices to words\n",
        "    index_word = {v: k for k, v in word_index.items()}\n",
        "\n",
        "    # Get the embeddings for the words in the sentence\n",
        "    sentence_embeddings = [embeddings_after_training[word_index[word]] for word in disaster_words_list if word in word_index]\n",
        "\n",
        "    # Fit the NearestNeighbors model on the entire embeddings\n",
        "    nn = NearestNeighbors(n_neighbors=n_nearest + 1).fit(embeddings_after_training)\n",
        "\n",
        "    # Find the n nearest neighbors for each word embedding in the sentence\n",
        "    neighbors_dict = {}\n",
        "    for word in disaster_words_list:\n",
        "        if word in word_index:\n",
        "            word_embedding = embeddings_after_training[word_index[word]]\n",
        "            _, indices = nn.kneighbors([word_embedding])\n",
        "            neighbors_dict[word] = [index_word[idx] for idx in indices.flatten()[1:] if idx in index_word]\n",
        "\n",
        "    # Use t-SNE to reduce the dimensionality of the entire embeddings\n",
        "    tsne = TSNE(n_components=2, random_state=0)\n",
        "    # Wrap the fit_transform with tqdm for a progress bar\n",
        "    embeddings_2d = tsne.fit_transform(np.array(list(tqdm(embeddings_after_training[:-1], desc='t-SNE Progress'))))\n",
        "\n",
        "    # Create a DataFrame for the t-SNE embeddings\n",
        "    # Adjust the index range to match the number of embeddings\n",
        "    tsne_df = pd.DataFrame(embeddings_2d, index=[index_word[i] for i in range(1, len(embeddings_2d) +1 )], columns=['x', 'y'])\n",
        "    tsne_df['word'] = tsne_df.index\n",
        "    tsne_df['color'] = 'gray'  # Default color for all words\n",
        "\n",
        "\n",
        "\n",
        "\n",
        "    # Initialize a set to store the words to be plotted\n",
        "    words_to_plot = set()\n",
        "\n",
        "    # Update colors for sentence words and their neighbors\n",
        "    for word, neighbors in neighbors_dict.items():\n",
        "      if word in word_index:\n",
        "        words_to_plot.add(word)\n",
        "        tsne_df.loc[word, 'color'] = 'blue'  # Color the sentence words in blue\n",
        "        for neighbor in neighbors:\n",
        "          words_to_plot.add(neighbor)\n",
        "          if neighbor in tsne_df.index:\n",
        "            tsne_df.loc[neighbor, 'color'] = 'red'  # Color the neighbors in red\n",
        "    # Filter the DataFrame to only include the words to be plotted\n",
        "\n",
        "    words_to_plot_list = list(words_to_plot)\n",
        "    tsne_df = tsne_df.loc[words_to_plot_list]\n",
        "\n",
        "    # Create an interactive plot\n",
        "    fig = px.scatter(tsne_df, x='x', y='y', color='color', hover_data=['word'], text='word')\n",
        "\n",
        "   # Update layout to show text and add title\n",
        "    fig.update_traces(textposition='top center', marker=dict(size=12), textfont_size=16)\n",
        "    title_text = f'{n_nearest} Nearest Neighbors' if loaded_model == 'None' else f'model: {loaded_model} \\n {n_nearest} Nearest Neighbors'\n",
        "    fig.update_layout(title={'text': title_text, 'y':0.9, 'x':0.25, 'xanchor': 'center', 'yanchor': 'top'})\n",
        "\n",
        "    # Add custom legend\n",
        "    fig.update_layout(legend_title_text='Legend')\n",
        "    fig.for_each_trace(lambda t: t.update(name = 'Nearest Neighbor' if t.name == 'red' else 'Word'))\n",
        "\n",
        "    # Add legend to the right\n",
        "    fig.update_layout(legend=dict(\n",
        "        orientation=\"v\",\n",
        "        yanchor=\"bottom\",\n",
        "        y=1.02,\n",
        "        xanchor=\"right\",\n",
        "        x=1\n",
        "    ))\n",
        "\n",
        "    # Show the plot\n",
        "    fig.show()\n",
        "\n",
        "\n"
      ]
    },
    {
      "cell_type": "markdown",
      "metadata": {
        "id": "TmpKuj1WnGnE"
      },
      "source": [
        "Here we analyze the bl_model semantic understanding of 'mentions', and see the nearest words around it."
      ]
    },
    {
      "cell_type": "code",
      "execution_count": null,
      "metadata": {
        "colab": {
          "base_uri": "https://localhost:8080/",
          "height": 559
        },
        "id": "8zCPHS8NXgHq",
        "outputId": "b5fbbc2d-0d51-437f-df73-e997b973f753"
      },
      "outputs": [
        {
          "name": "stderr",
          "output_type": "stream",
          "text": [
            "t-SNE Progress: 100%|██████████| 17983/17983 [00:00<00:00, 1620360.67it/s]\n"
          ]
        },
        {
          "data": {
            "text/html": [
              "<html>\n",
              "<head><meta charset=\"utf-8\" /></head>\n",
              "<body>\n",
              "    <div>            <script src=\"https://cdnjs.cloudflare.com/ajax/libs/mathjax/2.7.5/MathJax.js?config=TeX-AMS-MML_SVG\"></script><script type=\"text/javascript\">if (window.MathJax && window.MathJax.Hub && window.MathJax.Hub.Config) {window.MathJax.Hub.Config({SVG: {font: \"STIX-Web\"}});}</script>                <script type=\"text/javascript\">window.PlotlyConfig = {MathJaxConfig: 'local'};</script>\n",
              "        <script charset=\"utf-8\" src=\"https://cdn.plot.ly/plotly-2.24.1.min.js\"></script>                <div id=\"0102658a-0b63-4dcd-94d2-64c8126c65ee\" class=\"plotly-graph-div\" style=\"height:525px; width:100%;\"></div>            <script type=\"text/javascript\">                                    window.PLOTLYENV=window.PLOTLYENV || {};                                    if (document.getElementById(\"0102658a-0b63-4dcd-94d2-64c8126c65ee\")) {                    Plotly.newPlot(                        \"0102658a-0b63-4dcd-94d2-64c8126c65ee\",                        [{\"customdata\":[[\"those\"],[\"up\"],[\"blew\"],[\"mentions\"]],\"hovertemplate\":\"color=blue\\u003cbr\\u003ex=%{x}\\u003cbr\\u003ey=%{y}\\u003cbr\\u003eword=%{customdata[0]}\\u003cextra\\u003e\\u003c\\u002fextra\\u003e\",\"legendgroup\":\"blue\",\"marker\":{\"color\":\"#636efa\",\"symbol\":\"circle\",\"size\":12},\"mode\":\"markers+text\",\"name\":\"Word\",\"orientation\":\"v\",\"showlegend\":true,\"text\":[\"those\",\"up\",\"blew\",\"mentions\"],\"x\":[2.1073215007781982,26.92949676513672,-17.91659927368164,12.45851993560791],\"xaxis\":\"x\",\"y\":[11.528329849243164,28.322343826293945,2.6507577896118164,-12.343677520751953],\"yaxis\":\"y\",\"type\":\"scatter\",\"textfont\":{\"size\":16},\"textposition\":\"top center\"},{\"customdata\":[[\"faux\"],[\"first\"],[\"alice\"],[\"leisure\"],[\"coercion\"],[\"two\"],[\"cycle\"],[\"yemenis\"],[\"born\"],[\"syrian\"],[\"howardu\"]],\"hovertemplate\":\"color=red\\u003cbr\\u003ex=%{x}\\u003cbr\\u003ey=%{y}\\u003cbr\\u003eword=%{customdata[0]}\\u003cextra\\u003e\\u003c\\u002fextra\\u003e\",\"legendgroup\":\"red\",\"marker\":{\"color\":\"#EF553B\",\"symbol\":\"circle\",\"size\":12},\"mode\":\"markers+text\",\"name\":\"Nearest Neighbor\",\"orientation\":\"v\",\"showlegend\":true,\"text\":[\"faux\",\"first\",\"alice\",\"leisure\",\"coercion\",\"two\",\"cycle\",\"yemenis\",\"born\",\"syrian\",\"howardu\"],\"x\":[-11.275753021240234,34.0064811706543,12.36315631866455,25.77876853942871,-28.725322723388672,-2.272376537322998,-34.191993713378906,0.8369972705841064,-8.895523071289062,5.1847405433654785,37.493648529052734],\"xaxis\":\"x\",\"y\":[-27.40472412109375,32.15142822265625,-5.3331451416015625,20.294845581054688,-0.02622349187731743,-30.9912109375,-40.509830474853516,-31.46117401123047,-1.4248051643371582,-19.508338928222656,12.130725860595703],\"yaxis\":\"y\",\"type\":\"scatter\",\"textfont\":{\"size\":16},\"textposition\":\"top center\"}],                        {\"template\":{\"data\":{\"histogram2dcontour\":[{\"type\":\"histogram2dcontour\",\"colorbar\":{\"outlinewidth\":0,\"ticks\":\"\"},\"colorscale\":[[0.0,\"#0d0887\"],[0.1111111111111111,\"#46039f\"],[0.2222222222222222,\"#7201a8\"],[0.3333333333333333,\"#9c179e\"],[0.4444444444444444,\"#bd3786\"],[0.5555555555555556,\"#d8576b\"],[0.6666666666666666,\"#ed7953\"],[0.7777777777777778,\"#fb9f3a\"],[0.8888888888888888,\"#fdca26\"],[1.0,\"#f0f921\"]]}],\"choropleth\":[{\"type\":\"choropleth\",\"colorbar\":{\"outlinewidth\":0,\"ticks\":\"\"}}],\"histogram2d\":[{\"type\":\"histogram2d\",\"colorbar\":{\"outlinewidth\":0,\"ticks\":\"\"},\"colorscale\":[[0.0,\"#0d0887\"],[0.1111111111111111,\"#46039f\"],[0.2222222222222222,\"#7201a8\"],[0.3333333333333333,\"#9c179e\"],[0.4444444444444444,\"#bd3786\"],[0.5555555555555556,\"#d8576b\"],[0.6666666666666666,\"#ed7953\"],[0.7777777777777778,\"#fb9f3a\"],[0.8888888888888888,\"#fdca26\"],[1.0,\"#f0f921\"]]}],\"heatmap\":[{\"type\":\"heatmap\",\"colorbar\":{\"outlinewidth\":0,\"ticks\":\"\"},\"colorscale\":[[0.0,\"#0d0887\"],[0.1111111111111111,\"#46039f\"],[0.2222222222222222,\"#7201a8\"],[0.3333333333333333,\"#9c179e\"],[0.4444444444444444,\"#bd3786\"],[0.5555555555555556,\"#d8576b\"],[0.6666666666666666,\"#ed7953\"],[0.7777777777777778,\"#fb9f3a\"],[0.8888888888888888,\"#fdca26\"],[1.0,\"#f0f921\"]]}],\"heatmapgl\":[{\"type\":\"heatmapgl\",\"colorbar\":{\"outlinewidth\":0,\"ticks\":\"\"},\"colorscale\":[[0.0,\"#0d0887\"],[0.1111111111111111,\"#46039f\"],[0.2222222222222222,\"#7201a8\"],[0.3333333333333333,\"#9c179e\"],[0.4444444444444444,\"#bd3786\"],[0.5555555555555556,\"#d8576b\"],[0.6666666666666666,\"#ed7953\"],[0.7777777777777778,\"#fb9f3a\"],[0.8888888888888888,\"#fdca26\"],[1.0,\"#f0f921\"]]}],\"contourcarpet\":[{\"type\":\"contourcarpet\",\"colorbar\":{\"outlinewidth\":0,\"ticks\":\"\"}}],\"contour\":[{\"type\":\"contour\",\"colorbar\":{\"outlinewidth\":0,\"ticks\":\"\"},\"colorscale\":[[0.0,\"#0d0887\"],[0.1111111111111111,\"#46039f\"],[0.2222222222222222,\"#7201a8\"],[0.3333333333333333,\"#9c179e\"],[0.4444444444444444,\"#bd3786\"],[0.5555555555555556,\"#d8576b\"],[0.6666666666666666,\"#ed7953\"],[0.7777777777777778,\"#fb9f3a\"],[0.8888888888888888,\"#fdca26\"],[1.0,\"#f0f921\"]]}],\"surface\":[{\"type\":\"surface\",\"colorbar\":{\"outlinewidth\":0,\"ticks\":\"\"},\"colorscale\":[[0.0,\"#0d0887\"],[0.1111111111111111,\"#46039f\"],[0.2222222222222222,\"#7201a8\"],[0.3333333333333333,\"#9c179e\"],[0.4444444444444444,\"#bd3786\"],[0.5555555555555556,\"#d8576b\"],[0.6666666666666666,\"#ed7953\"],[0.7777777777777778,\"#fb9f3a\"],[0.8888888888888888,\"#fdca26\"],[1.0,\"#f0f921\"]]}],\"mesh3d\":[{\"type\":\"mesh3d\",\"colorbar\":{\"outlinewidth\":0,\"ticks\":\"\"}}],\"scatter\":[{\"fillpattern\":{\"fillmode\":\"overlay\",\"size\":10,\"solidity\":0.2},\"type\":\"scatter\"}],\"parcoords\":[{\"type\":\"parcoords\",\"line\":{\"colorbar\":{\"outlinewidth\":0,\"ticks\":\"\"}}}],\"scatterpolargl\":[{\"type\":\"scatterpolargl\",\"marker\":{\"colorbar\":{\"outlinewidth\":0,\"ticks\":\"\"}}}],\"bar\":[{\"error_x\":{\"color\":\"#2a3f5f\"},\"error_y\":{\"color\":\"#2a3f5f\"},\"marker\":{\"line\":{\"color\":\"#E5ECF6\",\"width\":0.5},\"pattern\":{\"fillmode\":\"overlay\",\"size\":10,\"solidity\":0.2}},\"type\":\"bar\"}],\"scattergeo\":[{\"type\":\"scattergeo\",\"marker\":{\"colorbar\":{\"outlinewidth\":0,\"ticks\":\"\"}}}],\"scatterpolar\":[{\"type\":\"scatterpolar\",\"marker\":{\"colorbar\":{\"outlinewidth\":0,\"ticks\":\"\"}}}],\"histogram\":[{\"marker\":{\"pattern\":{\"fillmode\":\"overlay\",\"size\":10,\"solidity\":0.2}},\"type\":\"histogram\"}],\"scattergl\":[{\"type\":\"scattergl\",\"marker\":{\"colorbar\":{\"outlinewidth\":0,\"ticks\":\"\"}}}],\"scatter3d\":[{\"type\":\"scatter3d\",\"line\":{\"colorbar\":{\"outlinewidth\":0,\"ticks\":\"\"}},\"marker\":{\"colorbar\":{\"outlinewidth\":0,\"ticks\":\"\"}}}],\"scattermapbox\":[{\"type\":\"scattermapbox\",\"marker\":{\"colorbar\":{\"outlinewidth\":0,\"ticks\":\"\"}}}],\"scatterternary\":[{\"type\":\"scatterternary\",\"marker\":{\"colorbar\":{\"outlinewidth\":0,\"ticks\":\"\"}}}],\"scattercarpet\":[{\"type\":\"scattercarpet\",\"marker\":{\"colorbar\":{\"outlinewidth\":0,\"ticks\":\"\"}}}],\"carpet\":[{\"aaxis\":{\"endlinecolor\":\"#2a3f5f\",\"gridcolor\":\"white\",\"linecolor\":\"white\",\"minorgridcolor\":\"white\",\"startlinecolor\":\"#2a3f5f\"},\"baxis\":{\"endlinecolor\":\"#2a3f5f\",\"gridcolor\":\"white\",\"linecolor\":\"white\",\"minorgridcolor\":\"white\",\"startlinecolor\":\"#2a3f5f\"},\"type\":\"carpet\"}],\"table\":[{\"cells\":{\"fill\":{\"color\":\"#EBF0F8\"},\"line\":{\"color\":\"white\"}},\"header\":{\"fill\":{\"color\":\"#C8D4E3\"},\"line\":{\"color\":\"white\"}},\"type\":\"table\"}],\"barpolar\":[{\"marker\":{\"line\":{\"color\":\"#E5ECF6\",\"width\":0.5},\"pattern\":{\"fillmode\":\"overlay\",\"size\":10,\"solidity\":0.2}},\"type\":\"barpolar\"}],\"pie\":[{\"automargin\":true,\"type\":\"pie\"}]},\"layout\":{\"autotypenumbers\":\"strict\",\"colorway\":[\"#636efa\",\"#EF553B\",\"#00cc96\",\"#ab63fa\",\"#FFA15A\",\"#19d3f3\",\"#FF6692\",\"#B6E880\",\"#FF97FF\",\"#FECB52\"],\"font\":{\"color\":\"#2a3f5f\"},\"hovermode\":\"closest\",\"hoverlabel\":{\"align\":\"left\"},\"paper_bgcolor\":\"white\",\"plot_bgcolor\":\"#E5ECF6\",\"polar\":{\"bgcolor\":\"#E5ECF6\",\"angularaxis\":{\"gridcolor\":\"white\",\"linecolor\":\"white\",\"ticks\":\"\"},\"radialaxis\":{\"gridcolor\":\"white\",\"linecolor\":\"white\",\"ticks\":\"\"}},\"ternary\":{\"bgcolor\":\"#E5ECF6\",\"aaxis\":{\"gridcolor\":\"white\",\"linecolor\":\"white\",\"ticks\":\"\"},\"baxis\":{\"gridcolor\":\"white\",\"linecolor\":\"white\",\"ticks\":\"\"},\"caxis\":{\"gridcolor\":\"white\",\"linecolor\":\"white\",\"ticks\":\"\"}},\"coloraxis\":{\"colorbar\":{\"outlinewidth\":0,\"ticks\":\"\"}},\"colorscale\":{\"sequential\":[[0.0,\"#0d0887\"],[0.1111111111111111,\"#46039f\"],[0.2222222222222222,\"#7201a8\"],[0.3333333333333333,\"#9c179e\"],[0.4444444444444444,\"#bd3786\"],[0.5555555555555556,\"#d8576b\"],[0.6666666666666666,\"#ed7953\"],[0.7777777777777778,\"#fb9f3a\"],[0.8888888888888888,\"#fdca26\"],[1.0,\"#f0f921\"]],\"sequentialminus\":[[0.0,\"#0d0887\"],[0.1111111111111111,\"#46039f\"],[0.2222222222222222,\"#7201a8\"],[0.3333333333333333,\"#9c179e\"],[0.4444444444444444,\"#bd3786\"],[0.5555555555555556,\"#d8576b\"],[0.6666666666666666,\"#ed7953\"],[0.7777777777777778,\"#fb9f3a\"],[0.8888888888888888,\"#fdca26\"],[1.0,\"#f0f921\"]],\"diverging\":[[0,\"#8e0152\"],[0.1,\"#c51b7d\"],[0.2,\"#de77ae\"],[0.3,\"#f1b6da\"],[0.4,\"#fde0ef\"],[0.5,\"#f7f7f7\"],[0.6,\"#e6f5d0\"],[0.7,\"#b8e186\"],[0.8,\"#7fbc41\"],[0.9,\"#4d9221\"],[1,\"#276419\"]]},\"xaxis\":{\"gridcolor\":\"white\",\"linecolor\":\"white\",\"ticks\":\"\",\"title\":{\"standoff\":15},\"zerolinecolor\":\"white\",\"automargin\":true,\"zerolinewidth\":2},\"yaxis\":{\"gridcolor\":\"white\",\"linecolor\":\"white\",\"ticks\":\"\",\"title\":{\"standoff\":15},\"zerolinecolor\":\"white\",\"automargin\":true,\"zerolinewidth\":2},\"scene\":{\"xaxis\":{\"backgroundcolor\":\"#E5ECF6\",\"gridcolor\":\"white\",\"linecolor\":\"white\",\"showbackground\":true,\"ticks\":\"\",\"zerolinecolor\":\"white\",\"gridwidth\":2},\"yaxis\":{\"backgroundcolor\":\"#E5ECF6\",\"gridcolor\":\"white\",\"linecolor\":\"white\",\"showbackground\":true,\"ticks\":\"\",\"zerolinecolor\":\"white\",\"gridwidth\":2},\"zaxis\":{\"backgroundcolor\":\"#E5ECF6\",\"gridcolor\":\"white\",\"linecolor\":\"white\",\"showbackground\":true,\"ticks\":\"\",\"zerolinecolor\":\"white\",\"gridwidth\":2}},\"shapedefaults\":{\"line\":{\"color\":\"#2a3f5f\"}},\"annotationdefaults\":{\"arrowcolor\":\"#2a3f5f\",\"arrowhead\":0,\"arrowwidth\":1},\"geo\":{\"bgcolor\":\"white\",\"landcolor\":\"#E5ECF6\",\"subunitcolor\":\"white\",\"showland\":true,\"showlakes\":true,\"lakecolor\":\"white\"},\"title\":{\"x\":0.05},\"mapbox\":{\"style\":\"light\"}}},\"xaxis\":{\"anchor\":\"y\",\"domain\":[0.0,1.0],\"title\":{\"text\":\"x\"}},\"yaxis\":{\"anchor\":\"x\",\"domain\":[0.0,1.0],\"title\":{\"text\":\"y\"}},\"legend\":{\"title\":{\"text\":\"Legend\"},\"tracegroupgap\":0,\"orientation\":\"v\",\"yanchor\":\"bottom\",\"y\":1.02,\"xanchor\":\"right\",\"x\":1},\"margin\":{\"t\":60},\"title\":{\"text\":\"model: bl_model \\n 3 Nearest Neighbors\",\"y\":0.9,\"x\":0.25,\"xanchor\":\"center\",\"yanchor\":\"top\"}},                        {\"responsive\": true}                    ).then(function(){\n",
              "                            \n",
              "var gd = document.getElementById('0102658a-0b63-4dcd-94d2-64c8126c65ee');\n",
              "var x = new MutationObserver(function (mutations, observer) {{\n",
              "        var display = window.getComputedStyle(gd).display;\n",
              "        if (!display || display === 'none') {{\n",
              "            console.log([gd, 'removed!']);\n",
              "            Plotly.purge(gd);\n",
              "            observer.disconnect();\n",
              "        }}\n",
              "}});\n",
              "\n",
              "// Listen for the removal of the full notebook cells\n",
              "var notebookContainer = gd.closest('#notebook-container');\n",
              "if (notebookContainer) {{\n",
              "    x.observe(notebookContainer, {childList: true});\n",
              "}}\n",
              "\n",
              "// Listen for the clearing of the current output cell\n",
              "var outputEl = gd.closest('.output');\n",
              "if (outputEl) {{\n",
              "    x.observe(outputEl, {childList: true});\n",
              "}}\n",
              "\n",
              "                        })                };                            </script>        </div>\n",
              "</body>\n",
              "</html>"
            ]
          },
          "metadata": {},
          "output_type": "display_data"
        }
      ],
      "source": [
        "plot_nearest_n(\"blew up those mentions\", bl_embeddings_after_training, word_index, 3, 'bl_model')"
      ]
    },
    {
      "cell_type": "code",
      "execution_count": null,
      "metadata": {
        "colab": {
          "base_uri": "https://localhost:8080/",
          "height": 559
        },
        "id": "EzDLVYU_ng0q",
        "outputId": "ea8d1cb1-5037-4301-c326-a1f5ba5a2a44"
      },
      "outputs": [
        {
          "name": "stderr",
          "output_type": "stream",
          "text": [
            "t-SNE Progress: 100%|██████████| 17983/17983 [00:00<00:00, 1104384.80it/s]\n"
          ]
        },
        {
          "data": {
            "text/html": [
              "<html>\n",
              "<head><meta charset=\"utf-8\" /></head>\n",
              "<body>\n",
              "    <div>            <script src=\"https://cdnjs.cloudflare.com/ajax/libs/mathjax/2.7.5/MathJax.js?config=TeX-AMS-MML_SVG\"></script><script type=\"text/javascript\">if (window.MathJax && window.MathJax.Hub && window.MathJax.Hub.Config) {window.MathJax.Hub.Config({SVG: {font: \"STIX-Web\"}});}</script>                <script type=\"text/javascript\">window.PlotlyConfig = {MathJaxConfig: 'local'};</script>\n",
              "        <script charset=\"utf-8\" src=\"https://cdn.plot.ly/plotly-2.24.1.min.js\"></script>                <div id=\"9f9c51a8-88e5-49dd-a563-59d7d22c95ef\" class=\"plotly-graph-div\" style=\"height:525px; width:100%;\"></div>            <script type=\"text/javascript\">                                    window.PLOTLYENV=window.PLOTLYENV || {};                                    if (document.getElementById(\"9f9c51a8-88e5-49dd-a563-59d7d22c95ef\")) {                    Plotly.newPlot(                        \"9f9c51a8-88e5-49dd-a563-59d7d22c95ef\",                        [{\"customdata\":[[\"comments\"],[\"mention\"],[\"them\"],[\"out\"],[\"commenters\"],[\"shook\"],[\"are\"],[\"get\"],[\"blows\"],[\"blown\"],[\"down\"],[\"all\"]],\"hovertemplate\":\"color=red\\u003cbr\\u003ex=%{x}\\u003cbr\\u003ey=%{y}\\u003cbr\\u003eword=%{customdata[0]}\\u003cextra\\u003e\\u003c\\u002fextra\\u003e\",\"legendgroup\":\"red\",\"marker\":{\"color\":\"#636efa\",\"symbol\":\"circle\",\"size\":12},\"mode\":\"markers+text\",\"name\":\"Nearest Neighbor\",\"orientation\":\"v\",\"showlegend\":true,\"text\":[\"comments\",\"mention\",\"them\",\"out\",\"commenters\",\"shook\",\"are\",\"get\",\"blows\",\"blown\",\"down\",\"all\"],\"x\":[30.025060653686523,29.897716522216797,0.5873246192932129,12.887849807739258,-29.87521743774414,13.649369239807129,23.316547393798828,33.13684844970703,52.486263275146484,25.085119247436523,5.328471660614014,9.070942878723145],\"xaxis\":\"x\",\"y\":[39.85630798339844,2.7002828121185303,-22.89798927307129,6.018655776977539,47.386253356933594,-16.552139282226562,10.809731483459473,-16.955787658691406,21.342905044555664,-11.031753540039062,-55.17023849487305,-8.891033172607422],\"yaxis\":\"y\",\"type\":\"scatter\",\"textfont\":{\"size\":16},\"textposition\":\"top center\"},{\"customdata\":[[\"those\"],[\"mentions\"],[\"up\"],[\"blew\"]],\"hovertemplate\":\"color=blue\\u003cbr\\u003ex=%{x}\\u003cbr\\u003ey=%{y}\\u003cbr\\u003eword=%{customdata[0]}\\u003cextra\\u003e\\u003c\\u002fextra\\u003e\",\"legendgroup\":\"blue\",\"marker\":{\"color\":\"#EF553B\",\"symbol\":\"circle\",\"size\":12},\"mode\":\"markers+text\",\"name\":\"Word\",\"orientation\":\"v\",\"showlegend\":true,\"text\":[\"those\",\"mentions\",\"up\",\"blew\"],\"x\":[29.920948028564453,24.715993881225586,16.085098266601562,66.9141616821289],\"xaxis\":\"x\",\"y\":[7.797484874725342,-16.536237716674805,2.944430112838745,-4.078348159790039],\"yaxis\":\"y\",\"type\":\"scatter\",\"textfont\":{\"size\":16},\"textposition\":\"top center\"}],                        {\"template\":{\"data\":{\"histogram2dcontour\":[{\"type\":\"histogram2dcontour\",\"colorbar\":{\"outlinewidth\":0,\"ticks\":\"\"},\"colorscale\":[[0.0,\"#0d0887\"],[0.1111111111111111,\"#46039f\"],[0.2222222222222222,\"#7201a8\"],[0.3333333333333333,\"#9c179e\"],[0.4444444444444444,\"#bd3786\"],[0.5555555555555556,\"#d8576b\"],[0.6666666666666666,\"#ed7953\"],[0.7777777777777778,\"#fb9f3a\"],[0.8888888888888888,\"#fdca26\"],[1.0,\"#f0f921\"]]}],\"choropleth\":[{\"type\":\"choropleth\",\"colorbar\":{\"outlinewidth\":0,\"ticks\":\"\"}}],\"histogram2d\":[{\"type\":\"histogram2d\",\"colorbar\":{\"outlinewidth\":0,\"ticks\":\"\"},\"colorscale\":[[0.0,\"#0d0887\"],[0.1111111111111111,\"#46039f\"],[0.2222222222222222,\"#7201a8\"],[0.3333333333333333,\"#9c179e\"],[0.4444444444444444,\"#bd3786\"],[0.5555555555555556,\"#d8576b\"],[0.6666666666666666,\"#ed7953\"],[0.7777777777777778,\"#fb9f3a\"],[0.8888888888888888,\"#fdca26\"],[1.0,\"#f0f921\"]]}],\"heatmap\":[{\"type\":\"heatmap\",\"colorbar\":{\"outlinewidth\":0,\"ticks\":\"\"},\"colorscale\":[[0.0,\"#0d0887\"],[0.1111111111111111,\"#46039f\"],[0.2222222222222222,\"#7201a8\"],[0.3333333333333333,\"#9c179e\"],[0.4444444444444444,\"#bd3786\"],[0.5555555555555556,\"#d8576b\"],[0.6666666666666666,\"#ed7953\"],[0.7777777777777778,\"#fb9f3a\"],[0.8888888888888888,\"#fdca26\"],[1.0,\"#f0f921\"]]}],\"heatmapgl\":[{\"type\":\"heatmapgl\",\"colorbar\":{\"outlinewidth\":0,\"ticks\":\"\"},\"colorscale\":[[0.0,\"#0d0887\"],[0.1111111111111111,\"#46039f\"],[0.2222222222222222,\"#7201a8\"],[0.3333333333333333,\"#9c179e\"],[0.4444444444444444,\"#bd3786\"],[0.5555555555555556,\"#d8576b\"],[0.6666666666666666,\"#ed7953\"],[0.7777777777777778,\"#fb9f3a\"],[0.8888888888888888,\"#fdca26\"],[1.0,\"#f0f921\"]]}],\"contourcarpet\":[{\"type\":\"contourcarpet\",\"colorbar\":{\"outlinewidth\":0,\"ticks\":\"\"}}],\"contour\":[{\"type\":\"contour\",\"colorbar\":{\"outlinewidth\":0,\"ticks\":\"\"},\"colorscale\":[[0.0,\"#0d0887\"],[0.1111111111111111,\"#46039f\"],[0.2222222222222222,\"#7201a8\"],[0.3333333333333333,\"#9c179e\"],[0.4444444444444444,\"#bd3786\"],[0.5555555555555556,\"#d8576b\"],[0.6666666666666666,\"#ed7953\"],[0.7777777777777778,\"#fb9f3a\"],[0.8888888888888888,\"#fdca26\"],[1.0,\"#f0f921\"]]}],\"surface\":[{\"type\":\"surface\",\"colorbar\":{\"outlinewidth\":0,\"ticks\":\"\"},\"colorscale\":[[0.0,\"#0d0887\"],[0.1111111111111111,\"#46039f\"],[0.2222222222222222,\"#7201a8\"],[0.3333333333333333,\"#9c179e\"],[0.4444444444444444,\"#bd3786\"],[0.5555555555555556,\"#d8576b\"],[0.6666666666666666,\"#ed7953\"],[0.7777777777777778,\"#fb9f3a\"],[0.8888888888888888,\"#fdca26\"],[1.0,\"#f0f921\"]]}],\"mesh3d\":[{\"type\":\"mesh3d\",\"colorbar\":{\"outlinewidth\":0,\"ticks\":\"\"}}],\"scatter\":[{\"fillpattern\":{\"fillmode\":\"overlay\",\"size\":10,\"solidity\":0.2},\"type\":\"scatter\"}],\"parcoords\":[{\"type\":\"parcoords\",\"line\":{\"colorbar\":{\"outlinewidth\":0,\"ticks\":\"\"}}}],\"scatterpolargl\":[{\"type\":\"scatterpolargl\",\"marker\":{\"colorbar\":{\"outlinewidth\":0,\"ticks\":\"\"}}}],\"bar\":[{\"error_x\":{\"color\":\"#2a3f5f\"},\"error_y\":{\"color\":\"#2a3f5f\"},\"marker\":{\"line\":{\"color\":\"#E5ECF6\",\"width\":0.5},\"pattern\":{\"fillmode\":\"overlay\",\"size\":10,\"solidity\":0.2}},\"type\":\"bar\"}],\"scattergeo\":[{\"type\":\"scattergeo\",\"marker\":{\"colorbar\":{\"outlinewidth\":0,\"ticks\":\"\"}}}],\"scatterpolar\":[{\"type\":\"scatterpolar\",\"marker\":{\"colorbar\":{\"outlinewidth\":0,\"ticks\":\"\"}}}],\"histogram\":[{\"marker\":{\"pattern\":{\"fillmode\":\"overlay\",\"size\":10,\"solidity\":0.2}},\"type\":\"histogram\"}],\"scattergl\":[{\"type\":\"scattergl\",\"marker\":{\"colorbar\":{\"outlinewidth\":0,\"ticks\":\"\"}}}],\"scatter3d\":[{\"type\":\"scatter3d\",\"line\":{\"colorbar\":{\"outlinewidth\":0,\"ticks\":\"\"}},\"marker\":{\"colorbar\":{\"outlinewidth\":0,\"ticks\":\"\"}}}],\"scattermapbox\":[{\"type\":\"scattermapbox\",\"marker\":{\"colorbar\":{\"outlinewidth\":0,\"ticks\":\"\"}}}],\"scatterternary\":[{\"type\":\"scatterternary\",\"marker\":{\"colorbar\":{\"outlinewidth\":0,\"ticks\":\"\"}}}],\"scattercarpet\":[{\"type\":\"scattercarpet\",\"marker\":{\"colorbar\":{\"outlinewidth\":0,\"ticks\":\"\"}}}],\"carpet\":[{\"aaxis\":{\"endlinecolor\":\"#2a3f5f\",\"gridcolor\":\"white\",\"linecolor\":\"white\",\"minorgridcolor\":\"white\",\"startlinecolor\":\"#2a3f5f\"},\"baxis\":{\"endlinecolor\":\"#2a3f5f\",\"gridcolor\":\"white\",\"linecolor\":\"white\",\"minorgridcolor\":\"white\",\"startlinecolor\":\"#2a3f5f\"},\"type\":\"carpet\"}],\"table\":[{\"cells\":{\"fill\":{\"color\":\"#EBF0F8\"},\"line\":{\"color\":\"white\"}},\"header\":{\"fill\":{\"color\":\"#C8D4E3\"},\"line\":{\"color\":\"white\"}},\"type\":\"table\"}],\"barpolar\":[{\"marker\":{\"line\":{\"color\":\"#E5ECF6\",\"width\":0.5},\"pattern\":{\"fillmode\":\"overlay\",\"size\":10,\"solidity\":0.2}},\"type\":\"barpolar\"}],\"pie\":[{\"automargin\":true,\"type\":\"pie\"}]},\"layout\":{\"autotypenumbers\":\"strict\",\"colorway\":[\"#636efa\",\"#EF553B\",\"#00cc96\",\"#ab63fa\",\"#FFA15A\",\"#19d3f3\",\"#FF6692\",\"#B6E880\",\"#FF97FF\",\"#FECB52\"],\"font\":{\"color\":\"#2a3f5f\"},\"hovermode\":\"closest\",\"hoverlabel\":{\"align\":\"left\"},\"paper_bgcolor\":\"white\",\"plot_bgcolor\":\"#E5ECF6\",\"polar\":{\"bgcolor\":\"#E5ECF6\",\"angularaxis\":{\"gridcolor\":\"white\",\"linecolor\":\"white\",\"ticks\":\"\"},\"radialaxis\":{\"gridcolor\":\"white\",\"linecolor\":\"white\",\"ticks\":\"\"}},\"ternary\":{\"bgcolor\":\"#E5ECF6\",\"aaxis\":{\"gridcolor\":\"white\",\"linecolor\":\"white\",\"ticks\":\"\"},\"baxis\":{\"gridcolor\":\"white\",\"linecolor\":\"white\",\"ticks\":\"\"},\"caxis\":{\"gridcolor\":\"white\",\"linecolor\":\"white\",\"ticks\":\"\"}},\"coloraxis\":{\"colorbar\":{\"outlinewidth\":0,\"ticks\":\"\"}},\"colorscale\":{\"sequential\":[[0.0,\"#0d0887\"],[0.1111111111111111,\"#46039f\"],[0.2222222222222222,\"#7201a8\"],[0.3333333333333333,\"#9c179e\"],[0.4444444444444444,\"#bd3786\"],[0.5555555555555556,\"#d8576b\"],[0.6666666666666666,\"#ed7953\"],[0.7777777777777778,\"#fb9f3a\"],[0.8888888888888888,\"#fdca26\"],[1.0,\"#f0f921\"]],\"sequentialminus\":[[0.0,\"#0d0887\"],[0.1111111111111111,\"#46039f\"],[0.2222222222222222,\"#7201a8\"],[0.3333333333333333,\"#9c179e\"],[0.4444444444444444,\"#bd3786\"],[0.5555555555555556,\"#d8576b\"],[0.6666666666666666,\"#ed7953\"],[0.7777777777777778,\"#fb9f3a\"],[0.8888888888888888,\"#fdca26\"],[1.0,\"#f0f921\"]],\"diverging\":[[0,\"#8e0152\"],[0.1,\"#c51b7d\"],[0.2,\"#de77ae\"],[0.3,\"#f1b6da\"],[0.4,\"#fde0ef\"],[0.5,\"#f7f7f7\"],[0.6,\"#e6f5d0\"],[0.7,\"#b8e186\"],[0.8,\"#7fbc41\"],[0.9,\"#4d9221\"],[1,\"#276419\"]]},\"xaxis\":{\"gridcolor\":\"white\",\"linecolor\":\"white\",\"ticks\":\"\",\"title\":{\"standoff\":15},\"zerolinecolor\":\"white\",\"automargin\":true,\"zerolinewidth\":2},\"yaxis\":{\"gridcolor\":\"white\",\"linecolor\":\"white\",\"ticks\":\"\",\"title\":{\"standoff\":15},\"zerolinecolor\":\"white\",\"automargin\":true,\"zerolinewidth\":2},\"scene\":{\"xaxis\":{\"backgroundcolor\":\"#E5ECF6\",\"gridcolor\":\"white\",\"linecolor\":\"white\",\"showbackground\":true,\"ticks\":\"\",\"zerolinecolor\":\"white\",\"gridwidth\":2},\"yaxis\":{\"backgroundcolor\":\"#E5ECF6\",\"gridcolor\":\"white\",\"linecolor\":\"white\",\"showbackground\":true,\"ticks\":\"\",\"zerolinecolor\":\"white\",\"gridwidth\":2},\"zaxis\":{\"backgroundcolor\":\"#E5ECF6\",\"gridcolor\":\"white\",\"linecolor\":\"white\",\"showbackground\":true,\"ticks\":\"\",\"zerolinecolor\":\"white\",\"gridwidth\":2}},\"shapedefaults\":{\"line\":{\"color\":\"#2a3f5f\"}},\"annotationdefaults\":{\"arrowcolor\":\"#2a3f5f\",\"arrowhead\":0,\"arrowwidth\":1},\"geo\":{\"bgcolor\":\"white\",\"landcolor\":\"#E5ECF6\",\"subunitcolor\":\"white\",\"showland\":true,\"showlakes\":true,\"lakecolor\":\"white\"},\"title\":{\"x\":0.05},\"mapbox\":{\"style\":\"light\"}}},\"xaxis\":{\"anchor\":\"y\",\"domain\":[0.0,1.0],\"title\":{\"text\":\"x\"}},\"yaxis\":{\"anchor\":\"x\",\"domain\":[0.0,1.0],\"title\":{\"text\":\"y\"}},\"legend\":{\"title\":{\"text\":\"Legend\"},\"tracegroupgap\":0,\"orientation\":\"v\",\"yanchor\":\"bottom\",\"y\":1.02,\"xanchor\":\"right\",\"x\":1},\"margin\":{\"t\":60},\"title\":{\"text\":\"model: tx_model \\n 3 Nearest Neighbors\",\"y\":0.9,\"x\":0.25,\"xanchor\":\"center\",\"yanchor\":\"top\"}},                        {\"responsive\": true}                    ).then(function(){\n",
              "                            \n",
              "var gd = document.getElementById('9f9c51a8-88e5-49dd-a563-59d7d22c95ef');\n",
              "var x = new MutationObserver(function (mutations, observer) {{\n",
              "        var display = window.getComputedStyle(gd).display;\n",
              "        if (!display || display === 'none') {{\n",
              "            console.log([gd, 'removed!']);\n",
              "            Plotly.purge(gd);\n",
              "            observer.disconnect();\n",
              "        }}\n",
              "}});\n",
              "\n",
              "// Listen for the removal of the full notebook cells\n",
              "var notebookContainer = gd.closest('#notebook-container');\n",
              "if (notebookContainer) {{\n",
              "    x.observe(notebookContainer, {childList: true});\n",
              "}}\n",
              "\n",
              "// Listen for the clearing of the current output cell\n",
              "var outputEl = gd.closest('.output');\n",
              "if (outputEl) {{\n",
              "    x.observe(outputEl, {childList: true});\n",
              "}}\n",
              "\n",
              "                        })                };                            </script>        </div>\n",
              "</body>\n",
              "</html>"
            ]
          },
          "metadata": {},
          "output_type": "display_data"
        }
      ],
      "source": [
        "plot_nearest_n(\"blew up those mentions\", tx_embeddings_after_training, word_index, 3, 'tx_model')"
      ]
    },
    {
      "cell_type": "code",
      "execution_count": null,
      "metadata": {
        "colab": {
          "base_uri": "https://localhost:8080/",
          "height": 559
        },
        "id": "R7fmwmDEq1fU",
        "outputId": "ff7c9f23-b3ee-4d15-ed4a-f3af9fb34174"
      },
      "outputs": [
        {
          "name": "stderr",
          "output_type": "stream",
          "text": [
            "t-SNE Progress: 100%|██████████| 17983/17983 [00:00<00:00, 1483365.50it/s]\n"
          ]
        },
        {
          "data": {
            "text/html": [
              "<html>\n",
              "<head><meta charset=\"utf-8\" /></head>\n",
              "<body>\n",
              "    <div>            <script src=\"https://cdnjs.cloudflare.com/ajax/libs/mathjax/2.7.5/MathJax.js?config=TeX-AMS-MML_SVG\"></script><script type=\"text/javascript\">if (window.MathJax && window.MathJax.Hub && window.MathJax.Hub.Config) {window.MathJax.Hub.Config({SVG: {font: \"STIX-Web\"}});}</script>                <script type=\"text/javascript\">window.PlotlyConfig = {MathJaxConfig: 'local'};</script>\n",
              "        <script charset=\"utf-8\" src=\"https://cdn.plot.ly/plotly-2.24.1.min.js\"></script>                <div id=\"e3c04230-3a80-43c5-9e79-c03c75ad444e\" class=\"plotly-graph-div\" style=\"height:525px; width:100%;\"></div>            <script type=\"text/javascript\">                                    window.PLOTLYENV=window.PLOTLYENV || {};                                    if (document.getElementById(\"e3c04230-3a80-43c5-9e79-c03c75ad444e\")) {                    Plotly.newPlot(                        \"e3c04230-3a80-43c5-9e79-c03c75ad444e\",                        [{\"customdata\":[[\"comments\"],[\"mention\"],[\"them\"],[\"out\"],[\"commenters\"],[\"shook\"],[\"are\"],[\"get\"],[\"blows\"],[\"blown\"],[\"down\"],[\"all\"]],\"hovertemplate\":\"color=red\\u003cbr\\u003ex=%{x}\\u003cbr\\u003ey=%{y}\\u003cbr\\u003eword=%{customdata[0]}\\u003cextra\\u003e\\u003c\\u002fextra\\u003e\",\"legendgroup\":\"red\",\"marker\":{\"color\":\"#636efa\",\"symbol\":\"circle\",\"size\":12},\"mode\":\"markers+text\",\"name\":\"Nearest Neighbor\",\"orientation\":\"v\",\"showlegend\":true,\"text\":[\"comments\",\"mention\",\"them\",\"out\",\"commenters\",\"shook\",\"are\",\"get\",\"blows\",\"blown\",\"down\",\"all\"],\"x\":[-14.719151496887207,22.328100204467773,13.581116676330566,5.722997665405273,-70.14543151855469,22.434951782226562,15.049736976623535,36.62006759643555,30.50468635559082,15.22550106048584,34.832298278808594,13.910253524780273],\"xaxis\":\"x\",\"y\":[-39.010345458984375,-20.49798583984375,19.76668930053711,-14.681523323059082,1.19291353225708,5.541158199310303,-18.9681396484375,-4.516448497772217,-49.81832504272461,-9.165543556213379,42.2129020690918,4.7070841789245605],\"yaxis\":\"y\",\"type\":\"scatter\",\"textfont\":{\"size\":16},\"textposition\":\"top center\"},{\"customdata\":[[\"those\"],[\"mentions\"],[\"up\"],[\"blew\"]],\"hovertemplate\":\"color=blue\\u003cbr\\u003ex=%{x}\\u003cbr\\u003ey=%{y}\\u003cbr\\u003eword=%{customdata[0]}\\u003cextra\\u003e\\u003c\\u002fextra\\u003e\",\"legendgroup\":\"blue\",\"marker\":{\"color\":\"#EF553B\",\"symbol\":\"circle\",\"size\":12},\"mode\":\"markers+text\",\"name\":\"Word\",\"orientation\":\"v\",\"showlegend\":true,\"text\":[\"those\",\"mentions\",\"up\",\"blew\"],\"x\":[20.137662887573242,29.728315353393555,13.675053596496582,54.82054901123047],\"xaxis\":\"x\",\"y\":[-25.269296646118164,-2.6563503742218018,-16.931589126586914,-35.68574523925781],\"yaxis\":\"y\",\"type\":\"scatter\",\"textfont\":{\"size\":16},\"textposition\":\"top center\"}],                        {\"template\":{\"data\":{\"histogram2dcontour\":[{\"type\":\"histogram2dcontour\",\"colorbar\":{\"outlinewidth\":0,\"ticks\":\"\"},\"colorscale\":[[0.0,\"#0d0887\"],[0.1111111111111111,\"#46039f\"],[0.2222222222222222,\"#7201a8\"],[0.3333333333333333,\"#9c179e\"],[0.4444444444444444,\"#bd3786\"],[0.5555555555555556,\"#d8576b\"],[0.6666666666666666,\"#ed7953\"],[0.7777777777777778,\"#fb9f3a\"],[0.8888888888888888,\"#fdca26\"],[1.0,\"#f0f921\"]]}],\"choropleth\":[{\"type\":\"choropleth\",\"colorbar\":{\"outlinewidth\":0,\"ticks\":\"\"}}],\"histogram2d\":[{\"type\":\"histogram2d\",\"colorbar\":{\"outlinewidth\":0,\"ticks\":\"\"},\"colorscale\":[[0.0,\"#0d0887\"],[0.1111111111111111,\"#46039f\"],[0.2222222222222222,\"#7201a8\"],[0.3333333333333333,\"#9c179e\"],[0.4444444444444444,\"#bd3786\"],[0.5555555555555556,\"#d8576b\"],[0.6666666666666666,\"#ed7953\"],[0.7777777777777778,\"#fb9f3a\"],[0.8888888888888888,\"#fdca26\"],[1.0,\"#f0f921\"]]}],\"heatmap\":[{\"type\":\"heatmap\",\"colorbar\":{\"outlinewidth\":0,\"ticks\":\"\"},\"colorscale\":[[0.0,\"#0d0887\"],[0.1111111111111111,\"#46039f\"],[0.2222222222222222,\"#7201a8\"],[0.3333333333333333,\"#9c179e\"],[0.4444444444444444,\"#bd3786\"],[0.5555555555555556,\"#d8576b\"],[0.6666666666666666,\"#ed7953\"],[0.7777777777777778,\"#fb9f3a\"],[0.8888888888888888,\"#fdca26\"],[1.0,\"#f0f921\"]]}],\"heatmapgl\":[{\"type\":\"heatmapgl\",\"colorbar\":{\"outlinewidth\":0,\"ticks\":\"\"},\"colorscale\":[[0.0,\"#0d0887\"],[0.1111111111111111,\"#46039f\"],[0.2222222222222222,\"#7201a8\"],[0.3333333333333333,\"#9c179e\"],[0.4444444444444444,\"#bd3786\"],[0.5555555555555556,\"#d8576b\"],[0.6666666666666666,\"#ed7953\"],[0.7777777777777778,\"#fb9f3a\"],[0.8888888888888888,\"#fdca26\"],[1.0,\"#f0f921\"]]}],\"contourcarpet\":[{\"type\":\"contourcarpet\",\"colorbar\":{\"outlinewidth\":0,\"ticks\":\"\"}}],\"contour\":[{\"type\":\"contour\",\"colorbar\":{\"outlinewidth\":0,\"ticks\":\"\"},\"colorscale\":[[0.0,\"#0d0887\"],[0.1111111111111111,\"#46039f\"],[0.2222222222222222,\"#7201a8\"],[0.3333333333333333,\"#9c179e\"],[0.4444444444444444,\"#bd3786\"],[0.5555555555555556,\"#d8576b\"],[0.6666666666666666,\"#ed7953\"],[0.7777777777777778,\"#fb9f3a\"],[0.8888888888888888,\"#fdca26\"],[1.0,\"#f0f921\"]]}],\"surface\":[{\"type\":\"surface\",\"colorbar\":{\"outlinewidth\":0,\"ticks\":\"\"},\"colorscale\":[[0.0,\"#0d0887\"],[0.1111111111111111,\"#46039f\"],[0.2222222222222222,\"#7201a8\"],[0.3333333333333333,\"#9c179e\"],[0.4444444444444444,\"#bd3786\"],[0.5555555555555556,\"#d8576b\"],[0.6666666666666666,\"#ed7953\"],[0.7777777777777778,\"#fb9f3a\"],[0.8888888888888888,\"#fdca26\"],[1.0,\"#f0f921\"]]}],\"mesh3d\":[{\"type\":\"mesh3d\",\"colorbar\":{\"outlinewidth\":0,\"ticks\":\"\"}}],\"scatter\":[{\"fillpattern\":{\"fillmode\":\"overlay\",\"size\":10,\"solidity\":0.2},\"type\":\"scatter\"}],\"parcoords\":[{\"type\":\"parcoords\",\"line\":{\"colorbar\":{\"outlinewidth\":0,\"ticks\":\"\"}}}],\"scatterpolargl\":[{\"type\":\"scatterpolargl\",\"marker\":{\"colorbar\":{\"outlinewidth\":0,\"ticks\":\"\"}}}],\"bar\":[{\"error_x\":{\"color\":\"#2a3f5f\"},\"error_y\":{\"color\":\"#2a3f5f\"},\"marker\":{\"line\":{\"color\":\"#E5ECF6\",\"width\":0.5},\"pattern\":{\"fillmode\":\"overlay\",\"size\":10,\"solidity\":0.2}},\"type\":\"bar\"}],\"scattergeo\":[{\"type\":\"scattergeo\",\"marker\":{\"colorbar\":{\"outlinewidth\":0,\"ticks\":\"\"}}}],\"scatterpolar\":[{\"type\":\"scatterpolar\",\"marker\":{\"colorbar\":{\"outlinewidth\":0,\"ticks\":\"\"}}}],\"histogram\":[{\"marker\":{\"pattern\":{\"fillmode\":\"overlay\",\"size\":10,\"solidity\":0.2}},\"type\":\"histogram\"}],\"scattergl\":[{\"type\":\"scattergl\",\"marker\":{\"colorbar\":{\"outlinewidth\":0,\"ticks\":\"\"}}}],\"scatter3d\":[{\"type\":\"scatter3d\",\"line\":{\"colorbar\":{\"outlinewidth\":0,\"ticks\":\"\"}},\"marker\":{\"colorbar\":{\"outlinewidth\":0,\"ticks\":\"\"}}}],\"scattermapbox\":[{\"type\":\"scattermapbox\",\"marker\":{\"colorbar\":{\"outlinewidth\":0,\"ticks\":\"\"}}}],\"scatterternary\":[{\"type\":\"scatterternary\",\"marker\":{\"colorbar\":{\"outlinewidth\":0,\"ticks\":\"\"}}}],\"scattercarpet\":[{\"type\":\"scattercarpet\",\"marker\":{\"colorbar\":{\"outlinewidth\":0,\"ticks\":\"\"}}}],\"carpet\":[{\"aaxis\":{\"endlinecolor\":\"#2a3f5f\",\"gridcolor\":\"white\",\"linecolor\":\"white\",\"minorgridcolor\":\"white\",\"startlinecolor\":\"#2a3f5f\"},\"baxis\":{\"endlinecolor\":\"#2a3f5f\",\"gridcolor\":\"white\",\"linecolor\":\"white\",\"minorgridcolor\":\"white\",\"startlinecolor\":\"#2a3f5f\"},\"type\":\"carpet\"}],\"table\":[{\"cells\":{\"fill\":{\"color\":\"#EBF0F8\"},\"line\":{\"color\":\"white\"}},\"header\":{\"fill\":{\"color\":\"#C8D4E3\"},\"line\":{\"color\":\"white\"}},\"type\":\"table\"}],\"barpolar\":[{\"marker\":{\"line\":{\"color\":\"#E5ECF6\",\"width\":0.5},\"pattern\":{\"fillmode\":\"overlay\",\"size\":10,\"solidity\":0.2}},\"type\":\"barpolar\"}],\"pie\":[{\"automargin\":true,\"type\":\"pie\"}]},\"layout\":{\"autotypenumbers\":\"strict\",\"colorway\":[\"#636efa\",\"#EF553B\",\"#00cc96\",\"#ab63fa\",\"#FFA15A\",\"#19d3f3\",\"#FF6692\",\"#B6E880\",\"#FF97FF\",\"#FECB52\"],\"font\":{\"color\":\"#2a3f5f\"},\"hovermode\":\"closest\",\"hoverlabel\":{\"align\":\"left\"},\"paper_bgcolor\":\"white\",\"plot_bgcolor\":\"#E5ECF6\",\"polar\":{\"bgcolor\":\"#E5ECF6\",\"angularaxis\":{\"gridcolor\":\"white\",\"linecolor\":\"white\",\"ticks\":\"\"},\"radialaxis\":{\"gridcolor\":\"white\",\"linecolor\":\"white\",\"ticks\":\"\"}},\"ternary\":{\"bgcolor\":\"#E5ECF6\",\"aaxis\":{\"gridcolor\":\"white\",\"linecolor\":\"white\",\"ticks\":\"\"},\"baxis\":{\"gridcolor\":\"white\",\"linecolor\":\"white\",\"ticks\":\"\"},\"caxis\":{\"gridcolor\":\"white\",\"linecolor\":\"white\",\"ticks\":\"\"}},\"coloraxis\":{\"colorbar\":{\"outlinewidth\":0,\"ticks\":\"\"}},\"colorscale\":{\"sequential\":[[0.0,\"#0d0887\"],[0.1111111111111111,\"#46039f\"],[0.2222222222222222,\"#7201a8\"],[0.3333333333333333,\"#9c179e\"],[0.4444444444444444,\"#bd3786\"],[0.5555555555555556,\"#d8576b\"],[0.6666666666666666,\"#ed7953\"],[0.7777777777777778,\"#fb9f3a\"],[0.8888888888888888,\"#fdca26\"],[1.0,\"#f0f921\"]],\"sequentialminus\":[[0.0,\"#0d0887\"],[0.1111111111111111,\"#46039f\"],[0.2222222222222222,\"#7201a8\"],[0.3333333333333333,\"#9c179e\"],[0.4444444444444444,\"#bd3786\"],[0.5555555555555556,\"#d8576b\"],[0.6666666666666666,\"#ed7953\"],[0.7777777777777778,\"#fb9f3a\"],[0.8888888888888888,\"#fdca26\"],[1.0,\"#f0f921\"]],\"diverging\":[[0,\"#8e0152\"],[0.1,\"#c51b7d\"],[0.2,\"#de77ae\"],[0.3,\"#f1b6da\"],[0.4,\"#fde0ef\"],[0.5,\"#f7f7f7\"],[0.6,\"#e6f5d0\"],[0.7,\"#b8e186\"],[0.8,\"#7fbc41\"],[0.9,\"#4d9221\"],[1,\"#276419\"]]},\"xaxis\":{\"gridcolor\":\"white\",\"linecolor\":\"white\",\"ticks\":\"\",\"title\":{\"standoff\":15},\"zerolinecolor\":\"white\",\"automargin\":true,\"zerolinewidth\":2},\"yaxis\":{\"gridcolor\":\"white\",\"linecolor\":\"white\",\"ticks\":\"\",\"title\":{\"standoff\":15},\"zerolinecolor\":\"white\",\"automargin\":true,\"zerolinewidth\":2},\"scene\":{\"xaxis\":{\"backgroundcolor\":\"#E5ECF6\",\"gridcolor\":\"white\",\"linecolor\":\"white\",\"showbackground\":true,\"ticks\":\"\",\"zerolinecolor\":\"white\",\"gridwidth\":2},\"yaxis\":{\"backgroundcolor\":\"#E5ECF6\",\"gridcolor\":\"white\",\"linecolor\":\"white\",\"showbackground\":true,\"ticks\":\"\",\"zerolinecolor\":\"white\",\"gridwidth\":2},\"zaxis\":{\"backgroundcolor\":\"#E5ECF6\",\"gridcolor\":\"white\",\"linecolor\":\"white\",\"showbackground\":true,\"ticks\":\"\",\"zerolinecolor\":\"white\",\"gridwidth\":2}},\"shapedefaults\":{\"line\":{\"color\":\"#2a3f5f\"}},\"annotationdefaults\":{\"arrowcolor\":\"#2a3f5f\",\"arrowhead\":0,\"arrowwidth\":1},\"geo\":{\"bgcolor\":\"white\",\"landcolor\":\"#E5ECF6\",\"subunitcolor\":\"white\",\"showland\":true,\"showlakes\":true,\"lakecolor\":\"white\"},\"title\":{\"x\":0.05},\"mapbox\":{\"style\":\"light\"}}},\"xaxis\":{\"anchor\":\"y\",\"domain\":[0.0,1.0],\"title\":{\"text\":\"x\"}},\"yaxis\":{\"anchor\":\"x\",\"domain\":[0.0,1.0],\"title\":{\"text\":\"y\"}},\"legend\":{\"title\":{\"text\":\"Legend\"},\"tracegroupgap\":0,\"orientation\":\"v\",\"yanchor\":\"bottom\",\"y\":1.02,\"xanchor\":\"right\",\"x\":1},\"margin\":{\"t\":60},\"title\":{\"text\":\"model: lp_model \\n 3 Nearest Neighbors\",\"y\":0.9,\"x\":0.25,\"xanchor\":\"center\",\"yanchor\":\"top\"}},                        {\"responsive\": true}                    ).then(function(){\n",
              "                            \n",
              "var gd = document.getElementById('e3c04230-3a80-43c5-9e79-c03c75ad444e');\n",
              "var x = new MutationObserver(function (mutations, observer) {{\n",
              "        var display = window.getComputedStyle(gd).display;\n",
              "        if (!display || display === 'none') {{\n",
              "            console.log([gd, 'removed!']);\n",
              "            Plotly.purge(gd);\n",
              "            observer.disconnect();\n",
              "        }}\n",
              "}});\n",
              "\n",
              "// Listen for the removal of the full notebook cells\n",
              "var notebookContainer = gd.closest('#notebook-container');\n",
              "if (notebookContainer) {{\n",
              "    x.observe(notebookContainer, {childList: true});\n",
              "}}\n",
              "\n",
              "// Listen for the clearing of the current output cell\n",
              "var outputEl = gd.closest('.output');\n",
              "if (outputEl) {{\n",
              "    x.observe(outputEl, {childList: true});\n",
              "}}\n",
              "\n",
              "                        })                };                            </script>        </div>\n",
              "</body>\n",
              "</html>"
            ]
          },
          "metadata": {},
          "output_type": "display_data"
        }
      ],
      "source": [
        "plot_nearest_n(\"blew up those mentions\", lp_embeddings_after_training, word_index, 3, 'lp_model')"
      ]
    },
    {
      "cell_type": "markdown",
      "metadata": {
        "id": "oWbyJsZ1srSB"
      },
      "source": [
        "The above results show that the bl_model did not have the right fine tuned semantic meaning of 'mentions', where as the lp_model 'mentions' is farthest away from 'comments' than in the tx_model. This means the lp_model fine tuned the words based on the dataset more than the tx_model. This naturally leads us to enquire what are top changed words after training for each model, and if one is obviously better than the other."
      ]
    },
    {
      "cell_type": "markdown",
      "metadata": {
        "id": "GivhKW7PVye8"
      },
      "source": [
        "####Top n Changed Words After Training\n",
        "for the following plot you need to have the before and after embeddings"
      ]
    },
    {
      "cell_type": "code",
      "execution_count": 93,
      "metadata": {
        "id": "s1EfvUx6V4lk"
      },
      "outputs": [],
      "source": [
        "\n",
        "\n",
        "def top_changed_embeddings(loaded_embeddings, trained_embeddings, word_index, top_n=10):\n",
        "    # Calculate the differences between the two sets of embeddings\n",
        "    differences = {}\n",
        "    for word, index in word_index.items():\n",
        "        if index < len(loaded_embeddings) and index < len(trained_embeddings):\n",
        "            differences[word] = np.linalg.norm(loaded_embeddings[index] - trained_embeddings[index])\n",
        "\n",
        "    # Sort the words by the largest changes\n",
        "    sorted_words = sorted(differences, key=differences.get, reverse=True)\n",
        "\n",
        "    # Get the top N words with the most change\n",
        "    top_words = sorted_words[:top_n]\n",
        "\n",
        "    # Return the top N words and their corresponding differences\n",
        "    return [(word, differences[word]) for word in top_words]\n",
        "\n",
        "\n"
      ]
    },
    {
      "cell_type": "code",
      "execution_count": 94,
      "metadata": {
        "colab": {
          "base_uri": "https://localhost:8080/"
        },
        "id": "kGFq8lWqwiqW",
        "outputId": "b891c211-73e9-40d9-e8c5-6dc365ddabdc"
      },
      "outputs": [
        {
          "output_type": "execute_result",
          "data": {
            "text/plain": [
              "[('suicide', 0.2542814085893426),\n",
              " ('hiroshima', 0.2366639098735998),\n",
              " ('derailment', 0.23234185947136063),\n",
              " ('positive', 0.2134087088705059),\n",
              " ('california', 0.21303300061344782),\n",
              " ('bombing', 0.21094468542664885),\n",
              " ('debris', 0.21006077369589732),\n",
              " ('wildfire', 0.20714493198224423),\n",
              " ('killed', 0.200944669891897),\n",
              " ('northern', 0.19962536227301594)]"
            ]
          },
          "metadata": {},
          "execution_count": 94
        }
      ],
      "source": [
        "tx_disaster_words = top_changed_embeddings(loaded_embeddings, tx_embeddings_after_training, word_index)\n",
        "tx_disaster_words_list = [item[0] for item in tx_disaster_words]\n",
        "tx_disaster_words"
      ]
    },
    {
      "cell_type": "code",
      "execution_count": 95,
      "metadata": {
        "colab": {
          "base_uri": "https://localhost:8080/"
        },
        "id": "uvDb8HmnzRCw",
        "outputId": "d3111d3e-8389-4be3-aaef-948983edaab8"
      },
      "outputs": [
        {
          "output_type": "execute_result",
          "data": {
            "text/plain": [
              "[('hiroshima', 0.496638707030925),\n",
              " ('spill', 0.4849229581973467),\n",
              " ('suicide', 0.448507128728351),\n",
              " ('bomb', 0.4369772545959775),\n",
              " ('derailment', 0.4233027778885434),\n",
              " ('northern', 0.4181329351044703),\n",
              " ('california', 0.4133995836162507),\n",
              " ('atomic', 0.40671896164405086),\n",
              " ('killed', 0.39854748212169594),\n",
              " ('wreckage', 0.3949224709598692)]"
            ]
          },
          "metadata": {},
          "execution_count": 95
        }
      ],
      "source": [
        "lp_disaster_words = top_changed_embeddings(loaded_embeddings, lp_embeddings_after_training, word_index)\n",
        "lp_disaster_words_list = [item[0] for item in lp_disaster_words]\n",
        "lp_disaster_words"
      ]
    },
    {
      "cell_type": "markdown",
      "metadata": {
        "id": "X1iRAYU9wyIV"
      },
      "source": [
        "The above results show that the embeddings trained with lp_model moved on average more (0.45) than by the tx_model(0.22). The two lists are very similar."
      ]
    },
    {
      "cell_type": "markdown",
      "metadata": {
        "id": "Q_dbT6RHXX18"
      },
      "source": [
        "Calculate how much from a list of words have changed"
      ]
    },
    {
      "cell_type": "code",
      "execution_count": 99,
      "metadata": {
        "id": "4NDFp_t5cO3N"
      },
      "outputs": [],
      "source": [
        "disaster_words =\"\"\"\n",
        "fire\n",
        "disaster\n",
        "emergency\n",
        "burning\n",
        "police\n",
        "bomb\n",
        "people\n",
        "news\n",
        "storm\n",
        "body\n",
        "crash\n",
        "suicide\n",
        "buildings\n",
        "death\n",
        "home\n",
        "collapse\n",
        "mass\n",
        "fear\n",
        "typhoon\n",
        "nuclear\n",
        "attack\n",
        "hiroshima\n",
        "killed\n",
        "families\n",
        "watch\n",
        "shit\n",
        "dead\n",
        "war\n",
        "bombing\n",
        "help\n",
        "fatal\n",
        "wildfire\n",
        "forest\n",
        "thunder\n",
        "fires\n",
        "accident\n",
        "god\n",
        "\"\"\"\n",
        "disaster_words_list = disaster_words.strip().split(\"\\n\")"
      ]
    },
    {
      "cell_type": "markdown",
      "metadata": {
        "id": "C3EW4s9DmS4c"
      },
      "source": [
        "####Top n Words Changed from a Word List"
      ]
    },
    {
      "cell_type": "code",
      "execution_count": 101,
      "metadata": {
        "id": "U9Rprco2XXNX"
      },
      "outputs": [],
      "source": [
        "import numpy as np\n",
        "\n",
        "def top_word_changed_embeddings(loaded_embeddings, trained_embeddings, word_index, words_list, top_n=10):\n",
        "    # Calculate the differences between the two sets of embeddings for the given list of words\n",
        "    differences = {}\n",
        "    for word in words_list:\n",
        "        index = word_index.get(word)\n",
        "        if index is not None and index < len(loaded_embeddings) and index < len(trained_embeddings):\n",
        "            differences[word] = np.linalg.norm(loaded_embeddings[index] - trained_embeddings[index])\n",
        "\n",
        "    # Sort the words by the largest changes\n",
        "    sorted_words = sorted(differences, key=differences.get, reverse=True)\n",
        "\n",
        "    # Get the top N words with the most change\n",
        "    top_words = sorted_words[:top_n]\n",
        "\n",
        "    # Return the top N words and their corresponding differences\n",
        "    return top_words, [(word, differences[word]) for word in top_words]\n",
        "\n",
        "\n"
      ]
    },
    {
      "cell_type": "code",
      "execution_count": 126,
      "metadata": {
        "id": "_pRygSdPXk7c"
      },
      "outputs": [],
      "source": [
        "tx_disaster_list, top_words = top_word_changed_embeddings(loaded_embeddings, \\\n",
        "                                                          tx_embeddings_after_training, word_index, disaster_words_list)\n",
        "\n"
      ]
    },
    {
      "cell_type": "code",
      "source": [
        "top_words"
      ],
      "metadata": {
        "colab": {
          "base_uri": "https://localhost:8080/"
        },
        "id": "YkJDMBVENKhW",
        "outputId": "49bbad10-94fa-4a41-a16d-9a5b2e447f3a"
      },
      "execution_count": 127,
      "outputs": [
        {
          "output_type": "execute_result",
          "data": {
            "text/plain": [
              "[('suicide', 0.2542814085893426),\n",
              " ('hiroshima', 0.2366639098735998),\n",
              " ('bombing', 0.21094468542664885),\n",
              " ('wildfire', 0.20714493198224423),\n",
              " ('killed', 0.200944669891897),\n",
              " ('typhoon', 0.193992721950032),\n",
              " ('bomb', 0.18714145221705575),\n",
              " ('families', 0.15679069326693082),\n",
              " ('body', 0.13875680339463148),\n",
              " ('attack', 0.12125044385997531)]"
            ]
          },
          "metadata": {},
          "execution_count": 127
        }
      ]
    },
    {
      "cell_type": "code",
      "execution_count": 128,
      "metadata": {
        "id": "2nRArEIqvP9K"
      },
      "outputs": [],
      "source": [
        "lp_disaster_list, top_words = top_word_changed_embeddings(loaded_embeddings,\\\n",
        "                                                          lp_embeddings_after_training, word_index, disaster_words_list)"
      ]
    },
    {
      "cell_type": "code",
      "source": [
        "top_words"
      ],
      "metadata": {
        "colab": {
          "base_uri": "https://localhost:8080/"
        },
        "id": "3RoeNpx5NPF2",
        "outputId": "cab5fd3d-e860-4bb5-e3bf-5deb6cb07369"
      },
      "execution_count": 129,
      "outputs": [
        {
          "output_type": "execute_result",
          "data": {
            "text/plain": [
              "[('hiroshima', 0.496638707030925),\n",
              " ('suicide', 0.448507128728351),\n",
              " ('bomb', 0.4369772545959775),\n",
              " ('killed', 0.39854748212169594),\n",
              " ('bombing', 0.37386424673313806),\n",
              " ('typhoon', 0.3667053370593496),\n",
              " ('wildfire', 0.30783158195214544),\n",
              " ('mass', 0.3049600095316895),\n",
              " ('families', 0.28411852434789686),\n",
              " ('fear', 0.26975122736083657)]"
            ]
          },
          "metadata": {},
          "execution_count": 129
        }
      ]
    },
    {
      "cell_type": "code",
      "source": [
        "happy_word_list=['television', 'game', 'music', 'crash', 'accident']"
      ],
      "metadata": {
        "id": "rTCEdtrrN58l"
      },
      "execution_count": 133,
      "outputs": []
    },
    {
      "cell_type": "code",
      "source": [
        "lp_disaster_list, top_words = top_word_changed_embeddings(loaded_embeddings,\\\n",
        "                                                          lp_embeddings_after_training, word_index, happy_word_list)\n",
        "top_words"
      ],
      "metadata": {
        "colab": {
          "base_uri": "https://localhost:8080/"
        },
        "id": "eqeezcazN2r3",
        "outputId": "663cf3c5-c55f-4f56-b73a-ca0349978ab8"
      },
      "execution_count": 134,
      "outputs": [
        {
          "output_type": "execute_result",
          "data": {
            "text/plain": [
              "[('accident', 0.23368874616599758),\n",
              " ('music', 0.18602782096539075),\n",
              " ('crash', 0.12003486196187114),\n",
              " ('game', 0.10377270085271638)]"
            ]
          },
          "metadata": {},
          "execution_count": 134
        }
      ]
    },
    {
      "cell_type": "code",
      "source": [
        "tx_disaster_list, top_words = top_word_changed_embeddings(loaded_embeddings,\\\n",
        "                                                          tx_embeddings_after_training, word_index, happy_word_list)\n",
        "top_words"
      ],
      "metadata": {
        "colab": {
          "base_uri": "https://localhost:8080/"
        },
        "id": "MBiOdlDnOFh8",
        "outputId": "a7fbc082-cf21-4907-ad4f-03184643bc99"
      },
      "execution_count": 135,
      "outputs": [
        {
          "output_type": "execute_result",
          "data": {
            "text/plain": [
              "[('accident', 0.09295402109377758),\n",
              " ('music', 0.07539183339476341),\n",
              " ('crash', 0.07383608751385635),\n",
              " ('game', 0.055367876614340485)]"
            ]
          },
          "metadata": {},
          "execution_count": 135
        }
      ]
    },
    {
      "cell_type": "markdown",
      "source": [
        "The above only re-states the same results. The lp_model made more changes to the words on the happy list then the tx_model."
      ],
      "metadata": {
        "id": "YfHh4dVWNhyU"
      }
    },
    {
      "cell_type": "markdown",
      "source": [
        "<bold>In conclusion, the lp_model, beyond val_accuracy scores, should be able to generalize more, if provided with more data, when compared to the tx_model. </bold>"
      ],
      "metadata": {
        "id": "LQYUWzclObWb"
      }
    },
    {
      "cell_type": "markdown",
      "source": [
        "##Appendix"
      ],
      "metadata": {
        "id": "LfFJOTmOOzJQ"
      }
    },
    {
      "cell_type": "markdown",
      "metadata": {
        "id": "S5HO3dOli8Fb"
      },
      "source": [
        "####Attention Scores and the Embedded Vectors Combined"
      ]
    },
    {
      "cell_type": "code",
      "execution_count": 107,
      "metadata": {
        "id": "U8lmSYbSuJbv"
      },
      "outputs": [],
      "source": [
        "def attention_scores_normalized(attn_scores, sentence):\n",
        "    # Assuming attn_scores is of shape (1, num_heads, seq_len, seq_len)\n",
        "    num_heads = attn_scores.shape[1]\n",
        "    seq_len = attn_scores.shape[2]\n",
        "\n",
        "    # Reshape attention scores to (num_heads, seq_len, seq_len)\n",
        "    attn_scores1 = np.squeeze(attn_scores, axis=0)\n",
        "\n",
        "    # Split the sentence into words\n",
        "    words = sentence.split()\n",
        "\n",
        "    # Get the length of the sentence\n",
        "    sentence_length = len(words)\n",
        "\n",
        "    # Slice the attention scores to match the sentence length\n",
        "    attn_scores1 = attn_scores1[:, :sentence_length, :sentence_length]\n",
        "\n",
        "    # Sum the attention scores for each word for each head\n",
        "    attn_sum = np.sum(attn_scores1, axis=2)\n",
        "\n",
        "    # Normalize the attention scores to the range [12, 36]\n",
        "    attn_sum = 12 + 24 * (attn_sum - np.min(attn_sum)) / (np.max(attn_sum) - np.min(attn_sum))\n",
        "\n",
        "    return attn_sum #returned normalized attention scores for sentence"
      ]
    },
    {
      "cell_type": "code",
      "source": [
        "import plotly.graph_objs as go\n",
        "import numpy as np\n",
        "from sklearn.manifold import TSNE\n",
        "import pandas as pd\n",
        "\n",
        "# Assuming these functions and variables are defined elsewhere in your code:\n",
        "# forward_and_get_attn_scores, format_sentence, attention_scores_normalized, embeddings_after_training, word_index\n",
        "\n",
        "def visualize_attention_scores_2D(sentences, model=tx_model, embeddings_after_training=tx_embeddings_after_training):\n",
        "    predictions = []\n",
        "    attn_scores = []\n",
        "    attn_sums = []\n",
        "    all_embeddings = []  # Define all_embeddings list\n",
        "\n",
        "    # Create an interactive plot\n",
        "    fig = go.Figure()\n",
        "\n",
        "    # Define colors for the sentences\n",
        "    colors = ['darkblue', 'darkred', 'darkgreen', 'brown', 'black', 'darkgray', 'steelblue']  # Add more colors if needed\n",
        "\n",
        "    word_list = []  # List to store all words from all sentences\n",
        "    color_list = []  # List to store corresponding colors for all words\n",
        "\n",
        "    for i, sentence in enumerate(sentences):\n",
        "        prediction, attn_score = forward_and_get_attn_scores(format_sentence(sentence), model)\n",
        "        predictions.append(prediction)\n",
        "        attn_scores.append(attn_score)\n",
        "        attn_sums.append(attention_scores_normalized(attn_score, sentence))\n",
        "\n",
        "        # Split the sentence into words\n",
        "        disaster_words_list = sentence.split()\n",
        "\n",
        "        # Get the embeddings for the disaster words and update word_list and color_list accordingly\n",
        "        for word in disaster_words_list:\n",
        "            if word in word_index:\n",
        "                embeddings = embeddings_after_training[word_index[word]]\n",
        "                all_embeddings.append(embeddings)\n",
        "                word_list.append(word)\n",
        "                color_list.append(colors[i])\n",
        "\n",
        "    sentence_length = len(word_list)\n",
        "\n",
        "    # Use t-SNE to reduce the dimensionality of the attention scores\n",
        "    all_embeddings = [embedding.reshape(1, -1) for embedding in all_embeddings]\n",
        "    all_embeddings_2d = TSNE(n_components=2, random_state=0, perplexity=min(30, sentence_length - 1)).fit_transform(np.concatenate(all_embeddings, axis=0))\n",
        "\n",
        "    # Create a DataFrame with the 2D embeddings and the words\n",
        "    all_embeddings_df = pd.DataFrame(all_embeddings_2d, columns=['x', 'y'])\n",
        "    all_embeddings_df['word'] = word_list\n",
        "    all_embeddings_df['color'] = color_list\n",
        "\n",
        "    # Add scatter trace for points\n",
        "    fig.add_trace(\n",
        "    go.Scatter(\n",
        "        x=all_embeddings_df['x'],\n",
        "        y=all_embeddings_df['y'],\n",
        "        mode='markers+text',\n",
        "        hoverinfo='text',\n",
        "        hovertext=all_embeddings_df['word'],\n",
        "        text=all_embeddings_df['word'],\n",
        "        textposition='top center',\n",
        "        textfont=dict(\n",
        "            size=[attn_sums[word_list.index(word)][0] for word in word_list],  # Adjust size based on attention\n",
        "            color=all_embeddings_df['color']  # color of the text\n",
        "        )\n",
        "        )\n",
        "    )\n",
        "    fig.show()\n",
        "\n",
        "\n"
      ],
      "metadata": {
        "id": "cjyy0ojrK9zQ"
      },
      "execution_count": 122,
      "outputs": []
    },
    {
      "cell_type": "markdown",
      "metadata": {
        "id": "TCxvrpT6ZBMG"
      },
      "source": [
        "#End of File"
      ]
    }
  ],
  "metadata": {
    "colab": {
      "machine_shape": "hm",
      "provenance": [],
      "toc_visible": true
    },
    "kernelspec": {
      "display_name": "Python 3",
      "name": "python3"
    }
  },
  "nbformat": 4,
  "nbformat_minor": 0
}