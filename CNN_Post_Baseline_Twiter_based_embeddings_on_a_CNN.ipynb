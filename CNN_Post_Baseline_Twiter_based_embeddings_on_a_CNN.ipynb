{
  "cells": [
    {
      "cell_type": "markdown",
      "metadata": {
        "id": "b710e77a"
      },
      "source": [
        "# Natural Language Processing- CNN Model Final Project\n",
        "#### Javier Rodriguez, Edgar Leon\n",
        "#### Section ??\n",
        "\n",
        "## Introduction\n",
        "Exploration of tokenizing embeddings using a pretrained fasttext twitter embedding. We will use it to train a neural network.\n",
        "## FastText:\n",
        "\n",
        "The “fasttext_english_twitter_100d.vec” file is a set of word vectors trained using the FastText library.\n",
        "\n",
        "FastText is a library developed by Facebook’s AI Research (FAIR) lab. It’s dedicated to text classification and learning word representations. FastText models can be trained on more than a billion words on any multicore CPU in less than a few minutes.\n",
        "\n",
        "Here’s a general process of how FastText trains word vectors:\n",
        "\n",
        "Corpus Selection: FastText trains word vectors on large text corpora. For example, FastText provides pre-trained word vectors trained, in this case, a collection of English tweets.\n",
        "Model Training: These models are trained using the Continuous Bag of Words (CBOW) model with position-weights, in a specified dimension (like 300), with character n-grams of length 5, a window of size 5, and 10 negatives2.\n",
        "Vector Generation: Each line of the output file contains a word followed by its vectors, like in the default FastText text format. Each value is space-separated. Words are ordered by descending frequency.\n",
        "\n",
        "\n",
        "FastText vectors do have embedded meaning. Words that have similar meanings tend to have similar vector representations, meaning they occupy close spaces in the vector space.\n",
        "\n",
        "This property is a result of the way FastText trains its models. During training, FastText uses the context of each word — the words that come before and after it in the text. Words that appear in similar contexts tend to have similar meanings. Therefore, the model learns to represent similar words with similar vectors.\n",
        "\n",
        "This feature of word embeddings is very useful in many natural language processing tasks. For example, it allows us to measure the semantic similarity between words or sentences, perform analogical reasoning (like “man” is to “woman” as “king” is to “queen”), and even improve the performance of text classification models by leveraging the semantic information captured in the word vectors.\n",
        "\n"
      ],
      "id": "b710e77a"
    },
    {
      "cell_type": "code",
      "execution_count": null,
      "metadata": {
        "colab": {
          "base_uri": "https://localhost:8080/"
        },
        "id": "7_shAz6O79xG",
        "outputId": "b0dc2c06-77ad-4570-bd13-cf579ae8824f"
      },
      "outputs": [
        {
          "output_type": "stream",
          "name": "stdout",
          "text": [
            "\u001b[?25l     \u001b[90m━━━━━━━━━━━━━━━━━━━━━━━━━━━━━━━━━━━━━━━━\u001b[0m \u001b[32m0.0/996.9 kB\u001b[0m \u001b[31m?\u001b[0m eta \u001b[36m-:--:--\u001b[0m\r\u001b[2K     \u001b[91m━━━━━━━\u001b[0m\u001b[90m╺\u001b[0m\u001b[90m━━━━━━━━━━━━━━━━━━━━━━━━━━━━━━━━\u001b[0m \u001b[32m184.3/996.9 kB\u001b[0m \u001b[31m5.4 MB/s\u001b[0m eta \u001b[36m0:00:01\u001b[0m\r\u001b[2K     \u001b[91m━━━━━━━━━━━━━━━━━━━━━━━━━━━━━━━━━━━━━━━\u001b[0m\u001b[91m╸\u001b[0m \u001b[32m993.3/996.9 kB\u001b[0m \u001b[31m16.2 MB/s\u001b[0m eta \u001b[36m0:00:01\u001b[0m\r\u001b[2K     \u001b[90m━━━━━━━━━━━━━━━━━━━━━━━━━━━━━━━━━━━━━━━━\u001b[0m \u001b[32m996.9/996.9 kB\u001b[0m \u001b[31m12.9 MB/s\u001b[0m eta \u001b[36m0:00:00\u001b[0m\n",
            "\u001b[?25h"
          ]
        }
      ],
      "source": [
        "!pip install altair==5.2.0 --quiet #collab default is 4.2.2<-not working"
      ],
      "id": "7_shAz6O79xG"
    },
    {
      "cell_type": "code",
      "execution_count": null,
      "metadata": {
        "colab": {
          "base_uri": "https://localhost:8080/"
        },
        "id": "AyCek3KI7FaR",
        "outputId": "bef88800-2ee7-4c9d-cffb-2661ee66c756"
      },
      "outputs": [
        {
          "output_type": "stream",
          "name": "stdout",
          "text": [
            "5.2.0\n"
          ]
        }
      ],
      "source": [
        "import altair as alt\n",
        "print(alt.__version__)"
      ],
      "id": "AyCek3KI7FaR"
    },
    {
      "cell_type": "code",
      "execution_count": null,
      "metadata": {
        "colab": {
          "base_uri": "https://localhost:8080/"
        },
        "id": "hbnENMRio_rA",
        "outputId": "2925afdc-27e9-44f8-d9ab-6b04484069a2"
      },
      "outputs": [
        {
          "output_type": "stream",
          "name": "stdout",
          "text": [
            "Requirement already satisfied: gensim in /usr/local/lib/python3.10/dist-packages (4.3.2)\n",
            "Requirement already satisfied: numpy>=1.18.5 in /usr/local/lib/python3.10/dist-packages (from gensim) (1.25.2)\n",
            "Requirement already satisfied: scipy>=1.7.0 in /usr/local/lib/python3.10/dist-packages (from gensim) (1.11.4)\n",
            "Requirement already satisfied: smart-open>=1.8.1 in /usr/local/lib/python3.10/dist-packages (from gensim) (6.4.0)\n"
          ]
        }
      ],
      "source": [
        "!pip install gensim #needed to import fast text twitter embeddings\n"
      ],
      "id": "hbnENMRio_rA"
    },
    {
      "cell_type": "code",
      "execution_count": null,
      "metadata": {
        "id": "9357a09f"
      },
      "outputs": [],
      "source": [
        "# Import the libraries we'll use below.\n",
        "import numpy as np\n",
        "from matplotlib import pyplot as plt\n",
        "import pandas as pd\n",
        "import seaborn as sns  # for nicer plots\n",
        "sns.set(style=\"darkgrid\")  # default style\n",
        "\n",
        "import tensorflow as tf\n",
        "from tensorflow import keras\n",
        "from keras import metrics\n",
        "tf.get_logger().setLevel('INFO')\n",
        "from sklearn.metrics import confusion_matrix,  ConfusionMatrixDisplay, accuracy_score\n",
        "\n",
        "\n",
        "import os\n",
        "import pathlib\n",
        "\n",
        "import math\n",
        "import plotly.graph_objs as plotly  # for interactive plots\n",
        "\n",
        "## For GridSearch\n",
        "from sklearn.model_selection import GridSearchCV, train_test_split\n",
        "from sklearn.model_selection import cross_val_score\n",
        "from sklearn.svm import SVC  # Replace with the model you want to use for grid search\n",
        "#import altair as alt #to make nice plots\n",
        "import re\n",
        "#do need\n",
        "from tqdm import tqdm\n",
        "import time\n",
        "from gensim.models import KeyedVectors"
      ],
      "id": "9357a09f"
    },
    {
      "cell_type": "code",
      "execution_count": null,
      "metadata": {
        "colab": {
          "base_uri": "https://localhost:8080/"
        },
        "id": "AgWrXXRapOdy",
        "outputId": "0b5b3b0f-e0da-40fe-f800-7a10a8cabdd2"
      },
      "outputs": [
        {
          "output_type": "stream",
          "name": "stdout",
          "text": [
            "Mounted at /content/drive\n"
          ]
        }
      ],
      "source": [
        "\n",
        "# Mount Google Drive\n",
        "from google.colab import drive\n",
        "drive.mount('/content/drive')"
      ],
      "id": "AgWrXXRapOdy"
    },
    {
      "cell_type": "code",
      "execution_count": null,
      "metadata": {
        "id": "U1CZPSyGsPQU"
      },
      "outputs": [],
      "source": [
        "# Navigate to the Directory Containing the CSV File\n",
        "import os\n",
        "os.chdir('/content/drive/My Drive/DS266 Project')\n"
      ],
      "id": "U1CZPSyGsPQU"
    },
    {
      "cell_type": "markdown",
      "metadata": {
        "id": "pJ9ZEXxuuBqQ"
      },
      "source": [
        "Get Data"
      ],
      "id": "pJ9ZEXxuuBqQ"
    },
    {
      "cell_type": "code",
      "execution_count": null,
      "metadata": {
        "id": "XANw3AtruA5z"
      },
      "outputs": [],
      "source": [
        "# Read the CSV File\n",
        "import pandas as pd\n",
        "tweets_df = pd.read_csv('train.csv')"
      ],
      "id": "XANw3AtruA5z"
    },
    {
      "cell_type": "code",
      "execution_count": null,
      "metadata": {
        "colab": {
          "base_uri": "https://localhost:8080/",
          "height": 143
        },
        "id": "PtjTdI_mhsP0",
        "outputId": "04e4440d-d27e-4541-d0a9-4a875e0a6e00"
      },
      "outputs": [
        {
          "output_type": "execute_result",
          "data": {
            "text/plain": [
              "   id keyword location                                               text  \\\n",
              "0   1     NaN      NaN  Our Deeds are the Reason of this #earthquake M...   \n",
              "1   4     NaN      NaN             Forest fire near La Ronge Sask. Canada   \n",
              "2   5     NaN      NaN  All residents asked to 'shelter in place' are ...   \n",
              "\n",
              "   target  \n",
              "0       1  \n",
              "1       1  \n",
              "2       1  "
            ],
            "text/html": [
              "\n",
              "  <div id=\"df-3d7418bd-8457-4a17-bad9-c0a351972a64\" class=\"colab-df-container\">\n",
              "    <div>\n",
              "<style scoped>\n",
              "    .dataframe tbody tr th:only-of-type {\n",
              "        vertical-align: middle;\n",
              "    }\n",
              "\n",
              "    .dataframe tbody tr th {\n",
              "        vertical-align: top;\n",
              "    }\n",
              "\n",
              "    .dataframe thead th {\n",
              "        text-align: right;\n",
              "    }\n",
              "</style>\n",
              "<table border=\"1\" class=\"dataframe\">\n",
              "  <thead>\n",
              "    <tr style=\"text-align: right;\">\n",
              "      <th></th>\n",
              "      <th>id</th>\n",
              "      <th>keyword</th>\n",
              "      <th>location</th>\n",
              "      <th>text</th>\n",
              "      <th>target</th>\n",
              "    </tr>\n",
              "  </thead>\n",
              "  <tbody>\n",
              "    <tr>\n",
              "      <th>0</th>\n",
              "      <td>1</td>\n",
              "      <td>NaN</td>\n",
              "      <td>NaN</td>\n",
              "      <td>Our Deeds are the Reason of this #earthquake M...</td>\n",
              "      <td>1</td>\n",
              "    </tr>\n",
              "    <tr>\n",
              "      <th>1</th>\n",
              "      <td>4</td>\n",
              "      <td>NaN</td>\n",
              "      <td>NaN</td>\n",
              "      <td>Forest fire near La Ronge Sask. Canada</td>\n",
              "      <td>1</td>\n",
              "    </tr>\n",
              "    <tr>\n",
              "      <th>2</th>\n",
              "      <td>5</td>\n",
              "      <td>NaN</td>\n",
              "      <td>NaN</td>\n",
              "      <td>All residents asked to 'shelter in place' are ...</td>\n",
              "      <td>1</td>\n",
              "    </tr>\n",
              "  </tbody>\n",
              "</table>\n",
              "</div>\n",
              "    <div class=\"colab-df-buttons\">\n",
              "\n",
              "  <div class=\"colab-df-container\">\n",
              "    <button class=\"colab-df-convert\" onclick=\"convertToInteractive('df-3d7418bd-8457-4a17-bad9-c0a351972a64')\"\n",
              "            title=\"Convert this dataframe to an interactive table.\"\n",
              "            style=\"display:none;\">\n",
              "\n",
              "  <svg xmlns=\"http://www.w3.org/2000/svg\" height=\"24px\" viewBox=\"0 -960 960 960\">\n",
              "    <path d=\"M120-120v-720h720v720H120Zm60-500h600v-160H180v160Zm220 220h160v-160H400v160Zm0 220h160v-160H400v160ZM180-400h160v-160H180v160Zm440 0h160v-160H620v160ZM180-180h160v-160H180v160Zm440 0h160v-160H620v160Z\"/>\n",
              "  </svg>\n",
              "    </button>\n",
              "\n",
              "  <style>\n",
              "    .colab-df-container {\n",
              "      display:flex;\n",
              "      gap: 12px;\n",
              "    }\n",
              "\n",
              "    .colab-df-convert {\n",
              "      background-color: #E8F0FE;\n",
              "      border: none;\n",
              "      border-radius: 50%;\n",
              "      cursor: pointer;\n",
              "      display: none;\n",
              "      fill: #1967D2;\n",
              "      height: 32px;\n",
              "      padding: 0 0 0 0;\n",
              "      width: 32px;\n",
              "    }\n",
              "\n",
              "    .colab-df-convert:hover {\n",
              "      background-color: #E2EBFA;\n",
              "      box-shadow: 0px 1px 2px rgba(60, 64, 67, 0.3), 0px 1px 3px 1px rgba(60, 64, 67, 0.15);\n",
              "      fill: #174EA6;\n",
              "    }\n",
              "\n",
              "    .colab-df-buttons div {\n",
              "      margin-bottom: 4px;\n",
              "    }\n",
              "\n",
              "    [theme=dark] .colab-df-convert {\n",
              "      background-color: #3B4455;\n",
              "      fill: #D2E3FC;\n",
              "    }\n",
              "\n",
              "    [theme=dark] .colab-df-convert:hover {\n",
              "      background-color: #434B5C;\n",
              "      box-shadow: 0px 1px 3px 1px rgba(0, 0, 0, 0.15);\n",
              "      filter: drop-shadow(0px 1px 2px rgba(0, 0, 0, 0.3));\n",
              "      fill: #FFFFFF;\n",
              "    }\n",
              "  </style>\n",
              "\n",
              "    <script>\n",
              "      const buttonEl =\n",
              "        document.querySelector('#df-3d7418bd-8457-4a17-bad9-c0a351972a64 button.colab-df-convert');\n",
              "      buttonEl.style.display =\n",
              "        google.colab.kernel.accessAllowed ? 'block' : 'none';\n",
              "\n",
              "      async function convertToInteractive(key) {\n",
              "        const element = document.querySelector('#df-3d7418bd-8457-4a17-bad9-c0a351972a64');\n",
              "        const dataTable =\n",
              "          await google.colab.kernel.invokeFunction('convertToInteractive',\n",
              "                                                    [key], {});\n",
              "        if (!dataTable) return;\n",
              "\n",
              "        const docLinkHtml = 'Like what you see? Visit the ' +\n",
              "          '<a target=\"_blank\" href=https://colab.research.google.com/notebooks/data_table.ipynb>data table notebook</a>'\n",
              "          + ' to learn more about interactive tables.';\n",
              "        element.innerHTML = '';\n",
              "        dataTable['output_type'] = 'display_data';\n",
              "        await google.colab.output.renderOutput(dataTable, element);\n",
              "        const docLink = document.createElement('div');\n",
              "        docLink.innerHTML = docLinkHtml;\n",
              "        element.appendChild(docLink);\n",
              "      }\n",
              "    </script>\n",
              "  </div>\n",
              "\n",
              "\n",
              "<div id=\"df-7f5b85f7-138c-4eff-ac71-4699d239d1e0\">\n",
              "  <button class=\"colab-df-quickchart\" onclick=\"quickchart('df-7f5b85f7-138c-4eff-ac71-4699d239d1e0')\"\n",
              "            title=\"Suggest charts\"\n",
              "            style=\"display:none;\">\n",
              "\n",
              "<svg xmlns=\"http://www.w3.org/2000/svg\" height=\"24px\"viewBox=\"0 0 24 24\"\n",
              "     width=\"24px\">\n",
              "    <g>\n",
              "        <path d=\"M19 3H5c-1.1 0-2 .9-2 2v14c0 1.1.9 2 2 2h14c1.1 0 2-.9 2-2V5c0-1.1-.9-2-2-2zM9 17H7v-7h2v7zm4 0h-2V7h2v10zm4 0h-2v-4h2v4z\"/>\n",
              "    </g>\n",
              "</svg>\n",
              "  </button>\n",
              "\n",
              "<style>\n",
              "  .colab-df-quickchart {\n",
              "      --bg-color: #E8F0FE;\n",
              "      --fill-color: #1967D2;\n",
              "      --hover-bg-color: #E2EBFA;\n",
              "      --hover-fill-color: #174EA6;\n",
              "      --disabled-fill-color: #AAA;\n",
              "      --disabled-bg-color: #DDD;\n",
              "  }\n",
              "\n",
              "  [theme=dark] .colab-df-quickchart {\n",
              "      --bg-color: #3B4455;\n",
              "      --fill-color: #D2E3FC;\n",
              "      --hover-bg-color: #434B5C;\n",
              "      --hover-fill-color: #FFFFFF;\n",
              "      --disabled-bg-color: #3B4455;\n",
              "      --disabled-fill-color: #666;\n",
              "  }\n",
              "\n",
              "  .colab-df-quickchart {\n",
              "    background-color: var(--bg-color);\n",
              "    border: none;\n",
              "    border-radius: 50%;\n",
              "    cursor: pointer;\n",
              "    display: none;\n",
              "    fill: var(--fill-color);\n",
              "    height: 32px;\n",
              "    padding: 0;\n",
              "    width: 32px;\n",
              "  }\n",
              "\n",
              "  .colab-df-quickchart:hover {\n",
              "    background-color: var(--hover-bg-color);\n",
              "    box-shadow: 0 1px 2px rgba(60, 64, 67, 0.3), 0 1px 3px 1px rgba(60, 64, 67, 0.15);\n",
              "    fill: var(--button-hover-fill-color);\n",
              "  }\n",
              "\n",
              "  .colab-df-quickchart-complete:disabled,\n",
              "  .colab-df-quickchart-complete:disabled:hover {\n",
              "    background-color: var(--disabled-bg-color);\n",
              "    fill: var(--disabled-fill-color);\n",
              "    box-shadow: none;\n",
              "  }\n",
              "\n",
              "  .colab-df-spinner {\n",
              "    border: 2px solid var(--fill-color);\n",
              "    border-color: transparent;\n",
              "    border-bottom-color: var(--fill-color);\n",
              "    animation:\n",
              "      spin 1s steps(1) infinite;\n",
              "  }\n",
              "\n",
              "  @keyframes spin {\n",
              "    0% {\n",
              "      border-color: transparent;\n",
              "      border-bottom-color: var(--fill-color);\n",
              "      border-left-color: var(--fill-color);\n",
              "    }\n",
              "    20% {\n",
              "      border-color: transparent;\n",
              "      border-left-color: var(--fill-color);\n",
              "      border-top-color: var(--fill-color);\n",
              "    }\n",
              "    30% {\n",
              "      border-color: transparent;\n",
              "      border-left-color: var(--fill-color);\n",
              "      border-top-color: var(--fill-color);\n",
              "      border-right-color: var(--fill-color);\n",
              "    }\n",
              "    40% {\n",
              "      border-color: transparent;\n",
              "      border-right-color: var(--fill-color);\n",
              "      border-top-color: var(--fill-color);\n",
              "    }\n",
              "    60% {\n",
              "      border-color: transparent;\n",
              "      border-right-color: var(--fill-color);\n",
              "    }\n",
              "    80% {\n",
              "      border-color: transparent;\n",
              "      border-right-color: var(--fill-color);\n",
              "      border-bottom-color: var(--fill-color);\n",
              "    }\n",
              "    90% {\n",
              "      border-color: transparent;\n",
              "      border-bottom-color: var(--fill-color);\n",
              "    }\n",
              "  }\n",
              "</style>\n",
              "\n",
              "  <script>\n",
              "    async function quickchart(key) {\n",
              "      const quickchartButtonEl =\n",
              "        document.querySelector('#' + key + ' button');\n",
              "      quickchartButtonEl.disabled = true;  // To prevent multiple clicks.\n",
              "      quickchartButtonEl.classList.add('colab-df-spinner');\n",
              "      try {\n",
              "        const charts = await google.colab.kernel.invokeFunction(\n",
              "            'suggestCharts', [key], {});\n",
              "      } catch (error) {\n",
              "        console.error('Error during call to suggestCharts:', error);\n",
              "      }\n",
              "      quickchartButtonEl.classList.remove('colab-df-spinner');\n",
              "      quickchartButtonEl.classList.add('colab-df-quickchart-complete');\n",
              "    }\n",
              "    (() => {\n",
              "      let quickchartButtonEl =\n",
              "        document.querySelector('#df-7f5b85f7-138c-4eff-ac71-4699d239d1e0 button');\n",
              "      quickchartButtonEl.style.display =\n",
              "        google.colab.kernel.accessAllowed ? 'block' : 'none';\n",
              "    })();\n",
              "  </script>\n",
              "</div>\n",
              "\n",
              "    </div>\n",
              "  </div>\n"
            ],
            "application/vnd.google.colaboratory.intrinsic+json": {
              "type": "dataframe",
              "variable_name": "tweets_df",
              "summary": "{\n  \"name\": \"tweets_df\",\n  \"rows\": 7613,\n  \"fields\": [\n    {\n      \"column\": \"id\",\n      \"properties\": {\n        \"dtype\": \"number\",\n        \"std\": 3137,\n        \"min\": 1,\n        \"max\": 10873,\n        \"num_unique_values\": 7613,\n        \"samples\": [\n          3796,\n          3185,\n          7769\n        ],\n        \"semantic_type\": \"\",\n        \"description\": \"\"\n      }\n    },\n    {\n      \"column\": \"keyword\",\n      \"properties\": {\n        \"dtype\": \"category\",\n        \"num_unique_values\": 221,\n        \"samples\": [\n          \"injury\",\n          \"nuclear%20reactor\",\n          \"engulfed\"\n        ],\n        \"semantic_type\": \"\",\n        \"description\": \"\"\n      }\n    },\n    {\n      \"column\": \"location\",\n      \"properties\": {\n        \"dtype\": \"category\",\n        \"num_unique_values\": 3341,\n        \"samples\": [\n          \"Oklahoma\",\n          \"Starling City\",\n          \"Trinidad and Tobago\"\n        ],\n        \"semantic_type\": \"\",\n        \"description\": \"\"\n      }\n    },\n    {\n      \"column\": \"text\",\n      \"properties\": {\n        \"dtype\": \"string\",\n        \"num_unique_values\": 7503,\n        \"samples\": [\n          \"Three Homes Demolished in Unrecognized Arab Village - International Middle East Media Center http://t.co/ik8m4Yi9T4\",\n          \"Reid Lake fire prompts campground evacuation order http://t.co/jBODKM6rBU\",\n          \"FAAN orders evacuation of abandoned aircraft at MMA http://t.co/dEvYbnVXGQ via @todayng\"\n        ],\n        \"semantic_type\": \"\",\n        \"description\": \"\"\n      }\n    },\n    {\n      \"column\": \"target\",\n      \"properties\": {\n        \"dtype\": \"number\",\n        \"std\": 0,\n        \"min\": 0,\n        \"max\": 1,\n        \"num_unique_values\": 2,\n        \"samples\": [\n          0,\n          1\n        ],\n        \"semantic_type\": \"\",\n        \"description\": \"\"\n      }\n    }\n  ]\n}"
            }
          },
          "metadata": {},
          "execution_count": 8
        }
      ],
      "source": [
        "tweets_df.head(3)"
      ],
      "id": "PtjTdI_mhsP0"
    },
    {
      "cell_type": "markdown",
      "metadata": {
        "id": "df440dd3"
      },
      "source": [
        "## Import Twitter Based Embeddings\n",
        "#### Source:\n",
        "\n",
        "For this project, we chose to start the project off with a pre-trained word embeddings in twitter. The pre-trained word embeddings we used was GloVe, which was trained on global word-word co-occurance statistics from a large text data set. It contains 400,000 words of 50 dimensional vectors."
      ],
      "id": "df440dd3"
    },
    {
      "cell_type": "code",
      "execution_count": null,
      "metadata": {
        "id": "WJiKMHYipLwJ"
      },
      "outputs": [],
      "source": [
        "# Load vectors directly from the file\n",
        "vector_model = KeyedVectors.load_word2vec_format('fasttext_english_twitter_100d.vec')\n",
        "\n",
        "\n"
      ],
      "id": "WJiKMHYipLwJ"
    },
    {
      "cell_type": "markdown",
      "metadata": {
        "id": "95005fe7"
      },
      "source": [
        "### Some Sanity Check Tests\n",
        "\n",
        "After downloading Fast Text Tweet Embeddings we did a quick sanity check to see if some of the words we anticipate to commonly show up in our tweets text are captured."
      ],
      "id": "95005fe7"
    },
    {
      "cell_type": "code",
      "execution_count": null,
      "metadata": {
        "id": "8c707448"
      },
      "outputs": [],
      "source": [
        "\n",
        "def check_word(item_value, model):\n",
        "  word = None\n",
        "  #print(model[item_value])\n",
        "  #print(item_value)\n",
        "  try:\n",
        "    if model[item_value].any():\n",
        "      word = \"\\\"\"+item_value +\"\\\" exists in embeddings dictionary\"\n",
        "      vector = model[item_value]\n",
        "  except:\n",
        "    word = \"\\\"\"+item_value +\"\\\" does not exist\"\n",
        "    vector = np.zeros((100,))\n",
        "  return word, vector\n",
        "\n"
      ],
      "id": "8c707448"
    },
    {
      "cell_type": "code",
      "execution_count": null,
      "metadata": {
        "colab": {
          "base_uri": "https://localhost:8080/"
        },
        "id": "d893abe4",
        "outputId": "5567df27-fca7-4663-ac2c-5e0fedbd0337"
      },
      "outputs": [
        {
          "output_type": "stream",
          "name": "stdout",
          "text": [
            "\"fire\" exists in embeddings dictionary\n",
            "(100,)\n",
            "\"hurricane\" exists in embeddings dictionary\n",
            "(100,)\n",
            "\"earthquake\" exists in embeddings dictionary\n",
            "(100,)\n",
            "\"sunami\" does not exist\n",
            "(100,)\n",
            "\"disaster\" exists in embeddings dictionary\n",
            "(100,)\n"
          ]
        }
      ],
      "source": [
        "check = ['fire', 'hurricane', 'earthquake', 'sunami', 'disaster']\n",
        "for i in range(len(check)-0):\n",
        "  word, vector = check_word(check[i], vector_model)\n",
        "  print(word)\n",
        "  print(vector.shape)"
      ],
      "id": "d893abe4"
    },
    {
      "cell_type": "markdown",
      "metadata": {
        "id": "dOwQiPbUykPa"
      },
      "source": [
        "Since 'sunami' does not exist, then we have to train our embeddings on our data."
      ],
      "id": "dOwQiPbUykPa"
    },
    {
      "cell_type": "markdown",
      "metadata": {
        "id": "306a9fb5"
      },
      "source": [
        "## Inputing in Tweets Data Source\n",
        "\n",
        "The kaggle competition provided us with training and testing data sets in the form of a csv file. The training csv files comes with five columns of data. The first colum is id. The keyword column contains a keyword associated with the tweet text. The location field is populated if the user tagged to it. One caveat to the data is that the keywords and location fields might not always be populated. the text field containst the original tweet. The final column is a 0 or 1 label value. If a tweet is classified as indicating a true emergency then the label is 1 otherwise its 0.\n",
        "\n",
        "### Initial Data Exploratory Analysis\n",
        "\n",
        "Our firs step was to conduct initial exploratory analysis. We checked the head or tails of the dataset to make sure the data formatting stays consistent."
      ],
      "id": "306a9fb5"
    },
    {
      "cell_type": "code",
      "execution_count": null,
      "metadata": {
        "colab": {
          "base_uri": "https://localhost:8080/",
          "height": 206
        },
        "id": "19256cee",
        "outputId": "cccfc9e3-3d17-4e2e-d267-127ca46dc079"
      },
      "outputs": [
        {
          "output_type": "execute_result",
          "data": {
            "text/plain": [
              "      id     keyword                  location  \\\n",
              "100  144    accident                        UK   \n",
              "101  145    accident            Nairobi, Kenya   \n",
              "102  146  aftershock  Instagram - @heyimginog    \n",
              "103  149  aftershock                       304   \n",
              "104  151  aftershock               Switzerland   \n",
              "\n",
              "                                                  text  target  \n",
              "100  .@NorwayMFA #Bahrain police had previously die...       1  \n",
              "101  I still have not heard Church Leaders of Kenya...       0  \n",
              "102  @afterShock_DeLo scuf ps live and the game... cya       0  \n",
              "103  'The man who can drive himself further once th...       0  \n",
              "104  320 [IR] ICEMOON [AFTERSHOCK] | http://t.co/yN...       0  "
            ],
            "text/html": [
              "\n",
              "  <div id=\"df-47df9e28-b612-413a-8ccb-89e237a62e09\" class=\"colab-df-container\">\n",
              "    <div>\n",
              "<style scoped>\n",
              "    .dataframe tbody tr th:only-of-type {\n",
              "        vertical-align: middle;\n",
              "    }\n",
              "\n",
              "    .dataframe tbody tr th {\n",
              "        vertical-align: top;\n",
              "    }\n",
              "\n",
              "    .dataframe thead th {\n",
              "        text-align: right;\n",
              "    }\n",
              "</style>\n",
              "<table border=\"1\" class=\"dataframe\">\n",
              "  <thead>\n",
              "    <tr style=\"text-align: right;\">\n",
              "      <th></th>\n",
              "      <th>id</th>\n",
              "      <th>keyword</th>\n",
              "      <th>location</th>\n",
              "      <th>text</th>\n",
              "      <th>target</th>\n",
              "    </tr>\n",
              "  </thead>\n",
              "  <tbody>\n",
              "    <tr>\n",
              "      <th>100</th>\n",
              "      <td>144</td>\n",
              "      <td>accident</td>\n",
              "      <td>UK</td>\n",
              "      <td>.@NorwayMFA #Bahrain police had previously die...</td>\n",
              "      <td>1</td>\n",
              "    </tr>\n",
              "    <tr>\n",
              "      <th>101</th>\n",
              "      <td>145</td>\n",
              "      <td>accident</td>\n",
              "      <td>Nairobi, Kenya</td>\n",
              "      <td>I still have not heard Church Leaders of Kenya...</td>\n",
              "      <td>0</td>\n",
              "    </tr>\n",
              "    <tr>\n",
              "      <th>102</th>\n",
              "      <td>146</td>\n",
              "      <td>aftershock</td>\n",
              "      <td>Instagram - @heyimginog</td>\n",
              "      <td>@afterShock_DeLo scuf ps live and the game... cya</td>\n",
              "      <td>0</td>\n",
              "    </tr>\n",
              "    <tr>\n",
              "      <th>103</th>\n",
              "      <td>149</td>\n",
              "      <td>aftershock</td>\n",
              "      <td>304</td>\n",
              "      <td>'The man who can drive himself further once th...</td>\n",
              "      <td>0</td>\n",
              "    </tr>\n",
              "    <tr>\n",
              "      <th>104</th>\n",
              "      <td>151</td>\n",
              "      <td>aftershock</td>\n",
              "      <td>Switzerland</td>\n",
              "      <td>320 [IR] ICEMOON [AFTERSHOCK] | http://t.co/yN...</td>\n",
              "      <td>0</td>\n",
              "    </tr>\n",
              "  </tbody>\n",
              "</table>\n",
              "</div>\n",
              "    <div class=\"colab-df-buttons\">\n",
              "\n",
              "  <div class=\"colab-df-container\">\n",
              "    <button class=\"colab-df-convert\" onclick=\"convertToInteractive('df-47df9e28-b612-413a-8ccb-89e237a62e09')\"\n",
              "            title=\"Convert this dataframe to an interactive table.\"\n",
              "            style=\"display:none;\">\n",
              "\n",
              "  <svg xmlns=\"http://www.w3.org/2000/svg\" height=\"24px\" viewBox=\"0 -960 960 960\">\n",
              "    <path d=\"M120-120v-720h720v720H120Zm60-500h600v-160H180v160Zm220 220h160v-160H400v160Zm0 220h160v-160H400v160ZM180-400h160v-160H180v160Zm440 0h160v-160H620v160ZM180-180h160v-160H180v160Zm440 0h160v-160H620v160Z\"/>\n",
              "  </svg>\n",
              "    </button>\n",
              "\n",
              "  <style>\n",
              "    .colab-df-container {\n",
              "      display:flex;\n",
              "      gap: 12px;\n",
              "    }\n",
              "\n",
              "    .colab-df-convert {\n",
              "      background-color: #E8F0FE;\n",
              "      border: none;\n",
              "      border-radius: 50%;\n",
              "      cursor: pointer;\n",
              "      display: none;\n",
              "      fill: #1967D2;\n",
              "      height: 32px;\n",
              "      padding: 0 0 0 0;\n",
              "      width: 32px;\n",
              "    }\n",
              "\n",
              "    .colab-df-convert:hover {\n",
              "      background-color: #E2EBFA;\n",
              "      box-shadow: 0px 1px 2px rgba(60, 64, 67, 0.3), 0px 1px 3px 1px rgba(60, 64, 67, 0.15);\n",
              "      fill: #174EA6;\n",
              "    }\n",
              "\n",
              "    .colab-df-buttons div {\n",
              "      margin-bottom: 4px;\n",
              "    }\n",
              "\n",
              "    [theme=dark] .colab-df-convert {\n",
              "      background-color: #3B4455;\n",
              "      fill: #D2E3FC;\n",
              "    }\n",
              "\n",
              "    [theme=dark] .colab-df-convert:hover {\n",
              "      background-color: #434B5C;\n",
              "      box-shadow: 0px 1px 3px 1px rgba(0, 0, 0, 0.15);\n",
              "      filter: drop-shadow(0px 1px 2px rgba(0, 0, 0, 0.3));\n",
              "      fill: #FFFFFF;\n",
              "    }\n",
              "  </style>\n",
              "\n",
              "    <script>\n",
              "      const buttonEl =\n",
              "        document.querySelector('#df-47df9e28-b612-413a-8ccb-89e237a62e09 button.colab-df-convert');\n",
              "      buttonEl.style.display =\n",
              "        google.colab.kernel.accessAllowed ? 'block' : 'none';\n",
              "\n",
              "      async function convertToInteractive(key) {\n",
              "        const element = document.querySelector('#df-47df9e28-b612-413a-8ccb-89e237a62e09');\n",
              "        const dataTable =\n",
              "          await google.colab.kernel.invokeFunction('convertToInteractive',\n",
              "                                                    [key], {});\n",
              "        if (!dataTable) return;\n",
              "\n",
              "        const docLinkHtml = 'Like what you see? Visit the ' +\n",
              "          '<a target=\"_blank\" href=https://colab.research.google.com/notebooks/data_table.ipynb>data table notebook</a>'\n",
              "          + ' to learn more about interactive tables.';\n",
              "        element.innerHTML = '';\n",
              "        dataTable['output_type'] = 'display_data';\n",
              "        await google.colab.output.renderOutput(dataTable, element);\n",
              "        const docLink = document.createElement('div');\n",
              "        docLink.innerHTML = docLinkHtml;\n",
              "        element.appendChild(docLink);\n",
              "      }\n",
              "    </script>\n",
              "  </div>\n",
              "\n",
              "\n",
              "<div id=\"df-0130acea-13d5-4043-b97c-c89dbec2cc80\">\n",
              "  <button class=\"colab-df-quickchart\" onclick=\"quickchart('df-0130acea-13d5-4043-b97c-c89dbec2cc80')\"\n",
              "            title=\"Suggest charts\"\n",
              "            style=\"display:none;\">\n",
              "\n",
              "<svg xmlns=\"http://www.w3.org/2000/svg\" height=\"24px\"viewBox=\"0 0 24 24\"\n",
              "     width=\"24px\">\n",
              "    <g>\n",
              "        <path d=\"M19 3H5c-1.1 0-2 .9-2 2v14c0 1.1.9 2 2 2h14c1.1 0 2-.9 2-2V5c0-1.1-.9-2-2-2zM9 17H7v-7h2v7zm4 0h-2V7h2v10zm4 0h-2v-4h2v4z\"/>\n",
              "    </g>\n",
              "</svg>\n",
              "  </button>\n",
              "\n",
              "<style>\n",
              "  .colab-df-quickchart {\n",
              "      --bg-color: #E8F0FE;\n",
              "      --fill-color: #1967D2;\n",
              "      --hover-bg-color: #E2EBFA;\n",
              "      --hover-fill-color: #174EA6;\n",
              "      --disabled-fill-color: #AAA;\n",
              "      --disabled-bg-color: #DDD;\n",
              "  }\n",
              "\n",
              "  [theme=dark] .colab-df-quickchart {\n",
              "      --bg-color: #3B4455;\n",
              "      --fill-color: #D2E3FC;\n",
              "      --hover-bg-color: #434B5C;\n",
              "      --hover-fill-color: #FFFFFF;\n",
              "      --disabled-bg-color: #3B4455;\n",
              "      --disabled-fill-color: #666;\n",
              "  }\n",
              "\n",
              "  .colab-df-quickchart {\n",
              "    background-color: var(--bg-color);\n",
              "    border: none;\n",
              "    border-radius: 50%;\n",
              "    cursor: pointer;\n",
              "    display: none;\n",
              "    fill: var(--fill-color);\n",
              "    height: 32px;\n",
              "    padding: 0;\n",
              "    width: 32px;\n",
              "  }\n",
              "\n",
              "  .colab-df-quickchart:hover {\n",
              "    background-color: var(--hover-bg-color);\n",
              "    box-shadow: 0 1px 2px rgba(60, 64, 67, 0.3), 0 1px 3px 1px rgba(60, 64, 67, 0.15);\n",
              "    fill: var(--button-hover-fill-color);\n",
              "  }\n",
              "\n",
              "  .colab-df-quickchart-complete:disabled,\n",
              "  .colab-df-quickchart-complete:disabled:hover {\n",
              "    background-color: var(--disabled-bg-color);\n",
              "    fill: var(--disabled-fill-color);\n",
              "    box-shadow: none;\n",
              "  }\n",
              "\n",
              "  .colab-df-spinner {\n",
              "    border: 2px solid var(--fill-color);\n",
              "    border-color: transparent;\n",
              "    border-bottom-color: var(--fill-color);\n",
              "    animation:\n",
              "      spin 1s steps(1) infinite;\n",
              "  }\n",
              "\n",
              "  @keyframes spin {\n",
              "    0% {\n",
              "      border-color: transparent;\n",
              "      border-bottom-color: var(--fill-color);\n",
              "      border-left-color: var(--fill-color);\n",
              "    }\n",
              "    20% {\n",
              "      border-color: transparent;\n",
              "      border-left-color: var(--fill-color);\n",
              "      border-top-color: var(--fill-color);\n",
              "    }\n",
              "    30% {\n",
              "      border-color: transparent;\n",
              "      border-left-color: var(--fill-color);\n",
              "      border-top-color: var(--fill-color);\n",
              "      border-right-color: var(--fill-color);\n",
              "    }\n",
              "    40% {\n",
              "      border-color: transparent;\n",
              "      border-right-color: var(--fill-color);\n",
              "      border-top-color: var(--fill-color);\n",
              "    }\n",
              "    60% {\n",
              "      border-color: transparent;\n",
              "      border-right-color: var(--fill-color);\n",
              "    }\n",
              "    80% {\n",
              "      border-color: transparent;\n",
              "      border-right-color: var(--fill-color);\n",
              "      border-bottom-color: var(--fill-color);\n",
              "    }\n",
              "    90% {\n",
              "      border-color: transparent;\n",
              "      border-bottom-color: var(--fill-color);\n",
              "    }\n",
              "  }\n",
              "</style>\n",
              "\n",
              "  <script>\n",
              "    async function quickchart(key) {\n",
              "      const quickchartButtonEl =\n",
              "        document.querySelector('#' + key + ' button');\n",
              "      quickchartButtonEl.disabled = true;  // To prevent multiple clicks.\n",
              "      quickchartButtonEl.classList.add('colab-df-spinner');\n",
              "      try {\n",
              "        const charts = await google.colab.kernel.invokeFunction(\n",
              "            'suggestCharts', [key], {});\n",
              "      } catch (error) {\n",
              "        console.error('Error during call to suggestCharts:', error);\n",
              "      }\n",
              "      quickchartButtonEl.classList.remove('colab-df-spinner');\n",
              "      quickchartButtonEl.classList.add('colab-df-quickchart-complete');\n",
              "    }\n",
              "    (() => {\n",
              "      let quickchartButtonEl =\n",
              "        document.querySelector('#df-0130acea-13d5-4043-b97c-c89dbec2cc80 button');\n",
              "      quickchartButtonEl.style.display =\n",
              "        google.colab.kernel.accessAllowed ? 'block' : 'none';\n",
              "    })();\n",
              "  </script>\n",
              "</div>\n",
              "\n",
              "    </div>\n",
              "  </div>\n"
            ],
            "application/vnd.google.colaboratory.intrinsic+json": {
              "type": "dataframe",
              "summary": "{\n  \"name\": \"tweets_df[100:105]\",\n  \"rows\": 5,\n  \"fields\": [\n    {\n      \"column\": \"id\",\n      \"properties\": {\n        \"dtype\": \"number\",\n        \"std\": 2,\n        \"min\": 144,\n        \"max\": 151,\n        \"num_unique_values\": 5,\n        \"samples\": [\n          145,\n          151,\n          146\n        ],\n        \"semantic_type\": \"\",\n        \"description\": \"\"\n      }\n    },\n    {\n      \"column\": \"keyword\",\n      \"properties\": {\n        \"dtype\": \"category\",\n        \"num_unique_values\": 2,\n        \"samples\": [\n          \"aftershock\",\n          \"accident\"\n        ],\n        \"semantic_type\": \"\",\n        \"description\": \"\"\n      }\n    },\n    {\n      \"column\": \"location\",\n      \"properties\": {\n        \"dtype\": \"string\",\n        \"num_unique_values\": 5,\n        \"samples\": [\n          \"Nairobi, Kenya\",\n          \"Switzerland\"\n        ],\n        \"semantic_type\": \"\",\n        \"description\": \"\"\n      }\n    },\n    {\n      \"column\": \"text\",\n      \"properties\": {\n        \"dtype\": \"string\",\n        \"num_unique_values\": 5,\n        \"samples\": [\n          \"I still have not heard Church Leaders of Kenya coming forward to comment on the accident issue and disciplinary measures#ArrestPastorNganga\",\n          \"320 [IR] ICEMOON [AFTERSHOCK] | http://t.co/yNXnvVKCDA | @djicemoon | #Dubstep #TrapMusic #DnB #EDM #Dance #Ices\\u0089\\u00db_ http://t.co/weQPesENku\"\n        ],\n        \"semantic_type\": \"\",\n        \"description\": \"\"\n      }\n    },\n    {\n      \"column\": \"target\",\n      \"properties\": {\n        \"dtype\": \"number\",\n        \"std\": 0,\n        \"min\": 0,\n        \"max\": 1,\n        \"num_unique_values\": 2,\n        \"samples\": [\n          0,\n          1\n        ],\n        \"semantic_type\": \"\",\n        \"description\": \"\"\n      }\n    }\n  ]\n}"
            }
          },
          "metadata": {},
          "execution_count": 12
        }
      ],
      "source": [
        "# import csv\n",
        "#user_results_df.loc[user_results_df[\"category\"] == \"I\", \"pad_radius\"] = user_results_df.iloc[1]['score']\n",
        "tweets_df = pd.read_csv('train.csv')\n",
        "tweets_df.loc[tweets_df[\"keyword\"].isnull(), \"keyword\" ] = ''\n",
        "tweets_df.loc[tweets_df[\"location\"].isnull(), \"location\" ] = ''\n",
        "size = tweets_df.shape\n",
        "tweets_df[100:105].head(5)"
      ],
      "id": "19256cee"
    },
    {
      "cell_type": "code",
      "execution_count": null,
      "metadata": {
        "id": "hjJll8QMRvxM"
      },
      "outputs": [],
      "source": [
        "#creating training data from trainging data set\n",
        "x_tweets = tweets_df.iloc[0:tweets_df.shape[0], 3:4]\n",
        "#x_tweets = x_tweets.to_numpy()\n",
        "\n",
        "y_tweets = tweets_df.iloc[0:tweets_df.shape[0], 4:5]\n",
        "#y_tweets = y_tweets.to_numpy()\n",
        "\n",
        "#adding location\n",
        "#x_loc = tweets_df.iloc[0:tweets_df.shape[0], 2:3].to_numpy()\n",
        "x_loc = tweets_df.iloc[0:tweets_df.shape[0], 2:3]\n",
        "\n",
        "#adding keyword\n",
        "\n",
        "#x_kword = tweets_df.iloc[0:tweets_df.shape[0], 1:2].to_numpy()\n",
        "x_kword = tweets_df.iloc[0:tweets_df.shape[0], 1:2]"
      ],
      "id": "hjJll8QMRvxM"
    },
    {
      "cell_type": "code",
      "execution_count": null,
      "metadata": {
        "colab": {
          "base_uri": "https://localhost:8080/"
        },
        "id": "J5UaGk0eRJ4q",
        "outputId": "686c9be1-3a99-414f-9613-cae270f7330e"
      },
      "outputs": [
        {
          "output_type": "stream",
          "name": "stdout",
          "text": [
            "Size of the training data subset:  6090\n",
            "Total Size of Training Data set:  7613\n",
            "Validation size start:  6091\n",
            "Validation size end:  6852\n",
            "Test size start:  6853\n"
          ]
        }
      ],
      "source": [
        "#determining size of 80% of training data\n",
        "\n",
        "train_size = math.floor(tweets_df.shape[0]*0.80)\n",
        "print (\"Size of the training data subset: \", train_size)\n",
        "size = tweets_df.shape[0]\n",
        "print(\"Total Size of Training Data set: \", size)\n",
        "val_start = train_size +1\n",
        "print(\"Validation size start: \", val_start)\n",
        "val_end = val_start + math.floor(tweets_df.shape[0]*0.1)\n",
        "print(\"Validation size end: \", val_end)\n",
        "test_start = val_end + 1\n",
        "print(\"Test size start: \", test_start)\n",
        "\n",
        "#creating training data from trainging data set\n",
        "x_train_tweets = x_tweets[0:train_size]\n",
        "y_train_tweets = y_tweets[0:train_size]\n",
        "#x_train_tweets = x_train_tweets.to_numpy()\n",
        "#y_train_tweets = y_train_tweets.to_numpy()\n",
        "\n",
        "#creating validation data from training data set.\n",
        "x_val_tweets = x_tweets[val_start:val_end]\n",
        "y_val_tweets = y_tweets[val_start:val_end]\n",
        "#x_val_tweets = x_val_tweets.to_numpy()\n",
        "#y_val_tweets = y_val_tweets.to_numpy()\n",
        "\n",
        "#creating test data from training data set.\n",
        "x_test_tweets =  x_tweets[test_start:size]\n",
        "y_test_tweets = y_tweets[test_start:size]\n",
        "\n"
      ],
      "id": "J5UaGk0eRJ4q"
    },
    {
      "cell_type": "code",
      "execution_count": null,
      "metadata": {
        "colab": {
          "base_uri": "https://localhost:8080/",
          "height": 89
        },
        "id": "2hQCr6zGRTOw",
        "outputId": "3e1d6b2b-8d05-4f4f-d3bb-298fef50f337"
      },
      "outputs": [
        {
          "data": {
            "application/vnd.google.colaboratory.intrinsic+json": {
              "type": "string"
            },
            "text/plain": [
              "'\\n# Apply random shufflying to training examples.\\nnp.random.seed(0)\\nindices = np.arange(x_train_tweets.shape[0])\\nshuffled_indices = np.random.permutation(indices)\\nx_train_tweets = x_train_tweets[shuffled_indices]\\ny_train_tweets = y_train_tweets[shuffled_indices]\\n\\n# Apply random shufflying to validation data set.\\nindices = np.arange(x_val_tweets.shape[0])\\nshuffled_indices = np.random.permutation(indices)\\nx_val_tweets = x_val_tweets[shuffled_indices]\\ny_val_tweets = y_val_tweets[shuffled_indices]\\n'"
            ]
          },
          "execution_count": 106,
          "metadata": {},
          "output_type": "execute_result"
        }
      ],
      "source": [],
      "id": "2hQCr6zGRTOw"
    },
    {
      "cell_type": "code",
      "execution_count": null,
      "metadata": {
        "colab": {
          "base_uri": "https://localhost:8080/",
          "height": 143
        },
        "id": "YxHAbvPxSLhF",
        "outputId": "67f35813-9e76-4608-986d-b1b74b2d05f3"
      },
      "outputs": [
        {
          "output_type": "execute_result",
          "data": {
            "text/plain": [
              "                                                text\n",
              "0  Our Deeds are the Reason of this #earthquake M...\n",
              "1             Forest fire near La Ronge Sask. Canada\n",
              "2  All residents asked to 'shelter in place' are ..."
            ],
            "text/html": [
              "\n",
              "  <div id=\"df-a1c104fb-796e-45ac-a71a-a6602ac5972c\" class=\"colab-df-container\">\n",
              "    <div>\n",
              "<style scoped>\n",
              "    .dataframe tbody tr th:only-of-type {\n",
              "        vertical-align: middle;\n",
              "    }\n",
              "\n",
              "    .dataframe tbody tr th {\n",
              "        vertical-align: top;\n",
              "    }\n",
              "\n",
              "    .dataframe thead th {\n",
              "        text-align: right;\n",
              "    }\n",
              "</style>\n",
              "<table border=\"1\" class=\"dataframe\">\n",
              "  <thead>\n",
              "    <tr style=\"text-align: right;\">\n",
              "      <th></th>\n",
              "      <th>text</th>\n",
              "    </tr>\n",
              "  </thead>\n",
              "  <tbody>\n",
              "    <tr>\n",
              "      <th>0</th>\n",
              "      <td>Our Deeds are the Reason of this #earthquake M...</td>\n",
              "    </tr>\n",
              "    <tr>\n",
              "      <th>1</th>\n",
              "      <td>Forest fire near La Ronge Sask. Canada</td>\n",
              "    </tr>\n",
              "    <tr>\n",
              "      <th>2</th>\n",
              "      <td>All residents asked to 'shelter in place' are ...</td>\n",
              "    </tr>\n",
              "  </tbody>\n",
              "</table>\n",
              "</div>\n",
              "    <div class=\"colab-df-buttons\">\n",
              "\n",
              "  <div class=\"colab-df-container\">\n",
              "    <button class=\"colab-df-convert\" onclick=\"convertToInteractive('df-a1c104fb-796e-45ac-a71a-a6602ac5972c')\"\n",
              "            title=\"Convert this dataframe to an interactive table.\"\n",
              "            style=\"display:none;\">\n",
              "\n",
              "  <svg xmlns=\"http://www.w3.org/2000/svg\" height=\"24px\" viewBox=\"0 -960 960 960\">\n",
              "    <path d=\"M120-120v-720h720v720H120Zm60-500h600v-160H180v160Zm220 220h160v-160H400v160Zm0 220h160v-160H400v160ZM180-400h160v-160H180v160Zm440 0h160v-160H620v160ZM180-180h160v-160H180v160Zm440 0h160v-160H620v160Z\"/>\n",
              "  </svg>\n",
              "    </button>\n",
              "\n",
              "  <style>\n",
              "    .colab-df-container {\n",
              "      display:flex;\n",
              "      gap: 12px;\n",
              "    }\n",
              "\n",
              "    .colab-df-convert {\n",
              "      background-color: #E8F0FE;\n",
              "      border: none;\n",
              "      border-radius: 50%;\n",
              "      cursor: pointer;\n",
              "      display: none;\n",
              "      fill: #1967D2;\n",
              "      height: 32px;\n",
              "      padding: 0 0 0 0;\n",
              "      width: 32px;\n",
              "    }\n",
              "\n",
              "    .colab-df-convert:hover {\n",
              "      background-color: #E2EBFA;\n",
              "      box-shadow: 0px 1px 2px rgba(60, 64, 67, 0.3), 0px 1px 3px 1px rgba(60, 64, 67, 0.15);\n",
              "      fill: #174EA6;\n",
              "    }\n",
              "\n",
              "    .colab-df-buttons div {\n",
              "      margin-bottom: 4px;\n",
              "    }\n",
              "\n",
              "    [theme=dark] .colab-df-convert {\n",
              "      background-color: #3B4455;\n",
              "      fill: #D2E3FC;\n",
              "    }\n",
              "\n",
              "    [theme=dark] .colab-df-convert:hover {\n",
              "      background-color: #434B5C;\n",
              "      box-shadow: 0px 1px 3px 1px rgba(0, 0, 0, 0.15);\n",
              "      filter: drop-shadow(0px 1px 2px rgba(0, 0, 0, 0.3));\n",
              "      fill: #FFFFFF;\n",
              "    }\n",
              "  </style>\n",
              "\n",
              "    <script>\n",
              "      const buttonEl =\n",
              "        document.querySelector('#df-a1c104fb-796e-45ac-a71a-a6602ac5972c button.colab-df-convert');\n",
              "      buttonEl.style.display =\n",
              "        google.colab.kernel.accessAllowed ? 'block' : 'none';\n",
              "\n",
              "      async function convertToInteractive(key) {\n",
              "        const element = document.querySelector('#df-a1c104fb-796e-45ac-a71a-a6602ac5972c');\n",
              "        const dataTable =\n",
              "          await google.colab.kernel.invokeFunction('convertToInteractive',\n",
              "                                                    [key], {});\n",
              "        if (!dataTable) return;\n",
              "\n",
              "        const docLinkHtml = 'Like what you see? Visit the ' +\n",
              "          '<a target=\"_blank\" href=https://colab.research.google.com/notebooks/data_table.ipynb>data table notebook</a>'\n",
              "          + ' to learn more about interactive tables.';\n",
              "        element.innerHTML = '';\n",
              "        dataTable['output_type'] = 'display_data';\n",
              "        await google.colab.output.renderOutput(dataTable, element);\n",
              "        const docLink = document.createElement('div');\n",
              "        docLink.innerHTML = docLinkHtml;\n",
              "        element.appendChild(docLink);\n",
              "      }\n",
              "    </script>\n",
              "  </div>\n",
              "\n",
              "\n",
              "<div id=\"df-c94b7fff-fa9a-4eec-9091-5cd8b92ddba8\">\n",
              "  <button class=\"colab-df-quickchart\" onclick=\"quickchart('df-c94b7fff-fa9a-4eec-9091-5cd8b92ddba8')\"\n",
              "            title=\"Suggest charts\"\n",
              "            style=\"display:none;\">\n",
              "\n",
              "<svg xmlns=\"http://www.w3.org/2000/svg\" height=\"24px\"viewBox=\"0 0 24 24\"\n",
              "     width=\"24px\">\n",
              "    <g>\n",
              "        <path d=\"M19 3H5c-1.1 0-2 .9-2 2v14c0 1.1.9 2 2 2h14c1.1 0 2-.9 2-2V5c0-1.1-.9-2-2-2zM9 17H7v-7h2v7zm4 0h-2V7h2v10zm4 0h-2v-4h2v4z\"/>\n",
              "    </g>\n",
              "</svg>\n",
              "  </button>\n",
              "\n",
              "<style>\n",
              "  .colab-df-quickchart {\n",
              "      --bg-color: #E8F0FE;\n",
              "      --fill-color: #1967D2;\n",
              "      --hover-bg-color: #E2EBFA;\n",
              "      --hover-fill-color: #174EA6;\n",
              "      --disabled-fill-color: #AAA;\n",
              "      --disabled-bg-color: #DDD;\n",
              "  }\n",
              "\n",
              "  [theme=dark] .colab-df-quickchart {\n",
              "      --bg-color: #3B4455;\n",
              "      --fill-color: #D2E3FC;\n",
              "      --hover-bg-color: #434B5C;\n",
              "      --hover-fill-color: #FFFFFF;\n",
              "      --disabled-bg-color: #3B4455;\n",
              "      --disabled-fill-color: #666;\n",
              "  }\n",
              "\n",
              "  .colab-df-quickchart {\n",
              "    background-color: var(--bg-color);\n",
              "    border: none;\n",
              "    border-radius: 50%;\n",
              "    cursor: pointer;\n",
              "    display: none;\n",
              "    fill: var(--fill-color);\n",
              "    height: 32px;\n",
              "    padding: 0;\n",
              "    width: 32px;\n",
              "  }\n",
              "\n",
              "  .colab-df-quickchart:hover {\n",
              "    background-color: var(--hover-bg-color);\n",
              "    box-shadow: 0 1px 2px rgba(60, 64, 67, 0.3), 0 1px 3px 1px rgba(60, 64, 67, 0.15);\n",
              "    fill: var(--button-hover-fill-color);\n",
              "  }\n",
              "\n",
              "  .colab-df-quickchart-complete:disabled,\n",
              "  .colab-df-quickchart-complete:disabled:hover {\n",
              "    background-color: var(--disabled-bg-color);\n",
              "    fill: var(--disabled-fill-color);\n",
              "    box-shadow: none;\n",
              "  }\n",
              "\n",
              "  .colab-df-spinner {\n",
              "    border: 2px solid var(--fill-color);\n",
              "    border-color: transparent;\n",
              "    border-bottom-color: var(--fill-color);\n",
              "    animation:\n",
              "      spin 1s steps(1) infinite;\n",
              "  }\n",
              "\n",
              "  @keyframes spin {\n",
              "    0% {\n",
              "      border-color: transparent;\n",
              "      border-bottom-color: var(--fill-color);\n",
              "      border-left-color: var(--fill-color);\n",
              "    }\n",
              "    20% {\n",
              "      border-color: transparent;\n",
              "      border-left-color: var(--fill-color);\n",
              "      border-top-color: var(--fill-color);\n",
              "    }\n",
              "    30% {\n",
              "      border-color: transparent;\n",
              "      border-left-color: var(--fill-color);\n",
              "      border-top-color: var(--fill-color);\n",
              "      border-right-color: var(--fill-color);\n",
              "    }\n",
              "    40% {\n",
              "      border-color: transparent;\n",
              "      border-right-color: var(--fill-color);\n",
              "      border-top-color: var(--fill-color);\n",
              "    }\n",
              "    60% {\n",
              "      border-color: transparent;\n",
              "      border-right-color: var(--fill-color);\n",
              "    }\n",
              "    80% {\n",
              "      border-color: transparent;\n",
              "      border-right-color: var(--fill-color);\n",
              "      border-bottom-color: var(--fill-color);\n",
              "    }\n",
              "    90% {\n",
              "      border-color: transparent;\n",
              "      border-bottom-color: var(--fill-color);\n",
              "    }\n",
              "  }\n",
              "</style>\n",
              "\n",
              "  <script>\n",
              "    async function quickchart(key) {\n",
              "      const quickchartButtonEl =\n",
              "        document.querySelector('#' + key + ' button');\n",
              "      quickchartButtonEl.disabled = true;  // To prevent multiple clicks.\n",
              "      quickchartButtonEl.classList.add('colab-df-spinner');\n",
              "      try {\n",
              "        const charts = await google.colab.kernel.invokeFunction(\n",
              "            'suggestCharts', [key], {});\n",
              "      } catch (error) {\n",
              "        console.error('Error during call to suggestCharts:', error);\n",
              "      }\n",
              "      quickchartButtonEl.classList.remove('colab-df-spinner');\n",
              "      quickchartButtonEl.classList.add('colab-df-quickchart-complete');\n",
              "    }\n",
              "    (() => {\n",
              "      let quickchartButtonEl =\n",
              "        document.querySelector('#df-c94b7fff-fa9a-4eec-9091-5cd8b92ddba8 button');\n",
              "      quickchartButtonEl.style.display =\n",
              "        google.colab.kernel.accessAllowed ? 'block' : 'none';\n",
              "    })();\n",
              "  </script>\n",
              "</div>\n",
              "\n",
              "    </div>\n",
              "  </div>\n"
            ],
            "application/vnd.google.colaboratory.intrinsic+json": {
              "type": "dataframe",
              "variable_name": "x_train_tweets",
              "summary": "{\n  \"name\": \"x_train_tweets\",\n  \"rows\": 6090,\n  \"fields\": [\n    {\n      \"column\": \"text\",\n      \"properties\": {\n        \"dtype\": \"string\",\n        \"num_unique_values\": 6001,\n        \"samples\": [\n          \"Photoshop Tools Crash Course - Complete Photoshop Tool Guide http://t.co/DunMvj7ITl #course http://t.co/RgdrJv63hF\",\n          \"Heavy Rainfall and Flooding in Northern #VietNam | Situation Report No.2 http://t.co/hVxu1Zcvau http://t.co/iJmCCMHh5G\",\n          \"70 years since we annihilated 100000 people instantly and became aware that we have the ability to annihilate the whole of humanity\"\n        ],\n        \"semantic_type\": \"\",\n        \"description\": \"\"\n      }\n    }\n  ]\n}"
            }
          },
          "metadata": {},
          "execution_count": 15
        }
      ],
      "source": [
        "x_train_tweets.head(3)"
      ],
      "id": "YxHAbvPxSLhF"
    },
    {
      "cell_type": "markdown",
      "metadata": {
        "id": "f61b3f6a"
      },
      "source": [
        "We will tokenize the words:"
      ],
      "id": "f61b3f6a"
    },
    {
      "cell_type": "code",
      "execution_count": null,
      "metadata": {
        "id": "43c4fd4c"
      },
      "outputs": [],
      "source": [
        "from tensorflow.keras.preprocessing.text import Tokenizer\n",
        "from tensorflow.keras.preprocessing.sequence import pad_sequences\n"
      ],
      "id": "43c4fd4c"
    },
    {
      "cell_type": "code",
      "execution_count": null,
      "metadata": {
        "id": "I-5PhSx7m9Rc"
      },
      "outputs": [],
      "source": [
        "\n",
        "# Assuming sentences is your list of sentences\n",
        "tokenizer = Tokenizer()\n",
        "tokenizer.fit_on_texts(x_train_tweets['text']) # first creates a dictionary mapping every unique word in your text data to a unique integer.\n",
        "\n"
      ],
      "id": "I-5PhSx7m9Rc"
    },
    {
      "cell_type": "code",
      "execution_count": null,
      "metadata": {
        "id": "L0otB74_nrF9"
      },
      "outputs": [],
      "source": [
        "sequences = tokenizer.texts_to_sequences(x_train_tweets['text'])\n"
      ],
      "id": "L0otB74_nrF9"
    },
    {
      "cell_type": "code",
      "execution_count": null,
      "metadata": {
        "colab": {
          "base_uri": "https://localhost:8080/"
        },
        "id": "BOrnzrYLoT_y",
        "outputId": "cfb907d4-ce90-44c0-d6f6-dbe5bfd9ffe3"
      },
      "outputs": [
        {
          "output_type": "stream",
          "name": "stdout",
          "text": [
            "original tweets: \n",
            "0 :  Our Deeds are the Reason of this #earthquake May ALLAH Forgive us all\n",
            "1 :  Forest fire near La Ronge Sask. Canada\n",
            "2 :  All residents asked to 'shelter in place' are being notified by officers. No other evacuation or shelter in place orders are expected\n",
            "3 :  13,000 people receive #wildfires evacuation orders in California \n",
            "4 :  Just got sent this photo from Ruby #Alaska as smoke from #wildfires pours into a school \n",
            "tokenized tweets: \n",
            "0 :  [107, 3995, 22, 4, 837, 8, 21, 370, 121, 1449, 3996, 87, 43]\n",
            "1 :  [157, 38, 221, 790, 5981, 5982, 1450]\n",
            "2 :  [43, 1623, 1348, 6, 5983, 7, 5984, 22, 124, 5985, 19, 1624, 40, 458, 211, 56, 2080, 7, 660, 1134, 22, 1349]\n",
            "3 :  [995, 2456, 58, 3997, 1235, 211, 1134, 7, 101]\n",
            "4 :  [32, 99, 1236, 21, 431, 24, 5986, 1822, 33, 1054, 24, 1235, 5987, 72, 5, 177]\n"
          ]
        }
      ],
      "source": [
        "print(\"original tweets: \")\n",
        "for i in range(5):\n",
        "  print(i,\": \",x_train_tweets.text.iloc[i])\n",
        "print('tokenized tweets: ')\n",
        "for i in range(5):\n",
        "  print(i,\": \",sequences[i])"
      ],
      "id": "BOrnzrYLoT_y"
    },
    {
      "cell_type": "markdown",
      "metadata": {
        "id": "sXN6ZwUrpEEV"
      },
      "source": [
        "###Covert back to word"
      ],
      "id": "sXN6ZwUrpEEV"
    },
    {
      "cell_type": "code",
      "execution_count": null,
      "metadata": {
        "id": "uM66oU6LpDfo"
      },
      "outputs": [],
      "source": [
        "#\n",
        "tokenized_sentences = []\n",
        "for sequence in sequences:\n",
        "    words = [tokenizer.index_word[token] for token in sequence if token in tokenizer.index_word]\n",
        "    sentence = ' '.join(words)\n",
        "    tokenized_sentences.append(sentence)"
      ],
      "id": "uM66oU6LpDfo"
    },
    {
      "cell_type": "code",
      "execution_count": null,
      "metadata": {
        "colab": {
          "base_uri": "https://localhost:8080/"
        },
        "id": "QZ0Pb1_AqYGF",
        "outputId": "261b149f-2562-4d85-d669-a804bc059203"
      },
      "outputs": [
        {
          "output_type": "stream",
          "name": "stdout",
          "text": [
            "0 :  our deeds are the reason of this earthquake may allah forgive us all\n",
            "1 :  forest fire near la ronge sask canada\n",
            "2 :  all residents asked to 'shelter in place' are being notified by officers no other evacuation or shelter in place orders are expected\n",
            "3 :  13 000 people receive wildfires evacuation orders in california\n",
            "4 :  just got sent this photo from ruby alaska as smoke from wildfires pours into a school\n"
          ]
        }
      ],
      "source": [
        "for i in range(5):\n",
        "  print(i,\": \",tokenized_sentences[i])\n"
      ],
      "id": "QZ0Pb1_AqYGF"
    },
    {
      "cell_type": "code",
      "source": [
        "print(len(sequences)), print(len(tokenized_sentences))"
      ],
      "metadata": {
        "colab": {
          "base_uri": "https://localhost:8080/"
        },
        "id": "lxCvp25FoEad",
        "outputId": "ac4c7979-3784-4c97-8022-d3c495744086"
      },
      "id": "lxCvp25FoEad",
      "execution_count": null,
      "outputs": [
        {
          "output_type": "stream",
          "name": "stdout",
          "text": [
            "6090\n",
            "6090\n"
          ]
        },
        {
          "output_type": "execute_result",
          "data": {
            "text/plain": [
              "(None, None)"
            ]
          },
          "metadata": {},
          "execution_count": 22
        }
      ]
    },
    {
      "cell_type": "markdown",
      "metadata": {
        "id": "yxTDEMiAqnzW"
      },
      "source": [
        "note above that hashtag is removed, punctuation and all letters are lowercased. This is optional and we can revisit."
      ],
      "id": "yxTDEMiAqnzW"
    },
    {
      "cell_type": "markdown",
      "metadata": {
        "id": "hG_T1nZH3HAu"
      },
      "source": [
        "###Below we create numpy array with vectorized sentences and padding at the end."
      ],
      "id": "hG_T1nZH3HAu"
    },
    {
      "cell_type": "code",
      "execution_count": null,
      "metadata": {
        "colab": {
          "base_uri": "https://localhost:8080/"
        },
        "id": "1bWSkppKv-vo",
        "outputId": "284b64ba-bdfc-488a-edd7-8af9ef018443"
      },
      "outputs": [
        {
          "name": "stdout",
          "output_type": "stream",
          "text": [
            "(6090, 30, 100)\n"
          ]
        }
      ],
      "source": [
        "max_sentence_length = 30 #based on EDA maximum word count is 30\n",
        "vector_dim = 100\n",
        "num_sentences = len(tokenized_sentences)\n",
        "\n",
        "# Initialize a 3D numpy array with zeros\n",
        "vectorized_sentences = np.zeros((num_sentences, max_sentence_length, vector_dim))\n",
        "\n",
        "for i in range(num_sentences):\n",
        "    words = tokenized_sentences[i].split()\n",
        "    for j in range(min(len(words), max_sentence_length)):\n",
        "        if words[j] in vector_model:\n",
        "            vectorized_sentences[i, j, :] = vector_model[words[j]]\n",
        "\n",
        "print(vectorized_sentences.shape)\n"
      ],
      "id": "1bWSkppKv-vo"
    },
    {
      "cell_type": "code",
      "execution_count": null,
      "metadata": {
        "colab": {
          "base_uri": "https://localhost:8080/"
        },
        "id": "-ua4MNbvvowe",
        "outputId": "76c597a8-c0f5-43a9-9a3f-f1a814e32c1e"
      },
      "outputs": [
        {
          "name": "stdout",
          "output_type": "stream",
          "text": [
            "[107, 3995, 22, 4, 837, 8, 21, 370, 121, 1449, 3996, 87, 43]\n",
            "length:  13\n"
          ]
        },
        {
          "data": {
            "text/plain": [
              "(None,\n",
              " None,\n",
              " array([ 1.56269997e-01, -1.37379998e-02,  3.37740004e-01,  4.04729992e-01,\n",
              "        -3.63669991e-02,  1.39290005e-01, -2.53720004e-02,  1.15249999e-01,\n",
              "        -6.00990024e-04,  1.58660002e-02, -3.72310013e-01,  1.97420001e-01,\n",
              "         1.06729999e-01,  6.35140017e-02,  2.53749996e-01,  6.01379983e-02,\n",
              "        -4.39310014e-01,  3.49900015e-02, -8.89699981e-02,  1.95270002e-01,\n",
              "         1.08709998e-01,  3.29919994e-01, -1.33599997e-01, -2.35139996e-01,\n",
              "         1.23359999e-02,  7.02890009e-02,  3.10620010e-01, -2.25390002e-01,\n",
              "        -2.82680005e-01,  5.47089987e-02,  6.37089983e-02,  4.31190014e-01,\n",
              "        -2.17820004e-01, -4.72200006e-01,  1.01599999e-01, -2.01949999e-01,\n",
              "        -1.59309998e-01, -3.58450003e-02,  3.26220006e-01,  3.22870016e-02,\n",
              "        -5.22629991e-02,  3.32599998e-01,  6.10530004e-02,  4.29069996e-01,\n",
              "        -1.98459998e-01, -1.98599994e-01, -1.93599999e-01,  2.66240001e-01,\n",
              "        -3.78729999e-01,  3.65520000e-01,  1.79470003e-01, -5.34030013e-02,\n",
              "         4.06280011e-01,  4.43630010e-01, -2.91649997e-02,  3.02179992e-01,\n",
              "        -3.27780008e-01, -1.23700000e-01, -4.13989983e-02,  4.37959999e-01,\n",
              "        -3.34170014e-02,  1.07220002e-01, -7.74379969e-02, -1.77829992e-02,\n",
              "         3.27969998e-01,  5.24420023e-01, -6.79849982e-02,  2.38289997e-01,\n",
              "        -3.14729989e-01,  1.42710000e-01, -3.73609990e-01,  1.91180006e-01,\n",
              "         3.07480004e-02,  4.09500003e-01,  1.39480000e-02, -5.01729995e-02,\n",
              "        -9.68350023e-02,  1.01030000e-01,  5.51039994e-01,  1.77729994e-01,\n",
              "         2.19979993e-04,  3.94730009e-02,  2.13459998e-01, -4.67719994e-02,\n",
              "         1.75459996e-01,  8.79049972e-02,  1.75420001e-01,  1.51829999e-02,\n",
              "         1.54300004e-01, -7.93009996e-02, -2.20009997e-01, -3.18760008e-01,\n",
              "         3.44770014e-01,  4.40719984e-02, -2.42530003e-01,  2.03779995e-01,\n",
              "        -2.99430005e-02, -8.85379985e-02,  1.33819997e-01, -4.31620002e-01]),\n",
              " array([0., 0., 0., 0., 0., 0., 0., 0., 0., 0., 0., 0., 0., 0., 0., 0., 0.,\n",
              "        0., 0., 0., 0., 0., 0., 0., 0., 0., 0., 0., 0., 0., 0., 0., 0., 0.,\n",
              "        0., 0., 0., 0., 0., 0., 0., 0., 0., 0., 0., 0., 0., 0., 0., 0., 0.,\n",
              "        0., 0., 0., 0., 0., 0., 0., 0., 0., 0., 0., 0., 0., 0., 0., 0., 0.,\n",
              "        0., 0., 0., 0., 0., 0., 0., 0., 0., 0., 0., 0., 0., 0., 0., 0., 0.,\n",
              "        0., 0., 0., 0., 0., 0., 0., 0., 0., 0., 0., 0., 0., 0., 0.]))"
            ]
          },
          "execution_count": 25,
          "metadata": {},
          "output_type": "execute_result"
        }
      ],
      "source": [
        " print(sequences[0]), print(\"length: \", len(sequences[0])), vectorized_sentences[0][12], vectorized_sentences[0][13]\n",
        "#first sentence is 13 words long, therefore pos 13 is only zeroes"
      ],
      "id": "-ua4MNbvvowe"
    },
    {
      "cell_type": "code",
      "execution_count": null,
      "metadata": {
        "id": "2gtC9AM1Z47I"
      },
      "outputs": [],
      "source": [
        "train_labels = y_train_tweets['target'].to_numpy()"
      ],
      "id": "2gtC9AM1Z47I"
    },
    {
      "cell_type": "code",
      "execution_count": null,
      "metadata": {
        "colab": {
          "base_uri": "https://localhost:8080/"
        },
        "id": "h7ohH5n7aNyQ",
        "outputId": "59b6c006-109f-4837-d74e-d6a66643a1ae"
      },
      "outputs": [
        {
          "data": {
            "text/plain": [
              "(array([[1],\n",
              "        [1],\n",
              "        [1],\n",
              "        [1],\n",
              "        [1],\n",
              "        [0],\n",
              "        [0],\n",
              "        [0],\n",
              "        [0],\n",
              "        [0]]),\n",
              " (6090, 1))"
            ]
          },
          "execution_count": 27,
          "metadata": {},
          "output_type": "execute_result"
        }
      ],
      "source": [
        "train_labels = train_labels.reshape(-1, 1)\n",
        "train_labels[10:20], train_labels.shape"
      ],
      "id": "h7ohH5n7aNyQ"
    },
    {
      "cell_type": "markdown",
      "metadata": {
        "id": "rma2sEU_Vwgb"
      },
      "source": [
        "###We will do the same for validation data"
      ],
      "id": "rma2sEU_Vwgb"
    },
    {
      "cell_type": "code",
      "execution_count": null,
      "metadata": {
        "colab": {
          "base_uri": "https://localhost:8080/"
        },
        "id": "Drrmls12V5mG",
        "outputId": "6018dcb6-8437-4d22-b37d-4e4c7980bffa"
      },
      "outputs": [
        {
          "name": "stdout",
          "output_type": "stream",
          "text": [
            "(761, 30, 100)\n"
          ]
        }
      ],
      "source": [
        "max_sentence_length = 30\n",
        "# Assuming sentences is your list of sentences\n",
        "tokenizer = Tokenizer()\n",
        "tokenizer.fit_on_texts(x_val_tweets['text']) # first creates a dictionary mapping every unique word in your text data to a unique integer.\n",
        "sequences = tokenizer.texts_to_sequences(x_val_tweets['text'])\n",
        "tokenized_sentences = []\n",
        "for sequence in sequences:\n",
        "    words = [tokenizer.index_word[token] for token in sequence if token in tokenizer.index_word]\n",
        "    sentence = ' '.join(words)\n",
        "    tokenized_sentences.append(sentence)\n",
        "#based on EDA maximum word count is 30\n",
        "vector_dim = 100\n",
        "num_sentences = len(tokenized_sentences)\n",
        "\n",
        "# Initialize a 3D numpy array with zeros\n",
        "vectorized_val_sentences = np.zeros((num_sentences, max_sentence_length, vector_dim))\n",
        "\n",
        "for i in range(num_sentences):\n",
        "    words = tokenized_sentences[i].split()\n",
        "    for j in range(min(len(words), max_sentence_length)):\n",
        "        if words[j] in vector_model:\n",
        "            vectorized_val_sentences[i, j, :] = vector_model[words[j]]\n",
        "\n",
        "print(vectorized_val_sentences.shape)"
      ],
      "id": "Drrmls12V5mG"
    },
    {
      "cell_type": "code",
      "execution_count": null,
      "metadata": {
        "colab": {
          "base_uri": "https://localhost:8080/"
        },
        "id": "jwGdLVEmW7RG",
        "outputId": "eb0cdf51-fbbd-43c1-ebf7-bb1842a1debb"
      },
      "outputs": [
        {
          "name": "stdout",
          "output_type": "stream",
          "text": [
            "that horrible sinking feeling when youÛªve been at home on your phone for a while and you realise its been on 3G this whole time\n",
            "that horrible sinking feeling when youûªve been at home on your phone for a while and you realise its been on 3g this whole time\n",
            "length:  25\n",
            "[ 0.17481001  0.18260001 -0.10205     0.032857    0.38372999 -0.18967\n",
            " -0.02931    -0.12083    -0.39074999  0.39283001  0.055647    0.39855\n",
            "  0.25323999 -0.043974   -0.023682   -0.011419   -0.56694001 -0.12059\n",
            " -0.39037001  0.24762    -0.17174999  0.30842    -0.059906    0.075074\n",
            " -0.069148    0.096894    0.16893999 -0.33679    -0.20124    -0.41428\n",
            "  0.038496   -0.046757    0.092485   -0.07576     0.21709999 -0.0067144\n",
            " -0.56766999 -0.11901    -0.00067966 -0.061472   -0.19169     0.26673999\n",
            " -0.15460999  0.22778    -0.082511   -0.23901001 -0.17274    -0.29988\n",
            " -0.3294      0.081687   -0.082505    0.20894     0.10242     0.31889999\n",
            "  0.24851     0.06357    -0.081414   -0.21665999 -0.025407    0.37733001\n",
            "  0.0011419  -0.29313999 -0.086862    0.12487     0.52133     0.25171\n",
            " -0.29953     0.17532    -0.12961     0.072277   -0.22115999  0.035881\n",
            "  0.10642     0.35187     0.017658   -0.052128    0.032532    0.098519\n",
            "  0.075745   -0.20073999  0.1019     -0.12332    -0.046318   -0.17366999\n",
            "  0.14396    -0.15082     0.43553001  0.0063175   0.12992001  0.034965\n",
            " -0.29064    -0.26201999  0.031249    0.47024    -0.03437     0.35518\n",
            " -0.20988999 -0.32611001 -0.29767001 -0.24298   ]\n",
            "[0. 0. 0. 0. 0. 0. 0. 0. 0. 0. 0. 0. 0. 0. 0. 0. 0. 0. 0. 0. 0. 0. 0. 0.\n",
            " 0. 0. 0. 0. 0. 0. 0. 0. 0. 0. 0. 0. 0. 0. 0. 0. 0. 0. 0. 0. 0. 0. 0. 0.\n",
            " 0. 0. 0. 0. 0. 0. 0. 0. 0. 0. 0. 0. 0. 0. 0. 0. 0. 0. 0. 0. 0. 0. 0. 0.\n",
            " 0. 0. 0. 0. 0. 0. 0. 0. 0. 0. 0. 0. 0. 0. 0. 0. 0. 0. 0. 0. 0. 0. 0. 0.\n",
            " 0. 0. 0. 0.]\n"
          ]
        },
        {
          "data": {
            "text/plain": [
              "(None, None, None, None, None)"
            ]
          },
          "execution_count": 29,
          "metadata": {},
          "output_type": "execute_result"
        }
      ],
      "source": [
        "print(x_val_tweets.text.iloc[0]), print(tokenized_sentences[0] ), print(\"length: \", len(sequences[0])), print(vectorized_val_sentences[0][24]), print(vectorized_val_sentences[0][25])"
      ],
      "id": "jwGdLVEmW7RG"
    },
    {
      "cell_type": "code",
      "execution_count": null,
      "metadata": {
        "colab": {
          "base_uri": "https://localhost:8080/"
        },
        "id": "f-WZPzMha8OI",
        "outputId": "cdf0fa9e-d802-4952-88da-2c79d50b18c1"
      },
      "outputs": [
        {
          "data": {
            "text/plain": [
              "(array([[1],\n",
              "        [0],\n",
              "        [0],\n",
              "        [0],\n",
              "        [1],\n",
              "        [0],\n",
              "        [0],\n",
              "        [0],\n",
              "        [0],\n",
              "        [1]]),\n",
              " (761, 1))"
            ]
          },
          "execution_count": 30,
          "metadata": {},
          "output_type": "execute_result"
        }
      ],
      "source": [
        "val_labels = y_val_tweets['target'].to_numpy()\n",
        "val_labels = val_labels.reshape(-1, 1)\n",
        "val_labels[0:10], val_labels.shape\n"
      ],
      "id": "f-WZPzMha8OI"
    },
    {
      "cell_type": "markdown",
      "metadata": {
        "id": "DK9Cr_h9GDoy"
      },
      "source": [
        "shuffle the data sets"
      ],
      "id": "DK9Cr_h9GDoy"
    },
    {
      "cell_type": "code",
      "execution_count": null,
      "metadata": {
        "id": "OODzpyduGB6T"
      },
      "outputs": [],
      "source": [
        "'''\n",
        "# Apply random shufflying to training examples.\n",
        "np.random.seed(0)\n",
        "indices = np.arange(x_train_tweets.shape[0])\n",
        "shuffled_indices = np.random.permutation(indices)\n",
        "x_train_tweets = x_train_tweets[shuffled_indices]\n",
        "y_train_tweets = y_train_tweets[shuffled_indices]\n",
        "\n",
        "# Apply random shufflying to validation data set.\n",
        "indices = np.arange(x_val_tweets.shape[0])\n",
        "shuffled_indices = np.random.permutation(indices)\n",
        "x_val_tweets = x_val_tweets[shuffled_indices]\n",
        "y_val_tweets = y_val_tweets[shuffled_indices]\n",
        "'''\n"
      ],
      "id": "OODzpyduGB6T"
    },
    {
      "cell_type": "markdown",
      "metadata": {
        "id": "l3gtXthMs8a8"
      },
      "source": [
        "#Lets Start Building the Neural Network Model"
      ],
      "id": "l3gtXthMs8a8"
    },
    {
      "cell_type": "markdown",
      "metadata": {
        "id": "OUop30DT8BeT"
      },
      "source": [
        "plotting tool"
      ],
      "id": "OUop30DT8BeT"
    },
    {
      "cell_type": "code",
      "execution_count": null,
      "metadata": {
        "id": "3caace78"
      },
      "outputs": [],
      "source": [
        "def plot_history(history):\n",
        "  plt.ylabel('Loss')\n",
        "  plt.xlabel('Epoch')\n",
        "  plt.xticks(range(0, len(history['loss'] + 1)))\n",
        "  plt.plot(history['loss'], label=\"training\", marker='o')\n",
        "  plt.plot(history['val_loss'], label=\"validation\", marker='o')\n",
        "  plt.legend()\n",
        "  plt.show()"
      ],
      "id": "3caace78"
    },
    {
      "cell_type": "markdown",
      "metadata": {
        "id": "TakrDTEC8Dgj"
      },
      "source": [
        "build training, validation and test set: need to change the below for a transformer architecture model"
      ],
      "id": "TakrDTEC8Dgj"
    },
    {
      "cell_type": "code",
      "execution_count": null,
      "metadata": {
        "colab": {
          "base_uri": "https://localhost:8080/"
        },
        "id": "kckn5HaW6fbG",
        "outputId": "3e7933a0-5f69-403d-84df-e572fe0856d5"
      },
      "outputs": [
        {
          "name": "stdout",
          "output_type": "stream",
          "text": [
            "Model: \"model\"\n",
            "_________________________________________________________________\n",
            " Layer (type)                Output Shape              Param #   \n",
            "=================================================================\n",
            " input_1 (InputLayer)        [(None, 30, 100)]         0         \n",
            "                                                                 \n",
            " conv1d (Conv1D)             (None, 26, 128)           64128     \n",
            "                                                                 \n",
            " global_max_pooling1d (Glob  (None, 128)               0         \n",
            " alMaxPooling1D)                                                 \n",
            "                                                                 \n",
            " dense (Dense)               (None, 64)                8256      \n",
            "                                                                 \n",
            " dense_1 (Dense)             (None, 32)                2080      \n",
            "                                                                 \n",
            " dropout (Dropout)           (None, 32)                0         \n",
            "                                                                 \n",
            " dense_2 (Dense)             (None, 1)                 33        \n",
            "                                                                 \n",
            "=================================================================\n",
            "Total params: 74497 (291.00 KB)\n",
            "Trainable params: 74497 (291.00 KB)\n",
            "Non-trainable params: 0 (0.00 Byte)\n",
            "_________________________________________________________________\n"
          ]
        }
      ],
      "source": [
        "from tensorflow.keras import layers\n",
        "\n",
        "# Define the shape of your input data\n",
        "input_shape = (30, 100)  # 30 words per sentence and 100 dimensions per word\n",
        "\n",
        "# Define your model\n",
        "inputs = keras.Input(shape=input_shape, dtype=\"float32\")\n",
        "x = layers.Conv1D(128, 5, activation=\"relu\")(inputs)\n",
        "x = layers.GlobalMaxPooling1D()(x)\n",
        "x = layers.Dense(64, activation=\"relu\")(x)\n",
        "x = layers.Dense(32, activation=\"relu\")(x)\n",
        "x = layers.Dropout(0.85)(x)\n",
        "outputs = layers.Dense(1, activation=\"sigmoid\")(x)\n",
        "\n",
        "model = keras.Model(inputs, outputs)\n",
        "model.summary()\n"
      ],
      "id": "kckn5HaW6fbG"
    },
    {
      "cell_type": "code",
      "execution_count": null,
      "metadata": {
        "colab": {
          "base_uri": "https://localhost:8080/",
          "height": 754
        },
        "id": "imCZNR-oZUL5",
        "outputId": "6cb25961-aa06-4802-9fac-1d62bd12da8d"
      },
      "outputs": [
        {
          "data": {
            "image/png": "[encoded data removed]",
            "text/plain": [
              "<IPython.core.display.Image object>"
            ]
          },
          "execution_count": 168,
          "metadata": {},
          "output_type": "execute_result"
        }
      ],
      "source": [
        "from tensorflow.keras.utils import plot_model\n",
        "plot_model(model, to_file=\"model_diagram.png\", show_shapes=True, show_layer_names=True)"
      ],
      "id": "imCZNR-oZUL5"
    },
    {
      "cell_type": "code",
      "execution_count": null,
      "metadata": {
        "colab": {
          "base_uri": "https://localhost:8080/",
          "height": 873
        },
        "id": "mOd60R96AION",
        "outputId": "c9ea1cbf-3a0e-425d-a5ab-1026549ed9aa"
      },
      "outputs": [
        {
          "name": "stdout",
          "output_type": "stream",
          "text": [
            "Epoch 1/10\n",
            "46/48 [===========================>..] - ETA: 0s - loss: 0.6837 - accuracy: 0.5686"
          ]
        },
        {
          "name": "stderr",
          "output_type": "stream",
          "text": [
            "/usr/local/lib/python3.10/dist-packages/keras/src/engine/training.py:3103: UserWarning: You are saving your model as an HDF5 file via `model.save()`. This file format is considered legacy. We recommend using instead the native Keras format, e.g. `model.save('my_model.keras')`.\n",
            "  saving_api.save_model(\n"
          ]
        },
        {
          "name": "stdout",
          "output_type": "stream",
          "text": [
            "\b\b\b\b\b\b\b\b\b\b\b\b\b\b\b\b\b\b\b\b\b\b\b\b\b\b\b\b\b\b\b\b\b\b\b\b\b\b\b\b\b\b\b\b\b\b\b\b\b\b\b\b\b\b\b\b\b\b\b\b\b\b\b\b\b\b\b\b\b\b\b\b\b\b\b\b\b\b\b\b\b\b\r48/48 [==============================] - 2s 21ms/step - loss: 0.6835 - accuracy: 0.5675 - val_loss: 0.6339 - val_accuracy: 0.7332\n",
            "Epoch 2/10\n",
            "48/48 [==============================] - 1s 12ms/step - loss: 0.6309 - accuracy: 0.6374 - val_loss: 0.5813 - val_accuracy: 0.7346\n",
            "Epoch 3/10\n",
            "48/48 [==============================] - 1s 12ms/step - loss: 0.5861 - accuracy: 0.6844 - val_loss: 0.5057 - val_accuracy: 0.7884\n",
            "Epoch 4/10\n",
            "48/48 [==============================] - 1s 13ms/step - loss: 0.5557 - accuracy: 0.7039 - val_loss: 0.5010 - val_accuracy: 0.7714\n",
            "Epoch 5/10\n",
            "48/48 [==============================] - 1s 12ms/step - loss: 0.5253 - accuracy: 0.7223 - val_loss: 0.4846 - val_accuracy: 0.7845\n",
            "Epoch 6/10\n",
            "48/48 [==============================] - 1s 11ms/step - loss: 0.5041 - accuracy: 0.7363 - val_loss: 0.5108 - val_accuracy: 0.7608\n",
            "Epoch 7/10\n",
            "48/48 [==============================] - 1s 17ms/step - loss: 0.4885 - accuracy: 0.7448 - val_loss: 0.4598 - val_accuracy: 0.8029\n",
            "Epoch 8/10\n",
            "48/48 [==============================] - 1s 12ms/step - loss: 0.4582 - accuracy: 0.7545 - val_loss: 0.5375 - val_accuracy: 0.7608\n",
            "Epoch 9/10\n",
            "48/48 [==============================] - 1s 12ms/step - loss: 0.4468 - accuracy: 0.7598 - val_loss: 0.4592 - val_accuracy: 0.8121\n",
            "Epoch 10/10\n",
            "48/48 [==============================] - 1s 11ms/step - loss: 0.4114 - accuracy: 0.7719 - val_loss: 0.4655 - val_accuracy: 0.8068\n"
          ]
        },
        {
          "data": {
            "image/png": "[encoded data removed]",
            "text/plain": [
              "<Figure size 640x480 with 1 Axes>"
            ]
          },
          "metadata": {},
          "output_type": "display_data"
        }
      ],
      "source": [
        "from keras import losses\n",
        "\n",
        "checkpoint_dir = './model_checkpoints/'\n",
        "checkpoint_filepath = checkpoint_dir + 'cnn_weights.{epoch:02d}-{val_accuracy:.2f}.hdf5'\n",
        "\n",
        "\n",
        "callbacks_list = [\n",
        "    keras.callbacks.EarlyStopping(\n",
        "        monitor=\"val_accuracy\",\n",
        "        patience=4,\n",
        "    ),\n",
        "    keras.callbacks.ModelCheckpoint(\n",
        "        filepath=checkpoint_filepath,\n",
        "        monitor=\"val_loss\", #'val_loss'\n",
        "        save_best_only=True,\n",
        "    )\n",
        "]\n",
        "model.compile(\n",
        "    loss=\"binary_crossentropy\", optimizer=\"Adam\", metrics=[\"accuracy\"]\n",
        ")\n",
        "history = model.fit(vectorized_sentences, train_labels, batch_size=128, epochs=10, callbacks=callbacks_list,  \\\n",
        "                    validation_data=(vectorized_val_sentences, val_labels))\n",
        "\n",
        "# Convert the return value into a DataFrame so we can see the train loss\n",
        "# and binary accuracy after every epoch.\n",
        "history = pd.DataFrame(history.history)\n",
        "plot_history(history)\n"
      ],
      "id": "mOd60R96AION"
    },
    {
      "cell_type": "markdown",
      "metadata": {
        "id": "9d636b6e"
      },
      "source": [
        "##Lets have some fun"
      ],
      "id": "9d636b6e"
    },
    {
      "cell_type": "markdown",
      "metadata": {
        "id": "cv6CRUe8HJ0v"
      },
      "source": [
        "pick up where we left off, pick model with best val accuracy"
      ],
      "id": "cv6CRUe8HJ0v"
    },
    {
      "cell_type": "code",
      "execution_count": null,
      "metadata": {
        "id": "jHNL55D1HUkZ"
      },
      "outputs": [],
      "source": [
        "checkpoint_dir = './model_checkpoints/'\n",
        "checkpoint_filepath = checkpoint_dir + 'cnn_weights.09-0.81.hdf5'"
      ],
      "id": "jHNL55D1HUkZ"
    },
    {
      "cell_type": "code",
      "execution_count": null,
      "metadata": {
        "id": "5ZjRZLyCG2Kc"
      },
      "outputs": [],
      "source": [
        "\n",
        "# To pick back up where you left off, define the model architecture (above), and then load the saved model weights\n",
        "model.load_weights(checkpoint_filepath)"
      ],
      "id": "5ZjRZLyCG2Kc"
    },
    {
      "cell_type": "markdown",
      "metadata": {
        "id": "o3a07CjUjG7e"
      },
      "source": [
        "from Learned_Embeddings_w_LSTM"
      ],
      "id": "o3a07CjUjG7e"
    },
    {
      "cell_type": "code",
      "execution_count": null,
      "metadata": {
        "id": "FB1qbkprjxBY"
      },
      "outputs": [],
      "source": [
        "\n",
        "def classification(prediction):\n",
        "\n",
        "\n",
        "  t ='''\n",
        "        TRUE TRUE TRUE TRUE TRUE TRUE\n",
        "        TRUE TRUE TRUE TRUE TRUE TRUE\n",
        "        TRUE TRUE TRUE TRUE TRUE TRUE\n",
        "                  TRUE TRUE\n",
        "                  TRUE TRUE\n",
        "                  TRUE TRUE\n",
        "                  TRUE TRUE\n",
        "                  TRUE TRUE\n",
        "                  TRUE TRUE\n",
        "                  TRUE TRUE\n",
        "                  TRUE TRUE'''\n",
        "\n",
        "  f = '''\n",
        "         FALSE FALSE FALSE FALSE\n",
        "         FALSE FALSE FALSE FALSE\n",
        "         FALSE\n",
        "         FALSE\n",
        "         FALSE FALSE FALSE FALSE\n",
        "         FALSEFALSE FALSE FALSE\n",
        "         FALSE\n",
        "         FALSE\n",
        "         FALSE\n",
        "         FALSE\n",
        "         FALSE'''\n",
        "\n",
        "  class_names = [f, t]\n",
        "  # Since this is a binary classification,round the prediction to the nearest integer (0 or 1)\n",
        "  print(prediction[0])\n",
        "  rounded_predictions = np.round(prediction[0])\n",
        "\n",
        "  # Now, you can use this rounded prediction to index into your class_names\n",
        "  predicted_class = class_names[int(rounded_predictions[0])]\n",
        "\n",
        "  print(predicted_class)\n"
      ],
      "id": "FB1qbkprjxBY"
    },
    {
      "cell_type": "markdown",
      "metadata": {
        "id": "a6h0ESQJJ1hG"
      },
      "source": [
        "formatting the input text"
      ],
      "id": "a6h0ESQJJ1hG"
    },
    {
      "cell_type": "code",
      "execution_count": null,
      "metadata": {
        "id": "9cwF-Sm3JAoB"
      },
      "outputs": [],
      "source": [
        "#we tokenize the text\n",
        "#convert back to words\n",
        "#conver words to vectors"
      ],
      "id": "9cwF-Sm3JAoB"
    },
    {
      "cell_type": "code",
      "execution_count": null,
      "metadata": {
        "id": "YGEyb3d6Xlco"
      },
      "outputs": [],
      "source": [
        "def format_sentence(text, max_sentence_length=30, vector_dim=100):\n",
        "    tokenizer = Tokenizer()\n",
        "    words = text.split()  # Split the sentence into words\n",
        "    tokenizer.fit_on_texts(words)  # Map text\n",
        "    sequences = tokenizer.texts_to_sequences(words)  # Convert to tokens\n",
        "\n",
        "    # Flatten the list of lists\n",
        "    sequences = [item for sublist in sequences for item in sublist]\n",
        "\n",
        "    words = [tokenizer.index_word[token] for token in sequences if token in tokenizer.index_word]\n",
        "    tokenized_sentences = ' '.join(words)\n",
        "    #print('original sentence: ', text)\n",
        "    #print('tokenized sentence: ', tokenized_sentences)\n",
        "\n",
        "    num_sentences = 1\n",
        "    vectorized_sentences = np.zeros((num_sentences, max_sentence_length, vector_dim))\n",
        "\n",
        "    for i in range(num_sentences):\n",
        "        words = tokenized_sentences.split()  # Split the sentence into words\n",
        "        for j in range(min(len(words), max_sentence_length)):\n",
        "            if words[j] in vector_model:\n",
        "                vectorized_sentences[i, j, :] = vector_model[words[j]]\n",
        "\n",
        "    #print('shape of vectorized sentence: ', vectorized_sentences.shape)\n",
        "    #print('vector of first word: ', vectorized_sentences[0, 0])\n",
        "\n",
        "    return vectorized_sentences\n"
      ],
      "id": "YGEyb3d6Xlco"
    },
    {
      "cell_type": "code",
      "execution_count": null,
      "metadata": {
        "colab": {
          "base_uri": "https://localhost:8080/"
        },
        "id": "6SI95GudLKwg",
        "outputId": "4ee68ce3-d784-42a6-8ac2-c0fe3da355a1"
      },
      "outputs": [
        {
          "data": {
            "text/plain": [
              "(array([-0.03406   , -0.02648   ,  0.025777  ,  0.22885001,  0.14263999,\n",
              "         0.11895   , -0.097006  ,  0.050016  , -0.37176001, -0.11927   ,\n",
              "        -0.035525  ,  0.31477001,  0.24766   , -0.24966   ,  0.19171999,\n",
              "         0.091693  , -0.46217999,  0.21051   , -0.34057   ,  0.011673  ,\n",
              "         0.12854999,  0.31499001, -0.12547   , -0.031122  ,  0.098934  ,\n",
              "         0.02938   ,  0.21213   , -0.16083001, -0.36721   , -0.1033    ,\n",
              "         0.032761  ,  0.34538999, -0.023088  , -0.15426999,  0.23106   ,\n",
              "        -0.037802  , -0.2626    ,  0.14745   ,  0.047571  , -0.095111  ,\n",
              "        -0.098811  ,  0.46215001,  0.24692   ,  0.29359001, -0.39159   ,\n",
              "        -0.20005   , -0.1252    , -0.2859    , -0.34130001,  0.13956   ,\n",
              "        -0.13107   , -0.018148  , -0.034514  ,  0.51157999,  0.34603   ,\n",
              "         0.40785   , -0.15593   , -0.056941  ,  0.083507  ,  0.3944    ,\n",
              "         0.056139  ,  0.19961999, -0.19009   , -0.11038   ,  0.76037002,\n",
              "         0.045155  , -0.22182   ,  0.090493  , -0.10811   ,  0.46686   ,\n",
              "        -0.20703   ,  0.020657  ,  0.11224   ,  0.081569  ,  0.068072  ,\n",
              "         0.089375  ,  0.051971  ,  0.29894   ,  0.071786  ,  0.024874  ,\n",
              "         0.13240001,  0.019236  , -0.090186  , -0.070235  ,  0.11867   ,\n",
              "         0.3238    ,  0.081969  ,  0.23872   ,  0.058004  , -0.082532  ,\n",
              "        -0.2471    , -0.37509   ,  0.0066033 ,  0.27180001, -0.014007  ,\n",
              "        -0.12494   , -0.018881  ,  0.024126  , -0.24263   , -0.22996999]),\n",
              " ('\"this\" exists in embeddings dictionary',\n",
              "  array([-0.03406  , -0.02648  ,  0.025777 ,  0.22885  ,  0.14264  ,\n",
              "          0.11895  , -0.097006 ,  0.050016 , -0.37176  , -0.11927  ,\n",
              "         -0.035525 ,  0.31477  ,  0.24766  , -0.24966  ,  0.19172  ,\n",
              "          0.091693 , -0.46218  ,  0.21051  , -0.34057  ,  0.011673 ,\n",
              "          0.12855  ,  0.31499  , -0.12547  , -0.031122 ,  0.098934 ,\n",
              "          0.02938  ,  0.21213  , -0.16083  , -0.36721  , -0.1033   ,\n",
              "          0.032761 ,  0.34539  , -0.023088 , -0.15427  ,  0.23106  ,\n",
              "         -0.037802 , -0.2626   ,  0.14745  ,  0.047571 , -0.095111 ,\n",
              "         -0.098811 ,  0.46215  ,  0.24692  ,  0.29359  , -0.39159  ,\n",
              "         -0.20005  , -0.1252   , -0.2859   , -0.3413   ,  0.13956  ,\n",
              "         -0.13107  , -0.018148 , -0.034514 ,  0.51158  ,  0.34603  ,\n",
              "          0.40785  , -0.15593  , -0.056941 ,  0.083507 ,  0.3944   ,\n",
              "          0.056139 ,  0.19962  , -0.19009  , -0.11038  ,  0.76037  ,\n",
              "          0.045155 , -0.22182  ,  0.090493 , -0.10811  ,  0.46686  ,\n",
              "         -0.20703  ,  0.020657 ,  0.11224  ,  0.081569 ,  0.068072 ,\n",
              "          0.089375 ,  0.051971 ,  0.29894  ,  0.071786 ,  0.024874 ,\n",
              "          0.1324   ,  0.019236 , -0.090186 , -0.070235 ,  0.11867  ,\n",
              "          0.3238   ,  0.081969 ,  0.23872  ,  0.058004 , -0.082532 ,\n",
              "         -0.2471   , -0.37509  ,  0.0066033,  0.2718   , -0.014007 ,\n",
              "         -0.12494  , -0.018881 ,  0.024126 , -0.24263  , -0.22997  ],\n",
              "        dtype=float32)))"
            ]
          },
          "execution_count": 119,
          "metadata": {},
          "output_type": "execute_result"
        }
      ],
      "source": [
        "text = \"This is a real disaster\"\n",
        "input = format_sentence(text)\n",
        "input[0,0], check_word('this', vector_model)"
      ],
      "id": "6SI95GudLKwg"
    },
    {
      "cell_type": "code",
      "execution_count": null,
      "metadata": {
        "colab": {
          "base_uri": "https://localhost:8080/"
        },
        "id": "_6D5C9hjPybB",
        "outputId": "6a7d3353-a2e5-4157-b29e-b20c3aa62532"
      },
      "outputs": [
        {
          "name": "stdout",
          "output_type": "stream",
          "text": [
            "1/1 [==============================] - 0s 20ms/step\n",
            "[0.5081556]\n",
            "\n",
            "        TRUE TRUE TRUE TRUE TRUE TRUE \n",
            "        TRUE TRUE TRUE TRUE TRUE TRUE\n",
            "        TRUE TRUE TRUE TRUE TRUE TRUE\n",
            "                  TRUE TRUE\n",
            "                  TRUE TRUE \n",
            "                  TRUE TRUE\n",
            "                  TRUE TRUE\n",
            "                  TRUE TRUE\n",
            "                  TRUE TRUE\n",
            "                  TRUE TRUE\n",
            "                  TRUE TRUE\n"
          ]
        }
      ],
      "source": [
        "predictions = model.predict(format_sentence(\"This is a real tragedy\"))\n",
        "classification(predictions)"
      ],
      "id": "_6D5C9hjPybB"
    },
    {
      "cell_type": "code",
      "execution_count": null,
      "metadata": {
        "colab": {
          "base_uri": "https://localhost:8080/"
        },
        "id": "alo2tGZQP5HV",
        "outputId": "141be179-39c2-4c22-af30-4e7bb575a7d3"
      },
      "outputs": [
        {
          "name": "stdout",
          "output_type": "stream",
          "text": [
            "1/1 [==============================] - 0s 21ms/step\n",
            "[0.11435425]\n",
            "\n",
            "         FALSE FALSE FALSE FALSE\n",
            "         FALSE FALSE FALSE FALSE\n",
            "         FALSE\n",
            "         FALSE \n",
            "         FALSE FALSE FALSE FALSE\n",
            "         FALSEFALSE FALSE FALSE\n",
            "         FALSE\n",
            "         FALSE\n",
            "         FALSE\n",
            "         FALSE\n",
            "         FALSE\n"
          ]
        }
      ],
      "source": [
        "predictions = model.predict(format_sentence(\"am eating ice cream\"))\n",
        "classification(predictions)"
      ],
      "id": "alo2tGZQP5HV"
    },
    {
      "cell_type": "code",
      "execution_count": null,
      "metadata": {
        "colab": {
          "base_uri": "https://localhost:8080/"
        },
        "id": "uuqQgnxqQLwo",
        "outputId": "8bc2f411-3bbf-46c2-ea54-9a1e929628f9"
      },
      "outputs": [
        {
          "name": "stdout",
          "output_type": "stream",
          "text": [
            "1/1 [==============================] - 0s 20ms/step\n",
            "[0.11041786]\n",
            "\n",
            "         FALSE FALSE FALSE FALSE\n",
            "         FALSE FALSE FALSE FALSE\n",
            "         FALSE\n",
            "         FALSE \n",
            "         FALSE FALSE FALSE FALSE\n",
            "         FALSEFALSE FALSE FALSE\n",
            "         FALSE\n",
            "         FALSE\n",
            "         FALSE\n",
            "         FALSE\n",
            "         FALSE\n"
          ]
        }
      ],
      "source": [
        "predictions = model.predict(format_sentence('am eating barbed wire'))\n",
        "classification(predictions)"
      ],
      "id": "uuqQgnxqQLwo"
    },
    {
      "cell_type": "code",
      "execution_count": null,
      "metadata": {
        "colab": {
          "base_uri": "https://localhost:8080/"
        },
        "id": "0uOOmdstRk4g",
        "outputId": "3288cfa4-fda1-4bd7-8b32-2c580e5c3d3d"
      },
      "outputs": [
        {
          "name": "stdout",
          "output_type": "stream",
          "text": [
            "1/1 [==============================] - 0s 20ms/step\n",
            "[0.8864068]\n",
            "\n",
            "        TRUE TRUE TRUE TRUE TRUE TRUE \n",
            "        TRUE TRUE TRUE TRUE TRUE TRUE\n",
            "        TRUE TRUE TRUE TRUE TRUE TRUE\n",
            "                  TRUE TRUE\n",
            "                  TRUE TRUE \n",
            "                  TRUE TRUE\n",
            "                  TRUE TRUE\n",
            "                  TRUE TRUE\n",
            "                  TRUE TRUE\n",
            "                  TRUE TRUE\n",
            "                  TRUE TRUE\n"
          ]
        }
      ],
      "source": [
        "predictions = model.predict(format_sentence('just got sent this &*() from Ruby Alaska as smoke from wildfires pours into a school: http://www.'))\n",
        "classification(predictions)"
      ],
      "id": "0uOOmdstRk4g"
    },
    {
      "cell_type": "code",
      "execution_count": null,
      "metadata": {
        "colab": {
          "base_uri": "https://localhost:8080/"
        },
        "id": "DRU8-kB-Rr8u",
        "outputId": "927d9003-f1f0-41c8-eb0d-b14e8886dee3"
      },
      "outputs": [
        {
          "name": "stdout",
          "output_type": "stream",
          "text": [
            "1/1 [==============================] - 0s 22ms/step\n",
            "[0.22853188]\n",
            "\n",
            "         FALSE FALSE FALSE FALSE\n",
            "         FALSE FALSE FALSE FALSE\n",
            "         FALSE\n",
            "         FALSE \n",
            "         FALSE FALSE FALSE FALSE\n",
            "         FALSEFALSE FALSE FALSE\n",
            "         FALSE\n",
            "         FALSE\n",
            "         FALSE\n",
            "         FALSE\n",
            "         FALSE\n"
          ]
        }
      ],
      "source": [
        "predictions = model.predict(format_sentence('what'))\n",
        "classification(predictions)"
      ],
      "id": "DRU8-kB-Rr8u"
    },
    {
      "cell_type": "code",
      "execution_count": null,
      "metadata": {
        "colab": {
          "base_uri": "https://localhost:8080/"
        },
        "id": "liNy2tJlVHfR",
        "outputId": "47f142f9-86ab-42a6-a025-a1dc081badab"
      },
      "outputs": [
        {
          "name": "stdout",
          "output_type": "stream",
          "text": [
            "1/1 [==============================] - 0s 19ms/step\n",
            "[0.5541695]\n",
            "\n",
            "        TRUE TRUE TRUE TRUE TRUE TRUE \n",
            "        TRUE TRUE TRUE TRUE TRUE TRUE\n",
            "        TRUE TRUE TRUE TRUE TRUE TRUE\n",
            "                  TRUE TRUE\n",
            "                  TRUE TRUE \n",
            "                  TRUE TRUE\n",
            "                  TRUE TRUE\n",
            "                  TRUE TRUE\n",
            "                  TRUE TRUE\n",
            "                  TRUE TRUE\n",
            "                  TRUE TRUE\n"
          ]
        }
      ],
      "source": [
        "predictions = model.predict(format_sentence('disaster'))\n",
        "classification(predictions)"
      ],
      "id": "liNy2tJlVHfR"
    },
    {
      "cell_type": "code",
      "execution_count": null,
      "metadata": {
        "colab": {
          "base_uri": "https://localhost:8080/"
        },
        "id": "uSIxhBdkbWG3",
        "outputId": "1e3a2c31-02de-45e3-bf77-b549b5b3b258"
      },
      "outputs": [
        {
          "name": "stdout",
          "output_type": "stream",
          "text": [
            "1/1 [==============================] - 0s 20ms/step\n",
            "[0.57025397]\n",
            "\n",
            "        TRUE TRUE TRUE TRUE TRUE TRUE \n",
            "        TRUE TRUE TRUE TRUE TRUE TRUE\n",
            "        TRUE TRUE TRUE TRUE TRUE TRUE\n",
            "                  TRUE TRUE\n",
            "                  TRUE TRUE \n",
            "                  TRUE TRUE\n",
            "                  TRUE TRUE\n",
            "                  TRUE TRUE\n",
            "                  TRUE TRUE\n",
            "                  TRUE TRUE\n",
            "                  TRUE TRUE\n"
          ]
        }
      ],
      "source": [
        "predictions = model.predict(format_sentence('A sunami just occured!'))\n",
        "classification(predictions)"
      ],
      "id": "uSIxhBdkbWG3"
    }
  ],
  "metadata": {
    "colab": {
      "machine_shape": "hm",
      "provenance": []
    },
    "kernelspec": {
      "display_name": "Python 3",
      "name": "python3"
    },
    "language_info": {
      "codemirror_mode": {
        "name": "ipython",
        "version": 3
      },
      "file_extension": ".py",
      "mimetype": "text/x-python",
      "name": "python",
      "nbconvert_exporter": "python",
      "pygments_lexer": "ipython3",
      "version": "3.9.12"
    }
  },
  "nbformat": 4,
  "nbformat_minor": 5
}